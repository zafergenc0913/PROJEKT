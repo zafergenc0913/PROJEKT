{
 "cells": [
  {
   "cell_type": "markdown",
   "metadata": {},
   "source": [
    "___\n",
    "\n",
    "<a href=\"https://lms.clarusway.com/mod/lesson/view.php?id=8511&pageid=8142&startlastseen=no\"><img align=\"left\" src=\"https://i.ibb.co/6Z5pQxD/lmss.png\" alt=\"Open in Clarusway LMS\" width=\"70\" height=\"200\" title=\"Open Clarusway Learning Management Sytem\"></a>\n",
    "\n",
    "<a href=\"\"><img align=\"right\" src=\"https://i.ibb.co/n3HWyQX/github-logo.png\" alt=\"Open in Clarusway GitHub\" width=\"100\" height=\"150\" title=\"Open and Execute in Clarusway GitHub Repository\"></a>\n",
    "\n",
    "<p style=\"text-align: center;\"><img src=\"https://docs.google.com/uc?id=1lY0Uj5R04yMY3-ZppPWxqCr5pvBLYPnV\" class=\"img-fluid\" \n",
    "alt=\"CLRSWY\"></p>\n",
    "\n",
    "## <p style=\"background-color:#FDFEFE; font-family:newtimeroman; color:#9d4f8c; font-size:100%; text-align:center; border-radius:10px 10px;\">WAY TO REINVENT YOURSELF</p>\n",
    "\n",
    "<img src=https://i.ibb.co/b5xXg11/used-cars1.jpg width=\"1100\" height=\"100\">\n",
    "\n",
    "[Image Credit](https://myscriptneedshelp.com/2022/auto/buying-used-cars-in-tempe-is-easier-now/)\n",
    "\n",
    "## <p style=\"background-color:#FDFEFE; font-family:newtimeroman; color:#060108; font-size:200%; text-align:center; border-radius:10px 10px;\">The Capstone Project of Data Analytics Module</p>\n",
    "\n",
    "## <p style=\"background-color:#FDFEFE; font-family:newtimeroman; color:#060108; font-size:150%; text-align:center; border-radius:10px 10px;\">Car Price Prediction EDA</p>"
   ]
  },
  {
   "cell_type": "markdown",
   "metadata": {},
   "source": [
    "<a id=\"toc\"></a>\n",
    "\n",
    "## <p style=\"background-color:#9d4f8c; font-family:newtimeroman; color:#FFF9ED; font-size:175%; text-align:center; border-radius:10px 10px;\">Content</p>\n",
    "\n",
    "* [INTRODUCTION](#0)\n",
    "* [IMPORTING LIBRARIES NEEDED IN THIS NOTEBOOK](#1)\n",
    "* [PART-01 (DATA CLEANING)](#2)\n",
    "* [THE EXAMINATION OF COLUMNS](#3)    \n",
    "* [THE END OF DATA CLEANING (PART - 01)](#4)"
   ]
  },
  {
   "cell_type": "markdown",
   "metadata": {},
   "source": [
    "## <p style=\"background-color:#9d4f8c; font-family:newtimeroman; color:#FFF9ED; font-size:175%; text-align:center; border-radius:10px 10px;\">Introduction</p>\n",
    "\n",
    "<a id=\"0\"></a>\n",
    "<a href=\"#toc\" class=\"btn btn-primary btn-sm\" role=\"button\" aria-pressed=\"true\" \n",
    "style=\"color:blue; background-color:#dfa8e4\" data-toggle=\"popover\">Content</a>\n",
    "\n",
    "\n",
    "## What is Exploratory Data Analysis?\n",
    "\n",
    "Exploratory Data Analysis (EDA), also known as Data Exploration, is a step in the Data Analysis Process, where a number of techniques are used to better understand the dataset being used.\n",
    "\n",
    "‘Understanding the dataset’ can refer to a number of things including but not limited to…\n",
    "\n",
    "- Extracting important variables and leaving behind useless variables\n",
    "- Identifying outliers, missing values, or human error\n",
    "- Understanding the relationship(s), or lack of, between variables\n",
    "- Ultimately, maximizing your insights of a dataset and minimizing potential error that may occur later in the process\n",
    "\n",
    "By conducting EDA, you can turn an almost useable dataset into a completely useable dataset.\n",
    "\n",
    "Exploratory Data Analysis does two main things:\n",
    "\n",
    "- It helps clean up a dataset.\n",
    "- It gives you a better understanding of the variables and the relationships between them.\n",
    "\n",
    "There are main components of exploring data:\n",
    "\n",
    "- Understanding your variables\n",
    "- Cleaning your dataset\n",
    "- Analyzing relationships between variables with Data Visualization\n",
    "\n",
    "For further reading;\n",
    "\n",
    "- **🧐 [Mastering Exploratory Data Analysis(EDA) For Data Science Enthusiasts](https://www.analyticsvidhya.com/blog/2021/04/mastering-exploratory-data-analysiseda-for-data-science-enthusiasts/)**\n",
    "\n",
    "- **🧐 [Exploratory Data Analysis — Visualising, summarising, and interpreting data](https://medium.com/mlearning-ai/exploratory-data-analysis-visualising-summarising-and-interpreting-data-bbe2c9518afb)**\n",
    "- **🧐 [Exploratory Data Analysis (EDA) techniques for Kaggle competition beginners](https://towardsdatascience.com/exploratory-data-analysis-eda-techniques-for-kaggle-competition-beginners-be4237c3c3a9)**\n",
    "\n",
    "Let's back to our project.\n",
    "\n",
    "Welcome to \"***Car Price Prediction EDA Project***\". This is the capstone project of ***Data Analytics*** Module. **Auto Scout** data used for this project, were scraped from the on-line car trading company, Auto Scout, in 2022, contains many features of 13 different car models. In this project, you will have the opportunity to apply many commonly used algorithms for Data Cleaning and Exploratory Data Analysis by using many Python libraries such as Numpy, Pandas, Matplotlib, Seaborn, Scipy.\n",
    "\n",
    "The project consists of **3 parts:**\n",
    "* **``First part``** is related to **``'data cleaning'``**. It deals with Incorrect Headers (Column names), Incorrect Format, Anomalies, Dropping useless columns.\n",
    "* **``Second part``** is related to **``'filling data'``**. It deals with Missing Values. Categorical to numeric transformation is done.\n",
    "* **``Third part``** is related to **``'handling outliers of data'``** via Visualisation libraries. Some insights are extracted."
   ]
  },
  {
   "cell_type": "markdown",
   "metadata": {},
   "source": [
    "## <p style=\"background-color:#9d4f8c; font-family:newtimeroman; color:#FFF9ED; font-size:175%; text-align:center; border-radius:10px 10px;\">Importing Libraries Needed in This Notebook</p>\n",
    "\n",
    "<a id=\"1\"></a>\n",
    "<a href=\"#toc\" class=\"btn btn-primary btn-sm\" role=\"button\" aria-pressed=\"true\" \n",
    "style=\"color:blue; background-color:#dfa8e4\" data-toggle=\"popover\">Content</a>\n",
    "\n",
    "If you have NOT installed NumPy & Pandas so far, once you've installed them you can import them as a library and other libraries need in this analysis:"
   ]
  },
  {
   "cell_type": "markdown",
   "metadata": {},
   "source": [
    "**Also, please NOTE that ``Skimpy`` is not yet supported on each Numpy version, requires ``numpy=1.22.2`` as of November, 2022**"
   ]
  },
  {
   "cell_type": "code",
   "execution_count": 1,
   "metadata": {},
   "outputs": [],
   "source": [
    "# import numpy\n",
    "# print(numpy.__version__)\n",
    "\n",
    "# conda install -c conda-forge numpy=1.22.2\n",
    "# !pip install --force-reinstall numpy==1.22.2 --user"
   ]
  },
  {
   "cell_type": "code",
   "execution_count": 2,
   "metadata": {},
   "outputs": [],
   "source": [
    "# !pip install skimpy --user\n",
    "# !pip install skimpy -f https://arg.usask.ca/wheels/\n",
    "# conda install geopandas  # you have to install it at Anaconda Prompt\n",
    "# conda install -c conda-forge geopy  # you have to install it at Anaconda Prompt\n",
    "# !pip install shapely\n",
    "# conda install descartes  \n",
    "# !pip install descarteslabs[complete]\n",
    "# !pip install -U scikit-learn"
   ]
  },
  {
   "cell_type": "code",
   "execution_count": 2,
   "metadata": {},
   "outputs": [],
   "source": [
    "import numpy as np\n",
    "import pandas as pd\n",
    "import seaborn as sns \n",
    "import matplotlib.pyplot as plt\n",
    "import re\n",
    "\n",
    "from skimpy import clean_columns\n",
    "# import requests\n",
    "# import geopy\n",
    "# from geopy.geocoders import Nominatim\n",
    "\n",
    "import warnings\n",
    "warnings.filterwarnings(\"ignore\")\n",
    "warnings.warn(\"this will not show\")\n",
    "\n",
    "%matplotlib inline\n",
    "# %matplotlib notebook\n",
    "\n",
    "plt.rcParams[\"figure.figsize\"] = (10, 6)\n",
    "# plt.rcParams['figure.dpi'] = 100\n",
    "\n",
    "sns.set_style(\"whitegrid\")\n",
    "pd.set_option('display.float_format', lambda x: '%.2f' % x)\n",
    "\n",
    "# set the width of the result:\n",
    "pd.set_option('display.width', 100)\n",
    "\n",
    "pd.options.display.max_rows = 100\n",
    "pd.options.display.max_columns = 100"
   ]
  },
  {
   "cell_type": "code",
   "execution_count": 4,
   "metadata": {},
   "outputs": [],
   "source": [
    "def show_distribution(col):\n",
    "    \n",
    "    '''\n",
    "    \n",
    "    This function will prints a Histogram and box plot which are graphical representations \n",
    "    for the frequency of numeric data values. It aims to describe the data and explore \n",
    "    the central tendency and variability before using advanced statistical analysis techniques. \n",
    "    \n",
    "    '''\n",
    "    # Get statistics\n",
    "    from termcolor import colored\n",
    "\n",
    "    print(colored('Statistical Calculations :', 'red', attrs=['bold']))\n",
    "    print(colored('-'*26, 'red', attrs=['bold']))    \n",
    "    min_val = col.min()\n",
    "    max_val = col.max()\n",
    "    mean_val = col.mean()\n",
    "    med_val = col.median()\n",
    "    mod_val = col.mode()[0]\n",
    "\n",
    "    print(colored('Minimum:{:>7.2f}\\nMean:{:>10.2f}\\nMedian:{:>8.2f}\\nMode:{:>10.2f}\\nMaximum:{:>7.2f}\\n'.format(min_val,\n",
    "                                                                                             mean_val,\n",
    "                                                                                             med_val,\n",
    "                                                                                             mod_val,\n",
    "                                                                                             max_val), 'blue', attrs=['bold']))\n",
    "    \n",
    "    # Create a figure for 2 subplots (2 rows, 1 column)\n",
    "    fig, ax = plt.subplots(2, 1, figsize=(15, 15))\n",
    "\n",
    "    # Plot the histogram   \n",
    "    ax[0].hist(col, bins=30)\n",
    "    ax[0].set_ylabel('Frequency', fontsize=10)\n",
    "\n",
    "    # Add lines for the mean, median, and mode\n",
    "    ax[0].axvline(x=min_val,  color='orange',     linestyle='dashed', linewidth=2, label='Minimum')\n",
    "    ax[0].axvline(x=mean_val, color='lightgreen', linestyle='dashed', linewidth=2, label='Mean')\n",
    "    ax[0].axvline(x=med_val,  color='cyan',       linestyle='dashed', linewidth=2, label='Median')\n",
    "    ax[0].axvline(x=mod_val,  color='purple',     linestyle='dashed', linewidth=2, label='Mode')\n",
    "    ax[0].axvline(x=max_val,  color='red',        linestyle='dashed', linewidth=2, label='Maximum')\n",
    "    ax[0].legend(loc='upper right')\n",
    "\n",
    "    # Plot the boxplot   \n",
    "    medianprops = dict(linestyle='-', linewidth=3, color='m')\n",
    "    boxprops=dict(linestyle='-', linewidth=1.5)\n",
    "    meanprops={\"marker\":\"d\", \"markerfacecolor\":\"blue\", \"markeredgecolor\":\"black\", \"markersize\":\"10\"}\n",
    "    flierprops={'marker': 'o', 'markersize': 8, 'markerfacecolor': 'fuchsia'}\n",
    "    \n",
    "    ax[1].boxplot(col, \n",
    "                  vert=False,\n",
    "                  notch=True, \n",
    "                  patch_artist=False,\n",
    "                  medianprops=medianprops,\n",
    "                  flierprops=flierprops,\n",
    "                  showmeans=True,\n",
    "                  meanprops=meanprops)\n",
    "    \n",
    "    ax[1].set_xlabel('value', fontsize=10)\n",
    "    \n",
    "\n",
    "    # Add a title to the Figure\n",
    "    fig.suptitle('Data Distribution', fontsize=20)"
   ]
  },
  {
   "cell_type": "markdown",
   "metadata": {},
   "source": [
    "## <p style=\"background-color:#9d4f8c; font-family:newtimeroman; color:#FFF9ED; font-size:175%; text-align:center; border-radius:10px 10px;\">PART- 01 (Data Cleaning)</p>\n",
    "\n",
    "<a id=\"2\"></a>\n",
    "<a href=\"#toc\" class=\"btn btn-primary btn-sm\" role=\"button\" aria-pressed=\"true\" \n",
    "style=\"color:blue; background-color:#dfa8e4\" data-toggle=\"popover\">Content</a>\n",
    "\n",
    "Data cleaning is the process of ensuring that your data is correct and useable by identifying any errors in the data, or missing data by correcting or deleting them.\n",
    "\n",
    "Cleaning up data is the first and most important step, as it ensures the quality of the data is met to prepare data for visualization.\n",
    "\n",
    "The steps in cleaning the data as;\n",
    "\n",
    "- Checking Null entries\n",
    "- Removing Null Entries\n",
    "- Filling values in place of Null Entries (If Numerical feature)\n",
    "- Checking Duplicates\n",
    "- Removing Duplicates\n",
    "\n",
    "**Now let us begin our analysis by reading & assigning our dataset to a Pandas object as df (📝 Besides, in case the original one might be needed in any phase of the analysis, the dataset will be copied at the beginning and before going further because any change made throughout the analysis will change the data as well):**"
   ]
  },
  {
   "cell_type": "code",
   "execution_count": 11,
   "metadata": {},
   "outputs": [],
   "source": [
    "df0 = pd.read_json(\"as24_cars.zip\")\n",
    "df = df0.copy()\n",
    "\n",
    "# In some cases, without lines=True, you will get \"ValueError: Trailing data\"\n",
    "# The following image represents the original view of Json file opened by VScode"
   ]
  },
  {
   "cell_type": "markdown",
   "metadata": {},
   "source": [
    "As seen in the image, it looks like you're loading a JSON file which has JSON data on each separate line. This means that .json file at hand contains **one JSON object in each line** as per the specification. In these circumstances, the answer to how you read it into a data frame in Pandas is that you have to read it **line by line** using lines=True.\n",
    "\n",
    "![JSON_FILE_ERROR](https://i.ibb.co/4j0SJqW/autoscout-json.png)"
   ]
  },
  {
   "cell_type": "code",
   "execution_count": 6,
   "metadata": {},
   "outputs": [
    {
     "data": {
      "text/html": [
       "<div>\n",
       "<style scoped>\n",
       "    .dataframe tbody tr th:only-of-type {\n",
       "        vertical-align: middle;\n",
       "    }\n",
       "\n",
       "    .dataframe tbody tr th {\n",
       "        vertical-align: top;\n",
       "    }\n",
       "\n",
       "    .dataframe thead th {\n",
       "        text-align: right;\n",
       "    }\n",
       "</style>\n",
       "<table border=\"1\" class=\"dataframe\">\n",
       "  <thead>\n",
       "    <tr style=\"text-align: right;\">\n",
       "      <th></th>\n",
       "      <th>0</th>\n",
       "      <th>1</th>\n",
       "      <th>2</th>\n",
       "    </tr>\n",
       "  </thead>\n",
       "  <tbody>\n",
       "    <tr>\n",
       "      <th>make_model</th>\n",
       "      <td>Mercedes-Benz A 160</td>\n",
       "      <td>Mercedes-Benz EQE 350</td>\n",
       "      <td>Mercedes-Benz A 45 AMG</td>\n",
       "    </tr>\n",
       "    <tr>\n",
       "      <th>short_description</th>\n",
       "      <td>CDi</td>\n",
       "      <td>350+</td>\n",
       "      <td>S 4Matic+ 8G-DCT</td>\n",
       "    </tr>\n",
       "    <tr>\n",
       "      <th>make</th>\n",
       "      <td>\\nMercedes-Benz\\n</td>\n",
       "      <td>\\nMercedes-Benz\\n</td>\n",
       "      <td>\\nMercedes-Benz\\n</td>\n",
       "    </tr>\n",
       "    <tr>\n",
       "      <th>model</th>\n",
       "      <td>[\\n, A 160 ,\\n]</td>\n",
       "      <td>[\\n, EQE 350 ,\\n]</td>\n",
       "      <td>[\\n, A 45 AMG ,\\n]</td>\n",
       "    </tr>\n",
       "    <tr>\n",
       "      <th>location</th>\n",
       "      <td>P.I. EL PALMAR C/FORJA 6,  11500 PUERTO DE SAN...</td>\n",
       "      <td>APARTADO DE CORREOS 1032,  26140 LOGROÑO, ES</td>\n",
       "      <td>PORT. TARRACO, MOLL DE LLEVANT, Nº 5, LOC. 6-8...</td>\n",
       "    </tr>\n",
       "    <tr>\n",
       "      <th>price</th>\n",
       "      <td>€ 16,950.-</td>\n",
       "      <td>€ 80,900.-</td>\n",
       "      <td>€ 69,900.-</td>\n",
       "    </tr>\n",
       "    <tr>\n",
       "      <th>Body type</th>\n",
       "      <td>[\\n, Compact, \\n]</td>\n",
       "      <td>[\\n, Compact, \\n]</td>\n",
       "      <td>[\\n, Compact, \\n]</td>\n",
       "    </tr>\n",
       "    <tr>\n",
       "      <th>Type</th>\n",
       "      <td>[\\n, Used, \\n]</td>\n",
       "      <td>[\\n, Pre-registered, \\n]</td>\n",
       "      <td>[\\n, Used, \\n]</td>\n",
       "    </tr>\n",
       "    <tr>\n",
       "      <th>Doors</th>\n",
       "      <td>[\\n, 5, \\n]</td>\n",
       "      <td>[\\n, 4, \\n]</td>\n",
       "      <td>[\\n, 5, \\n]</td>\n",
       "    </tr>\n",
       "    <tr>\n",
       "      <th>Country version</th>\n",
       "      <td>[\\n, Spain, \\n]</td>\n",
       "      <td>[\\n, Spain, \\n]</td>\n",
       "      <td>[\\n, Spain, \\n]</td>\n",
       "    </tr>\n",
       "    <tr>\n",
       "      <th>Offer number</th>\n",
       "      <td>[\\n, 7468157, \\n]</td>\n",
       "      <td>[\\n, 7054863, \\n]</td>\n",
       "      <td>[\\n, 7410454, \\n]</td>\n",
       "    </tr>\n",
       "    <tr>\n",
       "      <th>Warranty</th>\n",
       "      <td>[\\n, 24 months, \\n]</td>\n",
       "      <td>[\\n, 24 months, \\n]</td>\n",
       "      <td>[\\n, 12 months, \\n]</td>\n",
       "    </tr>\n",
       "    <tr>\n",
       "      <th>Mileage</th>\n",
       "      <td>120,200 km</td>\n",
       "      <td>5,000 km</td>\n",
       "      <td>18,900 km</td>\n",
       "    </tr>\n",
       "    <tr>\n",
       "      <th>First registration</th>\n",
       "      <td>06/2016</td>\n",
       "      <td>06/2022</td>\n",
       "      <td>07/2020</td>\n",
       "    </tr>\n",
       "    <tr>\n",
       "      <th>Gearbox</th>\n",
       "      <td>[\\nManual\\n]</td>\n",
       "      <td>[\\nAutomatic\\n]</td>\n",
       "      <td>[\\nAutomatic\\n]</td>\n",
       "    </tr>\n",
       "    <tr>\n",
       "      <th>Fuel type</th>\n",
       "      <td>Diesel</td>\n",
       "      <td>Electric</td>\n",
       "      <td>Gasoline</td>\n",
       "    </tr>\n",
       "    <tr>\n",
       "      <th>Colour</th>\n",
       "      <td>Black</td>\n",
       "      <td>NaN</td>\n",
       "      <td>Grey</td>\n",
       "    </tr>\n",
       "    <tr>\n",
       "      <th>Paint</th>\n",
       "      <td>Metallic</td>\n",
       "      <td>NaN</td>\n",
       "      <td>NaN</td>\n",
       "    </tr>\n",
       "    <tr>\n",
       "      <th>desc</th>\n",
       "      <td>[ , Precio al contado: 16950 euros,  ,  , Vehí...</td>\n",
       "      <td>[ , Precio al contado: 88900 euros,  , AUTO OJ...</td>\n",
       "      <td>[Gris MANUFAKTUR mountaingrau magno,  , Linea/...</td>\n",
       "    </tr>\n",
       "    <tr>\n",
       "      <th>seller</th>\n",
       "      <td>Dealer</td>\n",
       "      <td>Dealer</td>\n",
       "      <td>Dealer</td>\n",
       "    </tr>\n",
       "    <tr>\n",
       "      <th>Seats</th>\n",
       "      <td>NaN</td>\n",
       "      <td>[\\n, 5, \\n]</td>\n",
       "      <td>[\\n, 5, \\n]</td>\n",
       "    </tr>\n",
       "    <tr>\n",
       "      <th>Power</th>\n",
       "      <td>NaN</td>\n",
       "      <td>[\\n215 kW (292 hp)\\n]</td>\n",
       "      <td>[\\n310 kW (421 hp)\\n]</td>\n",
       "    </tr>\n",
       "    <tr>\n",
       "      <th>Engine size</th>\n",
       "      <td>NaN</td>\n",
       "      <td>[\\n1 cc\\n]</td>\n",
       "      <td>[\\n1,991 cc\\n]</td>\n",
       "    </tr>\n",
       "    <tr>\n",
       "      <th>Gears</th>\n",
       "      <td>NaN</td>\n",
       "      <td>[\\n9\\n]</td>\n",
       "      <td>[\\n8\\n]</td>\n",
       "    </tr>\n",
       "    <tr>\n",
       "      <th>CO₂-emissions</th>\n",
       "      <td>NaN</td>\n",
       "      <td>0 g/km (comb.)</td>\n",
       "      <td>NaN</td>\n",
       "    </tr>\n",
       "    <tr>\n",
       "      <th>Manufacturer colour</th>\n",
       "      <td>NaN</td>\n",
       "      <td>Negro Obsidiana</td>\n",
       "      <td>Mountaingrau magno</td>\n",
       "    </tr>\n",
       "    <tr>\n",
       "      <th>Drivetrain</th>\n",
       "      <td>NaN</td>\n",
       "      <td>NaN</td>\n",
       "      <td>[\\n, 4WD, \\n]</td>\n",
       "    </tr>\n",
       "    <tr>\n",
       "      <th>Cylinders</th>\n",
       "      <td>NaN</td>\n",
       "      <td>NaN</td>\n",
       "      <td>[\\n4\\n]</td>\n",
       "    </tr>\n",
       "    <tr>\n",
       "      <th>Fuel consumption</th>\n",
       "      <td>NaN</td>\n",
       "      <td>NaN</td>\n",
       "      <td>[[8.4 l/100 km (comb.)], [10.9 l/100 km (city)...</td>\n",
       "    </tr>\n",
       "    <tr>\n",
       "      <th>\\nComfort &amp; Convenience\\n</th>\n",
       "      <td>NaN</td>\n",
       "      <td>NaN</td>\n",
       "      <td>NaN</td>\n",
       "    </tr>\n",
       "    <tr>\n",
       "      <th>\\nEntertainment &amp; Media\\n</th>\n",
       "      <td>NaN</td>\n",
       "      <td>NaN</td>\n",
       "      <td>NaN</td>\n",
       "    </tr>\n",
       "    <tr>\n",
       "      <th>\\nSafety &amp; Security\\n</th>\n",
       "      <td>NaN</td>\n",
       "      <td>NaN</td>\n",
       "      <td>NaN</td>\n",
       "    </tr>\n",
       "    <tr>\n",
       "      <th>\\nExtras\\n</th>\n",
       "      <td>NaN</td>\n",
       "      <td>NaN</td>\n",
       "      <td>NaN</td>\n",
       "    </tr>\n",
       "    <tr>\n",
       "      <th>Empty weight</th>\n",
       "      <td>NaN</td>\n",
       "      <td>NaN</td>\n",
       "      <td>NaN</td>\n",
       "    </tr>\n",
       "    <tr>\n",
       "      <th>Model code</th>\n",
       "      <td>NaN</td>\n",
       "      <td>NaN</td>\n",
       "      <td>NaN</td>\n",
       "    </tr>\n",
       "    <tr>\n",
       "      <th>General inspection</th>\n",
       "      <td>NaN</td>\n",
       "      <td>NaN</td>\n",
       "      <td>NaN</td>\n",
       "    </tr>\n",
       "    <tr>\n",
       "      <th>Last service</th>\n",
       "      <td>NaN</td>\n",
       "      <td>NaN</td>\n",
       "      <td>NaN</td>\n",
       "    </tr>\n",
       "    <tr>\n",
       "      <th>Full service history</th>\n",
       "      <td>NaN</td>\n",
       "      <td>NaN</td>\n",
       "      <td>NaN</td>\n",
       "    </tr>\n",
       "    <tr>\n",
       "      <th>Non-smoker vehicle</th>\n",
       "      <td>NaN</td>\n",
       "      <td>NaN</td>\n",
       "      <td>NaN</td>\n",
       "    </tr>\n",
       "    <tr>\n",
       "      <th>Emission class</th>\n",
       "      <td>NaN</td>\n",
       "      <td>NaN</td>\n",
       "      <td>NaN</td>\n",
       "    </tr>\n",
       "    <tr>\n",
       "      <th>Emissions sticker</th>\n",
       "      <td>NaN</td>\n",
       "      <td>NaN</td>\n",
       "      <td>NaN</td>\n",
       "    </tr>\n",
       "    <tr>\n",
       "      <th>Upholstery colour</th>\n",
       "      <td>NaN</td>\n",
       "      <td>NaN</td>\n",
       "      <td>NaN</td>\n",
       "    </tr>\n",
       "    <tr>\n",
       "      <th>Upholstery</th>\n",
       "      <td>NaN</td>\n",
       "      <td>NaN</td>\n",
       "      <td>NaN</td>\n",
       "    </tr>\n",
       "    <tr>\n",
       "      <th>Production date</th>\n",
       "      <td>NaN</td>\n",
       "      <td>NaN</td>\n",
       "      <td>NaN</td>\n",
       "    </tr>\n",
       "    <tr>\n",
       "      <th>Previous owner</th>\n",
       "      <td>NaN</td>\n",
       "      <td>NaN</td>\n",
       "      <td>NaN</td>\n",
       "    </tr>\n",
       "    <tr>\n",
       "      <th>Other fuel types</th>\n",
       "      <td>NaN</td>\n",
       "      <td>NaN</td>\n",
       "      <td>NaN</td>\n",
       "    </tr>\n",
       "    <tr>\n",
       "      <th>Power consumption</th>\n",
       "      <td>NaN</td>\n",
       "      <td>NaN</td>\n",
       "      <td>NaN</td>\n",
       "    </tr>\n",
       "    <tr>\n",
       "      <th>Energy efficiency class</th>\n",
       "      <td>NaN</td>\n",
       "      <td>NaN</td>\n",
       "      <td>NaN</td>\n",
       "    </tr>\n",
       "    <tr>\n",
       "      <th>CO₂-efficiency</th>\n",
       "      <td>NaN</td>\n",
       "      <td>NaN</td>\n",
       "      <td>NaN</td>\n",
       "    </tr>\n",
       "    <tr>\n",
       "      <th>Fuel consumption (WLTP)</th>\n",
       "      <td>NaN</td>\n",
       "      <td>NaN</td>\n",
       "      <td>NaN</td>\n",
       "    </tr>\n",
       "    <tr>\n",
       "      <th>CO₂-emissions (WLTP)</th>\n",
       "      <td>NaN</td>\n",
       "      <td>NaN</td>\n",
       "      <td>NaN</td>\n",
       "    </tr>\n",
       "    <tr>\n",
       "      <th>Available from</th>\n",
       "      <td>NaN</td>\n",
       "      <td>NaN</td>\n",
       "      <td>NaN</td>\n",
       "    </tr>\n",
       "    <tr>\n",
       "      <th>Taxi or rental car</th>\n",
       "      <td>NaN</td>\n",
       "      <td>NaN</td>\n",
       "      <td>NaN</td>\n",
       "    </tr>\n",
       "    <tr>\n",
       "      <th>Availability</th>\n",
       "      <td>NaN</td>\n",
       "      <td>NaN</td>\n",
       "      <td>NaN</td>\n",
       "    </tr>\n",
       "    <tr>\n",
       "      <th>Last timing belt change</th>\n",
       "      <td>NaN</td>\n",
       "      <td>NaN</td>\n",
       "      <td>NaN</td>\n",
       "    </tr>\n",
       "    <tr>\n",
       "      <th>Electric Range (WLTP)</th>\n",
       "      <td>NaN</td>\n",
       "      <td>NaN</td>\n",
       "      <td>NaN</td>\n",
       "    </tr>\n",
       "    <tr>\n",
       "      <th>Power consumption (WLTP)</th>\n",
       "      <td>NaN</td>\n",
       "      <td>NaN</td>\n",
       "      <td>NaN</td>\n",
       "    </tr>\n",
       "    <tr>\n",
       "      <th>Battery Ownership</th>\n",
       "      <td>NaN</td>\n",
       "      <td>NaN</td>\n",
       "      <td>NaN</td>\n",
       "    </tr>\n",
       "  </tbody>\n",
       "</table>\n",
       "</div>"
      ],
      "text/plain": [
       "                                                                           0   \n",
       "make_model                                               Mercedes-Benz A 160  \\\n",
       "short_description                                                        CDi   \n",
       "make                                                       \\nMercedes-Benz\\n   \n",
       "model                                                        [\\n, A 160 ,\\n]   \n",
       "location                   P.I. EL PALMAR C/FORJA 6,  11500 PUERTO DE SAN...   \n",
       "price                                                             € 16,950.-   \n",
       "Body type                                                  [\\n, Compact, \\n]   \n",
       "Type                                                          [\\n, Used, \\n]   \n",
       "Doors                                                            [\\n, 5, \\n]   \n",
       "Country version                                              [\\n, Spain, \\n]   \n",
       "Offer number                                               [\\n, 7468157, \\n]   \n",
       "Warranty                                                 [\\n, 24 months, \\n]   \n",
       "Mileage                                                           120,200 km   \n",
       "First registration                                                   06/2016   \n",
       "Gearbox                                                         [\\nManual\\n]   \n",
       "Fuel type                                                             Diesel   \n",
       "Colour                                                                 Black   \n",
       "Paint                                                               Metallic   \n",
       "desc                       [ , Precio al contado: 16950 euros,  ,  , Vehí...   \n",
       "seller                                                                Dealer   \n",
       "Seats                                                                    NaN   \n",
       "Power                                                                    NaN   \n",
       "Engine size                                                              NaN   \n",
       "Gears                                                                    NaN   \n",
       "CO₂-emissions                                                            NaN   \n",
       "Manufacturer colour                                                      NaN   \n",
       "Drivetrain                                                               NaN   \n",
       "Cylinders                                                                NaN   \n",
       "Fuel consumption                                                         NaN   \n",
       "\\nComfort & Convenience\\n                                                NaN   \n",
       "\\nEntertainment & Media\\n                                                NaN   \n",
       "\\nSafety & Security\\n                                                    NaN   \n",
       "\\nExtras\\n                                                               NaN   \n",
       "Empty weight                                                             NaN   \n",
       "Model code                                                               NaN   \n",
       "General inspection                                                       NaN   \n",
       "Last service                                                             NaN   \n",
       "Full service history                                                     NaN   \n",
       "Non-smoker vehicle                                                       NaN   \n",
       "Emission class                                                           NaN   \n",
       "Emissions sticker                                                        NaN   \n",
       "Upholstery colour                                                        NaN   \n",
       "Upholstery                                                               NaN   \n",
       "Production date                                                          NaN   \n",
       "Previous owner                                                           NaN   \n",
       "Other fuel types                                                         NaN   \n",
       "Power consumption                                                        NaN   \n",
       "Energy efficiency class                                                  NaN   \n",
       "CO₂-efficiency                                                           NaN   \n",
       "Fuel consumption (WLTP)                                                  NaN   \n",
       "CO₂-emissions (WLTP)                                                     NaN   \n",
       "Available from                                                           NaN   \n",
       "Taxi or rental car                                                       NaN   \n",
       "Availability                                                             NaN   \n",
       "Last timing belt change                                                  NaN   \n",
       "Electric Range (WLTP)                                                    NaN   \n",
       "Power consumption (WLTP)                                                 NaN   \n",
       "Battery Ownership                                                        NaN   \n",
       "\n",
       "                                                                           1   \n",
       "make_model                                             Mercedes-Benz EQE 350  \\\n",
       "short_description                                                       350+   \n",
       "make                                                       \\nMercedes-Benz\\n   \n",
       "model                                                      [\\n, EQE 350 ,\\n]   \n",
       "location                        APARTADO DE CORREOS 1032,  26140 LOGROÑO, ES   \n",
       "price                                                             € 80,900.-   \n",
       "Body type                                                  [\\n, Compact, \\n]   \n",
       "Type                                                [\\n, Pre-registered, \\n]   \n",
       "Doors                                                            [\\n, 4, \\n]   \n",
       "Country version                                              [\\n, Spain, \\n]   \n",
       "Offer number                                               [\\n, 7054863, \\n]   \n",
       "Warranty                                                 [\\n, 24 months, \\n]   \n",
       "Mileage                                                             5,000 km   \n",
       "First registration                                                   06/2022   \n",
       "Gearbox                                                      [\\nAutomatic\\n]   \n",
       "Fuel type                                                           Electric   \n",
       "Colour                                                                   NaN   \n",
       "Paint                                                                    NaN   \n",
       "desc                       [ , Precio al contado: 88900 euros,  , AUTO OJ...   \n",
       "seller                                                                Dealer   \n",
       "Seats                                                            [\\n, 5, \\n]   \n",
       "Power                                                  [\\n215 kW (292 hp)\\n]   \n",
       "Engine size                                                       [\\n1 cc\\n]   \n",
       "Gears                                                                [\\n9\\n]   \n",
       "CO₂-emissions                                                 0 g/km (comb.)   \n",
       "Manufacturer colour                                          Negro Obsidiana   \n",
       "Drivetrain                                                               NaN   \n",
       "Cylinders                                                                NaN   \n",
       "Fuel consumption                                                         NaN   \n",
       "\\nComfort & Convenience\\n                                                NaN   \n",
       "\\nEntertainment & Media\\n                                                NaN   \n",
       "\\nSafety & Security\\n                                                    NaN   \n",
       "\\nExtras\\n                                                               NaN   \n",
       "Empty weight                                                             NaN   \n",
       "Model code                                                               NaN   \n",
       "General inspection                                                       NaN   \n",
       "Last service                                                             NaN   \n",
       "Full service history                                                     NaN   \n",
       "Non-smoker vehicle                                                       NaN   \n",
       "Emission class                                                           NaN   \n",
       "Emissions sticker                                                        NaN   \n",
       "Upholstery colour                                                        NaN   \n",
       "Upholstery                                                               NaN   \n",
       "Production date                                                          NaN   \n",
       "Previous owner                                                           NaN   \n",
       "Other fuel types                                                         NaN   \n",
       "Power consumption                                                        NaN   \n",
       "Energy efficiency class                                                  NaN   \n",
       "CO₂-efficiency                                                           NaN   \n",
       "Fuel consumption (WLTP)                                                  NaN   \n",
       "CO₂-emissions (WLTP)                                                     NaN   \n",
       "Available from                                                           NaN   \n",
       "Taxi or rental car                                                       NaN   \n",
       "Availability                                                             NaN   \n",
       "Last timing belt change                                                  NaN   \n",
       "Electric Range (WLTP)                                                    NaN   \n",
       "Power consumption (WLTP)                                                 NaN   \n",
       "Battery Ownership                                                        NaN   \n",
       "\n",
       "                                                                           2  \n",
       "make_model                                            Mercedes-Benz A 45 AMG  \n",
       "short_description                                           S 4Matic+ 8G-DCT  \n",
       "make                                                       \\nMercedes-Benz\\n  \n",
       "model                                                     [\\n, A 45 AMG ,\\n]  \n",
       "location                   PORT. TARRACO, MOLL DE LLEVANT, Nº 5, LOC. 6-8...  \n",
       "price                                                             € 69,900.-  \n",
       "Body type                                                  [\\n, Compact, \\n]  \n",
       "Type                                                          [\\n, Used, \\n]  \n",
       "Doors                                                            [\\n, 5, \\n]  \n",
       "Country version                                              [\\n, Spain, \\n]  \n",
       "Offer number                                               [\\n, 7410454, \\n]  \n",
       "Warranty                                                 [\\n, 12 months, \\n]  \n",
       "Mileage                                                            18,900 km  \n",
       "First registration                                                   07/2020  \n",
       "Gearbox                                                      [\\nAutomatic\\n]  \n",
       "Fuel type                                                           Gasoline  \n",
       "Colour                                                                  Grey  \n",
       "Paint                                                                    NaN  \n",
       "desc                       [Gris MANUFAKTUR mountaingrau magno,  , Linea/...  \n",
       "seller                                                                Dealer  \n",
       "Seats                                                            [\\n, 5, \\n]  \n",
       "Power                                                  [\\n310 kW (421 hp)\\n]  \n",
       "Engine size                                                   [\\n1,991 cc\\n]  \n",
       "Gears                                                                [\\n8\\n]  \n",
       "CO₂-emissions                                                            NaN  \n",
       "Manufacturer colour                                       Mountaingrau magno  \n",
       "Drivetrain                                                     [\\n, 4WD, \\n]  \n",
       "Cylinders                                                            [\\n4\\n]  \n",
       "Fuel consumption           [[8.4 l/100 km (comb.)], [10.9 l/100 km (city)...  \n",
       "\\nComfort & Convenience\\n                                                NaN  \n",
       "\\nEntertainment & Media\\n                                                NaN  \n",
       "\\nSafety & Security\\n                                                    NaN  \n",
       "\\nExtras\\n                                                               NaN  \n",
       "Empty weight                                                             NaN  \n",
       "Model code                                                               NaN  \n",
       "General inspection                                                       NaN  \n",
       "Last service                                                             NaN  \n",
       "Full service history                                                     NaN  \n",
       "Non-smoker vehicle                                                       NaN  \n",
       "Emission class                                                           NaN  \n",
       "Emissions sticker                                                        NaN  \n",
       "Upholstery colour                                                        NaN  \n",
       "Upholstery                                                               NaN  \n",
       "Production date                                                          NaN  \n",
       "Previous owner                                                           NaN  \n",
       "Other fuel types                                                         NaN  \n",
       "Power consumption                                                        NaN  \n",
       "Energy efficiency class                                                  NaN  \n",
       "CO₂-efficiency                                                           NaN  \n",
       "Fuel consumption (WLTP)                                                  NaN  \n",
       "CO₂-emissions (WLTP)                                                     NaN  \n",
       "Available from                                                           NaN  \n",
       "Taxi or rental car                                                       NaN  \n",
       "Availability                                                             NaN  \n",
       "Last timing belt change                                                  NaN  \n",
       "Electric Range (WLTP)                                                    NaN  \n",
       "Power consumption (WLTP)                                                 NaN  \n",
       "Battery Ownership                                                        NaN  "
      ]
     },
     "execution_count": 6,
     "metadata": {},
     "output_type": "execute_result"
    }
   ],
   "source": [
    "df.head(3).T"
   ]
  },
  {
   "cell_type": "code",
   "execution_count": 7,
   "metadata": {},
   "outputs": [
    {
     "data": {
      "text/plain": [
       "(29480, 58)"
      ]
     },
     "execution_count": 7,
     "metadata": {},
     "output_type": "execute_result"
    }
   ],
   "source": [
    "df.shape"
   ]
  },
  {
   "cell_type": "code",
   "execution_count": 8,
   "metadata": {},
   "outputs": [
    {
     "data": {
      "text/plain": [
       "Index(['make_model', 'short_description', 'make', 'model', 'location', 'price', 'Body type',\n",
       "       'Type', 'Doors', 'Country version', 'Offer number', 'Warranty', 'Mileage',\n",
       "       'First registration', 'Gearbox', 'Fuel type', 'Colour', 'Paint', 'desc', 'seller', 'Seats',\n",
       "       'Power', 'Engine size', 'Gears', 'CO₂-emissions', 'Manufacturer colour', 'Drivetrain',\n",
       "       'Cylinders', 'Fuel consumption', '\\nComfort & Convenience\\n', '\\nEntertainment & Media\\n',\n",
       "       '\\nSafety & Security\\n', '\\nExtras\\n', 'Empty weight', 'Model code', 'General inspection',\n",
       "       'Last service', 'Full service history', 'Non-smoker vehicle', 'Emission class',\n",
       "       'Emissions sticker', 'Upholstery colour', 'Upholstery', 'Production date', 'Previous owner',\n",
       "       'Other fuel types', 'Power consumption', 'Energy efficiency class', 'CO₂-efficiency',\n",
       "       'Fuel consumption (WLTP)', 'CO₂-emissions (WLTP)', 'Available from', 'Taxi or rental car',\n",
       "       'Availability', 'Last timing belt change', 'Electric Range (WLTP)',\n",
       "       'Power consumption (WLTP)', 'Battery Ownership'],\n",
       "      dtype='object')"
      ]
     },
     "execution_count": 8,
     "metadata": {},
     "output_type": "execute_result"
    }
   ],
   "source": [
    "df.columns"
   ]
  },
  {
   "cell_type": "code",
   "execution_count": 8,
   "metadata": {},
   "outputs": [
    {
     "data": {
      "text/plain": [
       "['\\nComfort & Convenience\\n',\n",
       " '\\nEntertainment & Media\\n',\n",
       " '\\nExtras\\n',\n",
       " '\\nSafety & Security\\n',\n",
       " 'Availability',\n",
       " 'Available from',\n",
       " 'Battery Ownership',\n",
       " 'Body type',\n",
       " 'CO₂-efficiency',\n",
       " 'CO₂-emissions',\n",
       " 'CO₂-emissions (WLTP)',\n",
       " 'Colour',\n",
       " 'Country version',\n",
       " 'Cylinders',\n",
       " 'Doors',\n",
       " 'Drivetrain',\n",
       " 'Electric Range (WLTP)',\n",
       " 'Emission class',\n",
       " 'Emissions sticker',\n",
       " 'Empty weight',\n",
       " 'Energy efficiency class',\n",
       " 'Engine size',\n",
       " 'First registration',\n",
       " 'Fuel consumption',\n",
       " 'Fuel consumption (WLTP)',\n",
       " 'Fuel type',\n",
       " 'Full service history',\n",
       " 'Gearbox',\n",
       " 'Gears',\n",
       " 'General inspection',\n",
       " 'Last service',\n",
       " 'Last timing belt change',\n",
       " 'Manufacturer colour',\n",
       " 'Mileage',\n",
       " 'Model code',\n",
       " 'Non-smoker vehicle',\n",
       " 'Offer number',\n",
       " 'Other fuel types',\n",
       " 'Paint',\n",
       " 'Power',\n",
       " 'Power consumption',\n",
       " 'Power consumption (WLTP)',\n",
       " 'Previous owner',\n",
       " 'Production date',\n",
       " 'Seats',\n",
       " 'Taxi or rental car',\n",
       " 'Type',\n",
       " 'Upholstery',\n",
       " 'Upholstery colour',\n",
       " 'Warranty',\n",
       " 'desc',\n",
       " 'location',\n",
       " 'make',\n",
       " 'make_model',\n",
       " 'model',\n",
       " 'price',\n",
       " 'seller',\n",
       " 'short_description']"
      ]
     },
     "execution_count": 8,
     "metadata": {},
     "output_type": "execute_result"
    }
   ],
   "source": [
    "sorted(df.columns)"
   ]
  },
  {
   "cell_type": "code",
   "execution_count": 9,
   "metadata": {},
   "outputs": [
    {
     "name": "stdout",
     "output_type": "stream",
     "text": [
      "<class 'pandas.core.frame.DataFrame'>\n",
      "RangeIndex: 29480 entries, 0 to 29479\n",
      "Data columns (total 58 columns):\n",
      " #   Column                    Non-Null Count  Dtype  \n",
      "---  ------                    --------------  -----  \n",
      " 0   make_model                28630 non-null  object \n",
      " 1   short_description         28630 non-null  object \n",
      " 2   make                      28630 non-null  object \n",
      " 3   model                     28630 non-null  object \n",
      " 4   location                  28630 non-null  object \n",
      " 5   price                     28630 non-null  object \n",
      " 6   Body type                 28630 non-null  object \n",
      " 7   Type                      28630 non-null  object \n",
      " 8   Doors                     28271 non-null  object \n",
      " 9   Country version           16889 non-null  object \n",
      " 10  Offer number              23100 non-null  object \n",
      " 11  Warranty                  15784 non-null  object \n",
      " 12  Mileage                   28629 non-null  object \n",
      " 13  First registration        28628 non-null  object \n",
      " 14  Gearbox                   28382 non-null  object \n",
      " 15  Fuel type                 26843 non-null  object \n",
      " 16  Colour                    26906 non-null  object \n",
      " 17  Paint                     14495 non-null  object \n",
      " 18  desc                      28047 non-null  object \n",
      " 19  seller                    28630 non-null  object \n",
      " 20  Seats                     25505 non-null  object \n",
      " 21  Power                     28058 non-null  object \n",
      " 22  Engine size               27227 non-null  object \n",
      " 23  Gears                     18954 non-null  object \n",
      " 24  CO₂-emissions             18594 non-null  object \n",
      " 25  Manufacturer colour       21787 non-null  object \n",
      " 26  Drivetrain                16893 non-null  object \n",
      " 27  Cylinders                 18852 non-null  object \n",
      " 28  Fuel consumption          23385 non-null  object \n",
      " 29  \n",
      "Comfort & Convenience\n",
      "   25433 non-null  object \n",
      " 30  \n",
      "Entertainment & Media\n",
      "   23644 non-null  object \n",
      " 31  \n",
      "Safety & Security\n",
      "       25415 non-null  object \n",
      " 32  \n",
      "Extras\n",
      "                  23480 non-null  object \n",
      " 33  Empty weight              17758 non-null  object \n",
      " 34  Model code                8367 non-null   object \n",
      " 35  General inspection        12254 non-null  object \n",
      " 36  Last service              2003 non-null   object \n",
      " 37  Full service history      12565 non-null  object \n",
      " 38  Non-smoker vehicle        11594 non-null  object \n",
      " 39  Emission class            17859 non-null  object \n",
      " 40  Emissions sticker         9414 non-null   object \n",
      " 41  Upholstery colour         14569 non-null  object \n",
      " 42  Upholstery                18610 non-null  object \n",
      " 43  Production date           5908 non-null   float64\n",
      " 44  Previous owner            14015 non-null  object \n",
      " 45  Other fuel types          2313 non-null   object \n",
      " 46  Power consumption         515 non-null    object \n",
      " 47  Energy efficiency class   7804 non-null   object \n",
      " 48  CO₂-efficiency            7804 non-null   object \n",
      " 49  Fuel consumption (WLTP)   100 non-null    object \n",
      " 50  CO₂-emissions (WLTP)      116 non-null    object \n",
      " 51  Available from            393 non-null    object \n",
      " 52  Taxi or rental car        422 non-null    object \n",
      " 53  Availability              301 non-null    object \n",
      " 54  Last timing belt change   572 non-null    object \n",
      " 55  Electric Range (WLTP)     16 non-null     object \n",
      " 56  Power consumption (WLTP)  16 non-null     object \n",
      " 57  Battery Ownership         7 non-null      object \n",
      "dtypes: float64(1), object(57)\n",
      "memory usage: 13.0+ MB\n"
     ]
    }
   ],
   "source": [
    "df.info()"
   ]
  },
  {
   "cell_type": "code",
   "execution_count": 10,
   "metadata": {},
   "outputs": [
    {
     "name": "stdout",
     "output_type": "stream",
     "text": [
      "Column \u001b[1m\u001b[91mmake_model\u001b[0m has mixed object types.\n",
      "Column \u001b[1m\u001b[91mshort_description\u001b[0m has mixed object types.\n",
      "Column \u001b[1m\u001b[91mmake\u001b[0m has mixed object types.\n",
      "Column \u001b[1m\u001b[91mmodel\u001b[0m has mixed object types.\n",
      "Column \u001b[1m\u001b[91mlocation\u001b[0m has mixed object types.\n",
      "Column \u001b[1m\u001b[91mprice\u001b[0m has mixed object types.\n",
      "Column \u001b[1m\u001b[91mBody type\u001b[0m has mixed object types.\n",
      "Column \u001b[1m\u001b[91mType\u001b[0m has mixed object types.\n",
      "Column \u001b[1m\u001b[91mDoors\u001b[0m has mixed object types.\n",
      "Column \u001b[1m\u001b[91mCountry version\u001b[0m has mixed object types.\n",
      "Column \u001b[1m\u001b[91mOffer number\u001b[0m has mixed object types.\n",
      "Column \u001b[1m\u001b[91mWarranty\u001b[0m has mixed object types.\n",
      "Column \u001b[1m\u001b[91mMileage\u001b[0m has mixed object types.\n",
      "Column \u001b[1m\u001b[91mFirst registration\u001b[0m has mixed object types.\n",
      "Column \u001b[1m\u001b[91mGearbox\u001b[0m has mixed object types.\n",
      "Column \u001b[1m\u001b[91mFuel type\u001b[0m has mixed object types.\n",
      "Column \u001b[1m\u001b[91mColour\u001b[0m has mixed object types.\n",
      "Column \u001b[1m\u001b[91mPaint\u001b[0m has mixed object types.\n",
      "Column \u001b[1m\u001b[91mdesc\u001b[0m has mixed object types.\n",
      "Column \u001b[1m\u001b[91mseller\u001b[0m has mixed object types.\n",
      "Column \u001b[1m\u001b[91mSeats\u001b[0m has mixed object types.\n",
      "Column \u001b[1m\u001b[91mPower\u001b[0m has mixed object types.\n",
      "Column \u001b[1m\u001b[91mEngine size\u001b[0m has mixed object types.\n",
      "Column \u001b[1m\u001b[91mGears\u001b[0m has mixed object types.\n",
      "Column \u001b[1m\u001b[91mCO₂-emissions\u001b[0m has mixed object types.\n",
      "Column \u001b[1m\u001b[91mManufacturer colour\u001b[0m has mixed object types.\n",
      "Column \u001b[1m\u001b[91mDrivetrain\u001b[0m has mixed object types.\n",
      "Column \u001b[1m\u001b[91mCylinders\u001b[0m has mixed object types.\n",
      "Column \u001b[1m\u001b[91mFuel consumption\u001b[0m has mixed object types.\n",
      "Column \u001b[1m\u001b[91m\n",
      "Comfort & Convenience\n",
      "\u001b[0m has mixed object types.\n",
      "Column \u001b[1m\u001b[91m\n",
      "Entertainment & Media\n",
      "\u001b[0m has mixed object types.\n",
      "Column \u001b[1m\u001b[91m\n",
      "Safety & Security\n",
      "\u001b[0m has mixed object types.\n",
      "Column \u001b[1m\u001b[91m\n",
      "Extras\n",
      "\u001b[0m has mixed object types.\n",
      "Column \u001b[1m\u001b[91mEmpty weight\u001b[0m has mixed object types.\n",
      "Column \u001b[1m\u001b[91mModel code\u001b[0m has mixed object types.\n",
      "Column \u001b[1m\u001b[91mGeneral inspection\u001b[0m has mixed object types.\n",
      "Column \u001b[1m\u001b[91mLast service\u001b[0m has mixed object types.\n",
      "Column \u001b[1m\u001b[91mFull service history\u001b[0m has mixed object types.\n",
      "Column \u001b[1m\u001b[91mNon-smoker vehicle\u001b[0m has mixed object types.\n",
      "Column \u001b[1m\u001b[91mEmission class\u001b[0m has mixed object types.\n",
      "Column \u001b[1m\u001b[91mEmissions sticker\u001b[0m has mixed object types.\n",
      "Column \u001b[1m\u001b[91mUpholstery colour\u001b[0m has mixed object types.\n",
      "Column \u001b[1m\u001b[91mUpholstery\u001b[0m has mixed object types.\n",
      "Column \u001b[1m\u001b[91mPrevious owner\u001b[0m has mixed object types.\n",
      "Column \u001b[1m\u001b[91mOther fuel types\u001b[0m has mixed object types.\n",
      "Column \u001b[1m\u001b[91mPower consumption\u001b[0m has mixed object types.\n",
      "Column \u001b[1m\u001b[91mEnergy efficiency class\u001b[0m has mixed object types.\n",
      "Column \u001b[1m\u001b[91mCO₂-efficiency\u001b[0m has mixed object types.\n",
      "Column \u001b[1m\u001b[91mFuel consumption (WLTP)\u001b[0m has mixed object types.\n",
      "Column \u001b[1m\u001b[91mCO₂-emissions (WLTP)\u001b[0m has mixed object types.\n",
      "Column \u001b[1m\u001b[91mAvailable from\u001b[0m has mixed object types.\n",
      "Column \u001b[1m\u001b[91mTaxi or rental car\u001b[0m has mixed object types.\n",
      "Column \u001b[1m\u001b[91mAvailability\u001b[0m has mixed object types.\n",
      "Column \u001b[1m\u001b[91mLast timing belt change\u001b[0m has mixed object types.\n",
      "Column \u001b[1m\u001b[91mElectric Range (WLTP)\u001b[0m has mixed object types.\n",
      "Column \u001b[1m\u001b[91mPower consumption (WLTP)\u001b[0m has mixed object types.\n",
      "Column \u001b[1m\u001b[91mBattery Ownership\u001b[0m has mixed object types.\n"
     ]
    }
   ],
   "source": [
    "class color:\n",
    "    PURPLE = '\\033[95m'\n",
    "    CYAN = '\\033[96m'\n",
    "    DARKCYAN = '\\033[36m'\n",
    "    BLUE = '\\033[94m'\n",
    "    GREEN = '\\033[92m'\n",
    "    YELLOW = '\\033[93m'\n",
    "    RED = '\\033[91m'\n",
    "    BOLD = '\\033[1m'\n",
    "    UNDERLINE = '\\033[4m'\n",
    "    END = '\\033[0m'\n",
    "\n",
    "def check_obj_columns(df):\n",
    "    '''\n",
    "    Returns NO PROBLEM or column/s which has/have mixed object types.\n",
    "    '''    \n",
    "    \n",
    "    tdf = df.select_dtypes(include=['object']).applymap(type)\n",
    "    for col in tdf:\n",
    "        if len(set(tdf[col].values)) > 1:\n",
    "            print(\"Column\" + \" \" + color.BOLD + color.RED + col + color.END + \" \" + \"has mixed object types.\" )\n",
    "    else:\n",
    "        if len(set(tdf[col].values)) == 1:\n",
    "            print(color.BOLD + color.GREEN + \" \" + \"NO PROBLEM\" + \" \" + color.END + \" \" + \"with the data types of Columns in the DataFrame.\")\n",
    "\n",
    "check_obj_columns(df)"
   ]
  },
  {
   "cell_type": "code",
   "execution_count": 11,
   "metadata": {},
   "outputs": [
    {
     "data": {
      "text/plain": [
       "Index(['make_model', 'short_description', 'make', 'model', 'location', 'price', 'Body type',\n",
       "       'Type', 'Doors', 'Country version', 'Offer number', 'Warranty', 'Mileage',\n",
       "       'First registration', 'Gearbox', 'Fuel type', 'Colour', 'Paint', 'desc', 'seller', 'Seats',\n",
       "       'Power', 'Engine size', 'Gears', 'CO₂-emissions', 'Manufacturer colour', 'Drivetrain',\n",
       "       'Cylinders', 'Fuel consumption', '\\nComfort & Convenience\\n', '\\nEntertainment & Media\\n',\n",
       "       '\\nSafety & Security\\n', '\\nExtras\\n', 'Empty weight', 'Model code', 'General inspection',\n",
       "       'Last service', 'Full service history', 'Non-smoker vehicle', 'Emission class',\n",
       "       'Emissions sticker', 'Upholstery colour', 'Upholstery', 'Production date', 'Previous owner',\n",
       "       'Other fuel types', 'Power consumption', 'Energy efficiency class', 'CO₂-efficiency',\n",
       "       'Fuel consumption (WLTP)', 'CO₂-emissions (WLTP)', 'Available from', 'Taxi or rental car',\n",
       "       'Availability', 'Last timing belt change', 'Electric Range (WLTP)',\n",
       "       'Power consumption (WLTP)', 'Battery Ownership'],\n",
       "      dtype='object')"
      ]
     },
     "execution_count": 11,
     "metadata": {},
     "output_type": "execute_result"
    }
   ],
   "source": [
    "df.columns"
   ]
  },
  {
   "cell_type": "markdown",
   "metadata": {},
   "source": [
    "**Let us rectify the** **``Incorrect Headers (Column names)``**"
   ]
  },
  {
   "cell_type": "markdown",
   "metadata": {},
   "source": [
    "One way of renaming the columns in a Pandas dataframe is by using the **``rename()``** function. This method is quite useful when we need to rename some selected columns because we need to specify information only for the columns which are to be renamed **🧐 [Source](https://www.geeksforgeeks.org/how-to-rename-columns-in-pandas-dataframe/)**.\n",
    "\n",
    "For skimpy library, please have look at this article named **🧐 [How to Clean Messy Pandas Column Names](https://towardsdatascience.com/how-to-clean-messy-pandas-column-names-20dc7400cea7)**"
   ]
  },
  {
   "cell_type": "code",
   "execution_count": 12,
   "metadata": {},
   "outputs": [
    {
     "data": {
      "text/html": [
       "<pre style=\"white-space:pre;overflow-x:auto;line-height:normal;font-family:Menlo,'DejaVu Sans Mono',consolas,'Courier New',monospace\"><span style=\"color: #008080; text-decoration-color: #008080; font-weight: bold\">50</span> column names have been cleaned\n",
       "</pre>\n"
      ],
      "text/plain": [
       "\u001b[1;36m50\u001b[0m column names have been cleaned\n"
      ]
     },
     "metadata": {},
     "output_type": "display_data"
    },
    {
     "data": {
      "text/html": [
       "<div>\n",
       "<style scoped>\n",
       "    .dataframe tbody tr th:only-of-type {\n",
       "        vertical-align: middle;\n",
       "    }\n",
       "\n",
       "    .dataframe tbody tr th {\n",
       "        vertical-align: top;\n",
       "    }\n",
       "\n",
       "    .dataframe thead th {\n",
       "        text-align: right;\n",
       "    }\n",
       "</style>\n",
       "<table border=\"1\" class=\"dataframe\">\n",
       "  <thead>\n",
       "    <tr style=\"text-align: right;\">\n",
       "      <th></th>\n",
       "      <th>make_model</th>\n",
       "      <th>short_description</th>\n",
       "      <th>make</th>\n",
       "      <th>model</th>\n",
       "      <th>location</th>\n",
       "      <th>price</th>\n",
       "      <th>body_type</th>\n",
       "      <th>type</th>\n",
       "      <th>doors</th>\n",
       "      <th>country_version</th>\n",
       "      <th>offer_number</th>\n",
       "      <th>warranty</th>\n",
       "      <th>mileage</th>\n",
       "      <th>first_registration</th>\n",
       "      <th>gearbox</th>\n",
       "      <th>fuel_type</th>\n",
       "      <th>colour</th>\n",
       "      <th>paint</th>\n",
       "      <th>desc</th>\n",
       "      <th>seller</th>\n",
       "      <th>seats</th>\n",
       "      <th>power</th>\n",
       "      <th>engine_size</th>\n",
       "      <th>gears</th>\n",
       "      <th>co_emissions</th>\n",
       "      <th>manufacturer_colour</th>\n",
       "      <th>drivetrain</th>\n",
       "      <th>cylinders</th>\n",
       "      <th>fuel_consumption</th>\n",
       "      <th>comfort_&amp;_convenience</th>\n",
       "      <th>entertainment_&amp;_media</th>\n",
       "      <th>safety_&amp;_security</th>\n",
       "      <th>extras</th>\n",
       "      <th>empty_weight</th>\n",
       "      <th>model_code</th>\n",
       "      <th>general_inspection</th>\n",
       "      <th>last_service</th>\n",
       "      <th>full_service_history</th>\n",
       "      <th>non_smoker_vehicle</th>\n",
       "      <th>emission_class</th>\n",
       "      <th>emissions_sticker</th>\n",
       "      <th>upholstery_colour</th>\n",
       "      <th>upholstery</th>\n",
       "      <th>production_date</th>\n",
       "      <th>previous_owner</th>\n",
       "      <th>other_fuel_types</th>\n",
       "      <th>power_consumption</th>\n",
       "      <th>energy_efficiency_class</th>\n",
       "      <th>co_efficiency</th>\n",
       "      <th>fuel_consumption_wltp</th>\n",
       "      <th>co_emissions_wltp</th>\n",
       "      <th>available_from</th>\n",
       "      <th>taxi_or_rental_car</th>\n",
       "      <th>availability</th>\n",
       "      <th>last_timing_belt_change</th>\n",
       "      <th>electric_range_wltp</th>\n",
       "      <th>power_consumption_wltp</th>\n",
       "      <th>battery_ownership</th>\n",
       "    </tr>\n",
       "  </thead>\n",
       "  <tbody>\n",
       "    <tr>\n",
       "      <th>0</th>\n",
       "      <td>Mercedes-Benz A 160</td>\n",
       "      <td>CDi</td>\n",
       "      <td>\\nMercedes-Benz\\n</td>\n",
       "      <td>[\\n, A 160 ,\\n]</td>\n",
       "      <td>P.I. EL PALMAR C/FORJA 6,  11500 PUERTO DE SAN...</td>\n",
       "      <td>€ 16,950.-</td>\n",
       "      <td>[\\n, Compact, \\n]</td>\n",
       "      <td>[\\n, Used, \\n]</td>\n",
       "      <td>[\\n, 5, \\n]</td>\n",
       "      <td>[\\n, Spain, \\n]</td>\n",
       "      <td>[\\n, 7468157, \\n]</td>\n",
       "      <td>[\\n, 24 months, \\n]</td>\n",
       "      <td>120,200 km</td>\n",
       "      <td>06/2016</td>\n",
       "      <td>[\\nManual\\n]</td>\n",
       "      <td>Diesel</td>\n",
       "      <td>Black</td>\n",
       "      <td>Metallic</td>\n",
       "      <td>[ , Precio al contado: 16950 euros,  ,  , Vehí...</td>\n",
       "      <td>Dealer</td>\n",
       "      <td>NaN</td>\n",
       "      <td>NaN</td>\n",
       "      <td>NaN</td>\n",
       "      <td>NaN</td>\n",
       "      <td>NaN</td>\n",
       "      <td>NaN</td>\n",
       "      <td>NaN</td>\n",
       "      <td>NaN</td>\n",
       "      <td>NaN</td>\n",
       "      <td>NaN</td>\n",
       "      <td>NaN</td>\n",
       "      <td>NaN</td>\n",
       "      <td>NaN</td>\n",
       "      <td>NaN</td>\n",
       "      <td>NaN</td>\n",
       "      <td>NaN</td>\n",
       "      <td>NaN</td>\n",
       "      <td>NaN</td>\n",
       "      <td>NaN</td>\n",
       "      <td>NaN</td>\n",
       "      <td>NaN</td>\n",
       "      <td>NaN</td>\n",
       "      <td>NaN</td>\n",
       "      <td>NaN</td>\n",
       "      <td>NaN</td>\n",
       "      <td>NaN</td>\n",
       "      <td>NaN</td>\n",
       "      <td>NaN</td>\n",
       "      <td>NaN</td>\n",
       "      <td>NaN</td>\n",
       "      <td>NaN</td>\n",
       "      <td>NaN</td>\n",
       "      <td>NaN</td>\n",
       "      <td>NaN</td>\n",
       "      <td>NaN</td>\n",
       "      <td>NaN</td>\n",
       "      <td>NaN</td>\n",
       "      <td>NaN</td>\n",
       "    </tr>\n",
       "    <tr>\n",
       "      <th>1</th>\n",
       "      <td>Mercedes-Benz EQE 350</td>\n",
       "      <td>350+</td>\n",
       "      <td>\\nMercedes-Benz\\n</td>\n",
       "      <td>[\\n, EQE 350 ,\\n]</td>\n",
       "      <td>APARTADO DE CORREOS 1032,  26140 LOGROÑO, ES</td>\n",
       "      <td>€ 80,900.-</td>\n",
       "      <td>[\\n, Compact, \\n]</td>\n",
       "      <td>[\\n, Pre-registered, \\n]</td>\n",
       "      <td>[\\n, 4, \\n]</td>\n",
       "      <td>[\\n, Spain, \\n]</td>\n",
       "      <td>[\\n, 7054863, \\n]</td>\n",
       "      <td>[\\n, 24 months, \\n]</td>\n",
       "      <td>5,000 km</td>\n",
       "      <td>06/2022</td>\n",
       "      <td>[\\nAutomatic\\n]</td>\n",
       "      <td>Electric</td>\n",
       "      <td>NaN</td>\n",
       "      <td>NaN</td>\n",
       "      <td>[ , Precio al contado: 88900 euros,  , AUTO OJ...</td>\n",
       "      <td>Dealer</td>\n",
       "      <td>[\\n, 5, \\n]</td>\n",
       "      <td>[\\n215 kW (292 hp)\\n]</td>\n",
       "      <td>[\\n1 cc\\n]</td>\n",
       "      <td>[\\n9\\n]</td>\n",
       "      <td>0 g/km (comb.)</td>\n",
       "      <td>Negro Obsidiana</td>\n",
       "      <td>NaN</td>\n",
       "      <td>NaN</td>\n",
       "      <td>NaN</td>\n",
       "      <td>NaN</td>\n",
       "      <td>NaN</td>\n",
       "      <td>NaN</td>\n",
       "      <td>NaN</td>\n",
       "      <td>NaN</td>\n",
       "      <td>NaN</td>\n",
       "      <td>NaN</td>\n",
       "      <td>NaN</td>\n",
       "      <td>NaN</td>\n",
       "      <td>NaN</td>\n",
       "      <td>NaN</td>\n",
       "      <td>NaN</td>\n",
       "      <td>NaN</td>\n",
       "      <td>NaN</td>\n",
       "      <td>NaN</td>\n",
       "      <td>NaN</td>\n",
       "      <td>NaN</td>\n",
       "      <td>NaN</td>\n",
       "      <td>NaN</td>\n",
       "      <td>NaN</td>\n",
       "      <td>NaN</td>\n",
       "      <td>NaN</td>\n",
       "      <td>NaN</td>\n",
       "      <td>NaN</td>\n",
       "      <td>NaN</td>\n",
       "      <td>NaN</td>\n",
       "      <td>NaN</td>\n",
       "      <td>NaN</td>\n",
       "      <td>NaN</td>\n",
       "    </tr>\n",
       "    <tr>\n",
       "      <th>2</th>\n",
       "      <td>Mercedes-Benz A 45 AMG</td>\n",
       "      <td>S 4Matic+ 8G-DCT</td>\n",
       "      <td>\\nMercedes-Benz\\n</td>\n",
       "      <td>[\\n, A 45 AMG ,\\n]</td>\n",
       "      <td>PORT. TARRACO, MOLL DE LLEVANT, Nº 5, LOC. 6-8...</td>\n",
       "      <td>€ 69,900.-</td>\n",
       "      <td>[\\n, Compact, \\n]</td>\n",
       "      <td>[\\n, Used, \\n]</td>\n",
       "      <td>[\\n, 5, \\n]</td>\n",
       "      <td>[\\n, Spain, \\n]</td>\n",
       "      <td>[\\n, 7410454, \\n]</td>\n",
       "      <td>[\\n, 12 months, \\n]</td>\n",
       "      <td>18,900 km</td>\n",
       "      <td>07/2020</td>\n",
       "      <td>[\\nAutomatic\\n]</td>\n",
       "      <td>Gasoline</td>\n",
       "      <td>Grey</td>\n",
       "      <td>NaN</td>\n",
       "      <td>[Gris MANUFAKTUR mountaingrau magno,  , Linea/...</td>\n",
       "      <td>Dealer</td>\n",
       "      <td>[\\n, 5, \\n]</td>\n",
       "      <td>[\\n310 kW (421 hp)\\n]</td>\n",
       "      <td>[\\n1,991 cc\\n]</td>\n",
       "      <td>[\\n8\\n]</td>\n",
       "      <td>NaN</td>\n",
       "      <td>Mountaingrau magno</td>\n",
       "      <td>[\\n, 4WD, \\n]</td>\n",
       "      <td>[\\n4\\n]</td>\n",
       "      <td>[[8.4 l/100 km (comb.)], [10.9 l/100 km (city)...</td>\n",
       "      <td>NaN</td>\n",
       "      <td>NaN</td>\n",
       "      <td>NaN</td>\n",
       "      <td>NaN</td>\n",
       "      <td>NaN</td>\n",
       "      <td>NaN</td>\n",
       "      <td>NaN</td>\n",
       "      <td>NaN</td>\n",
       "      <td>NaN</td>\n",
       "      <td>NaN</td>\n",
       "      <td>NaN</td>\n",
       "      <td>NaN</td>\n",
       "      <td>NaN</td>\n",
       "      <td>NaN</td>\n",
       "      <td>NaN</td>\n",
       "      <td>NaN</td>\n",
       "      <td>NaN</td>\n",
       "      <td>NaN</td>\n",
       "      <td>NaN</td>\n",
       "      <td>NaN</td>\n",
       "      <td>NaN</td>\n",
       "      <td>NaN</td>\n",
       "      <td>NaN</td>\n",
       "      <td>NaN</td>\n",
       "      <td>NaN</td>\n",
       "      <td>NaN</td>\n",
       "      <td>NaN</td>\n",
       "      <td>NaN</td>\n",
       "      <td>NaN</td>\n",
       "    </tr>\n",
       "  </tbody>\n",
       "</table>\n",
       "</div>"
      ],
      "text/plain": [
       "               make_model short_description               make               model   \n",
       "0     Mercedes-Benz A 160               CDi  \\nMercedes-Benz\\n     [\\n, A 160 ,\\n]  \\\n",
       "1   Mercedes-Benz EQE 350              350+  \\nMercedes-Benz\\n   [\\n, EQE 350 ,\\n]   \n",
       "2  Mercedes-Benz A 45 AMG  S 4Matic+ 8G-DCT  \\nMercedes-Benz\\n  [\\n, A 45 AMG ,\\n]   \n",
       "\n",
       "                                            location       price          body_type   \n",
       "0  P.I. EL PALMAR C/FORJA 6,  11500 PUERTO DE SAN...  € 16,950.-  [\\n, Compact, \\n]  \\\n",
       "1       APARTADO DE CORREOS 1032,  26140 LOGROÑO, ES  € 80,900.-  [\\n, Compact, \\n]   \n",
       "2  PORT. TARRACO, MOLL DE LLEVANT, Nº 5, LOC. 6-8...  € 69,900.-  [\\n, Compact, \\n]   \n",
       "\n",
       "                       type        doors  country_version       offer_number             warranty   \n",
       "0            [\\n, Used, \\n]  [\\n, 5, \\n]  [\\n, Spain, \\n]  [\\n, 7468157, \\n]  [\\n, 24 months, \\n]  \\\n",
       "1  [\\n, Pre-registered, \\n]  [\\n, 4, \\n]  [\\n, Spain, \\n]  [\\n, 7054863, \\n]  [\\n, 24 months, \\n]   \n",
       "2            [\\n, Used, \\n]  [\\n, 5, \\n]  [\\n, Spain, \\n]  [\\n, 7410454, \\n]  [\\n, 12 months, \\n]   \n",
       "\n",
       "      mileage first_registration          gearbox fuel_type colour     paint   \n",
       "0  120,200 km            06/2016     [\\nManual\\n]    Diesel  Black  Metallic  \\\n",
       "1    5,000 km            06/2022  [\\nAutomatic\\n]  Electric    NaN       NaN   \n",
       "2   18,900 km            07/2020  [\\nAutomatic\\n]  Gasoline   Grey       NaN   \n",
       "\n",
       "                                                desc  seller        seats                  power   \n",
       "0  [ , Precio al contado: 16950 euros,  ,  , Vehí...  Dealer          NaN                    NaN  \\\n",
       "1  [ , Precio al contado: 88900 euros,  , AUTO OJ...  Dealer  [\\n, 5, \\n]  [\\n215 kW (292 hp)\\n]   \n",
       "2  [Gris MANUFAKTUR mountaingrau magno,  , Linea/...  Dealer  [\\n, 5, \\n]  [\\n310 kW (421 hp)\\n]   \n",
       "\n",
       "      engine_size    gears    co_emissions manufacturer_colour     drivetrain cylinders   \n",
       "0             NaN      NaN             NaN                 NaN            NaN       NaN  \\\n",
       "1      [\\n1 cc\\n]  [\\n9\\n]  0 g/km (comb.)     Negro Obsidiana            NaN       NaN   \n",
       "2  [\\n1,991 cc\\n]  [\\n8\\n]             NaN  Mountaingrau magno  [\\n, 4WD, \\n]   [\\n4\\n]   \n",
       "\n",
       "                                    fuel_consumption comfort_&_convenience entertainment_&_media   \n",
       "0                                                NaN                   NaN                   NaN  \\\n",
       "1                                                NaN                   NaN                   NaN   \n",
       "2  [[8.4 l/100 km (comb.)], [10.9 l/100 km (city)...                   NaN                   NaN   \n",
       "\n",
       "  safety_&_security extras empty_weight model_code general_inspection last_service   \n",
       "0               NaN    NaN          NaN        NaN                NaN          NaN  \\\n",
       "1               NaN    NaN          NaN        NaN                NaN          NaN   \n",
       "2               NaN    NaN          NaN        NaN                NaN          NaN   \n",
       "\n",
       "  full_service_history non_smoker_vehicle emission_class emissions_sticker upholstery_colour   \n",
       "0                  NaN                NaN            NaN               NaN               NaN  \\\n",
       "1                  NaN                NaN            NaN               NaN               NaN   \n",
       "2                  NaN                NaN            NaN               NaN               NaN   \n",
       "\n",
       "  upholstery  production_date previous_owner other_fuel_types power_consumption   \n",
       "0        NaN              NaN            NaN              NaN               NaN  \\\n",
       "1        NaN              NaN            NaN              NaN               NaN   \n",
       "2        NaN              NaN            NaN              NaN               NaN   \n",
       "\n",
       "  energy_efficiency_class co_efficiency fuel_consumption_wltp co_emissions_wltp available_from   \n",
       "0                     NaN           NaN                   NaN               NaN            NaN  \\\n",
       "1                     NaN           NaN                   NaN               NaN            NaN   \n",
       "2                     NaN           NaN                   NaN               NaN            NaN   \n",
       "\n",
       "  taxi_or_rental_car availability last_timing_belt_change electric_range_wltp   \n",
       "0                NaN          NaN                     NaN                 NaN  \\\n",
       "1                NaN          NaN                     NaN                 NaN   \n",
       "2                NaN          NaN                     NaN                 NaN   \n",
       "\n",
       "  power_consumption_wltp battery_ownership  \n",
       "0                    NaN               NaN  \n",
       "1                    NaN               NaN  \n",
       "2                    NaN               NaN  "
      ]
     },
     "execution_count": 12,
     "metadata": {},
     "output_type": "execute_result"
    }
   ],
   "source": [
    "# # First Method\n",
    "\n",
    "from skimpy import clean_columns\n",
    "\n",
    "df = clean_columns(df)\n",
    "df.head(3)"
   ]
  },
  {
   "cell_type": "code",
   "execution_count": 13,
   "metadata": {},
   "outputs": [
    {
     "data": {
      "text/plain": [
       "Index(['make_model', 'short_description', 'make', 'model', 'location', 'price', 'body_type',\n",
       "       'type', 'doors', 'country_version', 'offer_number', 'warranty', 'mileage',\n",
       "       'first_registration', 'gearbox', 'fuel_type', 'colour', 'paint', 'desc', 'seller', 'seats',\n",
       "       'power', 'engine_size', 'gears', 'co_emissions', 'manufacturer_colour', 'drivetrain',\n",
       "       'cylinders', 'fuel_consumption', 'comfort_&_convenience', 'entertainment_&_media',\n",
       "       'safety_&_security', 'extras', 'empty_weight', 'model_code', 'general_inspection',\n",
       "       'last_service', 'full_service_history', 'non_smoker_vehicle', 'emission_class',\n",
       "       'emissions_sticker', 'upholstery_colour', 'upholstery', 'production_date', 'previous_owner',\n",
       "       'other_fuel_types', 'power_consumption', 'energy_efficiency_class', 'co_efficiency',\n",
       "       'fuel_consumption_wltp', 'co_emissions_wltp', 'available_from', 'taxi_or_rental_car',\n",
       "       'availability', 'last_timing_belt_change', 'electric_range_wltp', 'power_consumption_wltp',\n",
       "       'battery_ownership'],\n",
       "      dtype='object')"
      ]
     },
     "execution_count": 13,
     "metadata": {},
     "output_type": "execute_result"
    }
   ],
   "source": [
    "df.columns"
   ]
  },
  {
   "cell_type": "code",
   "execution_count": 14,
   "metadata": {},
   "outputs": [],
   "source": [
    "# from skimpy import skim\n",
    "\n",
    "# skim(df)"
   ]
  },
  {
   "cell_type": "code",
   "execution_count": 15,
   "metadata": {},
   "outputs": [],
   "source": [
    "# # Second Method\n",
    "\n",
    "# df[\"Comfort_Convenience\"] = df[\"\\nComfort & Convenience\\n\"]\n",
    "# df[\"Entertainment_Media\"] = df[\"\\nEntertainment & Media\\n\"]\n",
    "# df[\"Extras\"] = df[\"\\nExtras\\n\"]\n",
    "# df[\"Safety_Security\"] = df[\"\\nSafety & Security\\n\"]\n",
    "\n",
    "# drop_columns = [\"\\nComfort & Convenience\\n\", \"\\nEntertainment & Media\\n\", \"\\nExtras\\n\", \"\\nSafety & Security\\n\"]\n",
    "\n",
    "# df.drop(drop_columns, axis=1, inplace=True)"
   ]
  },
  {
   "cell_type": "code",
   "execution_count": 16,
   "metadata": {},
   "outputs": [],
   "source": [
    "# # Third Method\n",
    "\n",
    "# df.rename(columns={\"\\nComfort & Convenience\\n\": \"Comfort_Convenience\",\n",
    "#                    \"\\nEntertainment & Media\\n\":\"Entertainment_Media\",\n",
    "#                    \"\\nExtras\\n\":\"Extras\",\n",
    "#                    \"\\nSafety & Security\\n\":\"Safety_Security\"}, inplace=True)\n",
    "\n",
    "# df.head(3)"
   ]
  },
  {
   "cell_type": "code",
   "execution_count": 17,
   "metadata": {},
   "outputs": [
    {
     "name": "stdout",
     "output_type": "stream",
     "text": [
      "<class 'pandas.core.frame.DataFrame'>\n",
      "RangeIndex: 29480 entries, 0 to 29479\n",
      "Data columns (total 58 columns):\n",
      " #   Column                   Non-Null Count  Dtype  \n",
      "---  ------                   --------------  -----  \n",
      " 0   make_model               28630 non-null  object \n",
      " 1   short_description        28630 non-null  object \n",
      " 2   make                     28630 non-null  object \n",
      " 3   model                    28630 non-null  object \n",
      " 4   location                 28630 non-null  object \n",
      " 5   price                    28630 non-null  object \n",
      " 6   body_type                28630 non-null  object \n",
      " 7   type                     28630 non-null  object \n",
      " 8   doors                    28271 non-null  object \n",
      " 9   country_version          16889 non-null  object \n",
      " 10  offer_number             23100 non-null  object \n",
      " 11  warranty                 15784 non-null  object \n",
      " 12  mileage                  28629 non-null  object \n",
      " 13  first_registration       28628 non-null  object \n",
      " 14  gearbox                  28382 non-null  object \n",
      " 15  fuel_type                26843 non-null  object \n",
      " 16  colour                   26906 non-null  object \n",
      " 17  paint                    14495 non-null  object \n",
      " 18  desc                     28047 non-null  object \n",
      " 19  seller                   28630 non-null  object \n",
      " 20  seats                    25505 non-null  object \n",
      " 21  power                    28058 non-null  object \n",
      " 22  engine_size              27227 non-null  object \n",
      " 23  gears                    18954 non-null  object \n",
      " 24  co_emissions             18594 non-null  object \n",
      " 25  manufacturer_colour      21787 non-null  object \n",
      " 26  drivetrain               16893 non-null  object \n",
      " 27  cylinders                18852 non-null  object \n",
      " 28  fuel_consumption         23385 non-null  object \n",
      " 29  comfort_&_convenience    25433 non-null  object \n",
      " 30  entertainment_&_media    23644 non-null  object \n",
      " 31  safety_&_security        25415 non-null  object \n",
      " 32  extras                   23480 non-null  object \n",
      " 33  empty_weight             17758 non-null  object \n",
      " 34  model_code               8367 non-null   object \n",
      " 35  general_inspection       12254 non-null  object \n",
      " 36  last_service             2003 non-null   object \n",
      " 37  full_service_history     12565 non-null  object \n",
      " 38  non_smoker_vehicle       11594 non-null  object \n",
      " 39  emission_class           17859 non-null  object \n",
      " 40  emissions_sticker        9414 non-null   object \n",
      " 41  upholstery_colour        14569 non-null  object \n",
      " 42  upholstery               18610 non-null  object \n",
      " 43  production_date          5908 non-null   float64\n",
      " 44  previous_owner           14015 non-null  object \n",
      " 45  other_fuel_types         2313 non-null   object \n",
      " 46  power_consumption        515 non-null    object \n",
      " 47  energy_efficiency_class  7804 non-null   object \n",
      " 48  co_efficiency            7804 non-null   object \n",
      " 49  fuel_consumption_wltp    100 non-null    object \n",
      " 50  co_emissions_wltp        116 non-null    object \n",
      " 51  available_from           393 non-null    object \n",
      " 52  taxi_or_rental_car       422 non-null    object \n",
      " 53  availability             301 non-null    object \n",
      " 54  last_timing_belt_change  572 non-null    object \n",
      " 55  electric_range_wltp      16 non-null     object \n",
      " 56  power_consumption_wltp   16 non-null     object \n",
      " 57  battery_ownership        7 non-null      object \n",
      "dtypes: float64(1), object(57)\n",
      "memory usage: 13.0+ MB\n"
     ]
    }
   ],
   "source": [
    "df.info()"
   ]
  },
  {
   "cell_type": "code",
   "execution_count": 18,
   "metadata": {},
   "outputs": [
    {
     "data": {
      "text/plain": [
       "(29480, 58)"
      ]
     },
     "execution_count": 18,
     "metadata": {},
     "output_type": "execute_result"
    }
   ],
   "source": [
    "df.shape"
   ]
  },
  {
   "cell_type": "markdown",
   "metadata": {},
   "source": [
    "### The Examination of Missing Values:"
   ]
  },
  {
   "cell_type": "code",
   "execution_count": 19,
   "metadata": {},
   "outputs": [
    {
     "data": {
      "text/plain": [
       "make_model                   850\n",
       "short_description            850\n",
       "make                         850\n",
       "model                        850\n",
       "location                     850\n",
       "price                        850\n",
       "body_type                    850\n",
       "type                         850\n",
       "doors                       1209\n",
       "country_version            12591\n",
       "offer_number                6380\n",
       "warranty                   13696\n",
       "mileage                      851\n",
       "first_registration           852\n",
       "gearbox                     1098\n",
       "fuel_type                   2637\n",
       "colour                      2574\n",
       "paint                      14985\n",
       "desc                        1433\n",
       "seller                       850\n",
       "seats                       3975\n",
       "power                       1422\n",
       "engine_size                 2253\n",
       "gears                      10526\n",
       "co_emissions               10886\n",
       "manufacturer_colour         7693\n",
       "drivetrain                 12587\n",
       "cylinders                  10628\n",
       "fuel_consumption            6095\n",
       "comfort_&_convenience       4047\n",
       "entertainment_&_media       5836\n",
       "safety_&_security           4065\n",
       "extras                      6000\n",
       "empty_weight               11722\n",
       "model_code                 21113\n",
       "general_inspection         17226\n",
       "last_service               27477\n",
       "full_service_history       16915\n",
       "non_smoker_vehicle         17886\n",
       "emission_class             11621\n",
       "emissions_sticker          20066\n",
       "upholstery_colour          14911\n",
       "upholstery                 10870\n",
       "production_date            23572\n",
       "previous_owner             15465\n",
       "other_fuel_types           27167\n",
       "power_consumption          28965\n",
       "energy_efficiency_class    21676\n",
       "co_efficiency              21676\n",
       "fuel_consumption_wltp      29380\n",
       "co_emissions_wltp          29364\n",
       "available_from             29087\n",
       "taxi_or_rental_car         29058\n",
       "availability               29179\n",
       "last_timing_belt_change    28908\n",
       "electric_range_wltp        29464\n",
       "power_consumption_wltp     29464\n",
       "battery_ownership          29473\n",
       "dtype: int64"
      ]
     },
     "execution_count": 19,
     "metadata": {},
     "output_type": "execute_result"
    }
   ],
   "source": [
    "df.isnull().sum()"
   ]
  },
  {
   "cell_type": "code",
   "execution_count": 20,
   "metadata": {},
   "outputs": [
    {
     "data": {
      "text/plain": [
       "make_model                 2.88\n",
       "short_description          2.88\n",
       "make                       2.88\n",
       "model                      2.88\n",
       "location                   2.88\n",
       "price                      2.88\n",
       "body_type                  2.88\n",
       "type                       2.88\n",
       "doors                      4.10\n",
       "country_version           42.71\n",
       "offer_number              21.64\n",
       "warranty                  46.46\n",
       "mileage                    2.89\n",
       "first_registration         2.89\n",
       "gearbox                    3.72\n",
       "fuel_type                  8.95\n",
       "colour                     8.73\n",
       "paint                     50.83\n",
       "desc                       4.86\n",
       "seller                     2.88\n",
       "seats                     13.48\n",
       "power                      4.82\n",
       "engine_size                7.64\n",
       "gears                     35.71\n",
       "co_emissions              36.93\n",
       "manufacturer_colour       26.10\n",
       "drivetrain                42.70\n",
       "cylinders                 36.05\n",
       "fuel_consumption          20.68\n",
       "comfort_&_convenience     13.73\n",
       "entertainment_&_media     19.80\n",
       "safety_&_security         13.79\n",
       "extras                    20.35\n",
       "empty_weight              39.76\n",
       "model_code                71.62\n",
       "general_inspection        58.43\n",
       "last_service              93.21\n",
       "full_service_history      57.38\n",
       "non_smoker_vehicle        60.67\n",
       "emission_class            39.42\n",
       "emissions_sticker         68.07\n",
       "upholstery_colour         50.58\n",
       "upholstery                36.87\n",
       "production_date           79.96\n",
       "previous_owner            52.46\n",
       "other_fuel_types          92.15\n",
       "power_consumption         98.25\n",
       "energy_efficiency_class   73.53\n",
       "co_efficiency             73.53\n",
       "fuel_consumption_wltp     99.66\n",
       "co_emissions_wltp         99.61\n",
       "available_from            98.67\n",
       "taxi_or_rental_car        98.57\n",
       "availability              98.98\n",
       "last_timing_belt_change   98.06\n",
       "electric_range_wltp       99.95\n",
       "power_consumption_wltp    99.95\n",
       "battery_ownership         99.98\n",
       "dtype: float64"
      ]
     },
     "execution_count": 20,
     "metadata": {},
     "output_type": "execute_result"
    }
   ],
   "source": [
    "df.isnull().sum()*100 / df.shape[0]"
   ]
  },
  {
   "cell_type": "markdown",
   "metadata": {},
   "source": [
    "**Droping columns that have missing values more than %90.**"
   ]
  },
  {
   "cell_type": "code",
   "execution_count": 21,
   "metadata": {},
   "outputs": [],
   "source": [
    "def df_nans(df, limit):\n",
    "    missing = df.isnull().sum()*100 / df.shape[0]\n",
    "    return missing.loc[lambda x : x >= limit]\n",
    "\n",
    "def column_nans(serial):\n",
    "    # display percentage of nans in a Series\n",
    "    return serial.isnull().sum()*100 / serial.shape[0]"
   ]
  },
  {
   "cell_type": "code",
   "execution_count": 22,
   "metadata": {},
   "outputs": [
    {
     "data": {
      "text/plain": [
       "last_service              93.21\n",
       "other_fuel_types          92.15\n",
       "power_consumption         98.25\n",
       "fuel_consumption_wltp     99.66\n",
       "co_emissions_wltp         99.61\n",
       "available_from            98.67\n",
       "taxi_or_rental_car        98.57\n",
       "availability              98.98\n",
       "last_timing_belt_change   98.06\n",
       "electric_range_wltp       99.95\n",
       "power_consumption_wltp    99.95\n",
       "battery_ownership         99.98\n",
       "dtype: float64"
      ]
     },
     "execution_count": 22,
     "metadata": {},
     "output_type": "execute_result"
    }
   ],
   "source": [
    "df_nans(df, 80)"
   ]
  },
  {
   "cell_type": "markdown",
   "metadata": {},
   "source": [
    "**Let us check one of them:**"
   ]
  },
  {
   "cell_type": "code",
   "execution_count": 23,
   "metadata": {},
   "outputs": [
    {
     "data": {
      "text/plain": [
       "99.94572591587517"
      ]
     },
     "execution_count": 23,
     "metadata": {},
     "output_type": "execute_result"
    }
   ],
   "source": [
    "column_nans(df[\"power_consumption_wltp\"])"
   ]
  },
  {
   "cell_type": "markdown",
   "metadata": {},
   "source": [
    "**Let us assign the features having missing values more than 80% to an object** "
   ]
  },
  {
   "cell_type": "code",
   "execution_count": 24,
   "metadata": {},
   "outputs": [
    {
     "data": {
      "text/plain": [
       "Index(['last_service', 'other_fuel_types', 'power_consumption', 'fuel_consumption_wltp',\n",
       "       'co_emissions_wltp', 'available_from', 'taxi_or_rental_car', 'availability',\n",
       "       'last_timing_belt_change', 'electric_range_wltp', 'power_consumption_wltp',\n",
       "       'battery_ownership'],\n",
       "      dtype='object')"
      ]
     },
     "execution_count": 24,
     "metadata": {},
     "output_type": "execute_result"
    }
   ],
   "source": [
    "drop_columns = df_nans(df, 90).index\n",
    "drop_columns"
   ]
  },
  {
   "cell_type": "code",
   "execution_count": 25,
   "metadata": {},
   "outputs": [],
   "source": [
    "df.drop(drop_columns, axis=1, inplace=True)"
   ]
  },
  {
   "cell_type": "code",
   "execution_count": 26,
   "metadata": {},
   "outputs": [
    {
     "name": "stdout",
     "output_type": "stream",
     "text": [
      "<class 'pandas.core.frame.DataFrame'>\n",
      "RangeIndex: 29480 entries, 0 to 29479\n",
      "Data columns (total 46 columns):\n",
      " #   Column                   Non-Null Count  Dtype  \n",
      "---  ------                   --------------  -----  \n",
      " 0   make_model               28630 non-null  object \n",
      " 1   short_description        28630 non-null  object \n",
      " 2   make                     28630 non-null  object \n",
      " 3   model                    28630 non-null  object \n",
      " 4   location                 28630 non-null  object \n",
      " 5   price                    28630 non-null  object \n",
      " 6   body_type                28630 non-null  object \n",
      " 7   type                     28630 non-null  object \n",
      " 8   doors                    28271 non-null  object \n",
      " 9   country_version          16889 non-null  object \n",
      " 10  offer_number             23100 non-null  object \n",
      " 11  warranty                 15784 non-null  object \n",
      " 12  mileage                  28629 non-null  object \n",
      " 13  first_registration       28628 non-null  object \n",
      " 14  gearbox                  28382 non-null  object \n",
      " 15  fuel_type                26843 non-null  object \n",
      " 16  colour                   26906 non-null  object \n",
      " 17  paint                    14495 non-null  object \n",
      " 18  desc                     28047 non-null  object \n",
      " 19  seller                   28630 non-null  object \n",
      " 20  seats                    25505 non-null  object \n",
      " 21  power                    28058 non-null  object \n",
      " 22  engine_size              27227 non-null  object \n",
      " 23  gears                    18954 non-null  object \n",
      " 24  co_emissions             18594 non-null  object \n",
      " 25  manufacturer_colour      21787 non-null  object \n",
      " 26  drivetrain               16893 non-null  object \n",
      " 27  cylinders                18852 non-null  object \n",
      " 28  fuel_consumption         23385 non-null  object \n",
      " 29  comfort_&_convenience    25433 non-null  object \n",
      " 30  entertainment_&_media    23644 non-null  object \n",
      " 31  safety_&_security        25415 non-null  object \n",
      " 32  extras                   23480 non-null  object \n",
      " 33  empty_weight             17758 non-null  object \n",
      " 34  model_code               8367 non-null   object \n",
      " 35  general_inspection       12254 non-null  object \n",
      " 36  full_service_history     12565 non-null  object \n",
      " 37  non_smoker_vehicle       11594 non-null  object \n",
      " 38  emission_class           17859 non-null  object \n",
      " 39  emissions_sticker        9414 non-null   object \n",
      " 40  upholstery_colour        14569 non-null  object \n",
      " 41  upholstery               18610 non-null  object \n",
      " 42  production_date          5908 non-null   float64\n",
      " 43  previous_owner           14015 non-null  object \n",
      " 44  energy_efficiency_class  7804 non-null   object \n",
      " 45  co_efficiency            7804 non-null   object \n",
      "dtypes: float64(1), object(45)\n",
      "memory usage: 10.3+ MB\n"
     ]
    }
   ],
   "source": [
    "df.info()"
   ]
  },
  {
   "cell_type": "code",
   "execution_count": 27,
   "metadata": {},
   "outputs": [
    {
     "data": {
      "text/plain": [
       "(29480, 46)"
      ]
     },
     "execution_count": 27,
     "metadata": {},
     "output_type": "execute_result"
    }
   ],
   "source": [
    "df.shape"
   ]
  },
  {
   "cell_type": "markdown",
   "metadata": {},
   "source": [
    "### A Simple Example of Duplicated Values:"
   ]
  },
  {
   "cell_type": "code",
   "execution_count": 3,
   "metadata": {},
   "outputs": [
    {
     "data": {
      "text/html": [
       "<div>\n",
       "<style scoped>\n",
       "    .dataframe tbody tr th:only-of-type {\n",
       "        vertical-align: middle;\n",
       "    }\n",
       "\n",
       "    .dataframe tbody tr th {\n",
       "        vertical-align: top;\n",
       "    }\n",
       "\n",
       "    .dataframe thead th {\n",
       "        text-align: right;\n",
       "    }\n",
       "</style>\n",
       "<table border=\"1\" class=\"dataframe\">\n",
       "  <thead>\n",
       "    <tr style=\"text-align: right;\">\n",
       "      <th></th>\n",
       "      <th>Keyword</th>\n",
       "      <th>X</th>\n",
       "      <th>Y</th>\n",
       "    </tr>\n",
       "  </thead>\n",
       "  <tbody>\n",
       "    <tr>\n",
       "      <th>0</th>\n",
       "      <td>apply</td>\n",
       "      <td>[1, 2]</td>\n",
       "      <td>yy</td>\n",
       "    </tr>\n",
       "    <tr>\n",
       "      <th>1</th>\n",
       "      <td>apply</td>\n",
       "      <td>[1, 2]</td>\n",
       "      <td>yy</td>\n",
       "    </tr>\n",
       "    <tr>\n",
       "      <th>2</th>\n",
       "      <td>apply</td>\n",
       "      <td>xy</td>\n",
       "      <td>yx</td>\n",
       "    </tr>\n",
       "    <tr>\n",
       "      <th>3</th>\n",
       "      <td>terms</td>\n",
       "      <td>xx</td>\n",
       "      <td>ix</td>\n",
       "    </tr>\n",
       "    <tr>\n",
       "      <th>4</th>\n",
       "      <td>terms</td>\n",
       "      <td>yy</td>\n",
       "      <td>xi</td>\n",
       "    </tr>\n",
       "    <tr>\n",
       "      <th>5</th>\n",
       "      <td>apply</td>\n",
       "      <td>[1, 2]</td>\n",
       "      <td>yy</td>\n",
       "    </tr>\n",
       "  </tbody>\n",
       "</table>\n",
       "</div>"
      ],
      "text/plain": [
       "  Keyword       X   Y\n",
       "0   apply  [1, 2]  yy\n",
       "1   apply  [1, 2]  yy\n",
       "2   apply      xy  yx\n",
       "3   terms      xx  ix\n",
       "4   terms      yy  xi\n",
       "5   apply  [1, 2]  yy"
      ]
     },
     "execution_count": 3,
     "metadata": {},
     "output_type": "execute_result"
    }
   ],
   "source": [
    "dfx = pd.DataFrame({'Keyword': {0: 'apply', 1: 'apply', 2: 'apply', 3: 'terms', 4: 'terms', 5: \"apply\"},\n",
    " 'X': {0: [1, 2], 1: [1, 2], 2: 'xy', 3: 'xx', 4: 'yy', 5: [1,2]},\n",
    " 'Y': {0: 'yy', 1: 'yy', 2: 'yx', 3: 'ix', 4: 'xi', 5:'yy'}})\n",
    "\n",
    "dfx"
   ]
  },
  {
   "cell_type": "code",
   "execution_count": 5,
   "metadata": {},
   "outputs": [],
   "source": [
    "# dfx.duplicated()\n",
    "# dfx.drop_duplicates()  \n",
    "\n",
    "# error!"
   ]
  },
  {
   "cell_type": "code",
   "execution_count": 6,
   "metadata": {},
   "outputs": [
    {
     "data": {
      "text/plain": [
       "0    False\n",
       "1     True\n",
       "2    False\n",
       "3    False\n",
       "4    False\n",
       "5     True\n",
       "dtype: bool"
      ]
     },
     "execution_count": 6,
     "metadata": {},
     "output_type": "execute_result"
    }
   ],
   "source": [
    "dfx.astype(str).duplicated()"
   ]
  },
  {
   "cell_type": "code",
   "execution_count": 7,
   "metadata": {},
   "outputs": [
    {
     "data": {
      "text/plain": [
       "2"
      ]
     },
     "execution_count": 7,
     "metadata": {},
     "output_type": "execute_result"
    }
   ],
   "source": [
    "dfx.astype(str).duplicated().sum()"
   ]
  },
  {
   "cell_type": "code",
   "execution_count": 8,
   "metadata": {},
   "outputs": [
    {
     "data": {
      "text/html": [
       "<div>\n",
       "<style scoped>\n",
       "    .dataframe tbody tr th:only-of-type {\n",
       "        vertical-align: middle;\n",
       "    }\n",
       "\n",
       "    .dataframe tbody tr th {\n",
       "        vertical-align: top;\n",
       "    }\n",
       "\n",
       "    .dataframe thead th {\n",
       "        text-align: right;\n",
       "    }\n",
       "</style>\n",
       "<table border=\"1\" class=\"dataframe\">\n",
       "  <thead>\n",
       "    <tr style=\"text-align: right;\">\n",
       "      <th></th>\n",
       "      <th>Keyword</th>\n",
       "      <th>X</th>\n",
       "      <th>Y</th>\n",
       "    </tr>\n",
       "  </thead>\n",
       "  <tbody>\n",
       "    <tr>\n",
       "      <th>0</th>\n",
       "      <td>apply</td>\n",
       "      <td>[1, 2]</td>\n",
       "      <td>yy</td>\n",
       "    </tr>\n",
       "    <tr>\n",
       "      <th>1</th>\n",
       "      <td>apply</td>\n",
       "      <td>[1, 2]</td>\n",
       "      <td>yy</td>\n",
       "    </tr>\n",
       "    <tr>\n",
       "      <th>5</th>\n",
       "      <td>apply</td>\n",
       "      <td>[1, 2]</td>\n",
       "      <td>yy</td>\n",
       "    </tr>\n",
       "  </tbody>\n",
       "</table>\n",
       "</div>"
      ],
      "text/plain": [
       "  Keyword       X   Y\n",
       "0   apply  [1, 2]  yy\n",
       "1   apply  [1, 2]  yy\n",
       "5   apply  [1, 2]  yy"
      ]
     },
     "execution_count": 8,
     "metadata": {},
     "output_type": "execute_result"
    }
   ],
   "source": [
    "dfx[dfx.astype(str).duplicated(keep=False)]  "
   ]
  },
  {
   "cell_type": "code",
   "execution_count": null,
   "metadata": {},
   "outputs": [],
   "source": [
    "# df.duplicated()\n",
    "\n",
    "# Gives TypeError: unhashable type: 'list'\n",
    "\n",
    "df.astype(str).duplicated(keep=False).sum()"
   ]
  },
  {
   "cell_type": "code",
   "execution_count": 14,
   "metadata": {},
   "outputs": [
    {
     "data": {
      "text/html": [
       "<div>\n",
       "<style scoped>\n",
       "    .dataframe tbody tr th:only-of-type {\n",
       "        vertical-align: middle;\n",
       "    }\n",
       "\n",
       "    .dataframe tbody tr th {\n",
       "        vertical-align: top;\n",
       "    }\n",
       "\n",
       "    .dataframe thead th {\n",
       "        text-align: right;\n",
       "    }\n",
       "</style>\n",
       "<table border=\"1\" class=\"dataframe\">\n",
       "  <thead>\n",
       "    <tr style=\"text-align: right;\">\n",
       "      <th></th>\n",
       "      <th>Keyword</th>\n",
       "      <th>X</th>\n",
       "      <th>Y</th>\n",
       "    </tr>\n",
       "  </thead>\n",
       "  <tbody>\n",
       "    <tr>\n",
       "      <th>0</th>\n",
       "      <td>apply</td>\n",
       "      <td>[1, 2]</td>\n",
       "      <td>yy</td>\n",
       "    </tr>\n",
       "    <tr>\n",
       "      <th>2</th>\n",
       "      <td>apply</td>\n",
       "      <td>xy</td>\n",
       "      <td>yx</td>\n",
       "    </tr>\n",
       "    <tr>\n",
       "      <th>3</th>\n",
       "      <td>terms</td>\n",
       "      <td>xx</td>\n",
       "      <td>ix</td>\n",
       "    </tr>\n",
       "    <tr>\n",
       "      <th>4</th>\n",
       "      <td>terms</td>\n",
       "      <td>yy</td>\n",
       "      <td>xi</td>\n",
       "    </tr>\n",
       "  </tbody>\n",
       "</table>\n",
       "</div>"
      ],
      "text/plain": [
       "  Keyword       X   Y\n",
       "0   apply  [1, 2]  yy\n",
       "2   apply      xy  yx\n",
       "3   terms      xx  ix\n",
       "4   terms      yy  xi"
      ]
     },
     "execution_count": 14,
     "metadata": {},
     "output_type": "execute_result"
    }
   ],
   "source": [
    "dfx.loc[dfx.astype(str).drop_duplicates().index]"
   ]
  },
  {
   "cell_type": "markdown",
   "metadata": {},
   "source": [
    "### Let's go back to our Auto Scout data"
   ]
  },
  {
   "cell_type": "code",
   "execution_count": 13,
   "metadata": {
    "scrolled": true
   },
   "outputs": [
    {
     "data": {
      "text/html": [
       "<div>\n",
       "<style scoped>\n",
       "    .dataframe tbody tr th:only-of-type {\n",
       "        vertical-align: middle;\n",
       "    }\n",
       "\n",
       "    .dataframe tbody tr th {\n",
       "        vertical-align: top;\n",
       "    }\n",
       "\n",
       "    .dataframe thead th {\n",
       "        text-align: right;\n",
       "    }\n",
       "</style>\n",
       "<table border=\"1\" class=\"dataframe\">\n",
       "  <thead>\n",
       "    <tr style=\"text-align: right;\">\n",
       "      <th></th>\n",
       "      <th>make_model</th>\n",
       "      <th>short_description</th>\n",
       "      <th>make</th>\n",
       "      <th>model</th>\n",
       "      <th>location</th>\n",
       "      <th>price</th>\n",
       "      <th>body_type</th>\n",
       "      <th>type</th>\n",
       "      <th>doors</th>\n",
       "      <th>country_version</th>\n",
       "      <th>offer_number</th>\n",
       "      <th>warranty</th>\n",
       "      <th>mileage</th>\n",
       "      <th>first_registration</th>\n",
       "      <th>gearbox</th>\n",
       "      <th>fuel_type</th>\n",
       "      <th>colour</th>\n",
       "      <th>paint</th>\n",
       "      <th>desc</th>\n",
       "      <th>seller</th>\n",
       "      <th>seats</th>\n",
       "      <th>power</th>\n",
       "      <th>engine_size</th>\n",
       "      <th>gears</th>\n",
       "      <th>co_emissions</th>\n",
       "      <th>manufacturer_colour</th>\n",
       "      <th>drivetrain</th>\n",
       "      <th>cylinders</th>\n",
       "      <th>fuel_consumption</th>\n",
       "      <th>comfort_&amp;_convenience</th>\n",
       "      <th>entertainment_&amp;_media</th>\n",
       "      <th>safety_&amp;_security</th>\n",
       "      <th>extras</th>\n",
       "      <th>empty_weight</th>\n",
       "      <th>model_code</th>\n",
       "      <th>general_inspection</th>\n",
       "      <th>last_service</th>\n",
       "      <th>full_service_history</th>\n",
       "      <th>non_smoker_vehicle</th>\n",
       "      <th>emission_class</th>\n",
       "      <th>emissions_sticker</th>\n",
       "      <th>upholstery_colour</th>\n",
       "      <th>upholstery</th>\n",
       "      <th>production_date</th>\n",
       "      <th>previous_owner</th>\n",
       "      <th>other_fuel_types</th>\n",
       "      <th>power_consumption</th>\n",
       "      <th>energy_efficiency_class</th>\n",
       "      <th>co_efficiency</th>\n",
       "      <th>fuel_consumption_wltp</th>\n",
       "      <th>co_emissions_wltp</th>\n",
       "      <th>available_from</th>\n",
       "      <th>taxi_or_rental_car</th>\n",
       "      <th>availability</th>\n",
       "      <th>last_timing_belt_change</th>\n",
       "      <th>electric_range_wltp</th>\n",
       "      <th>power_consumption_wltp</th>\n",
       "      <th>battery_ownership</th>\n",
       "    </tr>\n",
       "  </thead>\n",
       "  <tbody>\n",
       "    <tr>\n",
       "      <th>579</th>\n",
       "      <td>Mercedes-Benz SLK 200</td>\n",
       "      <td>Kompressor Aut. Cabrio Final Edition</td>\n",
       "      <td>\\nMercedes-Benz\\n</td>\n",
       "      <td>[\\n, SLK 200 ,\\n]</td>\n",
       "      <td>Marienborner Str.  49,  55128 Mainz, DE</td>\n",
       "      <td>€ 15,990.-</td>\n",
       "      <td>[\\n, Convertible, \\n]</td>\n",
       "      <td>[\\n, Used, \\n]</td>\n",
       "      <td>[\\n, 2, \\n]</td>\n",
       "      <td>[\\n, Germany, \\n]</td>\n",
       "      <td>NaN</td>\n",
       "      <td>[\\n, Yes, \\n]</td>\n",
       "      <td>39,000 km</td>\n",
       "      <td>05/2003</td>\n",
       "      <td>[\\nAutomatic\\n]</td>\n",
       "      <td>Regular/Benzine 91</td>\n",
       "      <td>Silver</td>\n",
       "      <td>Metallic</td>\n",
       "      <td>[Zum Verkauf steht ein gepflegter Mercedes-Ben...</td>\n",
       "      <td>Dealer</td>\n",
       "      <td>[\\n, 2, \\n]</td>\n",
       "      <td>[\\n120 kW (163 hp)\\n]</td>\n",
       "      <td>[\\n1,998 cc\\n]</td>\n",
       "      <td>NaN</td>\n",
       "      <td>235 g/km (comb.)</td>\n",
       "      <td>Brillantsilber metallic</td>\n",
       "      <td>NaN</td>\n",
       "      <td>NaN</td>\n",
       "      <td>[[9.6 l/100 km (comb.)], [14.4 l/100 km (city)...</td>\n",
       "      <td>[Air conditioning, Armrest, Cruise control, El...</td>\n",
       "      <td>[CD player, Radio]</td>\n",
       "      <td>[Alarm system, Central door lock, Driver-side ...</td>\n",
       "      <td>[Alloy wheels, Sport seats]</td>\n",
       "      <td>NaN</td>\n",
       "      <td>NaN</td>\n",
       "      <td>New</td>\n",
       "      <td>NaN</td>\n",
       "      <td>NaN</td>\n",
       "      <td>Yes</td>\n",
       "      <td>Euro 4</td>\n",
       "      <td>4 (Green)</td>\n",
       "      <td>Black</td>\n",
       "      <td>Full leather</td>\n",
       "      <td>NaN</td>\n",
       "      <td>[[39,000 km, 05/2003], 1]</td>\n",
       "      <td>NaN</td>\n",
       "      <td>NaN</td>\n",
       "      <td>NaN</td>\n",
       "      <td>NaN</td>\n",
       "      <td>NaN</td>\n",
       "      <td>NaN</td>\n",
       "      <td>NaN</td>\n",
       "      <td>NaN</td>\n",
       "      <td>NaN</td>\n",
       "      <td>NaN</td>\n",
       "      <td>NaN</td>\n",
       "      <td>NaN</td>\n",
       "      <td>NaN</td>\n",
       "    </tr>\n",
       "    <tr>\n",
       "      <th>580</th>\n",
       "      <td>Mercedes-Benz SLK 200</td>\n",
       "      <td>Kompressor Aut. Cabrio Final Edition</td>\n",
       "      <td>\\nMercedes-Benz\\n</td>\n",
       "      <td>[\\n, SLK 200 ,\\n]</td>\n",
       "      <td>Marienborner Str.  49,  55128 Mainz, DE</td>\n",
       "      <td>€ 15,990.-</td>\n",
       "      <td>[\\n, Convertible, \\n]</td>\n",
       "      <td>[\\n, Used, \\n]</td>\n",
       "      <td>[\\n, 2, \\n]</td>\n",
       "      <td>[\\n, Germany, \\n]</td>\n",
       "      <td>NaN</td>\n",
       "      <td>[\\n, Yes, \\n]</td>\n",
       "      <td>39,000 km</td>\n",
       "      <td>05/2003</td>\n",
       "      <td>[\\nAutomatic\\n]</td>\n",
       "      <td>Regular/Benzine 91</td>\n",
       "      <td>Silver</td>\n",
       "      <td>Metallic</td>\n",
       "      <td>[Zum Verkauf steht ein gepflegter Mercedes-Ben...</td>\n",
       "      <td>Dealer</td>\n",
       "      <td>[\\n, 2, \\n]</td>\n",
       "      <td>[\\n120 kW (163 hp)\\n]</td>\n",
       "      <td>[\\n1,998 cc\\n]</td>\n",
       "      <td>NaN</td>\n",
       "      <td>235 g/km (comb.)</td>\n",
       "      <td>Brillantsilber metallic</td>\n",
       "      <td>NaN</td>\n",
       "      <td>NaN</td>\n",
       "      <td>[[9.6 l/100 km (comb.)], [14.4 l/100 km (city)...</td>\n",
       "      <td>[Air conditioning, Armrest, Cruise control, El...</td>\n",
       "      <td>[CD player, Radio]</td>\n",
       "      <td>[Alarm system, Central door lock, Driver-side ...</td>\n",
       "      <td>[Alloy wheels, Sport seats]</td>\n",
       "      <td>NaN</td>\n",
       "      <td>NaN</td>\n",
       "      <td>New</td>\n",
       "      <td>NaN</td>\n",
       "      <td>NaN</td>\n",
       "      <td>Yes</td>\n",
       "      <td>Euro 4</td>\n",
       "      <td>4 (Green)</td>\n",
       "      <td>Black</td>\n",
       "      <td>Full leather</td>\n",
       "      <td>NaN</td>\n",
       "      <td>[[39,000 km, 05/2003], 1]</td>\n",
       "      <td>NaN</td>\n",
       "      <td>NaN</td>\n",
       "      <td>NaN</td>\n",
       "      <td>NaN</td>\n",
       "      <td>NaN</td>\n",
       "      <td>NaN</td>\n",
       "      <td>NaN</td>\n",
       "      <td>NaN</td>\n",
       "      <td>NaN</td>\n",
       "      <td>NaN</td>\n",
       "      <td>NaN</td>\n",
       "      <td>NaN</td>\n",
       "      <td>NaN</td>\n",
       "    </tr>\n",
       "    <tr>\n",
       "      <th>610</th>\n",
       "      <td>Mercedes-Benz G 500</td>\n",
       "      <td>Cabrio LORINSER UMBAU/AHK/ELEKTR. SITZE</td>\n",
       "      <td>\\nMercedes-Benz\\n</td>\n",
       "      <td>[\\n, G 500 ,\\n]</td>\n",
       "      <td>Alte Bundesstr. 45,  71332 Waiblingen, DE</td>\n",
       "      <td>€ 209,000.-</td>\n",
       "      <td>[\\n, Convertible, \\n]</td>\n",
       "      <td>[\\n, Used, \\n]</td>\n",
       "      <td>[\\n, 3, \\n]</td>\n",
       "      <td>NaN</td>\n",
       "      <td>[\\n, 29474, \\n]</td>\n",
       "      <td>NaN</td>\n",
       "      <td>172,000 km</td>\n",
       "      <td>02/1999</td>\n",
       "      <td>[\\nAutomatic\\n]</td>\n",
       "      <td>Regular/Benzine 91 (Particle filter)</td>\n",
       "      <td>Black</td>\n",
       "      <td>Metallic</td>\n",
       "      <td>[unfallfrei, scheckheftgepflegt, Nichtraucher,...</td>\n",
       "      <td>Dealer</td>\n",
       "      <td>[\\n, 5, \\n]</td>\n",
       "      <td>[\\n218 kW (296 hp)\\n]</td>\n",
       "      <td>[\\n4,996 cc\\n]</td>\n",
       "      <td>NaN</td>\n",
       "      <td>400 g/km (comb.)</td>\n",
       "      <td>Schwarz obsidianschwarz metall</td>\n",
       "      <td>[\\n, 4WD, \\n]</td>\n",
       "      <td>NaN</td>\n",
       "      <td>[[16.7 l/100 km (comb.)], [21.8 l/100 km (city...</td>\n",
       "      <td>[Air conditioning, Armrest, Cruise control, El...</td>\n",
       "      <td>[On-board computer, Radio]</td>\n",
       "      <td>[Central door lock, Driver-side airbag, Fog li...</td>\n",
       "      <td>[Alloy wheels, Trailer hitch, Tuned car]</td>\n",
       "      <td>[\\n2,350 kg\\n]</td>\n",
       "      <td>[\\n, 0710/403, \\n]</td>\n",
       "      <td>New</td>\n",
       "      <td>NaN</td>\n",
       "      <td>Yes</td>\n",
       "      <td>Yes</td>\n",
       "      <td>Euro 4</td>\n",
       "      <td>4 (Green)</td>\n",
       "      <td>Black</td>\n",
       "      <td>Full leather</td>\n",
       "      <td>1999.00</td>\n",
       "      <td>[[172,000 km, 02/1999], 2]</td>\n",
       "      <td>NaN</td>\n",
       "      <td>NaN</td>\n",
       "      <td>G</td>\n",
       "      <td>Calculated on basis of measured CO₂-emissions ...</td>\n",
       "      <td>NaN</td>\n",
       "      <td>NaN</td>\n",
       "      <td>NaN</td>\n",
       "      <td>NaN</td>\n",
       "      <td>NaN</td>\n",
       "      <td>NaN</td>\n",
       "      <td>NaN</td>\n",
       "      <td>NaN</td>\n",
       "      <td>NaN</td>\n",
       "    </tr>\n",
       "    <tr>\n",
       "      <th>613</th>\n",
       "      <td>Mercedes-Benz G 500</td>\n",
       "      <td>Cabrio LORINSER UMBAU/AHK/ELEKTR. SITZE</td>\n",
       "      <td>\\nMercedes-Benz\\n</td>\n",
       "      <td>[\\n, G 500 ,\\n]</td>\n",
       "      <td>Alte Bundesstr. 45,  71332 Waiblingen, DE</td>\n",
       "      <td>€ 209,000.-</td>\n",
       "      <td>[\\n, Convertible, \\n]</td>\n",
       "      <td>[\\n, Used, \\n]</td>\n",
       "      <td>[\\n, 3, \\n]</td>\n",
       "      <td>NaN</td>\n",
       "      <td>[\\n, 29474, \\n]</td>\n",
       "      <td>NaN</td>\n",
       "      <td>172,000 km</td>\n",
       "      <td>02/1999</td>\n",
       "      <td>[\\nAutomatic\\n]</td>\n",
       "      <td>Regular/Benzine 91 (Particle filter)</td>\n",
       "      <td>Black</td>\n",
       "      <td>Metallic</td>\n",
       "      <td>[unfallfrei, scheckheftgepflegt, Nichtraucher,...</td>\n",
       "      <td>Dealer</td>\n",
       "      <td>[\\n, 5, \\n]</td>\n",
       "      <td>[\\n218 kW (296 hp)\\n]</td>\n",
       "      <td>[\\n4,996 cc\\n]</td>\n",
       "      <td>NaN</td>\n",
       "      <td>400 g/km (comb.)</td>\n",
       "      <td>Schwarz obsidianschwarz metall</td>\n",
       "      <td>[\\n, 4WD, \\n]</td>\n",
       "      <td>NaN</td>\n",
       "      <td>[[16.7 l/100 km (comb.)], [21.8 l/100 km (city...</td>\n",
       "      <td>[Air conditioning, Armrest, Cruise control, El...</td>\n",
       "      <td>[On-board computer, Radio]</td>\n",
       "      <td>[Central door lock, Driver-side airbag, Fog li...</td>\n",
       "      <td>[Alloy wheels, Trailer hitch, Tuned car]</td>\n",
       "      <td>[\\n2,350 kg\\n]</td>\n",
       "      <td>[\\n, 0710/403, \\n]</td>\n",
       "      <td>New</td>\n",
       "      <td>NaN</td>\n",
       "      <td>Yes</td>\n",
       "      <td>Yes</td>\n",
       "      <td>Euro 4</td>\n",
       "      <td>4 (Green)</td>\n",
       "      <td>Black</td>\n",
       "      <td>Full leather</td>\n",
       "      <td>1999.00</td>\n",
       "      <td>[[172,000 km, 02/1999], 2]</td>\n",
       "      <td>NaN</td>\n",
       "      <td>NaN</td>\n",
       "      <td>G</td>\n",
       "      <td>Calculated on basis of measured CO₂-emissions ...</td>\n",
       "      <td>NaN</td>\n",
       "      <td>NaN</td>\n",
       "      <td>NaN</td>\n",
       "      <td>NaN</td>\n",
       "      <td>NaN</td>\n",
       "      <td>NaN</td>\n",
       "      <td>NaN</td>\n",
       "      <td>NaN</td>\n",
       "      <td>NaN</td>\n",
       "    </tr>\n",
       "    <tr>\n",
       "      <th>839</th>\n",
       "      <td>Mercedes-Benz CLA 45 AMG</td>\n",
       "      <td>4Matic*KAMERA*NAVI*LED*DESIGNO*SHZ*</td>\n",
       "      <td>\\nMercedes-Benz\\n</td>\n",
       "      <td>[\\n, CLA 45 AMG ,\\n]</td>\n",
       "      <td>Aidlinger Straße 16 - 18,  71069 Sindelfingen-...</td>\n",
       "      <td>€ 33,890.-</td>\n",
       "      <td>[\\n, Coupe, \\n]</td>\n",
       "      <td>[\\n, Used, \\n]</td>\n",
       "      <td>[\\n, 4, \\n]</td>\n",
       "      <td>[\\n, Germany, \\n]</td>\n",
       "      <td>[\\n, M-174, \\n]</td>\n",
       "      <td>[\\n, Yes, \\n]</td>\n",
       "      <td>76,900 km</td>\n",
       "      <td>08/2016</td>\n",
       "      <td>[\\nAutomatic\\n]</td>\n",
       "      <td>Regular/Benzine 91</td>\n",
       "      <td>White</td>\n",
       "      <td>NaN</td>\n",
       "      <td>[Sonderausstattung:, LED-Scheinwerfer, Navigat...</td>\n",
       "      <td>Dealer</td>\n",
       "      <td>[\\n, 5, \\n]</td>\n",
       "      <td>[\\n280 kW (381 hp)\\n]</td>\n",
       "      <td>[\\n1,991 cc\\n]</td>\n",
       "      <td>NaN</td>\n",
       "      <td>162 g/km (comb.)</td>\n",
       "      <td>CALCITWEISS</td>\n",
       "      <td>[\\n, 4WD, \\n]</td>\n",
       "      <td>NaN</td>\n",
       "      <td>[[6.9 l/100 km (comb.)], [9.2 l/100 km (city)]...</td>\n",
       "      <td>[Air conditioning, Armrest, Automatic climate ...</td>\n",
       "      <td>[Bluetooth, CD player, Hands-free equipment, O...</td>\n",
       "      <td>[ABS, Adaptive Cruise Control, Blind spot moni...</td>\n",
       "      <td>[Alloy wheels, Ambient lighting, Automatically...</td>\n",
       "      <td>NaN</td>\n",
       "      <td>NaN</td>\n",
       "      <td>New</td>\n",
       "      <td>NaN</td>\n",
       "      <td>Yes</td>\n",
       "      <td>Yes</td>\n",
       "      <td>Euro 6</td>\n",
       "      <td>4 (Green)</td>\n",
       "      <td>Black</td>\n",
       "      <td>alcantara</td>\n",
       "      <td>NaN</td>\n",
       "      <td>[[76,900 km, 08/2016], 2]</td>\n",
       "      <td>NaN</td>\n",
       "      <td>NaN</td>\n",
       "      <td>NaN</td>\n",
       "      <td>NaN</td>\n",
       "      <td>NaN</td>\n",
       "      <td>NaN</td>\n",
       "      <td>NaN</td>\n",
       "      <td>NaN</td>\n",
       "      <td>NaN</td>\n",
       "      <td>NaN</td>\n",
       "      <td>NaN</td>\n",
       "      <td>NaN</td>\n",
       "      <td>NaN</td>\n",
       "    </tr>\n",
       "    <tr>\n",
       "      <th>...</th>\n",
       "      <td>...</td>\n",
       "      <td>...</td>\n",
       "      <td>...</td>\n",
       "      <td>...</td>\n",
       "      <td>...</td>\n",
       "      <td>...</td>\n",
       "      <td>...</td>\n",
       "      <td>...</td>\n",
       "      <td>...</td>\n",
       "      <td>...</td>\n",
       "      <td>...</td>\n",
       "      <td>...</td>\n",
       "      <td>...</td>\n",
       "      <td>...</td>\n",
       "      <td>...</td>\n",
       "      <td>...</td>\n",
       "      <td>...</td>\n",
       "      <td>...</td>\n",
       "      <td>...</td>\n",
       "      <td>...</td>\n",
       "      <td>...</td>\n",
       "      <td>...</td>\n",
       "      <td>...</td>\n",
       "      <td>...</td>\n",
       "      <td>...</td>\n",
       "      <td>...</td>\n",
       "      <td>...</td>\n",
       "      <td>...</td>\n",
       "      <td>...</td>\n",
       "      <td>...</td>\n",
       "      <td>...</td>\n",
       "      <td>...</td>\n",
       "      <td>...</td>\n",
       "      <td>...</td>\n",
       "      <td>...</td>\n",
       "      <td>...</td>\n",
       "      <td>...</td>\n",
       "      <td>...</td>\n",
       "      <td>...</td>\n",
       "      <td>...</td>\n",
       "      <td>...</td>\n",
       "      <td>...</td>\n",
       "      <td>...</td>\n",
       "      <td>...</td>\n",
       "      <td>...</td>\n",
       "      <td>...</td>\n",
       "      <td>...</td>\n",
       "      <td>...</td>\n",
       "      <td>...</td>\n",
       "      <td>...</td>\n",
       "      <td>...</td>\n",
       "      <td>...</td>\n",
       "      <td>...</td>\n",
       "      <td>...</td>\n",
       "      <td>...</td>\n",
       "      <td>...</td>\n",
       "      <td>...</td>\n",
       "      <td>...</td>\n",
       "    </tr>\n",
       "    <tr>\n",
       "      <th>29441</th>\n",
       "      <td>Volvo V40</td>\n",
       "      <td>D3 150ch R-Design Geartronic</td>\n",
       "      <td>\\nVolvo\\n</td>\n",
       "      <td>[\\n, V40 ,\\n]</td>\n",
       "      <td>19 rue des Alliés,  57050 Metz, FR</td>\n",
       "      <td>€ 18,999.-</td>\n",
       "      <td>[\\n, Sedan, \\n]</td>\n",
       "      <td>[\\n, Used, \\n]</td>\n",
       "      <td>[\\n, 5, \\n]</td>\n",
       "      <td>NaN</td>\n",
       "      <td>[\\n, 1380, \\n]</td>\n",
       "      <td>[\\n, 12 months, \\n]</td>\n",
       "      <td>93,257 km</td>\n",
       "      <td>05/2018</td>\n",
       "      <td>[\\nAutomatic\\n]</td>\n",
       "      <td>Diesel</td>\n",
       "      <td>NaN</td>\n",
       "      <td>NaN</td>\n",
       "      <td>[Gris Osmium;Préparation pour la caméra de rec...</td>\n",
       "      <td>Dealer</td>\n",
       "      <td>[\\n, 5, \\n]</td>\n",
       "      <td>[\\n112 kW (152 hp)\\n]</td>\n",
       "      <td>[\\n1,969 cc\\n]</td>\n",
       "      <td>NaN</td>\n",
       "      <td>108 g/km (comb.)</td>\n",
       "      <td>Gris Osmium</td>\n",
       "      <td>NaN</td>\n",
       "      <td>NaN</td>\n",
       "      <td>NaN</td>\n",
       "      <td>[Armrest, Automatic climate control, 2 zones, ...</td>\n",
       "      <td>NaN</td>\n",
       "      <td>[ABS, Driver-side airbag, Emergency brake assi...</td>\n",
       "      <td>[Emergency tyre]</td>\n",
       "      <td>NaN</td>\n",
       "      <td>NaN</td>\n",
       "      <td>NaN</td>\n",
       "      <td>NaN</td>\n",
       "      <td>NaN</td>\n",
       "      <td>NaN</td>\n",
       "      <td>NaN</td>\n",
       "      <td>NaN</td>\n",
       "      <td>NaN</td>\n",
       "      <td>NaN</td>\n",
       "      <td>NaN</td>\n",
       "      <td>NaN</td>\n",
       "      <td>NaN</td>\n",
       "      <td>NaN</td>\n",
       "      <td>NaN</td>\n",
       "      <td>NaN</td>\n",
       "      <td>NaN</td>\n",
       "      <td>NaN</td>\n",
       "      <td>NaN</td>\n",
       "      <td>NaN</td>\n",
       "      <td>NaN</td>\n",
       "      <td>NaN</td>\n",
       "      <td>NaN</td>\n",
       "      <td>NaN</td>\n",
       "      <td>NaN</td>\n",
       "    </tr>\n",
       "    <tr>\n",
       "      <th>29445</th>\n",
       "      <td>NaN</td>\n",
       "      <td>NaN</td>\n",
       "      <td>NaN</td>\n",
       "      <td>NaN</td>\n",
       "      <td>NaN</td>\n",
       "      <td>NaN</td>\n",
       "      <td>NaN</td>\n",
       "      <td>NaN</td>\n",
       "      <td>NaN</td>\n",
       "      <td>NaN</td>\n",
       "      <td>NaN</td>\n",
       "      <td>NaN</td>\n",
       "      <td>NaN</td>\n",
       "      <td>NaN</td>\n",
       "      <td>NaN</td>\n",
       "      <td>NaN</td>\n",
       "      <td>NaN</td>\n",
       "      <td>NaN</td>\n",
       "      <td>NaN</td>\n",
       "      <td>NaN</td>\n",
       "      <td>NaN</td>\n",
       "      <td>NaN</td>\n",
       "      <td>NaN</td>\n",
       "      <td>NaN</td>\n",
       "      <td>NaN</td>\n",
       "      <td>NaN</td>\n",
       "      <td>NaN</td>\n",
       "      <td>NaN</td>\n",
       "      <td>NaN</td>\n",
       "      <td>NaN</td>\n",
       "      <td>NaN</td>\n",
       "      <td>NaN</td>\n",
       "      <td>NaN</td>\n",
       "      <td>NaN</td>\n",
       "      <td>NaN</td>\n",
       "      <td>NaN</td>\n",
       "      <td>NaN</td>\n",
       "      <td>NaN</td>\n",
       "      <td>NaN</td>\n",
       "      <td>NaN</td>\n",
       "      <td>NaN</td>\n",
       "      <td>NaN</td>\n",
       "      <td>NaN</td>\n",
       "      <td>NaN</td>\n",
       "      <td>NaN</td>\n",
       "      <td>NaN</td>\n",
       "      <td>NaN</td>\n",
       "      <td>NaN</td>\n",
       "      <td>NaN</td>\n",
       "      <td>NaN</td>\n",
       "      <td>NaN</td>\n",
       "      <td>NaN</td>\n",
       "      <td>NaN</td>\n",
       "      <td>NaN</td>\n",
       "      <td>NaN</td>\n",
       "      <td>NaN</td>\n",
       "      <td>NaN</td>\n",
       "      <td>NaN</td>\n",
       "    </tr>\n",
       "    <tr>\n",
       "      <th>29451</th>\n",
       "      <td>NaN</td>\n",
       "      <td>NaN</td>\n",
       "      <td>NaN</td>\n",
       "      <td>NaN</td>\n",
       "      <td>NaN</td>\n",
       "      <td>NaN</td>\n",
       "      <td>NaN</td>\n",
       "      <td>NaN</td>\n",
       "      <td>NaN</td>\n",
       "      <td>NaN</td>\n",
       "      <td>NaN</td>\n",
       "      <td>NaN</td>\n",
       "      <td>NaN</td>\n",
       "      <td>NaN</td>\n",
       "      <td>NaN</td>\n",
       "      <td>NaN</td>\n",
       "      <td>NaN</td>\n",
       "      <td>NaN</td>\n",
       "      <td>NaN</td>\n",
       "      <td>NaN</td>\n",
       "      <td>NaN</td>\n",
       "      <td>NaN</td>\n",
       "      <td>NaN</td>\n",
       "      <td>NaN</td>\n",
       "      <td>NaN</td>\n",
       "      <td>NaN</td>\n",
       "      <td>NaN</td>\n",
       "      <td>NaN</td>\n",
       "      <td>NaN</td>\n",
       "      <td>NaN</td>\n",
       "      <td>NaN</td>\n",
       "      <td>NaN</td>\n",
       "      <td>NaN</td>\n",
       "      <td>NaN</td>\n",
       "      <td>NaN</td>\n",
       "      <td>NaN</td>\n",
       "      <td>NaN</td>\n",
       "      <td>NaN</td>\n",
       "      <td>NaN</td>\n",
       "      <td>NaN</td>\n",
       "      <td>NaN</td>\n",
       "      <td>NaN</td>\n",
       "      <td>NaN</td>\n",
       "      <td>NaN</td>\n",
       "      <td>NaN</td>\n",
       "      <td>NaN</td>\n",
       "      <td>NaN</td>\n",
       "      <td>NaN</td>\n",
       "      <td>NaN</td>\n",
       "      <td>NaN</td>\n",
       "      <td>NaN</td>\n",
       "      <td>NaN</td>\n",
       "      <td>NaN</td>\n",
       "      <td>NaN</td>\n",
       "      <td>NaN</td>\n",
       "      <td>NaN</td>\n",
       "      <td>NaN</td>\n",
       "      <td>NaN</td>\n",
       "    </tr>\n",
       "    <tr>\n",
       "      <th>29473</th>\n",
       "      <td>NaN</td>\n",
       "      <td>NaN</td>\n",
       "      <td>NaN</td>\n",
       "      <td>NaN</td>\n",
       "      <td>NaN</td>\n",
       "      <td>NaN</td>\n",
       "      <td>NaN</td>\n",
       "      <td>NaN</td>\n",
       "      <td>NaN</td>\n",
       "      <td>NaN</td>\n",
       "      <td>NaN</td>\n",
       "      <td>NaN</td>\n",
       "      <td>NaN</td>\n",
       "      <td>NaN</td>\n",
       "      <td>NaN</td>\n",
       "      <td>NaN</td>\n",
       "      <td>NaN</td>\n",
       "      <td>NaN</td>\n",
       "      <td>NaN</td>\n",
       "      <td>NaN</td>\n",
       "      <td>NaN</td>\n",
       "      <td>NaN</td>\n",
       "      <td>NaN</td>\n",
       "      <td>NaN</td>\n",
       "      <td>NaN</td>\n",
       "      <td>NaN</td>\n",
       "      <td>NaN</td>\n",
       "      <td>NaN</td>\n",
       "      <td>NaN</td>\n",
       "      <td>NaN</td>\n",
       "      <td>NaN</td>\n",
       "      <td>NaN</td>\n",
       "      <td>NaN</td>\n",
       "      <td>NaN</td>\n",
       "      <td>NaN</td>\n",
       "      <td>NaN</td>\n",
       "      <td>NaN</td>\n",
       "      <td>NaN</td>\n",
       "      <td>NaN</td>\n",
       "      <td>NaN</td>\n",
       "      <td>NaN</td>\n",
       "      <td>NaN</td>\n",
       "      <td>NaN</td>\n",
       "      <td>NaN</td>\n",
       "      <td>NaN</td>\n",
       "      <td>NaN</td>\n",
       "      <td>NaN</td>\n",
       "      <td>NaN</td>\n",
       "      <td>NaN</td>\n",
       "      <td>NaN</td>\n",
       "      <td>NaN</td>\n",
       "      <td>NaN</td>\n",
       "      <td>NaN</td>\n",
       "      <td>NaN</td>\n",
       "      <td>NaN</td>\n",
       "      <td>NaN</td>\n",
       "      <td>NaN</td>\n",
       "      <td>NaN</td>\n",
       "    </tr>\n",
       "    <tr>\n",
       "      <th>29479</th>\n",
       "      <td>NaN</td>\n",
       "      <td>NaN</td>\n",
       "      <td>NaN</td>\n",
       "      <td>NaN</td>\n",
       "      <td>NaN</td>\n",
       "      <td>NaN</td>\n",
       "      <td>NaN</td>\n",
       "      <td>NaN</td>\n",
       "      <td>NaN</td>\n",
       "      <td>NaN</td>\n",
       "      <td>NaN</td>\n",
       "      <td>NaN</td>\n",
       "      <td>NaN</td>\n",
       "      <td>NaN</td>\n",
       "      <td>NaN</td>\n",
       "      <td>NaN</td>\n",
       "      <td>NaN</td>\n",
       "      <td>NaN</td>\n",
       "      <td>NaN</td>\n",
       "      <td>NaN</td>\n",
       "      <td>NaN</td>\n",
       "      <td>NaN</td>\n",
       "      <td>NaN</td>\n",
       "      <td>NaN</td>\n",
       "      <td>NaN</td>\n",
       "      <td>NaN</td>\n",
       "      <td>NaN</td>\n",
       "      <td>NaN</td>\n",
       "      <td>NaN</td>\n",
       "      <td>NaN</td>\n",
       "      <td>NaN</td>\n",
       "      <td>NaN</td>\n",
       "      <td>NaN</td>\n",
       "      <td>NaN</td>\n",
       "      <td>NaN</td>\n",
       "      <td>NaN</td>\n",
       "      <td>NaN</td>\n",
       "      <td>NaN</td>\n",
       "      <td>NaN</td>\n",
       "      <td>NaN</td>\n",
       "      <td>NaN</td>\n",
       "      <td>NaN</td>\n",
       "      <td>NaN</td>\n",
       "      <td>NaN</td>\n",
       "      <td>NaN</td>\n",
       "      <td>NaN</td>\n",
       "      <td>NaN</td>\n",
       "      <td>NaN</td>\n",
       "      <td>NaN</td>\n",
       "      <td>NaN</td>\n",
       "      <td>NaN</td>\n",
       "      <td>NaN</td>\n",
       "      <td>NaN</td>\n",
       "      <td>NaN</td>\n",
       "      <td>NaN</td>\n",
       "      <td>NaN</td>\n",
       "      <td>NaN</td>\n",
       "      <td>NaN</td>\n",
       "    </tr>\n",
       "  </tbody>\n",
       "</table>\n",
       "<p>4384 rows × 58 columns</p>\n",
       "</div>"
      ],
      "text/plain": [
       "                     make_model                        short_description               make   \n",
       "579       Mercedes-Benz SLK 200     Kompressor Aut. Cabrio Final Edition  \\nMercedes-Benz\\n  \\\n",
       "580       Mercedes-Benz SLK 200     Kompressor Aut. Cabrio Final Edition  \\nMercedes-Benz\\n   \n",
       "610         Mercedes-Benz G 500  Cabrio LORINSER UMBAU/AHK/ELEKTR. SITZE  \\nMercedes-Benz\\n   \n",
       "613         Mercedes-Benz G 500  Cabrio LORINSER UMBAU/AHK/ELEKTR. SITZE  \\nMercedes-Benz\\n   \n",
       "839    Mercedes-Benz CLA 45 AMG      4Matic*KAMERA*NAVI*LED*DESIGNO*SHZ*  \\nMercedes-Benz\\n   \n",
       "...                         ...                                      ...                ...   \n",
       "29441                 Volvo V40             D3 150ch R-Design Geartronic          \\nVolvo\\n   \n",
       "29445                       NaN                                      NaN                NaN   \n",
       "29451                       NaN                                      NaN                NaN   \n",
       "29473                       NaN                                      NaN                NaN   \n",
       "29479                       NaN                                      NaN                NaN   \n",
       "\n",
       "                      model                                           location        price   \n",
       "579       [\\n, SLK 200 ,\\n]            Marienborner Str.  49,  55128 Mainz, DE   € 15,990.-  \\\n",
       "580       [\\n, SLK 200 ,\\n]            Marienborner Str.  49,  55128 Mainz, DE   € 15,990.-   \n",
       "610         [\\n, G 500 ,\\n]          Alte Bundesstr. 45,  71332 Waiblingen, DE  € 209,000.-   \n",
       "613         [\\n, G 500 ,\\n]          Alte Bundesstr. 45,  71332 Waiblingen, DE  € 209,000.-   \n",
       "839    [\\n, CLA 45 AMG ,\\n]  Aidlinger Straße 16 - 18,  71069 Sindelfingen-...   € 33,890.-   \n",
       "...                     ...                                                ...          ...   \n",
       "29441         [\\n, V40 ,\\n]                 19 rue des Alliés,  57050 Metz, FR   € 18,999.-   \n",
       "29445                   NaN                                                NaN          NaN   \n",
       "29451                   NaN                                                NaN          NaN   \n",
       "29473                   NaN                                                NaN          NaN   \n",
       "29479                   NaN                                                NaN          NaN   \n",
       "\n",
       "                   body_type            type        doors    country_version     offer_number   \n",
       "579    [\\n, Convertible, \\n]  [\\n, Used, \\n]  [\\n, 2, \\n]  [\\n, Germany, \\n]              NaN  \\\n",
       "580    [\\n, Convertible, \\n]  [\\n, Used, \\n]  [\\n, 2, \\n]  [\\n, Germany, \\n]              NaN   \n",
       "610    [\\n, Convertible, \\n]  [\\n, Used, \\n]  [\\n, 3, \\n]                NaN  [\\n, 29474, \\n]   \n",
       "613    [\\n, Convertible, \\n]  [\\n, Used, \\n]  [\\n, 3, \\n]                NaN  [\\n, 29474, \\n]   \n",
       "839          [\\n, Coupe, \\n]  [\\n, Used, \\n]  [\\n, 4, \\n]  [\\n, Germany, \\n]  [\\n, M-174, \\n]   \n",
       "...                      ...             ...          ...                ...              ...   \n",
       "29441        [\\n, Sedan, \\n]  [\\n, Used, \\n]  [\\n, 5, \\n]                NaN   [\\n, 1380, \\n]   \n",
       "29445                    NaN             NaN          NaN                NaN              NaN   \n",
       "29451                    NaN             NaN          NaN                NaN              NaN   \n",
       "29473                    NaN             NaN          NaN                NaN              NaN   \n",
       "29479                    NaN             NaN          NaN                NaN              NaN   \n",
       "\n",
       "                  warranty     mileage first_registration          gearbox   \n",
       "579          [\\n, Yes, \\n]   39,000 km            05/2003  [\\nAutomatic\\n]  \\\n",
       "580          [\\n, Yes, \\n]   39,000 km            05/2003  [\\nAutomatic\\n]   \n",
       "610                    NaN  172,000 km            02/1999  [\\nAutomatic\\n]   \n",
       "613                    NaN  172,000 km            02/1999  [\\nAutomatic\\n]   \n",
       "839          [\\n, Yes, \\n]   76,900 km            08/2016  [\\nAutomatic\\n]   \n",
       "...                    ...         ...                ...              ...   \n",
       "29441  [\\n, 12 months, \\n]   93,257 km            05/2018  [\\nAutomatic\\n]   \n",
       "29445                  NaN         NaN                NaN              NaN   \n",
       "29451                  NaN         NaN                NaN              NaN   \n",
       "29473                  NaN         NaN                NaN              NaN   \n",
       "29479                  NaN         NaN                NaN              NaN   \n",
       "\n",
       "                                  fuel_type  colour     paint   \n",
       "579                      Regular/Benzine 91  Silver  Metallic  \\\n",
       "580                      Regular/Benzine 91  Silver  Metallic   \n",
       "610    Regular/Benzine 91 (Particle filter)   Black  Metallic   \n",
       "613    Regular/Benzine 91 (Particle filter)   Black  Metallic   \n",
       "839                      Regular/Benzine 91   White       NaN   \n",
       "...                                     ...     ...       ...   \n",
       "29441                                Diesel     NaN       NaN   \n",
       "29445                                   NaN     NaN       NaN   \n",
       "29451                                   NaN     NaN       NaN   \n",
       "29473                                   NaN     NaN       NaN   \n",
       "29479                                   NaN     NaN       NaN   \n",
       "\n",
       "                                                    desc  seller        seats   \n",
       "579    [Zum Verkauf steht ein gepflegter Mercedes-Ben...  Dealer  [\\n, 2, \\n]  \\\n",
       "580    [Zum Verkauf steht ein gepflegter Mercedes-Ben...  Dealer  [\\n, 2, \\n]   \n",
       "610    [unfallfrei, scheckheftgepflegt, Nichtraucher,...  Dealer  [\\n, 5, \\n]   \n",
       "613    [unfallfrei, scheckheftgepflegt, Nichtraucher,...  Dealer  [\\n, 5, \\n]   \n",
       "839    [Sonderausstattung:, LED-Scheinwerfer, Navigat...  Dealer  [\\n, 5, \\n]   \n",
       "...                                                  ...     ...          ...   \n",
       "29441  [Gris Osmium;Préparation pour la caméra de rec...  Dealer  [\\n, 5, \\n]   \n",
       "29445                                                NaN     NaN          NaN   \n",
       "29451                                                NaN     NaN          NaN   \n",
       "29473                                                NaN     NaN          NaN   \n",
       "29479                                                NaN     NaN          NaN   \n",
       "\n",
       "                       power     engine_size gears      co_emissions   \n",
       "579    [\\n120 kW (163 hp)\\n]  [\\n1,998 cc\\n]   NaN  235 g/km (comb.)  \\\n",
       "580    [\\n120 kW (163 hp)\\n]  [\\n1,998 cc\\n]   NaN  235 g/km (comb.)   \n",
       "610    [\\n218 kW (296 hp)\\n]  [\\n4,996 cc\\n]   NaN  400 g/km (comb.)   \n",
       "613    [\\n218 kW (296 hp)\\n]  [\\n4,996 cc\\n]   NaN  400 g/km (comb.)   \n",
       "839    [\\n280 kW (381 hp)\\n]  [\\n1,991 cc\\n]   NaN  162 g/km (comb.)   \n",
       "...                      ...             ...   ...               ...   \n",
       "29441  [\\n112 kW (152 hp)\\n]  [\\n1,969 cc\\n]   NaN  108 g/km (comb.)   \n",
       "29445                    NaN             NaN   NaN               NaN   \n",
       "29451                    NaN             NaN   NaN               NaN   \n",
       "29473                    NaN             NaN   NaN               NaN   \n",
       "29479                    NaN             NaN   NaN               NaN   \n",
       "\n",
       "                  manufacturer_colour     drivetrain cylinders   \n",
       "579           Brillantsilber metallic            NaN       NaN  \\\n",
       "580           Brillantsilber metallic            NaN       NaN   \n",
       "610    Schwarz obsidianschwarz metall  [\\n, 4WD, \\n]       NaN   \n",
       "613    Schwarz obsidianschwarz metall  [\\n, 4WD, \\n]       NaN   \n",
       "839                       CALCITWEISS  [\\n, 4WD, \\n]       NaN   \n",
       "...                               ...            ...       ...   \n",
       "29441                     Gris Osmium            NaN       NaN   \n",
       "29445                             NaN            NaN       NaN   \n",
       "29451                             NaN            NaN       NaN   \n",
       "29473                             NaN            NaN       NaN   \n",
       "29479                             NaN            NaN       NaN   \n",
       "\n",
       "                                        fuel_consumption   \n",
       "579    [[9.6 l/100 km (comb.)], [14.4 l/100 km (city)...  \\\n",
       "580    [[9.6 l/100 km (comb.)], [14.4 l/100 km (city)...   \n",
       "610    [[16.7 l/100 km (comb.)], [21.8 l/100 km (city...   \n",
       "613    [[16.7 l/100 km (comb.)], [21.8 l/100 km (city...   \n",
       "839    [[6.9 l/100 km (comb.)], [9.2 l/100 km (city)]...   \n",
       "...                                                  ...   \n",
       "29441                                                NaN   \n",
       "29445                                                NaN   \n",
       "29451                                                NaN   \n",
       "29473                                                NaN   \n",
       "29479                                                NaN   \n",
       "\n",
       "                                   comfort_&_convenience   \n",
       "579    [Air conditioning, Armrest, Cruise control, El...  \\\n",
       "580    [Air conditioning, Armrest, Cruise control, El...   \n",
       "610    [Air conditioning, Armrest, Cruise control, El...   \n",
       "613    [Air conditioning, Armrest, Cruise control, El...   \n",
       "839    [Air conditioning, Armrest, Automatic climate ...   \n",
       "...                                                  ...   \n",
       "29441  [Armrest, Automatic climate control, 2 zones, ...   \n",
       "29445                                                NaN   \n",
       "29451                                                NaN   \n",
       "29473                                                NaN   \n",
       "29479                                                NaN   \n",
       "\n",
       "                                   entertainment_&_media   \n",
       "579                                   [CD player, Radio]  \\\n",
       "580                                   [CD player, Radio]   \n",
       "610                           [On-board computer, Radio]   \n",
       "613                           [On-board computer, Radio]   \n",
       "839    [Bluetooth, CD player, Hands-free equipment, O...   \n",
       "...                                                  ...   \n",
       "29441                                                NaN   \n",
       "29445                                                NaN   \n",
       "29451                                                NaN   \n",
       "29473                                                NaN   \n",
       "29479                                                NaN   \n",
       "\n",
       "                                       safety_&_security   \n",
       "579    [Alarm system, Central door lock, Driver-side ...  \\\n",
       "580    [Alarm system, Central door lock, Driver-side ...   \n",
       "610    [Central door lock, Driver-side airbag, Fog li...   \n",
       "613    [Central door lock, Driver-side airbag, Fog li...   \n",
       "839    [ABS, Adaptive Cruise Control, Blind spot moni...   \n",
       "...                                                  ...   \n",
       "29441  [ABS, Driver-side airbag, Emergency brake assi...   \n",
       "29445                                                NaN   \n",
       "29451                                                NaN   \n",
       "29473                                                NaN   \n",
       "29479                                                NaN   \n",
       "\n",
       "                                                  extras    empty_weight          model_code   \n",
       "579                          [Alloy wheels, Sport seats]             NaN                 NaN  \\\n",
       "580                          [Alloy wheels, Sport seats]             NaN                 NaN   \n",
       "610             [Alloy wheels, Trailer hitch, Tuned car]  [\\n2,350 kg\\n]  [\\n, 0710/403, \\n]   \n",
       "613             [Alloy wheels, Trailer hitch, Tuned car]  [\\n2,350 kg\\n]  [\\n, 0710/403, \\n]   \n",
       "839    [Alloy wheels, Ambient lighting, Automatically...             NaN                 NaN   \n",
       "...                                                  ...             ...                 ...   \n",
       "29441                                   [Emergency tyre]             NaN                 NaN   \n",
       "29445                                                NaN             NaN                 NaN   \n",
       "29451                                                NaN             NaN                 NaN   \n",
       "29473                                                NaN             NaN                 NaN   \n",
       "29479                                                NaN             NaN                 NaN   \n",
       "\n",
       "      general_inspection last_service full_service_history non_smoker_vehicle emission_class   \n",
       "579                  New          NaN                  NaN                Yes         Euro 4  \\\n",
       "580                  New          NaN                  NaN                Yes         Euro 4   \n",
       "610                  New          NaN                  Yes                Yes         Euro 4   \n",
       "613                  New          NaN                  Yes                Yes         Euro 4   \n",
       "839                  New          NaN                  Yes                Yes         Euro 6   \n",
       "...                  ...          ...                  ...                ...            ...   \n",
       "29441                NaN          NaN                  NaN                NaN            NaN   \n",
       "29445                NaN          NaN                  NaN                NaN            NaN   \n",
       "29451                NaN          NaN                  NaN                NaN            NaN   \n",
       "29473                NaN          NaN                  NaN                NaN            NaN   \n",
       "29479                NaN          NaN                  NaN                NaN            NaN   \n",
       "\n",
       "      emissions_sticker upholstery_colour    upholstery  production_date   \n",
       "579           4 (Green)             Black  Full leather              NaN  \\\n",
       "580           4 (Green)             Black  Full leather              NaN   \n",
       "610           4 (Green)             Black  Full leather          1999.00   \n",
       "613           4 (Green)             Black  Full leather          1999.00   \n",
       "839           4 (Green)             Black     alcantara              NaN   \n",
       "...                 ...               ...           ...              ...   \n",
       "29441               NaN               NaN           NaN              NaN   \n",
       "29445               NaN               NaN           NaN              NaN   \n",
       "29451               NaN               NaN           NaN              NaN   \n",
       "29473               NaN               NaN           NaN              NaN   \n",
       "29479               NaN               NaN           NaN              NaN   \n",
       "\n",
       "                   previous_owner other_fuel_types power_consumption energy_efficiency_class   \n",
       "579     [[39,000 km, 05/2003], 1]              NaN               NaN                     NaN  \\\n",
       "580     [[39,000 km, 05/2003], 1]              NaN               NaN                     NaN   \n",
       "610    [[172,000 km, 02/1999], 2]              NaN               NaN                       G   \n",
       "613    [[172,000 km, 02/1999], 2]              NaN               NaN                       G   \n",
       "839     [[76,900 km, 08/2016], 2]              NaN               NaN                     NaN   \n",
       "...                           ...              ...               ...                     ...   \n",
       "29441                         NaN              NaN               NaN                     NaN   \n",
       "29445                         NaN              NaN               NaN                     NaN   \n",
       "29451                         NaN              NaN               NaN                     NaN   \n",
       "29473                         NaN              NaN               NaN                     NaN   \n",
       "29479                         NaN              NaN               NaN                     NaN   \n",
       "\n",
       "                                           co_efficiency fuel_consumption_wltp co_emissions_wltp   \n",
       "579                                                  NaN                   NaN               NaN  \\\n",
       "580                                                  NaN                   NaN               NaN   \n",
       "610    Calculated on basis of measured CO₂-emissions ...                   NaN               NaN   \n",
       "613    Calculated on basis of measured CO₂-emissions ...                   NaN               NaN   \n",
       "839                                                  NaN                   NaN               NaN   \n",
       "...                                                  ...                   ...               ...   \n",
       "29441                                                NaN                   NaN               NaN   \n",
       "29445                                                NaN                   NaN               NaN   \n",
       "29451                                                NaN                   NaN               NaN   \n",
       "29473                                                NaN                   NaN               NaN   \n",
       "29479                                                NaN                   NaN               NaN   \n",
       "\n",
       "      available_from taxi_or_rental_car availability last_timing_belt_change electric_range_wltp   \n",
       "579              NaN                NaN          NaN                     NaN                 NaN  \\\n",
       "580              NaN                NaN          NaN                     NaN                 NaN   \n",
       "610              NaN                NaN          NaN                     NaN                 NaN   \n",
       "613              NaN                NaN          NaN                     NaN                 NaN   \n",
       "839              NaN                NaN          NaN                     NaN                 NaN   \n",
       "...              ...                ...          ...                     ...                 ...   \n",
       "29441            NaN                NaN          NaN                     NaN                 NaN   \n",
       "29445            NaN                NaN          NaN                     NaN                 NaN   \n",
       "29451            NaN                NaN          NaN                     NaN                 NaN   \n",
       "29473            NaN                NaN          NaN                     NaN                 NaN   \n",
       "29479            NaN                NaN          NaN                     NaN                 NaN   \n",
       "\n",
       "      power_consumption_wltp battery_ownership  \n",
       "579                      NaN               NaN  \n",
       "580                      NaN               NaN  \n",
       "610                      NaN               NaN  \n",
       "613                      NaN               NaN  \n",
       "839                      NaN               NaN  \n",
       "...                      ...               ...  \n",
       "29441                    NaN               NaN  \n",
       "29445                    NaN               NaN  \n",
       "29451                    NaN               NaN  \n",
       "29473                    NaN               NaN  \n",
       "29479                    NaN               NaN  \n",
       "\n",
       "[4384 rows x 58 columns]"
      ]
     },
     "execution_count": 13,
     "metadata": {},
     "output_type": "execute_result"
    }
   ],
   "source": [
    "df[df.astype(str).duplicated(keep=False)]"
   ]
  },
  {
   "cell_type": "markdown",
   "metadata": {},
   "source": [
    "The reason behind this is the list contains list of values. That’s because the list values in each row can not be hashable. Like: [[9.2 l/100 km (comb.)], [13 l/100 km (city)],...] in \"Fuel consumption\" feature  \n",
    "\n",
    "So, how do we solve the problem?\n",
    "\n",
    "**🧐 [TypeError: unhashable type: ‘list’! How to Drop Duplicates with Lists in Pandas](https://jianan-lin.medium.com/typeerror-unhashable-type-list-how-to-drop-duplicates-with-lists-in-pandas-45d9e4dd2f6c)**"
   ]
  },
  {
   "cell_type": "code",
   "execution_count": 30,
   "metadata": {},
   "outputs": [
    {
     "data": {
      "text/plain": [
       "make_model\n",
       "Volvo C70              690\n",
       "Volvo V40              678\n",
       "Volvo XC60             350\n",
       "Volvo V60              308\n",
       "Volvo C30              228\n",
       "                      ... \n",
       "Mercedes-Benz V 250      2\n",
       "Toyota Camry             2\n",
       "Toyota Avensis           2\n",
       "Mercedes-Benz S 500      2\n",
       "Volvo 945                2\n",
       "Name: count, Length: 198, dtype: int64"
      ]
     },
     "execution_count": 30,
     "metadata": {},
     "output_type": "execute_result"
    }
   ],
   "source": [
    "df[df.astype(str).duplicated(['make_model', 'short_description', 'location'], keep=False)]['make_model'].value_counts(dropna=True)"
   ]
  },
  {
   "cell_type": "code",
   "execution_count": 31,
   "metadata": {
    "scrolled": true
   },
   "outputs": [
    {
     "data": {
      "text/html": [
       "<div>\n",
       "<style scoped>\n",
       "    .dataframe tbody tr th:only-of-type {\n",
       "        vertical-align: middle;\n",
       "    }\n",
       "\n",
       "    .dataframe tbody tr th {\n",
       "        vertical-align: top;\n",
       "    }\n",
       "\n",
       "    .dataframe thead th {\n",
       "        text-align: right;\n",
       "    }\n",
       "</style>\n",
       "<table border=\"1\" class=\"dataframe\">\n",
       "  <thead>\n",
       "    <tr style=\"text-align: right;\">\n",
       "      <th></th>\n",
       "      <th>make_model</th>\n",
       "      <th>short_description</th>\n",
       "      <th>make</th>\n",
       "      <th>model</th>\n",
       "      <th>location</th>\n",
       "      <th>price</th>\n",
       "      <th>body_type</th>\n",
       "      <th>type</th>\n",
       "      <th>doors</th>\n",
       "      <th>country_version</th>\n",
       "      <th>offer_number</th>\n",
       "      <th>warranty</th>\n",
       "      <th>mileage</th>\n",
       "      <th>first_registration</th>\n",
       "      <th>gearbox</th>\n",
       "      <th>fuel_type</th>\n",
       "      <th>colour</th>\n",
       "      <th>paint</th>\n",
       "      <th>desc</th>\n",
       "      <th>seller</th>\n",
       "      <th>seats</th>\n",
       "      <th>power</th>\n",
       "      <th>engine_size</th>\n",
       "      <th>gears</th>\n",
       "      <th>co_emissions</th>\n",
       "      <th>manufacturer_colour</th>\n",
       "      <th>drivetrain</th>\n",
       "      <th>cylinders</th>\n",
       "      <th>fuel_consumption</th>\n",
       "      <th>comfort_&amp;_convenience</th>\n",
       "      <th>entertainment_&amp;_media</th>\n",
       "      <th>safety_&amp;_security</th>\n",
       "      <th>extras</th>\n",
       "      <th>empty_weight</th>\n",
       "      <th>model_code</th>\n",
       "      <th>general_inspection</th>\n",
       "      <th>full_service_history</th>\n",
       "      <th>non_smoker_vehicle</th>\n",
       "      <th>emission_class</th>\n",
       "      <th>emissions_sticker</th>\n",
       "      <th>upholstery_colour</th>\n",
       "      <th>upholstery</th>\n",
       "      <th>production_date</th>\n",
       "      <th>previous_owner</th>\n",
       "      <th>energy_efficiency_class</th>\n",
       "      <th>co_efficiency</th>\n",
       "    </tr>\n",
       "  </thead>\n",
       "  <tbody>\n",
       "    <tr>\n",
       "      <th>26470</th>\n",
       "      <td>Volvo C70</td>\n",
       "      <td>T5 Summum</td>\n",
       "      <td>\\nVolvo\\n</td>\n",
       "      <td>[\\n, C70 ,\\n]</td>\n",
       "      <td>RIO ULLA 15,  28017 MADRID, ES</td>\n",
       "      <td>€ 11,999.-</td>\n",
       "      <td>[\\n, Convertible, \\n]</td>\n",
       "      <td>[\\n, Used, \\n]</td>\n",
       "      <td>[\\n, 2, \\n]</td>\n",
       "      <td>[\\n, Spain, \\n]</td>\n",
       "      <td>[\\n, 7211423, \\n]</td>\n",
       "      <td>[\\n, 12 months, \\n]</td>\n",
       "      <td>199,000 km</td>\n",
       "      <td>03/2006</td>\n",
       "      <td>[\\nManual\\n]</td>\n",
       "      <td>Gasoline</td>\n",
       "      <td>Beige</td>\n",
       "      <td>Metallic</td>\n",
       "      <td>[Volvo C70 T5 220cv, Marzo 2006 único dueño, 1...</td>\n",
       "      <td>Dealer</td>\n",
       "      <td>[\\n, 4, \\n]</td>\n",
       "      <td>[\\n162 kW (220 hp)\\n]</td>\n",
       "      <td>[\\n2,435 cc\\n]</td>\n",
       "      <td>[\\n6\\n]</td>\n",
       "      <td>NaN</td>\n",
       "      <td>NaN</td>\n",
       "      <td>[\\n, Front, \\n]</td>\n",
       "      <td>[\\n5\\n]</td>\n",
       "      <td>[[9.1 l/100 km (comb.)], [11.8 l/100 km (city)...</td>\n",
       "      <td>[Air conditioning, Automatic climate control, ...</td>\n",
       "      <td>NaN</td>\n",
       "      <td>[ABS, Central door lock, Driver-side airbag, F...</td>\n",
       "      <td>[Alloy wheels]</td>\n",
       "      <td>[\\n1,711 kg\\n]</td>\n",
       "      <td>NaN</td>\n",
       "      <td>NaN</td>\n",
       "      <td>NaN</td>\n",
       "      <td>NaN</td>\n",
       "      <td>NaN</td>\n",
       "      <td>NaN</td>\n",
       "      <td>NaN</td>\n",
       "      <td>NaN</td>\n",
       "      <td>NaN</td>\n",
       "      <td>NaN</td>\n",
       "      <td>NaN</td>\n",
       "      <td>NaN</td>\n",
       "    </tr>\n",
       "    <tr>\n",
       "      <th>26471</th>\n",
       "      <td>Volvo C70</td>\n",
       "      <td>2.4i Momentum</td>\n",
       "      <td>\\nVolvo\\n</td>\n",
       "      <td>[\\n, C70 ,\\n]</td>\n",
       "      <td>Auf dem Sand 28,  40721 Hilden, DE</td>\n",
       "      <td>€ 11,880.-</td>\n",
       "      <td>[\\n, Convertible, \\n]</td>\n",
       "      <td>[\\n, Used, \\n]</td>\n",
       "      <td>[\\n, 2, \\n]</td>\n",
       "      <td>[\\n, Germany, \\n]</td>\n",
       "      <td>[\\n, 001731_3386, \\n]</td>\n",
       "      <td>[\\n, 12 months, \\n]</td>\n",
       "      <td>155,923 km</td>\n",
       "      <td>08/2006</td>\n",
       "      <td>[\\nManual\\n]</td>\n",
       "      <td>Super Plus 98</td>\n",
       "      <td>Gold</td>\n",
       "      <td>Metallic</td>\n",
       "      <td>[ * ABS,  * Airbag Fahrerseite,  * Airbag auf ...</td>\n",
       "      <td>Dealer</td>\n",
       "      <td>[\\n, 4, \\n]</td>\n",
       "      <td>[\\n125 kW (170 hp)\\n]</td>\n",
       "      <td>[\\n2,435 cc\\n]</td>\n",
       "      <td>[\\n5\\n]</td>\n",
       "      <td>215 g/km (comb.)</td>\n",
       "      <td>ZANZIBAR GOLD PEARL</td>\n",
       "      <td>[\\n, Front, \\n]</td>\n",
       "      <td>[\\n5\\n]</td>\n",
       "      <td>[[9 l/100 km (comb.)], [12.9 l/100 km (city)],...</td>\n",
       "      <td>[Air conditioning, Armrest, Automatic climate ...</td>\n",
       "      <td>[CD player, On-board computer, Radio, Sound sy...</td>\n",
       "      <td>[ABS, Bi-Xenon headlights, Central door lock, ...</td>\n",
       "      <td>[Alloy wheels (18\"), Automatically dimming int...</td>\n",
       "      <td>[\\n1,685 kg\\n]</td>\n",
       "      <td>[\\n, 9101/ABY, \\n]</td>\n",
       "      <td>New</td>\n",
       "      <td>Yes</td>\n",
       "      <td>NaN</td>\n",
       "      <td>Euro 4</td>\n",
       "      <td>4 (Green)</td>\n",
       "      <td>Beige</td>\n",
       "      <td>Part leather</td>\n",
       "      <td>NaN</td>\n",
       "      <td>[[155,923 km, 08/2006], 2]</td>\n",
       "      <td>F</td>\n",
       "      <td>Calculated on basis of measured CO₂-emissions ...</td>\n",
       "    </tr>\n",
       "    <tr>\n",
       "      <th>26472</th>\n",
       "      <td>Volvo C70</td>\n",
       "      <td>2.5T 220PS Cabriolet T5 Summum 1.Hand Xenon</td>\n",
       "      <td>\\nVolvo\\n</td>\n",
       "      <td>[\\n, C70 ,\\n]</td>\n",
       "      <td>Lichterfelder Allee 14,  14513 Teltow, DE</td>\n",
       "      <td>€ 20,999.-</td>\n",
       "      <td>[\\n, Convertible, \\n]</td>\n",
       "      <td>[\\n, Used, \\n]</td>\n",
       "      <td>[\\n, 2, \\n]</td>\n",
       "      <td>[\\n, Germany, \\n]</td>\n",
       "      <td>[\\n, 280, \\n]</td>\n",
       "      <td>[\\n, Yes, \\n]</td>\n",
       "      <td>69,747 km</td>\n",
       "      <td>05/2007</td>\n",
       "      <td>[\\nAutomatic\\n]</td>\n",
       "      <td>Regular/Benzine E10 91</td>\n",
       "      <td>Black</td>\n",
       "      <td>Metallic</td>\n",
       "      <td>[Herzlich Willkommen bei der Autohaus Klann Gm...</td>\n",
       "      <td>Dealer</td>\n",
       "      <td>[\\n, 4, \\n]</td>\n",
       "      <td>[\\n162 kW (220 hp)\\n]</td>\n",
       "      <td>[\\n2,521 cc\\n]</td>\n",
       "      <td>NaN</td>\n",
       "      <td>234 g/km (comb.)</td>\n",
       "      <td>Black Sapphire Metallic</td>\n",
       "      <td>NaN</td>\n",
       "      <td>NaN</td>\n",
       "      <td>[[9.8 l/100 km (comb.)], [14.7 l/100 km (city)...</td>\n",
       "      <td>[Air conditioning, Armrest, Automatic climate ...</td>\n",
       "      <td>[CD player, On-board computer, Radio, Sound sy...</td>\n",
       "      <td>[ABS, Bi-Xenon headlights, Central door lock, ...</td>\n",
       "      <td>[All season tyres, Alloy wheels, Automatically...</td>\n",
       "      <td>NaN</td>\n",
       "      <td>NaN</td>\n",
       "      <td>04/2024</td>\n",
       "      <td>Yes</td>\n",
       "      <td>Yes</td>\n",
       "      <td>Euro 4</td>\n",
       "      <td>4 (Green)</td>\n",
       "      <td>Grey</td>\n",
       "      <td>Full leather</td>\n",
       "      <td>NaN</td>\n",
       "      <td>[[69,747 km, 05/2007], 1]</td>\n",
       "      <td>NaN</td>\n",
       "      <td>NaN</td>\n",
       "    </tr>\n",
       "    <tr>\n",
       "      <th>26473</th>\n",
       "      <td>Volvo C70</td>\n",
       "      <td>2.0 D3 150PS Cabriolet Momentum Automatik</td>\n",
       "      <td>\\nVolvo\\n</td>\n",
       "      <td>[\\n, C70 ,\\n]</td>\n",
       "      <td>Lichterfelder Allee 14,  14513 Teltow, DE</td>\n",
       "      <td>€ 14,999.-</td>\n",
       "      <td>[\\n, Convertible, \\n]</td>\n",
       "      <td>[\\n, Used, \\n]</td>\n",
       "      <td>[\\n, 2, \\n]</td>\n",
       "      <td>[\\n, Germany, \\n]</td>\n",
       "      <td>[\\n, 494-P2, \\n]</td>\n",
       "      <td>[\\n, Yes, \\n]</td>\n",
       "      <td>146,348 km</td>\n",
       "      <td>10/2011</td>\n",
       "      <td>[\\nAutomatic\\n]</td>\n",
       "      <td>Diesel</td>\n",
       "      <td>Blue</td>\n",
       "      <td>Metallic</td>\n",
       "      <td>[Herzlich Willkommen bei der Autohaus Klann Gm...</td>\n",
       "      <td>Dealer</td>\n",
       "      <td>[\\n, 4, \\n]</td>\n",
       "      <td>[\\n110 kW (150 hp)\\n]</td>\n",
       "      <td>[\\n1,984 cc\\n]</td>\n",
       "      <td>NaN</td>\n",
       "      <td>NaN</td>\n",
       "      <td>CASPIAN BLUE METALLIC</td>\n",
       "      <td>NaN</td>\n",
       "      <td>NaN</td>\n",
       "      <td>NaN</td>\n",
       "      <td>[Air conditioning, Armrest, Automatic climate ...</td>\n",
       "      <td>[Bluetooth, CD player, Hands-free equipment, O...</td>\n",
       "      <td>[ABS, Central door lock, Driver-side airbag, E...</td>\n",
       "      <td>[All season tyres, Alloy wheels, Automatically...</td>\n",
       "      <td>NaN</td>\n",
       "      <td>NaN</td>\n",
       "      <td>08/2023</td>\n",
       "      <td>Yes</td>\n",
       "      <td>Yes</td>\n",
       "      <td>Euro 5</td>\n",
       "      <td>4 (Green)</td>\n",
       "      <td>Black</td>\n",
       "      <td>Part leather</td>\n",
       "      <td>NaN</td>\n",
       "      <td>[[146,348 km, 10/2011], 1]</td>\n",
       "      <td>NaN</td>\n",
       "      <td>NaN</td>\n",
       "    </tr>\n",
       "    <tr>\n",
       "      <th>26474</th>\n",
       "      <td>Volvo C70</td>\n",
       "      <td>2.0D SUMMUM</td>\n",
       "      <td>\\nVolvo\\n</td>\n",
       "      <td>[\\n, C70 ,\\n]</td>\n",
       "      <td>POL. IND. DE CROSS 39600 SANTANDER CANTABRIA E...</td>\n",
       "      <td>€ 9,900.-</td>\n",
       "      <td>[\\n, Convertible, \\n]</td>\n",
       "      <td>[\\n, Used, \\n]</td>\n",
       "      <td>[\\n, 2, \\n]</td>\n",
       "      <td>[\\n, Spain, \\n]</td>\n",
       "      <td>[\\n, 7273637, \\n]</td>\n",
       "      <td>[\\n, 12 months, \\n]</td>\n",
       "      <td>144,000 km</td>\n",
       "      <td>05/2008</td>\n",
       "      <td>[\\nManual\\n]</td>\n",
       "      <td>Diesel</td>\n",
       "      <td>Silver</td>\n",
       "      <td>NaN</td>\n",
       "      <td>[ , Precio al contado: 9990 euros,  , Hola, ¿Q...</td>\n",
       "      <td>Dealer</td>\n",
       "      <td>NaN</td>\n",
       "      <td>[\\n100 kW (136 hp)\\n]</td>\n",
       "      <td>[\\n2,000 cc\\n]</td>\n",
       "      <td>NaN</td>\n",
       "      <td>NaN</td>\n",
       "      <td>Gris / Plata</td>\n",
       "      <td>NaN</td>\n",
       "      <td>NaN</td>\n",
       "      <td>NaN</td>\n",
       "      <td>NaN</td>\n",
       "      <td>NaN</td>\n",
       "      <td>NaN</td>\n",
       "      <td>NaN</td>\n",
       "      <td>NaN</td>\n",
       "      <td>NaN</td>\n",
       "      <td>NaN</td>\n",
       "      <td>NaN</td>\n",
       "      <td>NaN</td>\n",
       "      <td>NaN</td>\n",
       "      <td>NaN</td>\n",
       "      <td>NaN</td>\n",
       "      <td>NaN</td>\n",
       "      <td>NaN</td>\n",
       "      <td>NaN</td>\n",
       "      <td>NaN</td>\n",
       "      <td>NaN</td>\n",
       "    </tr>\n",
       "    <tr>\n",
       "      <th>...</th>\n",
       "      <td>...</td>\n",
       "      <td>...</td>\n",
       "      <td>...</td>\n",
       "      <td>...</td>\n",
       "      <td>...</td>\n",
       "      <td>...</td>\n",
       "      <td>...</td>\n",
       "      <td>...</td>\n",
       "      <td>...</td>\n",
       "      <td>...</td>\n",
       "      <td>...</td>\n",
       "      <td>...</td>\n",
       "      <td>...</td>\n",
       "      <td>...</td>\n",
       "      <td>...</td>\n",
       "      <td>...</td>\n",
       "      <td>...</td>\n",
       "      <td>...</td>\n",
       "      <td>...</td>\n",
       "      <td>...</td>\n",
       "      <td>...</td>\n",
       "      <td>...</td>\n",
       "      <td>...</td>\n",
       "      <td>...</td>\n",
       "      <td>...</td>\n",
       "      <td>...</td>\n",
       "      <td>...</td>\n",
       "      <td>...</td>\n",
       "      <td>...</td>\n",
       "      <td>...</td>\n",
       "      <td>...</td>\n",
       "      <td>...</td>\n",
       "      <td>...</td>\n",
       "      <td>...</td>\n",
       "      <td>...</td>\n",
       "      <td>...</td>\n",
       "      <td>...</td>\n",
       "      <td>...</td>\n",
       "      <td>...</td>\n",
       "      <td>...</td>\n",
       "      <td>...</td>\n",
       "      <td>...</td>\n",
       "      <td>...</td>\n",
       "      <td>...</td>\n",
       "      <td>...</td>\n",
       "      <td>...</td>\n",
       "    </tr>\n",
       "    <tr>\n",
       "      <th>27449</th>\n",
       "      <td>Volvo C70</td>\n",
       "      <td>C70 Coupe 2.5 193cv</td>\n",
       "      <td>\\nVolvo\\n</td>\n",
       "      <td>[\\n, C70 ,\\n]</td>\n",
       "      <td>47923 Rimini, IT</td>\n",
       "      <td>€ 7,400.-</td>\n",
       "      <td>[\\n, Coupe, \\n]</td>\n",
       "      <td>[\\n, Used, \\n]</td>\n",
       "      <td>[\\n, 2, \\n]</td>\n",
       "      <td>NaN</td>\n",
       "      <td>NaN</td>\n",
       "      <td>NaN</td>\n",
       "      <td>219,000 km</td>\n",
       "      <td>01/2001</td>\n",
       "      <td>[\\nManual\\n]</td>\n",
       "      <td>LPG</td>\n",
       "      <td>Blue</td>\n",
       "      <td>Metallic</td>\n",
       "      <td>[Vendo Volvo C70 2.4 turbo 193cv del 2001. 5 c...</td>\n",
       "      <td>Private seller</td>\n",
       "      <td>[\\n, 4, \\n]</td>\n",
       "      <td>[\\n142 kW (193 hp)\\n]</td>\n",
       "      <td>[\\n2,435 cc\\n]</td>\n",
       "      <td>[\\n5\\n]</td>\n",
       "      <td>NaN</td>\n",
       "      <td>NaN</td>\n",
       "      <td>[\\n, Front, \\n]</td>\n",
       "      <td>[\\n5\\n]</td>\n",
       "      <td>[[9.9 l/100 km (comb.)], [13.7 l/100 km (city)...</td>\n",
       "      <td>[Air conditioning, Armrest, Automatic climate ...</td>\n",
       "      <td>[CD player, On-board computer, Radio, Sound sy...</td>\n",
       "      <td>[ABS, Adaptive headlights, Alarm system, Centr...</td>\n",
       "      <td>[Alloy wheels (17\"), Ambient lighting, Automat...</td>\n",
       "      <td>[\\n1,551 kg\\n]</td>\n",
       "      <td>NaN</td>\n",
       "      <td>02/2024</td>\n",
       "      <td>NaN</td>\n",
       "      <td>Yes</td>\n",
       "      <td>Euro 6</td>\n",
       "      <td>NaN</td>\n",
       "      <td>Grey</td>\n",
       "      <td>Full leather</td>\n",
       "      <td>NaN</td>\n",
       "      <td>NaN</td>\n",
       "      <td>NaN</td>\n",
       "      <td>NaN</td>\n",
       "    </tr>\n",
       "    <tr>\n",
       "      <th>27450</th>\n",
       "      <td>Volvo C70</td>\n",
       "      <td>Coupé 2.0 T Prestige UNIEK!</td>\n",
       "      <td>\\nVolvo\\n</td>\n",
       "      <td>[\\n, C70 ,\\n]</td>\n",
       "      <td>Edisonweg 16a,  2952 AD ALBLASSERDAM, NL</td>\n",
       "      <td>€ 8,950.-</td>\n",
       "      <td>[\\n, Coupe, \\n]</td>\n",
       "      <td>[\\n, Used, \\n]</td>\n",
       "      <td>[\\n, 2, \\n]</td>\n",
       "      <td>NaN</td>\n",
       "      <td>[\\n, 50157964, \\n]</td>\n",
       "      <td>NaN</td>\n",
       "      <td>118,232 km</td>\n",
       "      <td>12/2000</td>\n",
       "      <td>[\\nManual\\n]</td>\n",
       "      <td>Gasoline</td>\n",
       "      <td>Orange</td>\n",
       "      <td>Metallic</td>\n",
       "      <td>[Voor de echte liefhebber: een unieke Volvo C7...</td>\n",
       "      <td>Dealer</td>\n",
       "      <td>[\\n, 4, \\n]</td>\n",
       "      <td>[\\n120 kW (163 hp)\\n]</td>\n",
       "      <td>[\\n1,984 cc\\n]</td>\n",
       "      <td>[\\n5\\n]</td>\n",
       "      <td>234 g/km (comb.)</td>\n",
       "      <td>Saffron Pearl 435</td>\n",
       "      <td>[\\n, Front, \\n]</td>\n",
       "      <td>[\\n5\\n]</td>\n",
       "      <td>[[9.7 l/100 km (comb.)], [13.5 l/100 km (city)...</td>\n",
       "      <td>[Air conditioning, Armrest, Automatic climate ...</td>\n",
       "      <td>[CD player, On-board computer, Radio]</td>\n",
       "      <td>[ABS, Alarm system, Central door lock, Central...</td>\n",
       "      <td>[Alloy wheels (16\"), Automatically dimming int...</td>\n",
       "      <td>[\\n1,436 kg\\n]</td>\n",
       "      <td>NaN</td>\n",
       "      <td>New</td>\n",
       "      <td>Yes</td>\n",
       "      <td>NaN</td>\n",
       "      <td>NaN</td>\n",
       "      <td>NaN</td>\n",
       "      <td>Other</td>\n",
       "      <td>Full leather</td>\n",
       "      <td>NaN</td>\n",
       "      <td>[[118,232 km, 12/2000], 2]</td>\n",
       "      <td>NaN</td>\n",
       "      <td>NaN</td>\n",
       "    </tr>\n",
       "    <tr>\n",
       "      <th>27451</th>\n",
       "      <td>Volvo C70</td>\n",
       "      <td>COUPE' 2000 TURBO T5 226CV</td>\n",
       "      <td>\\nVolvo\\n</td>\n",
       "      <td>[\\n, C70 ,\\n]</td>\n",
       "      <td>41126 Modena, IT</td>\n",
       "      <td>€ 7,500.-</td>\n",
       "      <td>[\\n, Coupe, \\n]</td>\n",
       "      <td>[\\n, Used, \\n]</td>\n",
       "      <td>[\\n, 2, \\n]</td>\n",
       "      <td>NaN</td>\n",
       "      <td>NaN</td>\n",
       "      <td>NaN</td>\n",
       "      <td>227,000 km</td>\n",
       "      <td>02/2000</td>\n",
       "      <td>[\\nManual\\n]</td>\n",
       "      <td>Gasoline</td>\n",
       "      <td>Silver</td>\n",
       "      <td>Metallic</td>\n",
       "      <td>[Volvo C70 prima serie anno 2000, motore benzi...</td>\n",
       "      <td>Private seller</td>\n",
       "      <td>[\\n, 4, \\n]</td>\n",
       "      <td>[\\n166 kW (226 hp)\\n]</td>\n",
       "      <td>[\\n2,000 cc\\n]</td>\n",
       "      <td>[\\n5\\n]</td>\n",
       "      <td>NaN</td>\n",
       "      <td>NaN</td>\n",
       "      <td>[\\n, Front, \\n]</td>\n",
       "      <td>[\\n5\\n]</td>\n",
       "      <td>[[8.5 l/100 km (comb.)]]</td>\n",
       "      <td>[Air conditioning, Armrest, Auxiliary heating,...</td>\n",
       "      <td>[Android Auto, Apple CarPlay, Bluetooth, Digit...</td>\n",
       "      <td>[ABS, Alarm system, Central door lock, Central...</td>\n",
       "      <td>[Alloy wheels (17\"), Spare tyre, Summer tyres,...</td>\n",
       "      <td>[\\n1,491 kg\\n]</td>\n",
       "      <td>NaN</td>\n",
       "      <td>07/2023</td>\n",
       "      <td>Yes</td>\n",
       "      <td>Yes</td>\n",
       "      <td>Euro 3</td>\n",
       "      <td>NaN</td>\n",
       "      <td>Black</td>\n",
       "      <td>Full leather</td>\n",
       "      <td>NaN</td>\n",
       "      <td>[[227,000 km, 02/2000], 1]</td>\n",
       "      <td>NaN</td>\n",
       "      <td>NaN</td>\n",
       "    </tr>\n",
       "    <tr>\n",
       "      <th>27456</th>\n",
       "      <td>Volvo C70</td>\n",
       "      <td>2.5T</td>\n",
       "      <td>\\nVolvo\\n</td>\n",
       "      <td>[\\n, C70 ,\\n]</td>\n",
       "      <td>94051 Hauzenberg, DE</td>\n",
       "      <td>€ 12,500.-</td>\n",
       "      <td>[\\n, Coupe, \\n]</td>\n",
       "      <td>[\\n, Used, \\n]</td>\n",
       "      <td>[\\n, 2, \\n]</td>\n",
       "      <td>NaN</td>\n",
       "      <td>NaN</td>\n",
       "      <td>NaN</td>\n",
       "      <td>182,000 km</td>\n",
       "      <td>11/1998</td>\n",
       "      <td>[\\nAutomatic\\n]</td>\n",
       "      <td>Gasoline</td>\n",
       "      <td>Red</td>\n",
       "      <td>Metallic</td>\n",
       "      <td>[Guter Zustand innen wie außen, voll funktions...</td>\n",
       "      <td>Private seller</td>\n",
       "      <td>[\\n, 4, \\n]</td>\n",
       "      <td>[\\n142 kW (193 hp)\\n]</td>\n",
       "      <td>[\\n2,435 cc\\n]</td>\n",
       "      <td>[\\n4\\n]</td>\n",
       "      <td>250 g/km (comb.)</td>\n",
       "      <td>NaN</td>\n",
       "      <td>[\\n, Front, \\n]</td>\n",
       "      <td>[\\n5\\n]</td>\n",
       "      <td>[[10.7 l/100 km (comb.)], [15.3 l/100 km (city...</td>\n",
       "      <td>[Armrest, Automatic climate control, 2 zones, ...</td>\n",
       "      <td>[CD player, Hands-free equipment, On-board com...</td>\n",
       "      <td>[ABS, Central door lock with remote control, D...</td>\n",
       "      <td>[Alloy wheels (16\"), Automatically dimming int...</td>\n",
       "      <td>[\\n1,480 kg\\n]</td>\n",
       "      <td>NaN</td>\n",
       "      <td>06/2024</td>\n",
       "      <td>Yes</td>\n",
       "      <td>Yes</td>\n",
       "      <td>Euro 3</td>\n",
       "      <td>1 (No sticker)</td>\n",
       "      <td>Beige</td>\n",
       "      <td>Full leather</td>\n",
       "      <td>NaN</td>\n",
       "      <td>[[182,000 km, 11/1998], 1]</td>\n",
       "      <td>NaN</td>\n",
       "      <td>NaN</td>\n",
       "    </tr>\n",
       "    <tr>\n",
       "      <th>27486</th>\n",
       "      <td>Volvo C70</td>\n",
       "      <td>2.0 D Summum</td>\n",
       "      <td>\\nVolvo\\n</td>\n",
       "      <td>[\\n, C70 ,\\n]</td>\n",
       "      <td>Viale della Marina, 59,  00122 Ostia lido - Ro...</td>\n",
       "      <td>€ 9,900.-</td>\n",
       "      <td>[\\n, Coupe, \\n]</td>\n",
       "      <td>[\\n, Used, \\n]</td>\n",
       "      <td>[\\n, 2, \\n]</td>\n",
       "      <td>[\\n, Italy, \\n]</td>\n",
       "      <td>NaN</td>\n",
       "      <td>NaN</td>\n",
       "      <td>195,000 km</td>\n",
       "      <td>07/2008</td>\n",
       "      <td>[\\nAutomatic\\n]</td>\n",
       "      <td>Diesel</td>\n",
       "      <td>Silver</td>\n",
       "      <td>NaN</td>\n",
       "      <td>[CONTO VENDITA PRIVATO, OTTIME CONDIZIONI DI C...</td>\n",
       "      <td>Dealer</td>\n",
       "      <td>[\\n, 4, \\n]</td>\n",
       "      <td>[\\n100 kW (136 hp)\\n]</td>\n",
       "      <td>[\\n1,997 cc\\n]</td>\n",
       "      <td>[\\n6\\n]</td>\n",
       "      <td>158 g/km (comb.)</td>\n",
       "      <td>NaN</td>\n",
       "      <td>[\\n, Front, \\n]</td>\n",
       "      <td>[\\n4\\n]</td>\n",
       "      <td>[[6 l/100 km (comb.)], [7.9 l/100 km (city)], ...</td>\n",
       "      <td>[Air conditioning, Armrest, Automatic climate ...</td>\n",
       "      <td>[Bluetooth, CD player, Hands-free equipment, M...</td>\n",
       "      <td>[ABS, Central door lock, Driver-side airbag, E...</td>\n",
       "      <td>[Alloy wheels (18\"), Emergency tyre]</td>\n",
       "      <td>[\\n1,706 kg\\n]</td>\n",
       "      <td>NaN</td>\n",
       "      <td>NaN</td>\n",
       "      <td>NaN</td>\n",
       "      <td>NaN</td>\n",
       "      <td>Euro 4</td>\n",
       "      <td>NaN</td>\n",
       "      <td>Black</td>\n",
       "      <td>Full leather</td>\n",
       "      <td>NaN</td>\n",
       "      <td>[[195,000 km, 07/2008], 2]</td>\n",
       "      <td>NaN</td>\n",
       "      <td>NaN</td>\n",
       "    </tr>\n",
       "  </tbody>\n",
       "</table>\n",
       "<p>692 rows × 46 columns</p>\n",
       "</div>"
      ],
      "text/plain": [
       "      make_model                            short_description       make          model   \n",
       "26470  Volvo C70                                    T5 Summum  \\nVolvo\\n  [\\n, C70 ,\\n]  \\\n",
       "26471  Volvo C70                                2.4i Momentum  \\nVolvo\\n  [\\n, C70 ,\\n]   \n",
       "26472  Volvo C70  2.5T 220PS Cabriolet T5 Summum 1.Hand Xenon  \\nVolvo\\n  [\\n, C70 ,\\n]   \n",
       "26473  Volvo C70    2.0 D3 150PS Cabriolet Momentum Automatik  \\nVolvo\\n  [\\n, C70 ,\\n]   \n",
       "26474  Volvo C70                                  2.0D SUMMUM  \\nVolvo\\n  [\\n, C70 ,\\n]   \n",
       "...          ...                                          ...        ...            ...   \n",
       "27449  Volvo C70                          C70 Coupe 2.5 193cv  \\nVolvo\\n  [\\n, C70 ,\\n]   \n",
       "27450  Volvo C70                  Coupé 2.0 T Prestige UNIEK!  \\nVolvo\\n  [\\n, C70 ,\\n]   \n",
       "27451  Volvo C70                   COUPE' 2000 TURBO T5 226CV  \\nVolvo\\n  [\\n, C70 ,\\n]   \n",
       "27456  Volvo C70                                         2.5T  \\nVolvo\\n  [\\n, C70 ,\\n]   \n",
       "27486  Volvo C70                                 2.0 D Summum  \\nVolvo\\n  [\\n, C70 ,\\n]   \n",
       "\n",
       "                                                location       price              body_type   \n",
       "26470                     RIO ULLA 15,  28017 MADRID, ES  € 11,999.-  [\\n, Convertible, \\n]  \\\n",
       "26471                 Auf dem Sand 28,  40721 Hilden, DE  € 11,880.-  [\\n, Convertible, \\n]   \n",
       "26472          Lichterfelder Allee 14,  14513 Teltow, DE  € 20,999.-  [\\n, Convertible, \\n]   \n",
       "26473          Lichterfelder Allee 14,  14513 Teltow, DE  € 14,999.-  [\\n, Convertible, \\n]   \n",
       "26474  POL. IND. DE CROSS 39600 SANTANDER CANTABRIA E...   € 9,900.-  [\\n, Convertible, \\n]   \n",
       "...                                                  ...         ...                    ...   \n",
       "27449                                   47923 Rimini, IT   € 7,400.-        [\\n, Coupe, \\n]   \n",
       "27450           Edisonweg 16a,  2952 AD ALBLASSERDAM, NL   € 8,950.-        [\\n, Coupe, \\n]   \n",
       "27451                                   41126 Modena, IT   € 7,500.-        [\\n, Coupe, \\n]   \n",
       "27456                               94051 Hauzenberg, DE  € 12,500.-        [\\n, Coupe, \\n]   \n",
       "27486  Viale della Marina, 59,  00122 Ostia lido - Ro...   € 9,900.-        [\\n, Coupe, \\n]   \n",
       "\n",
       "                 type        doors    country_version           offer_number             warranty   \n",
       "26470  [\\n, Used, \\n]  [\\n, 2, \\n]    [\\n, Spain, \\n]      [\\n, 7211423, \\n]  [\\n, 12 months, \\n]  \\\n",
       "26471  [\\n, Used, \\n]  [\\n, 2, \\n]  [\\n, Germany, \\n]  [\\n, 001731_3386, \\n]  [\\n, 12 months, \\n]   \n",
       "26472  [\\n, Used, \\n]  [\\n, 2, \\n]  [\\n, Germany, \\n]          [\\n, 280, \\n]        [\\n, Yes, \\n]   \n",
       "26473  [\\n, Used, \\n]  [\\n, 2, \\n]  [\\n, Germany, \\n]       [\\n, 494-P2, \\n]        [\\n, Yes, \\n]   \n",
       "26474  [\\n, Used, \\n]  [\\n, 2, \\n]    [\\n, Spain, \\n]      [\\n, 7273637, \\n]  [\\n, 12 months, \\n]   \n",
       "...               ...          ...                ...                    ...                  ...   \n",
       "27449  [\\n, Used, \\n]  [\\n, 2, \\n]                NaN                    NaN                  NaN   \n",
       "27450  [\\n, Used, \\n]  [\\n, 2, \\n]                NaN     [\\n, 50157964, \\n]                  NaN   \n",
       "27451  [\\n, Used, \\n]  [\\n, 2, \\n]                NaN                    NaN                  NaN   \n",
       "27456  [\\n, Used, \\n]  [\\n, 2, \\n]                NaN                    NaN                  NaN   \n",
       "27486  [\\n, Used, \\n]  [\\n, 2, \\n]    [\\n, Italy, \\n]                    NaN                  NaN   \n",
       "\n",
       "          mileage first_registration          gearbox               fuel_type  colour     paint   \n",
       "26470  199,000 km            03/2006     [\\nManual\\n]                Gasoline   Beige  Metallic  \\\n",
       "26471  155,923 km            08/2006     [\\nManual\\n]           Super Plus 98    Gold  Metallic   \n",
       "26472   69,747 km            05/2007  [\\nAutomatic\\n]  Regular/Benzine E10 91   Black  Metallic   \n",
       "26473  146,348 km            10/2011  [\\nAutomatic\\n]                  Diesel    Blue  Metallic   \n",
       "26474  144,000 km            05/2008     [\\nManual\\n]                  Diesel  Silver       NaN   \n",
       "...           ...                ...              ...                     ...     ...       ...   \n",
       "27449  219,000 km            01/2001     [\\nManual\\n]                     LPG    Blue  Metallic   \n",
       "27450  118,232 km            12/2000     [\\nManual\\n]                Gasoline  Orange  Metallic   \n",
       "27451  227,000 km            02/2000     [\\nManual\\n]                Gasoline  Silver  Metallic   \n",
       "27456  182,000 km            11/1998  [\\nAutomatic\\n]                Gasoline     Red  Metallic   \n",
       "27486  195,000 km            07/2008  [\\nAutomatic\\n]                  Diesel  Silver       NaN   \n",
       "\n",
       "                                                    desc          seller        seats   \n",
       "26470  [Volvo C70 T5 220cv, Marzo 2006 único dueño, 1...          Dealer  [\\n, 4, \\n]  \\\n",
       "26471  [ * ABS,  * Airbag Fahrerseite,  * Airbag auf ...          Dealer  [\\n, 4, \\n]   \n",
       "26472  [Herzlich Willkommen bei der Autohaus Klann Gm...          Dealer  [\\n, 4, \\n]   \n",
       "26473  [Herzlich Willkommen bei der Autohaus Klann Gm...          Dealer  [\\n, 4, \\n]   \n",
       "26474  [ , Precio al contado: 9990 euros,  , Hola, ¿Q...          Dealer          NaN   \n",
       "...                                                  ...             ...          ...   \n",
       "27449  [Vendo Volvo C70 2.4 turbo 193cv del 2001. 5 c...  Private seller  [\\n, 4, \\n]   \n",
       "27450  [Voor de echte liefhebber: een unieke Volvo C7...          Dealer  [\\n, 4, \\n]   \n",
       "27451  [Volvo C70 prima serie anno 2000, motore benzi...  Private seller  [\\n, 4, \\n]   \n",
       "27456  [Guter Zustand innen wie außen, voll funktions...  Private seller  [\\n, 4, \\n]   \n",
       "27486  [CONTO VENDITA PRIVATO, OTTIME CONDIZIONI DI C...          Dealer  [\\n, 4, \\n]   \n",
       "\n",
       "                       power     engine_size    gears      co_emissions      manufacturer_colour   \n",
       "26470  [\\n162 kW (220 hp)\\n]  [\\n2,435 cc\\n]  [\\n6\\n]               NaN                      NaN  \\\n",
       "26471  [\\n125 kW (170 hp)\\n]  [\\n2,435 cc\\n]  [\\n5\\n]  215 g/km (comb.)      ZANZIBAR GOLD PEARL   \n",
       "26472  [\\n162 kW (220 hp)\\n]  [\\n2,521 cc\\n]      NaN  234 g/km (comb.)  Black Sapphire Metallic   \n",
       "26473  [\\n110 kW (150 hp)\\n]  [\\n1,984 cc\\n]      NaN               NaN    CASPIAN BLUE METALLIC   \n",
       "26474  [\\n100 kW (136 hp)\\n]  [\\n2,000 cc\\n]      NaN               NaN             Gris / Plata   \n",
       "...                      ...             ...      ...               ...                      ...   \n",
       "27449  [\\n142 kW (193 hp)\\n]  [\\n2,435 cc\\n]  [\\n5\\n]               NaN                      NaN   \n",
       "27450  [\\n120 kW (163 hp)\\n]  [\\n1,984 cc\\n]  [\\n5\\n]  234 g/km (comb.)        Saffron Pearl 435   \n",
       "27451  [\\n166 kW (226 hp)\\n]  [\\n2,000 cc\\n]  [\\n5\\n]               NaN                      NaN   \n",
       "27456  [\\n142 kW (193 hp)\\n]  [\\n2,435 cc\\n]  [\\n4\\n]  250 g/km (comb.)                      NaN   \n",
       "27486  [\\n100 kW (136 hp)\\n]  [\\n1,997 cc\\n]  [\\n6\\n]  158 g/km (comb.)                      NaN   \n",
       "\n",
       "            drivetrain cylinders                                   fuel_consumption   \n",
       "26470  [\\n, Front, \\n]   [\\n5\\n]  [[9.1 l/100 km (comb.)], [11.8 l/100 km (city)...  \\\n",
       "26471  [\\n, Front, \\n]   [\\n5\\n]  [[9 l/100 km (comb.)], [12.9 l/100 km (city)],...   \n",
       "26472              NaN       NaN  [[9.8 l/100 km (comb.)], [14.7 l/100 km (city)...   \n",
       "26473              NaN       NaN                                                NaN   \n",
       "26474              NaN       NaN                                                NaN   \n",
       "...                ...       ...                                                ...   \n",
       "27449  [\\n, Front, \\n]   [\\n5\\n]  [[9.9 l/100 km (comb.)], [13.7 l/100 km (city)...   \n",
       "27450  [\\n, Front, \\n]   [\\n5\\n]  [[9.7 l/100 km (comb.)], [13.5 l/100 km (city)...   \n",
       "27451  [\\n, Front, \\n]   [\\n5\\n]                           [[8.5 l/100 km (comb.)]]   \n",
       "27456  [\\n, Front, \\n]   [\\n5\\n]  [[10.7 l/100 km (comb.)], [15.3 l/100 km (city...   \n",
       "27486  [\\n, Front, \\n]   [\\n4\\n]  [[6 l/100 km (comb.)], [7.9 l/100 km (city)], ...   \n",
       "\n",
       "                                   comfort_&_convenience   \n",
       "26470  [Air conditioning, Automatic climate control, ...  \\\n",
       "26471  [Air conditioning, Armrest, Automatic climate ...   \n",
       "26472  [Air conditioning, Armrest, Automatic climate ...   \n",
       "26473  [Air conditioning, Armrest, Automatic climate ...   \n",
       "26474                                                NaN   \n",
       "...                                                  ...   \n",
       "27449  [Air conditioning, Armrest, Automatic climate ...   \n",
       "27450  [Air conditioning, Armrest, Automatic climate ...   \n",
       "27451  [Air conditioning, Armrest, Auxiliary heating,...   \n",
       "27456  [Armrest, Automatic climate control, 2 zones, ...   \n",
       "27486  [Air conditioning, Armrest, Automatic climate ...   \n",
       "\n",
       "                                   entertainment_&_media   \n",
       "26470                                                NaN  \\\n",
       "26471  [CD player, On-board computer, Radio, Sound sy...   \n",
       "26472  [CD player, On-board computer, Radio, Sound sy...   \n",
       "26473  [Bluetooth, CD player, Hands-free equipment, O...   \n",
       "26474                                                NaN   \n",
       "...                                                  ...   \n",
       "27449  [CD player, On-board computer, Radio, Sound sy...   \n",
       "27450              [CD player, On-board computer, Radio]   \n",
       "27451  [Android Auto, Apple CarPlay, Bluetooth, Digit...   \n",
       "27456  [CD player, Hands-free equipment, On-board com...   \n",
       "27486  [Bluetooth, CD player, Hands-free equipment, M...   \n",
       "\n",
       "                                       safety_&_security   \n",
       "26470  [ABS, Central door lock, Driver-side airbag, F...  \\\n",
       "26471  [ABS, Bi-Xenon headlights, Central door lock, ...   \n",
       "26472  [ABS, Bi-Xenon headlights, Central door lock, ...   \n",
       "26473  [ABS, Central door lock, Driver-side airbag, E...   \n",
       "26474                                                NaN   \n",
       "...                                                  ...   \n",
       "27449  [ABS, Adaptive headlights, Alarm system, Centr...   \n",
       "27450  [ABS, Alarm system, Central door lock, Central...   \n",
       "27451  [ABS, Alarm system, Central door lock, Central...   \n",
       "27456  [ABS, Central door lock with remote control, D...   \n",
       "27486  [ABS, Central door lock, Driver-side airbag, E...   \n",
       "\n",
       "                                                  extras    empty_weight          model_code   \n",
       "26470                                     [Alloy wheels]  [\\n1,711 kg\\n]                 NaN  \\\n",
       "26471  [Alloy wheels (18\"), Automatically dimming int...  [\\n1,685 kg\\n]  [\\n, 9101/ABY, \\n]   \n",
       "26472  [All season tyres, Alloy wheels, Automatically...             NaN                 NaN   \n",
       "26473  [All season tyres, Alloy wheels, Automatically...             NaN                 NaN   \n",
       "26474                                                NaN             NaN                 NaN   \n",
       "...                                                  ...             ...                 ...   \n",
       "27449  [Alloy wheels (17\"), Ambient lighting, Automat...  [\\n1,551 kg\\n]                 NaN   \n",
       "27450  [Alloy wheels (16\"), Automatically dimming int...  [\\n1,436 kg\\n]                 NaN   \n",
       "27451  [Alloy wheels (17\"), Spare tyre, Summer tyres,...  [\\n1,491 kg\\n]                 NaN   \n",
       "27456  [Alloy wheels (16\"), Automatically dimming int...  [\\n1,480 kg\\n]                 NaN   \n",
       "27486               [Alloy wheels (18\"), Emergency tyre]  [\\n1,706 kg\\n]                 NaN   \n",
       "\n",
       "      general_inspection full_service_history non_smoker_vehicle emission_class emissions_sticker   \n",
       "26470                NaN                  NaN                NaN            NaN               NaN  \\\n",
       "26471                New                  Yes                NaN         Euro 4         4 (Green)   \n",
       "26472            04/2024                  Yes                Yes         Euro 4         4 (Green)   \n",
       "26473            08/2023                  Yes                Yes         Euro 5         4 (Green)   \n",
       "26474                NaN                  NaN                NaN            NaN               NaN   \n",
       "...                  ...                  ...                ...            ...               ...   \n",
       "27449            02/2024                  NaN                Yes         Euro 6               NaN   \n",
       "27450                New                  Yes                NaN            NaN               NaN   \n",
       "27451            07/2023                  Yes                Yes         Euro 3               NaN   \n",
       "27456            06/2024                  Yes                Yes         Euro 3    1 (No sticker)   \n",
       "27486                NaN                  NaN                NaN         Euro 4               NaN   \n",
       "\n",
       "      upholstery_colour    upholstery  production_date              previous_owner   \n",
       "26470               NaN           NaN              NaN                         NaN  \\\n",
       "26471             Beige  Part leather              NaN  [[155,923 km, 08/2006], 2]   \n",
       "26472              Grey  Full leather              NaN   [[69,747 km, 05/2007], 1]   \n",
       "26473             Black  Part leather              NaN  [[146,348 km, 10/2011], 1]   \n",
       "26474               NaN           NaN              NaN                         NaN   \n",
       "...                 ...           ...              ...                         ...   \n",
       "27449              Grey  Full leather              NaN                         NaN   \n",
       "27450             Other  Full leather              NaN  [[118,232 km, 12/2000], 2]   \n",
       "27451             Black  Full leather              NaN  [[227,000 km, 02/2000], 1]   \n",
       "27456             Beige  Full leather              NaN  [[182,000 km, 11/1998], 1]   \n",
       "27486             Black  Full leather              NaN  [[195,000 km, 07/2008], 2]   \n",
       "\n",
       "      energy_efficiency_class                                      co_efficiency  \n",
       "26470                     NaN                                                NaN  \n",
       "26471                       F  Calculated on basis of measured CO₂-emissions ...  \n",
       "26472                     NaN                                                NaN  \n",
       "26473                     NaN                                                NaN  \n",
       "26474                     NaN                                                NaN  \n",
       "...                       ...                                                ...  \n",
       "27449                     NaN                                                NaN  \n",
       "27450                     NaN                                                NaN  \n",
       "27451                     NaN                                                NaN  \n",
       "27456                     NaN                                                NaN  \n",
       "27486                     NaN                                                NaN  \n",
       "\n",
       "[692 rows x 46 columns]"
      ]
     },
     "execution_count": 31,
     "metadata": {},
     "output_type": "execute_result"
    }
   ],
   "source": [
    "df[df.astype(str)['make_model'] == 'Volvo C70']"
   ]
  },
  {
   "cell_type": "code",
   "execution_count": 32,
   "metadata": {},
   "outputs": [
    {
     "data": {
      "text/plain": [
       "True     690\n",
       "False      2\n",
       "Name: count, dtype: int64"
      ]
     },
     "execution_count": 32,
     "metadata": {},
     "output_type": "execute_result"
    }
   ],
   "source": [
    "df[df['make_model'] == 'Volvo C70'].astype(str).duplicated(keep=False).value_counts(dropna=False)"
   ]
  },
  {
   "cell_type": "markdown",
   "metadata": {},
   "source": [
    "## <p style=\"background-color:#9d4f8c; font-family:newtimeroman; color:#FFF9ED; font-size:175%; text-align:center; border-radius:10px 10px;\">The Examination of Columns</p>\n",
    "\n",
    "⚠️ It's highly crucial for any analysis to get domain knowledge about the subject at hand before starting the examination of features/columns one by one. Therefore, always make search on that and keep scrutinizing/reading throughout your analysis\n",
    "\n",
    "**[12 Factors That Affect Your Car’s Resale Value](https://www.moneycrashers.com/factors-affect-used-cars-resale-value/)**\n",
    "\n",
    "**[9 Factors That Impact The Value of Your Car](https://carchase.com.au/resources/car-valuation-guide/9-factors-that-impact-the-value-of-your-car/)**\n",
    "\n",
    "**[Factors That Can Affect Used Car Trade-In Value](https://www.capitalone.com/cars/learn/managing-your-money-wisely/factors-that-can-affect-used-car-tradein-value/1224)**\n",
    "\n",
    "**[7 Factors That Influence the Price of a Used Car](https://www.truebil.com/blog/7-factors-that-influence-the-price-of-a-used-car)**\n",
    "\n",
    "**[A Study on the Factors Affecting the Value of Used Cars](https://www.google.com/url?sa=t&rct=j&q=&esrc=s&source=web&cd=&cad=rja&uact=8&ved=2ahUKEwjns7id59L7AhWfhv0HHUflBkwQFnoECCkQAQ&url=https%3A%2F%2Fwww.atlantis-press.com%2Farticle%2F25891081.pdf&usg=AOvVaw3JqJ5XKF1Wk0PC_56OSfal)**\n",
    "\n",
    "**[What are the factors that influence a used car price?](https://carsellzone.com/blog/detail/factors-affect-car-price)**\n",
    "\n",
    "<a id=\"3\"></a>\n",
    "<a href=\"#toc\" class=\"btn btn-primary btn-sm\" role=\"button\" aria-pressed=\"true\" \n",
    "style=\"color:blue; background-color:#dfa8e4\" data-toggle=\"popover\">Content</a>\n",
    "\n",
    "## Let's examine and clean all the columns/features one by one"
   ]
  },
  {
   "cell_type": "code",
   "execution_count": 33,
   "metadata": {},
   "outputs": [],
   "source": [
    "# function for first looking to the columns\n",
    "\n",
    "def first_looking(col):\n",
    "    print(\"column name    : \", col)\n",
    "    print(\"--------------------------------\")\n",
    "    print(\"per_of_nulls   : \", \"%\", round(df[col].isnull().sum()*100 / df.shape[0], 2))\n",
    "    print(\"num_of_nulls   : \", df[col].isnull().sum())\n",
    "    print(\"num_of_uniques : \", df[col].astype(str).nunique())\n",
    "    print(\"--------------------------------\")\n",
    "    print(df[col].value_counts(dropna = False))"
   ]
  },
  {
   "cell_type": "markdown",
   "metadata": {},
   "source": [
    "## price (target column)"
   ]
  },
  {
   "cell_type": "code",
   "execution_count": 34,
   "metadata": {},
   "outputs": [
    {
     "name": "stdout",
     "output_type": "stream",
     "text": [
      "column name    :  price\n",
      "--------------------------------\n",
      "per_of_nulls   :  % 2.88\n",
      "num_of_nulls   :  850\n",
      "num_of_uniques :  5022\n",
      "--------------------------------\n",
      "price\n",
      "NaN           850\n",
      "€ 14,990.-    222\n",
      "€ 12,990.-    219\n",
      "€ 16,990.-    186\n",
      "€ 19,990.-    166\n",
      "             ... \n",
      "€ 19,112.-      1\n",
      "€ 30,465.-      1\n",
      "€ 18,461.-      1\n",
      "€ 22,649.-      1\n",
      "€ 4,440.-       1\n",
      "Name: count, Length: 5022, dtype: int64\n"
     ]
    }
   ],
   "source": [
    "first_looking(\"price\")"
   ]
  },
  {
   "cell_type": "code",
   "execution_count": 35,
   "metadata": {},
   "outputs": [
    {
     "data": {
      "text/html": [
       "<div>\n",
       "<style scoped>\n",
       "    .dataframe tbody tr th:only-of-type {\n",
       "        vertical-align: middle;\n",
       "    }\n",
       "\n",
       "    .dataframe tbody tr th {\n",
       "        vertical-align: top;\n",
       "    }\n",
       "\n",
       "    .dataframe thead th {\n",
       "        text-align: right;\n",
       "    }\n",
       "</style>\n",
       "<table border=\"1\" class=\"dataframe\">\n",
       "  <thead>\n",
       "    <tr style=\"text-align: right;\">\n",
       "      <th></th>\n",
       "      <th>make_model</th>\n",
       "      <th>short_description</th>\n",
       "      <th>make</th>\n",
       "      <th>model</th>\n",
       "      <th>location</th>\n",
       "      <th>price</th>\n",
       "      <th>body_type</th>\n",
       "      <th>type</th>\n",
       "      <th>doors</th>\n",
       "      <th>country_version</th>\n",
       "      <th>offer_number</th>\n",
       "      <th>warranty</th>\n",
       "      <th>mileage</th>\n",
       "      <th>first_registration</th>\n",
       "      <th>gearbox</th>\n",
       "      <th>fuel_type</th>\n",
       "      <th>colour</th>\n",
       "      <th>paint</th>\n",
       "      <th>desc</th>\n",
       "      <th>seller</th>\n",
       "      <th>seats</th>\n",
       "      <th>power</th>\n",
       "      <th>engine_size</th>\n",
       "      <th>gears</th>\n",
       "      <th>co_emissions</th>\n",
       "      <th>manufacturer_colour</th>\n",
       "      <th>drivetrain</th>\n",
       "      <th>cylinders</th>\n",
       "      <th>fuel_consumption</th>\n",
       "      <th>comfort_&amp;_convenience</th>\n",
       "      <th>entertainment_&amp;_media</th>\n",
       "      <th>safety_&amp;_security</th>\n",
       "      <th>extras</th>\n",
       "      <th>empty_weight</th>\n",
       "      <th>model_code</th>\n",
       "      <th>general_inspection</th>\n",
       "      <th>full_service_history</th>\n",
       "      <th>non_smoker_vehicle</th>\n",
       "      <th>emission_class</th>\n",
       "      <th>emissions_sticker</th>\n",
       "      <th>upholstery_colour</th>\n",
       "      <th>upholstery</th>\n",
       "      <th>production_date</th>\n",
       "      <th>previous_owner</th>\n",
       "      <th>energy_efficiency_class</th>\n",
       "      <th>co_efficiency</th>\n",
       "    </tr>\n",
       "  </thead>\n",
       "  <tbody>\n",
       "    <tr>\n",
       "      <th>4116</th>\n",
       "      <td>NaN</td>\n",
       "      <td>NaN</td>\n",
       "      <td>NaN</td>\n",
       "      <td>NaN</td>\n",
       "      <td>NaN</td>\n",
       "      <td>NaN</td>\n",
       "      <td>NaN</td>\n",
       "      <td>NaN</td>\n",
       "      <td>NaN</td>\n",
       "      <td>NaN</td>\n",
       "      <td>NaN</td>\n",
       "      <td>NaN</td>\n",
       "      <td>NaN</td>\n",
       "      <td>NaN</td>\n",
       "      <td>NaN</td>\n",
       "      <td>NaN</td>\n",
       "      <td>NaN</td>\n",
       "      <td>NaN</td>\n",
       "      <td>NaN</td>\n",
       "      <td>NaN</td>\n",
       "      <td>NaN</td>\n",
       "      <td>NaN</td>\n",
       "      <td>NaN</td>\n",
       "      <td>NaN</td>\n",
       "      <td>NaN</td>\n",
       "      <td>NaN</td>\n",
       "      <td>NaN</td>\n",
       "      <td>NaN</td>\n",
       "      <td>NaN</td>\n",
       "      <td>NaN</td>\n",
       "      <td>NaN</td>\n",
       "      <td>NaN</td>\n",
       "      <td>NaN</td>\n",
       "      <td>NaN</td>\n",
       "      <td>NaN</td>\n",
       "      <td>NaN</td>\n",
       "      <td>NaN</td>\n",
       "      <td>NaN</td>\n",
       "      <td>NaN</td>\n",
       "      <td>NaN</td>\n",
       "      <td>NaN</td>\n",
       "      <td>NaN</td>\n",
       "      <td>NaN</td>\n",
       "      <td>NaN</td>\n",
       "      <td>NaN</td>\n",
       "      <td>NaN</td>\n",
       "    </tr>\n",
       "    <tr>\n",
       "      <th>26848</th>\n",
       "      <td>NaN</td>\n",
       "      <td>NaN</td>\n",
       "      <td>NaN</td>\n",
       "      <td>NaN</td>\n",
       "      <td>NaN</td>\n",
       "      <td>NaN</td>\n",
       "      <td>NaN</td>\n",
       "      <td>NaN</td>\n",
       "      <td>NaN</td>\n",
       "      <td>NaN</td>\n",
       "      <td>NaN</td>\n",
       "      <td>NaN</td>\n",
       "      <td>NaN</td>\n",
       "      <td>NaN</td>\n",
       "      <td>NaN</td>\n",
       "      <td>NaN</td>\n",
       "      <td>NaN</td>\n",
       "      <td>NaN</td>\n",
       "      <td>NaN</td>\n",
       "      <td>NaN</td>\n",
       "      <td>NaN</td>\n",
       "      <td>NaN</td>\n",
       "      <td>NaN</td>\n",
       "      <td>NaN</td>\n",
       "      <td>NaN</td>\n",
       "      <td>NaN</td>\n",
       "      <td>NaN</td>\n",
       "      <td>NaN</td>\n",
       "      <td>NaN</td>\n",
       "      <td>NaN</td>\n",
       "      <td>NaN</td>\n",
       "      <td>NaN</td>\n",
       "      <td>NaN</td>\n",
       "      <td>NaN</td>\n",
       "      <td>NaN</td>\n",
       "      <td>NaN</td>\n",
       "      <td>NaN</td>\n",
       "      <td>NaN</td>\n",
       "      <td>NaN</td>\n",
       "      <td>NaN</td>\n",
       "      <td>NaN</td>\n",
       "      <td>NaN</td>\n",
       "      <td>NaN</td>\n",
       "      <td>NaN</td>\n",
       "      <td>NaN</td>\n",
       "      <td>NaN</td>\n",
       "    </tr>\n",
       "    <tr>\n",
       "      <th>16678</th>\n",
       "      <td>NaN</td>\n",
       "      <td>NaN</td>\n",
       "      <td>NaN</td>\n",
       "      <td>NaN</td>\n",
       "      <td>NaN</td>\n",
       "      <td>NaN</td>\n",
       "      <td>NaN</td>\n",
       "      <td>NaN</td>\n",
       "      <td>NaN</td>\n",
       "      <td>NaN</td>\n",
       "      <td>NaN</td>\n",
       "      <td>NaN</td>\n",
       "      <td>NaN</td>\n",
       "      <td>NaN</td>\n",
       "      <td>NaN</td>\n",
       "      <td>NaN</td>\n",
       "      <td>NaN</td>\n",
       "      <td>NaN</td>\n",
       "      <td>NaN</td>\n",
       "      <td>NaN</td>\n",
       "      <td>NaN</td>\n",
       "      <td>NaN</td>\n",
       "      <td>NaN</td>\n",
       "      <td>NaN</td>\n",
       "      <td>NaN</td>\n",
       "      <td>NaN</td>\n",
       "      <td>NaN</td>\n",
       "      <td>NaN</td>\n",
       "      <td>NaN</td>\n",
       "      <td>NaN</td>\n",
       "      <td>NaN</td>\n",
       "      <td>NaN</td>\n",
       "      <td>NaN</td>\n",
       "      <td>NaN</td>\n",
       "      <td>NaN</td>\n",
       "      <td>NaN</td>\n",
       "      <td>NaN</td>\n",
       "      <td>NaN</td>\n",
       "      <td>NaN</td>\n",
       "      <td>NaN</td>\n",
       "      <td>NaN</td>\n",
       "      <td>NaN</td>\n",
       "      <td>NaN</td>\n",
       "      <td>NaN</td>\n",
       "      <td>NaN</td>\n",
       "      <td>NaN</td>\n",
       "    </tr>\n",
       "    <tr>\n",
       "      <th>27133</th>\n",
       "      <td>NaN</td>\n",
       "      <td>NaN</td>\n",
       "      <td>NaN</td>\n",
       "      <td>NaN</td>\n",
       "      <td>NaN</td>\n",
       "      <td>NaN</td>\n",
       "      <td>NaN</td>\n",
       "      <td>NaN</td>\n",
       "      <td>NaN</td>\n",
       "      <td>NaN</td>\n",
       "      <td>NaN</td>\n",
       "      <td>NaN</td>\n",
       "      <td>NaN</td>\n",
       "      <td>NaN</td>\n",
       "      <td>NaN</td>\n",
       "      <td>NaN</td>\n",
       "      <td>NaN</td>\n",
       "      <td>NaN</td>\n",
       "      <td>NaN</td>\n",
       "      <td>NaN</td>\n",
       "      <td>NaN</td>\n",
       "      <td>NaN</td>\n",
       "      <td>NaN</td>\n",
       "      <td>NaN</td>\n",
       "      <td>NaN</td>\n",
       "      <td>NaN</td>\n",
       "      <td>NaN</td>\n",
       "      <td>NaN</td>\n",
       "      <td>NaN</td>\n",
       "      <td>NaN</td>\n",
       "      <td>NaN</td>\n",
       "      <td>NaN</td>\n",
       "      <td>NaN</td>\n",
       "      <td>NaN</td>\n",
       "      <td>NaN</td>\n",
       "      <td>NaN</td>\n",
       "      <td>NaN</td>\n",
       "      <td>NaN</td>\n",
       "      <td>NaN</td>\n",
       "      <td>NaN</td>\n",
       "      <td>NaN</td>\n",
       "      <td>NaN</td>\n",
       "      <td>NaN</td>\n",
       "      <td>NaN</td>\n",
       "      <td>NaN</td>\n",
       "      <td>NaN</td>\n",
       "    </tr>\n",
       "    <tr>\n",
       "      <th>13596</th>\n",
       "      <td>NaN</td>\n",
       "      <td>NaN</td>\n",
       "      <td>NaN</td>\n",
       "      <td>NaN</td>\n",
       "      <td>NaN</td>\n",
       "      <td>NaN</td>\n",
       "      <td>NaN</td>\n",
       "      <td>NaN</td>\n",
       "      <td>NaN</td>\n",
       "      <td>NaN</td>\n",
       "      <td>NaN</td>\n",
       "      <td>NaN</td>\n",
       "      <td>NaN</td>\n",
       "      <td>NaN</td>\n",
       "      <td>NaN</td>\n",
       "      <td>NaN</td>\n",
       "      <td>NaN</td>\n",
       "      <td>NaN</td>\n",
       "      <td>NaN</td>\n",
       "      <td>NaN</td>\n",
       "      <td>NaN</td>\n",
       "      <td>NaN</td>\n",
       "      <td>NaN</td>\n",
       "      <td>NaN</td>\n",
       "      <td>NaN</td>\n",
       "      <td>NaN</td>\n",
       "      <td>NaN</td>\n",
       "      <td>NaN</td>\n",
       "      <td>NaN</td>\n",
       "      <td>NaN</td>\n",
       "      <td>NaN</td>\n",
       "      <td>NaN</td>\n",
       "      <td>NaN</td>\n",
       "      <td>NaN</td>\n",
       "      <td>NaN</td>\n",
       "      <td>NaN</td>\n",
       "      <td>NaN</td>\n",
       "      <td>NaN</td>\n",
       "      <td>NaN</td>\n",
       "      <td>NaN</td>\n",
       "      <td>NaN</td>\n",
       "      <td>NaN</td>\n",
       "      <td>NaN</td>\n",
       "      <td>NaN</td>\n",
       "      <td>NaN</td>\n",
       "      <td>NaN</td>\n",
       "    </tr>\n",
       "    <tr>\n",
       "      <th>13975</th>\n",
       "      <td>NaN</td>\n",
       "      <td>NaN</td>\n",
       "      <td>NaN</td>\n",
       "      <td>NaN</td>\n",
       "      <td>NaN</td>\n",
       "      <td>NaN</td>\n",
       "      <td>NaN</td>\n",
       "      <td>NaN</td>\n",
       "      <td>NaN</td>\n",
       "      <td>NaN</td>\n",
       "      <td>NaN</td>\n",
       "      <td>NaN</td>\n",
       "      <td>NaN</td>\n",
       "      <td>NaN</td>\n",
       "      <td>NaN</td>\n",
       "      <td>NaN</td>\n",
       "      <td>NaN</td>\n",
       "      <td>NaN</td>\n",
       "      <td>NaN</td>\n",
       "      <td>NaN</td>\n",
       "      <td>NaN</td>\n",
       "      <td>NaN</td>\n",
       "      <td>NaN</td>\n",
       "      <td>NaN</td>\n",
       "      <td>NaN</td>\n",
       "      <td>NaN</td>\n",
       "      <td>NaN</td>\n",
       "      <td>NaN</td>\n",
       "      <td>NaN</td>\n",
       "      <td>NaN</td>\n",
       "      <td>NaN</td>\n",
       "      <td>NaN</td>\n",
       "      <td>NaN</td>\n",
       "      <td>NaN</td>\n",
       "      <td>NaN</td>\n",
       "      <td>NaN</td>\n",
       "      <td>NaN</td>\n",
       "      <td>NaN</td>\n",
       "      <td>NaN</td>\n",
       "      <td>NaN</td>\n",
       "      <td>NaN</td>\n",
       "      <td>NaN</td>\n",
       "      <td>NaN</td>\n",
       "      <td>NaN</td>\n",
       "      <td>NaN</td>\n",
       "      <td>NaN</td>\n",
       "    </tr>\n",
       "    <tr>\n",
       "      <th>18632</th>\n",
       "      <td>NaN</td>\n",
       "      <td>NaN</td>\n",
       "      <td>NaN</td>\n",
       "      <td>NaN</td>\n",
       "      <td>NaN</td>\n",
       "      <td>NaN</td>\n",
       "      <td>NaN</td>\n",
       "      <td>NaN</td>\n",
       "      <td>NaN</td>\n",
       "      <td>NaN</td>\n",
       "      <td>NaN</td>\n",
       "      <td>NaN</td>\n",
       "      <td>NaN</td>\n",
       "      <td>NaN</td>\n",
       "      <td>NaN</td>\n",
       "      <td>NaN</td>\n",
       "      <td>NaN</td>\n",
       "      <td>NaN</td>\n",
       "      <td>NaN</td>\n",
       "      <td>NaN</td>\n",
       "      <td>NaN</td>\n",
       "      <td>NaN</td>\n",
       "      <td>NaN</td>\n",
       "      <td>NaN</td>\n",
       "      <td>NaN</td>\n",
       "      <td>NaN</td>\n",
       "      <td>NaN</td>\n",
       "      <td>NaN</td>\n",
       "      <td>NaN</td>\n",
       "      <td>NaN</td>\n",
       "      <td>NaN</td>\n",
       "      <td>NaN</td>\n",
       "      <td>NaN</td>\n",
       "      <td>NaN</td>\n",
       "      <td>NaN</td>\n",
       "      <td>NaN</td>\n",
       "      <td>NaN</td>\n",
       "      <td>NaN</td>\n",
       "      <td>NaN</td>\n",
       "      <td>NaN</td>\n",
       "      <td>NaN</td>\n",
       "      <td>NaN</td>\n",
       "      <td>NaN</td>\n",
       "      <td>NaN</td>\n",
       "      <td>NaN</td>\n",
       "      <td>NaN</td>\n",
       "    </tr>\n",
       "    <tr>\n",
       "      <th>18379</th>\n",
       "      <td>NaN</td>\n",
       "      <td>NaN</td>\n",
       "      <td>NaN</td>\n",
       "      <td>NaN</td>\n",
       "      <td>NaN</td>\n",
       "      <td>NaN</td>\n",
       "      <td>NaN</td>\n",
       "      <td>NaN</td>\n",
       "      <td>NaN</td>\n",
       "      <td>NaN</td>\n",
       "      <td>NaN</td>\n",
       "      <td>NaN</td>\n",
       "      <td>NaN</td>\n",
       "      <td>NaN</td>\n",
       "      <td>NaN</td>\n",
       "      <td>NaN</td>\n",
       "      <td>NaN</td>\n",
       "      <td>NaN</td>\n",
       "      <td>NaN</td>\n",
       "      <td>NaN</td>\n",
       "      <td>NaN</td>\n",
       "      <td>NaN</td>\n",
       "      <td>NaN</td>\n",
       "      <td>NaN</td>\n",
       "      <td>NaN</td>\n",
       "      <td>NaN</td>\n",
       "      <td>NaN</td>\n",
       "      <td>NaN</td>\n",
       "      <td>NaN</td>\n",
       "      <td>NaN</td>\n",
       "      <td>NaN</td>\n",
       "      <td>NaN</td>\n",
       "      <td>NaN</td>\n",
       "      <td>NaN</td>\n",
       "      <td>NaN</td>\n",
       "      <td>NaN</td>\n",
       "      <td>NaN</td>\n",
       "      <td>NaN</td>\n",
       "      <td>NaN</td>\n",
       "      <td>NaN</td>\n",
       "      <td>NaN</td>\n",
       "      <td>NaN</td>\n",
       "      <td>NaN</td>\n",
       "      <td>NaN</td>\n",
       "      <td>NaN</td>\n",
       "      <td>NaN</td>\n",
       "    </tr>\n",
       "    <tr>\n",
       "      <th>17024</th>\n",
       "      <td>NaN</td>\n",
       "      <td>NaN</td>\n",
       "      <td>NaN</td>\n",
       "      <td>NaN</td>\n",
       "      <td>NaN</td>\n",
       "      <td>NaN</td>\n",
       "      <td>NaN</td>\n",
       "      <td>NaN</td>\n",
       "      <td>NaN</td>\n",
       "      <td>NaN</td>\n",
       "      <td>NaN</td>\n",
       "      <td>NaN</td>\n",
       "      <td>NaN</td>\n",
       "      <td>NaN</td>\n",
       "      <td>NaN</td>\n",
       "      <td>NaN</td>\n",
       "      <td>NaN</td>\n",
       "      <td>NaN</td>\n",
       "      <td>NaN</td>\n",
       "      <td>NaN</td>\n",
       "      <td>NaN</td>\n",
       "      <td>NaN</td>\n",
       "      <td>NaN</td>\n",
       "      <td>NaN</td>\n",
       "      <td>NaN</td>\n",
       "      <td>NaN</td>\n",
       "      <td>NaN</td>\n",
       "      <td>NaN</td>\n",
       "      <td>NaN</td>\n",
       "      <td>NaN</td>\n",
       "      <td>NaN</td>\n",
       "      <td>NaN</td>\n",
       "      <td>NaN</td>\n",
       "      <td>NaN</td>\n",
       "      <td>NaN</td>\n",
       "      <td>NaN</td>\n",
       "      <td>NaN</td>\n",
       "      <td>NaN</td>\n",
       "      <td>NaN</td>\n",
       "      <td>NaN</td>\n",
       "      <td>NaN</td>\n",
       "      <td>NaN</td>\n",
       "      <td>NaN</td>\n",
       "      <td>NaN</td>\n",
       "      <td>NaN</td>\n",
       "      <td>NaN</td>\n",
       "    </tr>\n",
       "    <tr>\n",
       "      <th>25767</th>\n",
       "      <td>NaN</td>\n",
       "      <td>NaN</td>\n",
       "      <td>NaN</td>\n",
       "      <td>NaN</td>\n",
       "      <td>NaN</td>\n",
       "      <td>NaN</td>\n",
       "      <td>NaN</td>\n",
       "      <td>NaN</td>\n",
       "      <td>NaN</td>\n",
       "      <td>NaN</td>\n",
       "      <td>NaN</td>\n",
       "      <td>NaN</td>\n",
       "      <td>NaN</td>\n",
       "      <td>NaN</td>\n",
       "      <td>NaN</td>\n",
       "      <td>NaN</td>\n",
       "      <td>NaN</td>\n",
       "      <td>NaN</td>\n",
       "      <td>NaN</td>\n",
       "      <td>NaN</td>\n",
       "      <td>NaN</td>\n",
       "      <td>NaN</td>\n",
       "      <td>NaN</td>\n",
       "      <td>NaN</td>\n",
       "      <td>NaN</td>\n",
       "      <td>NaN</td>\n",
       "      <td>NaN</td>\n",
       "      <td>NaN</td>\n",
       "      <td>NaN</td>\n",
       "      <td>NaN</td>\n",
       "      <td>NaN</td>\n",
       "      <td>NaN</td>\n",
       "      <td>NaN</td>\n",
       "      <td>NaN</td>\n",
       "      <td>NaN</td>\n",
       "      <td>NaN</td>\n",
       "      <td>NaN</td>\n",
       "      <td>NaN</td>\n",
       "      <td>NaN</td>\n",
       "      <td>NaN</td>\n",
       "      <td>NaN</td>\n",
       "      <td>NaN</td>\n",
       "      <td>NaN</td>\n",
       "      <td>NaN</td>\n",
       "      <td>NaN</td>\n",
       "      <td>NaN</td>\n",
       "    </tr>\n",
       "    <tr>\n",
       "      <th>22002</th>\n",
       "      <td>NaN</td>\n",
       "      <td>NaN</td>\n",
       "      <td>NaN</td>\n",
       "      <td>NaN</td>\n",
       "      <td>NaN</td>\n",
       "      <td>NaN</td>\n",
       "      <td>NaN</td>\n",
       "      <td>NaN</td>\n",
       "      <td>NaN</td>\n",
       "      <td>NaN</td>\n",
       "      <td>NaN</td>\n",
       "      <td>NaN</td>\n",
       "      <td>NaN</td>\n",
       "      <td>NaN</td>\n",
       "      <td>NaN</td>\n",
       "      <td>NaN</td>\n",
       "      <td>NaN</td>\n",
       "      <td>NaN</td>\n",
       "      <td>NaN</td>\n",
       "      <td>NaN</td>\n",
       "      <td>NaN</td>\n",
       "      <td>NaN</td>\n",
       "      <td>NaN</td>\n",
       "      <td>NaN</td>\n",
       "      <td>NaN</td>\n",
       "      <td>NaN</td>\n",
       "      <td>NaN</td>\n",
       "      <td>NaN</td>\n",
       "      <td>NaN</td>\n",
       "      <td>NaN</td>\n",
       "      <td>NaN</td>\n",
       "      <td>NaN</td>\n",
       "      <td>NaN</td>\n",
       "      <td>NaN</td>\n",
       "      <td>NaN</td>\n",
       "      <td>NaN</td>\n",
       "      <td>NaN</td>\n",
       "      <td>NaN</td>\n",
       "      <td>NaN</td>\n",
       "      <td>NaN</td>\n",
       "      <td>NaN</td>\n",
       "      <td>NaN</td>\n",
       "      <td>NaN</td>\n",
       "      <td>NaN</td>\n",
       "      <td>NaN</td>\n",
       "      <td>NaN</td>\n",
       "    </tr>\n",
       "    <tr>\n",
       "      <th>23485</th>\n",
       "      <td>NaN</td>\n",
       "      <td>NaN</td>\n",
       "      <td>NaN</td>\n",
       "      <td>NaN</td>\n",
       "      <td>NaN</td>\n",
       "      <td>NaN</td>\n",
       "      <td>NaN</td>\n",
       "      <td>NaN</td>\n",
       "      <td>NaN</td>\n",
       "      <td>NaN</td>\n",
       "      <td>NaN</td>\n",
       "      <td>NaN</td>\n",
       "      <td>NaN</td>\n",
       "      <td>NaN</td>\n",
       "      <td>NaN</td>\n",
       "      <td>NaN</td>\n",
       "      <td>NaN</td>\n",
       "      <td>NaN</td>\n",
       "      <td>NaN</td>\n",
       "      <td>NaN</td>\n",
       "      <td>NaN</td>\n",
       "      <td>NaN</td>\n",
       "      <td>NaN</td>\n",
       "      <td>NaN</td>\n",
       "      <td>NaN</td>\n",
       "      <td>NaN</td>\n",
       "      <td>NaN</td>\n",
       "      <td>NaN</td>\n",
       "      <td>NaN</td>\n",
       "      <td>NaN</td>\n",
       "      <td>NaN</td>\n",
       "      <td>NaN</td>\n",
       "      <td>NaN</td>\n",
       "      <td>NaN</td>\n",
       "      <td>NaN</td>\n",
       "      <td>NaN</td>\n",
       "      <td>NaN</td>\n",
       "      <td>NaN</td>\n",
       "      <td>NaN</td>\n",
       "      <td>NaN</td>\n",
       "      <td>NaN</td>\n",
       "      <td>NaN</td>\n",
       "      <td>NaN</td>\n",
       "      <td>NaN</td>\n",
       "      <td>NaN</td>\n",
       "      <td>NaN</td>\n",
       "    </tr>\n",
       "    <tr>\n",
       "      <th>13164</th>\n",
       "      <td>NaN</td>\n",
       "      <td>NaN</td>\n",
       "      <td>NaN</td>\n",
       "      <td>NaN</td>\n",
       "      <td>NaN</td>\n",
       "      <td>NaN</td>\n",
       "      <td>NaN</td>\n",
       "      <td>NaN</td>\n",
       "      <td>NaN</td>\n",
       "      <td>NaN</td>\n",
       "      <td>NaN</td>\n",
       "      <td>NaN</td>\n",
       "      <td>NaN</td>\n",
       "      <td>NaN</td>\n",
       "      <td>NaN</td>\n",
       "      <td>NaN</td>\n",
       "      <td>NaN</td>\n",
       "      <td>NaN</td>\n",
       "      <td>NaN</td>\n",
       "      <td>NaN</td>\n",
       "      <td>NaN</td>\n",
       "      <td>NaN</td>\n",
       "      <td>NaN</td>\n",
       "      <td>NaN</td>\n",
       "      <td>NaN</td>\n",
       "      <td>NaN</td>\n",
       "      <td>NaN</td>\n",
       "      <td>NaN</td>\n",
       "      <td>NaN</td>\n",
       "      <td>NaN</td>\n",
       "      <td>NaN</td>\n",
       "      <td>NaN</td>\n",
       "      <td>NaN</td>\n",
       "      <td>NaN</td>\n",
       "      <td>NaN</td>\n",
       "      <td>NaN</td>\n",
       "      <td>NaN</td>\n",
       "      <td>NaN</td>\n",
       "      <td>NaN</td>\n",
       "      <td>NaN</td>\n",
       "      <td>NaN</td>\n",
       "      <td>NaN</td>\n",
       "      <td>NaN</td>\n",
       "      <td>NaN</td>\n",
       "      <td>NaN</td>\n",
       "      <td>NaN</td>\n",
       "    </tr>\n",
       "    <tr>\n",
       "      <th>22048</th>\n",
       "      <td>NaN</td>\n",
       "      <td>NaN</td>\n",
       "      <td>NaN</td>\n",
       "      <td>NaN</td>\n",
       "      <td>NaN</td>\n",
       "      <td>NaN</td>\n",
       "      <td>NaN</td>\n",
       "      <td>NaN</td>\n",
       "      <td>NaN</td>\n",
       "      <td>NaN</td>\n",
       "      <td>NaN</td>\n",
       "      <td>NaN</td>\n",
       "      <td>NaN</td>\n",
       "      <td>NaN</td>\n",
       "      <td>NaN</td>\n",
       "      <td>NaN</td>\n",
       "      <td>NaN</td>\n",
       "      <td>NaN</td>\n",
       "      <td>NaN</td>\n",
       "      <td>NaN</td>\n",
       "      <td>NaN</td>\n",
       "      <td>NaN</td>\n",
       "      <td>NaN</td>\n",
       "      <td>NaN</td>\n",
       "      <td>NaN</td>\n",
       "      <td>NaN</td>\n",
       "      <td>NaN</td>\n",
       "      <td>NaN</td>\n",
       "      <td>NaN</td>\n",
       "      <td>NaN</td>\n",
       "      <td>NaN</td>\n",
       "      <td>NaN</td>\n",
       "      <td>NaN</td>\n",
       "      <td>NaN</td>\n",
       "      <td>NaN</td>\n",
       "      <td>NaN</td>\n",
       "      <td>NaN</td>\n",
       "      <td>NaN</td>\n",
       "      <td>NaN</td>\n",
       "      <td>NaN</td>\n",
       "      <td>NaN</td>\n",
       "      <td>NaN</td>\n",
       "      <td>NaN</td>\n",
       "      <td>NaN</td>\n",
       "      <td>NaN</td>\n",
       "      <td>NaN</td>\n",
       "    </tr>\n",
       "    <tr>\n",
       "      <th>21387</th>\n",
       "      <td>NaN</td>\n",
       "      <td>NaN</td>\n",
       "      <td>NaN</td>\n",
       "      <td>NaN</td>\n",
       "      <td>NaN</td>\n",
       "      <td>NaN</td>\n",
       "      <td>NaN</td>\n",
       "      <td>NaN</td>\n",
       "      <td>NaN</td>\n",
       "      <td>NaN</td>\n",
       "      <td>NaN</td>\n",
       "      <td>NaN</td>\n",
       "      <td>NaN</td>\n",
       "      <td>NaN</td>\n",
       "      <td>NaN</td>\n",
       "      <td>NaN</td>\n",
       "      <td>NaN</td>\n",
       "      <td>NaN</td>\n",
       "      <td>NaN</td>\n",
       "      <td>NaN</td>\n",
       "      <td>NaN</td>\n",
       "      <td>NaN</td>\n",
       "      <td>NaN</td>\n",
       "      <td>NaN</td>\n",
       "      <td>NaN</td>\n",
       "      <td>NaN</td>\n",
       "      <td>NaN</td>\n",
       "      <td>NaN</td>\n",
       "      <td>NaN</td>\n",
       "      <td>NaN</td>\n",
       "      <td>NaN</td>\n",
       "      <td>NaN</td>\n",
       "      <td>NaN</td>\n",
       "      <td>NaN</td>\n",
       "      <td>NaN</td>\n",
       "      <td>NaN</td>\n",
       "      <td>NaN</td>\n",
       "      <td>NaN</td>\n",
       "      <td>NaN</td>\n",
       "      <td>NaN</td>\n",
       "      <td>NaN</td>\n",
       "      <td>NaN</td>\n",
       "      <td>NaN</td>\n",
       "      <td>NaN</td>\n",
       "      <td>NaN</td>\n",
       "      <td>NaN</td>\n",
       "    </tr>\n",
       "    <tr>\n",
       "      <th>10659</th>\n",
       "      <td>NaN</td>\n",
       "      <td>NaN</td>\n",
       "      <td>NaN</td>\n",
       "      <td>NaN</td>\n",
       "      <td>NaN</td>\n",
       "      <td>NaN</td>\n",
       "      <td>NaN</td>\n",
       "      <td>NaN</td>\n",
       "      <td>NaN</td>\n",
       "      <td>NaN</td>\n",
       "      <td>NaN</td>\n",
       "      <td>NaN</td>\n",
       "      <td>NaN</td>\n",
       "      <td>NaN</td>\n",
       "      <td>NaN</td>\n",
       "      <td>NaN</td>\n",
       "      <td>NaN</td>\n",
       "      <td>NaN</td>\n",
       "      <td>NaN</td>\n",
       "      <td>NaN</td>\n",
       "      <td>NaN</td>\n",
       "      <td>NaN</td>\n",
       "      <td>NaN</td>\n",
       "      <td>NaN</td>\n",
       "      <td>NaN</td>\n",
       "      <td>NaN</td>\n",
       "      <td>NaN</td>\n",
       "      <td>NaN</td>\n",
       "      <td>NaN</td>\n",
       "      <td>NaN</td>\n",
       "      <td>NaN</td>\n",
       "      <td>NaN</td>\n",
       "      <td>NaN</td>\n",
       "      <td>NaN</td>\n",
       "      <td>NaN</td>\n",
       "      <td>NaN</td>\n",
       "      <td>NaN</td>\n",
       "      <td>NaN</td>\n",
       "      <td>NaN</td>\n",
       "      <td>NaN</td>\n",
       "      <td>NaN</td>\n",
       "      <td>NaN</td>\n",
       "      <td>NaN</td>\n",
       "      <td>NaN</td>\n",
       "      <td>NaN</td>\n",
       "      <td>NaN</td>\n",
       "    </tr>\n",
       "    <tr>\n",
       "      <th>27304</th>\n",
       "      <td>NaN</td>\n",
       "      <td>NaN</td>\n",
       "      <td>NaN</td>\n",
       "      <td>NaN</td>\n",
       "      <td>NaN</td>\n",
       "      <td>NaN</td>\n",
       "      <td>NaN</td>\n",
       "      <td>NaN</td>\n",
       "      <td>NaN</td>\n",
       "      <td>NaN</td>\n",
       "      <td>NaN</td>\n",
       "      <td>NaN</td>\n",
       "      <td>NaN</td>\n",
       "      <td>NaN</td>\n",
       "      <td>NaN</td>\n",
       "      <td>NaN</td>\n",
       "      <td>NaN</td>\n",
       "      <td>NaN</td>\n",
       "      <td>NaN</td>\n",
       "      <td>NaN</td>\n",
       "      <td>NaN</td>\n",
       "      <td>NaN</td>\n",
       "      <td>NaN</td>\n",
       "      <td>NaN</td>\n",
       "      <td>NaN</td>\n",
       "      <td>NaN</td>\n",
       "      <td>NaN</td>\n",
       "      <td>NaN</td>\n",
       "      <td>NaN</td>\n",
       "      <td>NaN</td>\n",
       "      <td>NaN</td>\n",
       "      <td>NaN</td>\n",
       "      <td>NaN</td>\n",
       "      <td>NaN</td>\n",
       "      <td>NaN</td>\n",
       "      <td>NaN</td>\n",
       "      <td>NaN</td>\n",
       "      <td>NaN</td>\n",
       "      <td>NaN</td>\n",
       "      <td>NaN</td>\n",
       "      <td>NaN</td>\n",
       "      <td>NaN</td>\n",
       "      <td>NaN</td>\n",
       "      <td>NaN</td>\n",
       "      <td>NaN</td>\n",
       "      <td>NaN</td>\n",
       "    </tr>\n",
       "    <tr>\n",
       "      <th>18403</th>\n",
       "      <td>NaN</td>\n",
       "      <td>NaN</td>\n",
       "      <td>NaN</td>\n",
       "      <td>NaN</td>\n",
       "      <td>NaN</td>\n",
       "      <td>NaN</td>\n",
       "      <td>NaN</td>\n",
       "      <td>NaN</td>\n",
       "      <td>NaN</td>\n",
       "      <td>NaN</td>\n",
       "      <td>NaN</td>\n",
       "      <td>NaN</td>\n",
       "      <td>NaN</td>\n",
       "      <td>NaN</td>\n",
       "      <td>NaN</td>\n",
       "      <td>NaN</td>\n",
       "      <td>NaN</td>\n",
       "      <td>NaN</td>\n",
       "      <td>NaN</td>\n",
       "      <td>NaN</td>\n",
       "      <td>NaN</td>\n",
       "      <td>NaN</td>\n",
       "      <td>NaN</td>\n",
       "      <td>NaN</td>\n",
       "      <td>NaN</td>\n",
       "      <td>NaN</td>\n",
       "      <td>NaN</td>\n",
       "      <td>NaN</td>\n",
       "      <td>NaN</td>\n",
       "      <td>NaN</td>\n",
       "      <td>NaN</td>\n",
       "      <td>NaN</td>\n",
       "      <td>NaN</td>\n",
       "      <td>NaN</td>\n",
       "      <td>NaN</td>\n",
       "      <td>NaN</td>\n",
       "      <td>NaN</td>\n",
       "      <td>NaN</td>\n",
       "      <td>NaN</td>\n",
       "      <td>NaN</td>\n",
       "      <td>NaN</td>\n",
       "      <td>NaN</td>\n",
       "      <td>NaN</td>\n",
       "      <td>NaN</td>\n",
       "      <td>NaN</td>\n",
       "      <td>NaN</td>\n",
       "    </tr>\n",
       "    <tr>\n",
       "      <th>28747</th>\n",
       "      <td>NaN</td>\n",
       "      <td>NaN</td>\n",
       "      <td>NaN</td>\n",
       "      <td>NaN</td>\n",
       "      <td>NaN</td>\n",
       "      <td>NaN</td>\n",
       "      <td>NaN</td>\n",
       "      <td>NaN</td>\n",
       "      <td>NaN</td>\n",
       "      <td>NaN</td>\n",
       "      <td>NaN</td>\n",
       "      <td>NaN</td>\n",
       "      <td>NaN</td>\n",
       "      <td>NaN</td>\n",
       "      <td>NaN</td>\n",
       "      <td>NaN</td>\n",
       "      <td>NaN</td>\n",
       "      <td>NaN</td>\n",
       "      <td>NaN</td>\n",
       "      <td>NaN</td>\n",
       "      <td>NaN</td>\n",
       "      <td>NaN</td>\n",
       "      <td>NaN</td>\n",
       "      <td>NaN</td>\n",
       "      <td>NaN</td>\n",
       "      <td>NaN</td>\n",
       "      <td>NaN</td>\n",
       "      <td>NaN</td>\n",
       "      <td>NaN</td>\n",
       "      <td>NaN</td>\n",
       "      <td>NaN</td>\n",
       "      <td>NaN</td>\n",
       "      <td>NaN</td>\n",
       "      <td>NaN</td>\n",
       "      <td>NaN</td>\n",
       "      <td>NaN</td>\n",
       "      <td>NaN</td>\n",
       "      <td>NaN</td>\n",
       "      <td>NaN</td>\n",
       "      <td>NaN</td>\n",
       "      <td>NaN</td>\n",
       "      <td>NaN</td>\n",
       "      <td>NaN</td>\n",
       "      <td>NaN</td>\n",
       "      <td>NaN</td>\n",
       "      <td>NaN</td>\n",
       "    </tr>\n",
       "    <tr>\n",
       "      <th>6321</th>\n",
       "      <td>NaN</td>\n",
       "      <td>NaN</td>\n",
       "      <td>NaN</td>\n",
       "      <td>NaN</td>\n",
       "      <td>NaN</td>\n",
       "      <td>NaN</td>\n",
       "      <td>NaN</td>\n",
       "      <td>NaN</td>\n",
       "      <td>NaN</td>\n",
       "      <td>NaN</td>\n",
       "      <td>NaN</td>\n",
       "      <td>NaN</td>\n",
       "      <td>NaN</td>\n",
       "      <td>NaN</td>\n",
       "      <td>NaN</td>\n",
       "      <td>NaN</td>\n",
       "      <td>NaN</td>\n",
       "      <td>NaN</td>\n",
       "      <td>NaN</td>\n",
       "      <td>NaN</td>\n",
       "      <td>NaN</td>\n",
       "      <td>NaN</td>\n",
       "      <td>NaN</td>\n",
       "      <td>NaN</td>\n",
       "      <td>NaN</td>\n",
       "      <td>NaN</td>\n",
       "      <td>NaN</td>\n",
       "      <td>NaN</td>\n",
       "      <td>NaN</td>\n",
       "      <td>NaN</td>\n",
       "      <td>NaN</td>\n",
       "      <td>NaN</td>\n",
       "      <td>NaN</td>\n",
       "      <td>NaN</td>\n",
       "      <td>NaN</td>\n",
       "      <td>NaN</td>\n",
       "      <td>NaN</td>\n",
       "      <td>NaN</td>\n",
       "      <td>NaN</td>\n",
       "      <td>NaN</td>\n",
       "      <td>NaN</td>\n",
       "      <td>NaN</td>\n",
       "      <td>NaN</td>\n",
       "      <td>NaN</td>\n",
       "      <td>NaN</td>\n",
       "      <td>NaN</td>\n",
       "    </tr>\n",
       "  </tbody>\n",
       "</table>\n",
       "</div>"
      ],
      "text/plain": [
       "      make_model short_description make model location price body_type type doors country_version   \n",
       "4116         NaN               NaN  NaN   NaN      NaN   NaN       NaN  NaN   NaN             NaN  \\\n",
       "26848        NaN               NaN  NaN   NaN      NaN   NaN       NaN  NaN   NaN             NaN   \n",
       "16678        NaN               NaN  NaN   NaN      NaN   NaN       NaN  NaN   NaN             NaN   \n",
       "27133        NaN               NaN  NaN   NaN      NaN   NaN       NaN  NaN   NaN             NaN   \n",
       "13596        NaN               NaN  NaN   NaN      NaN   NaN       NaN  NaN   NaN             NaN   \n",
       "13975        NaN               NaN  NaN   NaN      NaN   NaN       NaN  NaN   NaN             NaN   \n",
       "18632        NaN               NaN  NaN   NaN      NaN   NaN       NaN  NaN   NaN             NaN   \n",
       "18379        NaN               NaN  NaN   NaN      NaN   NaN       NaN  NaN   NaN             NaN   \n",
       "17024        NaN               NaN  NaN   NaN      NaN   NaN       NaN  NaN   NaN             NaN   \n",
       "25767        NaN               NaN  NaN   NaN      NaN   NaN       NaN  NaN   NaN             NaN   \n",
       "22002        NaN               NaN  NaN   NaN      NaN   NaN       NaN  NaN   NaN             NaN   \n",
       "23485        NaN               NaN  NaN   NaN      NaN   NaN       NaN  NaN   NaN             NaN   \n",
       "13164        NaN               NaN  NaN   NaN      NaN   NaN       NaN  NaN   NaN             NaN   \n",
       "22048        NaN               NaN  NaN   NaN      NaN   NaN       NaN  NaN   NaN             NaN   \n",
       "21387        NaN               NaN  NaN   NaN      NaN   NaN       NaN  NaN   NaN             NaN   \n",
       "10659        NaN               NaN  NaN   NaN      NaN   NaN       NaN  NaN   NaN             NaN   \n",
       "27304        NaN               NaN  NaN   NaN      NaN   NaN       NaN  NaN   NaN             NaN   \n",
       "18403        NaN               NaN  NaN   NaN      NaN   NaN       NaN  NaN   NaN             NaN   \n",
       "28747        NaN               NaN  NaN   NaN      NaN   NaN       NaN  NaN   NaN             NaN   \n",
       "6321         NaN               NaN  NaN   NaN      NaN   NaN       NaN  NaN   NaN             NaN   \n",
       "\n",
       "      offer_number warranty mileage first_registration gearbox fuel_type colour paint desc seller   \n",
       "4116           NaN      NaN     NaN                NaN     NaN       NaN    NaN   NaN  NaN    NaN  \\\n",
       "26848          NaN      NaN     NaN                NaN     NaN       NaN    NaN   NaN  NaN    NaN   \n",
       "16678          NaN      NaN     NaN                NaN     NaN       NaN    NaN   NaN  NaN    NaN   \n",
       "27133          NaN      NaN     NaN                NaN     NaN       NaN    NaN   NaN  NaN    NaN   \n",
       "13596          NaN      NaN     NaN                NaN     NaN       NaN    NaN   NaN  NaN    NaN   \n",
       "13975          NaN      NaN     NaN                NaN     NaN       NaN    NaN   NaN  NaN    NaN   \n",
       "18632          NaN      NaN     NaN                NaN     NaN       NaN    NaN   NaN  NaN    NaN   \n",
       "18379          NaN      NaN     NaN                NaN     NaN       NaN    NaN   NaN  NaN    NaN   \n",
       "17024          NaN      NaN     NaN                NaN     NaN       NaN    NaN   NaN  NaN    NaN   \n",
       "25767          NaN      NaN     NaN                NaN     NaN       NaN    NaN   NaN  NaN    NaN   \n",
       "22002          NaN      NaN     NaN                NaN     NaN       NaN    NaN   NaN  NaN    NaN   \n",
       "23485          NaN      NaN     NaN                NaN     NaN       NaN    NaN   NaN  NaN    NaN   \n",
       "13164          NaN      NaN     NaN                NaN     NaN       NaN    NaN   NaN  NaN    NaN   \n",
       "22048          NaN      NaN     NaN                NaN     NaN       NaN    NaN   NaN  NaN    NaN   \n",
       "21387          NaN      NaN     NaN                NaN     NaN       NaN    NaN   NaN  NaN    NaN   \n",
       "10659          NaN      NaN     NaN                NaN     NaN       NaN    NaN   NaN  NaN    NaN   \n",
       "27304          NaN      NaN     NaN                NaN     NaN       NaN    NaN   NaN  NaN    NaN   \n",
       "18403          NaN      NaN     NaN                NaN     NaN       NaN    NaN   NaN  NaN    NaN   \n",
       "28747          NaN      NaN     NaN                NaN     NaN       NaN    NaN   NaN  NaN    NaN   \n",
       "6321           NaN      NaN     NaN                NaN     NaN       NaN    NaN   NaN  NaN    NaN   \n",
       "\n",
       "      seats power engine_size gears co_emissions manufacturer_colour drivetrain cylinders   \n",
       "4116    NaN   NaN         NaN   NaN          NaN                 NaN        NaN       NaN  \\\n",
       "26848   NaN   NaN         NaN   NaN          NaN                 NaN        NaN       NaN   \n",
       "16678   NaN   NaN         NaN   NaN          NaN                 NaN        NaN       NaN   \n",
       "27133   NaN   NaN         NaN   NaN          NaN                 NaN        NaN       NaN   \n",
       "13596   NaN   NaN         NaN   NaN          NaN                 NaN        NaN       NaN   \n",
       "13975   NaN   NaN         NaN   NaN          NaN                 NaN        NaN       NaN   \n",
       "18632   NaN   NaN         NaN   NaN          NaN                 NaN        NaN       NaN   \n",
       "18379   NaN   NaN         NaN   NaN          NaN                 NaN        NaN       NaN   \n",
       "17024   NaN   NaN         NaN   NaN          NaN                 NaN        NaN       NaN   \n",
       "25767   NaN   NaN         NaN   NaN          NaN                 NaN        NaN       NaN   \n",
       "22002   NaN   NaN         NaN   NaN          NaN                 NaN        NaN       NaN   \n",
       "23485   NaN   NaN         NaN   NaN          NaN                 NaN        NaN       NaN   \n",
       "13164   NaN   NaN         NaN   NaN          NaN                 NaN        NaN       NaN   \n",
       "22048   NaN   NaN         NaN   NaN          NaN                 NaN        NaN       NaN   \n",
       "21387   NaN   NaN         NaN   NaN          NaN                 NaN        NaN       NaN   \n",
       "10659   NaN   NaN         NaN   NaN          NaN                 NaN        NaN       NaN   \n",
       "27304   NaN   NaN         NaN   NaN          NaN                 NaN        NaN       NaN   \n",
       "18403   NaN   NaN         NaN   NaN          NaN                 NaN        NaN       NaN   \n",
       "28747   NaN   NaN         NaN   NaN          NaN                 NaN        NaN       NaN   \n",
       "6321    NaN   NaN         NaN   NaN          NaN                 NaN        NaN       NaN   \n",
       "\n",
       "      fuel_consumption comfort_&_convenience entertainment_&_media safety_&_security extras   \n",
       "4116               NaN                   NaN                   NaN               NaN    NaN  \\\n",
       "26848              NaN                   NaN                   NaN               NaN    NaN   \n",
       "16678              NaN                   NaN                   NaN               NaN    NaN   \n",
       "27133              NaN                   NaN                   NaN               NaN    NaN   \n",
       "13596              NaN                   NaN                   NaN               NaN    NaN   \n",
       "13975              NaN                   NaN                   NaN               NaN    NaN   \n",
       "18632              NaN                   NaN                   NaN               NaN    NaN   \n",
       "18379              NaN                   NaN                   NaN               NaN    NaN   \n",
       "17024              NaN                   NaN                   NaN               NaN    NaN   \n",
       "25767              NaN                   NaN                   NaN               NaN    NaN   \n",
       "22002              NaN                   NaN                   NaN               NaN    NaN   \n",
       "23485              NaN                   NaN                   NaN               NaN    NaN   \n",
       "13164              NaN                   NaN                   NaN               NaN    NaN   \n",
       "22048              NaN                   NaN                   NaN               NaN    NaN   \n",
       "21387              NaN                   NaN                   NaN               NaN    NaN   \n",
       "10659              NaN                   NaN                   NaN               NaN    NaN   \n",
       "27304              NaN                   NaN                   NaN               NaN    NaN   \n",
       "18403              NaN                   NaN                   NaN               NaN    NaN   \n",
       "28747              NaN                   NaN                   NaN               NaN    NaN   \n",
       "6321               NaN                   NaN                   NaN               NaN    NaN   \n",
       "\n",
       "      empty_weight model_code general_inspection full_service_history non_smoker_vehicle   \n",
       "4116           NaN        NaN                NaN                  NaN                NaN  \\\n",
       "26848          NaN        NaN                NaN                  NaN                NaN   \n",
       "16678          NaN        NaN                NaN                  NaN                NaN   \n",
       "27133          NaN        NaN                NaN                  NaN                NaN   \n",
       "13596          NaN        NaN                NaN                  NaN                NaN   \n",
       "13975          NaN        NaN                NaN                  NaN                NaN   \n",
       "18632          NaN        NaN                NaN                  NaN                NaN   \n",
       "18379          NaN        NaN                NaN                  NaN                NaN   \n",
       "17024          NaN        NaN                NaN                  NaN                NaN   \n",
       "25767          NaN        NaN                NaN                  NaN                NaN   \n",
       "22002          NaN        NaN                NaN                  NaN                NaN   \n",
       "23485          NaN        NaN                NaN                  NaN                NaN   \n",
       "13164          NaN        NaN                NaN                  NaN                NaN   \n",
       "22048          NaN        NaN                NaN                  NaN                NaN   \n",
       "21387          NaN        NaN                NaN                  NaN                NaN   \n",
       "10659          NaN        NaN                NaN                  NaN                NaN   \n",
       "27304          NaN        NaN                NaN                  NaN                NaN   \n",
       "18403          NaN        NaN                NaN                  NaN                NaN   \n",
       "28747          NaN        NaN                NaN                  NaN                NaN   \n",
       "6321           NaN        NaN                NaN                  NaN                NaN   \n",
       "\n",
       "      emission_class emissions_sticker upholstery_colour upholstery  production_date   \n",
       "4116             NaN               NaN               NaN        NaN              NaN  \\\n",
       "26848            NaN               NaN               NaN        NaN              NaN   \n",
       "16678            NaN               NaN               NaN        NaN              NaN   \n",
       "27133            NaN               NaN               NaN        NaN              NaN   \n",
       "13596            NaN               NaN               NaN        NaN              NaN   \n",
       "13975            NaN               NaN               NaN        NaN              NaN   \n",
       "18632            NaN               NaN               NaN        NaN              NaN   \n",
       "18379            NaN               NaN               NaN        NaN              NaN   \n",
       "17024            NaN               NaN               NaN        NaN              NaN   \n",
       "25767            NaN               NaN               NaN        NaN              NaN   \n",
       "22002            NaN               NaN               NaN        NaN              NaN   \n",
       "23485            NaN               NaN               NaN        NaN              NaN   \n",
       "13164            NaN               NaN               NaN        NaN              NaN   \n",
       "22048            NaN               NaN               NaN        NaN              NaN   \n",
       "21387            NaN               NaN               NaN        NaN              NaN   \n",
       "10659            NaN               NaN               NaN        NaN              NaN   \n",
       "27304            NaN               NaN               NaN        NaN              NaN   \n",
       "18403            NaN               NaN               NaN        NaN              NaN   \n",
       "28747            NaN               NaN               NaN        NaN              NaN   \n",
       "6321             NaN               NaN               NaN        NaN              NaN   \n",
       "\n",
       "      previous_owner energy_efficiency_class co_efficiency  \n",
       "4116             NaN                     NaN           NaN  \n",
       "26848            NaN                     NaN           NaN  \n",
       "16678            NaN                     NaN           NaN  \n",
       "27133            NaN                     NaN           NaN  \n",
       "13596            NaN                     NaN           NaN  \n",
       "13975            NaN                     NaN           NaN  \n",
       "18632            NaN                     NaN           NaN  \n",
       "18379            NaN                     NaN           NaN  \n",
       "17024            NaN                     NaN           NaN  \n",
       "25767            NaN                     NaN           NaN  \n",
       "22002            NaN                     NaN           NaN  \n",
       "23485            NaN                     NaN           NaN  \n",
       "13164            NaN                     NaN           NaN  \n",
       "22048            NaN                     NaN           NaN  \n",
       "21387            NaN                     NaN           NaN  \n",
       "10659            NaN                     NaN           NaN  \n",
       "27304            NaN                     NaN           NaN  \n",
       "18403            NaN                     NaN           NaN  \n",
       "28747            NaN                     NaN           NaN  \n",
       "6321             NaN                     NaN           NaN  "
      ]
     },
     "execution_count": 35,
     "metadata": {},
     "output_type": "execute_result"
    }
   ],
   "source": [
    "df[df[\"price\"].isnull()].sample(20)"
   ]
  },
  {
   "cell_type": "code",
   "execution_count": 36,
   "metadata": {
    "scrolled": true
   },
   "outputs": [
    {
     "data": {
      "text/html": [
       "<div>\n",
       "<style scoped>\n",
       "    .dataframe tbody tr th:only-of-type {\n",
       "        vertical-align: middle;\n",
       "    }\n",
       "\n",
       "    .dataframe tbody tr th {\n",
       "        vertical-align: top;\n",
       "    }\n",
       "\n",
       "    .dataframe thead th {\n",
       "        text-align: right;\n",
       "    }\n",
       "</style>\n",
       "<table border=\"1\" class=\"dataframe\">\n",
       "  <thead>\n",
       "    <tr style=\"text-align: right;\">\n",
       "      <th></th>\n",
       "      <th>0</th>\n",
       "    </tr>\n",
       "  </thead>\n",
       "  <tbody>\n",
       "    <tr>\n",
       "      <th>0</th>\n",
       "      <td>16,950</td>\n",
       "    </tr>\n",
       "    <tr>\n",
       "      <th>1</th>\n",
       "      <td>80,900</td>\n",
       "    </tr>\n",
       "    <tr>\n",
       "      <th>2</th>\n",
       "      <td>69,900</td>\n",
       "    </tr>\n",
       "    <tr>\n",
       "      <th>3</th>\n",
       "      <td>46,990</td>\n",
       "    </tr>\n",
       "    <tr>\n",
       "      <th>4</th>\n",
       "      <td>16,800</td>\n",
       "    </tr>\n",
       "    <tr>\n",
       "      <th>...</th>\n",
       "      <td>...</td>\n",
       "    </tr>\n",
       "    <tr>\n",
       "      <th>29475</th>\n",
       "      <td>5,499</td>\n",
       "    </tr>\n",
       "    <tr>\n",
       "      <th>29476</th>\n",
       "      <td>7,300</td>\n",
       "    </tr>\n",
       "    <tr>\n",
       "      <th>29477</th>\n",
       "      <td>29,900</td>\n",
       "    </tr>\n",
       "    <tr>\n",
       "      <th>29478</th>\n",
       "      <td>4,440</td>\n",
       "    </tr>\n",
       "    <tr>\n",
       "      <th>29479</th>\n",
       "      <td>NaN</td>\n",
       "    </tr>\n",
       "  </tbody>\n",
       "</table>\n",
       "<p>29480 rows × 1 columns</p>\n",
       "</div>"
      ],
      "text/plain": [
       "            0\n",
       "0      16,950\n",
       "1      80,900\n",
       "2      69,900\n",
       "3      46,990\n",
       "4      16,800\n",
       "...       ...\n",
       "29475   5,499\n",
       "29476   7,300\n",
       "29477  29,900\n",
       "29478   4,440\n",
       "29479     NaN\n",
       "\n",
       "[29480 rows x 1 columns]"
      ]
     },
     "execution_count": 36,
     "metadata": {},
     "output_type": "execute_result"
    }
   ],
   "source": [
    "df['price'].astype(str).str.extract('(\\d+.\\d+)')"
   ]
  },
  {
   "cell_type": "code",
   "execution_count": 37,
   "metadata": {},
   "outputs": [
    {
     "data": {
      "text/plain": [
       "0       16950.00\n",
       "1       80900.00\n",
       "2       69900.00\n",
       "3       46990.00\n",
       "4       16800.00\n",
       "          ...   \n",
       "29475    5499.00\n",
       "29476    7300.00\n",
       "29477   29900.00\n",
       "29478    4440.00\n",
       "29479        NaN\n",
       "Name: price, Length: 29480, dtype: float64"
      ]
     },
     "execution_count": 37,
     "metadata": {},
     "output_type": "execute_result"
    }
   ],
   "source": [
    "# df['price'].explode().str.strip(\"€, .-\").str.replace(\",\", \"\")\n",
    "\n",
    "df['price'] = df['price'].astype(str).str.extract('(\\d+.\\d+)')\n",
    "df['price'] = df['price'].str.replace(\",\", \"\").astype(float)\n",
    "df['price'] "
   ]
  },
  {
   "cell_type": "code",
   "execution_count": 38,
   "metadata": {},
   "outputs": [
    {
     "data": {
      "text/plain": [
       "850"
      ]
     },
     "metadata": {},
     "output_type": "display_data"
    },
    {
     "data": {
      "text/plain": [
       "(29480, 46)"
      ]
     },
     "metadata": {},
     "output_type": "display_data"
    }
   ],
   "source": [
    "display(df.price.isnull().sum())\n",
    "display(df.shape)"
   ]
  },
  {
   "cell_type": "code",
   "execution_count": 39,
   "metadata": {},
   "outputs": [],
   "source": [
    "df.dropna(how='all', inplace=True)"
   ]
  },
  {
   "cell_type": "code",
   "execution_count": 40,
   "metadata": {},
   "outputs": [
    {
     "data": {
      "text/plain": [
       "0"
      ]
     },
     "metadata": {},
     "output_type": "display_data"
    },
    {
     "data": {
      "text/plain": [
       "(28630, 46)"
      ]
     },
     "metadata": {},
     "output_type": "display_data"
    }
   ],
   "source": [
    "display(df.price.isnull().sum())\n",
    "display(df.shape)\n",
    "\n",
    "# 29480 - 28630 = 850"
   ]
  },
  {
   "cell_type": "code",
   "execution_count": 41,
   "metadata": {},
   "outputs": [
    {
     "data": {
      "text/plain": [
       "count    28630.00\n",
       "mean     23470.66\n",
       "std      23953.50\n",
       "min        490.00\n",
       "25%      11990.00\n",
       "50%      17979.00\n",
       "75%      27990.00\n",
       "max     999999.00\n",
       "Name: price, dtype: float64"
      ]
     },
     "execution_count": 41,
     "metadata": {},
     "output_type": "execute_result"
    }
   ],
   "source": [
    "df['price'].describe()"
   ]
  },
  {
   "cell_type": "code",
   "execution_count": 42,
   "metadata": {},
   "outputs": [
    {
     "data": {
      "image/png": "[encoded data removed]",
      "text/plain": [
       "<Figure size 720x432 with 1 Axes>"
      ]
     },
     "metadata": {},
     "output_type": "display_data"
    }
   ],
   "source": [
    "sns.boxplot(df.price);\n",
    "\n",
    "# plt.ticklabel_format(style='plain');"
   ]
  },
  {
   "cell_type": "code",
   "execution_count": null,
   "metadata": {},
   "outputs": [],
   "source": [
    "# sns.distplot(df.price)\n",
    "\n",
    "# plt.ticklabel_format(style='plain');"
   ]
  },
  {
   "cell_type": "code",
   "execution_count": 45,
   "metadata": {},
   "outputs": [
    {
     "data": {
      "image/png": "[encoded data removed]",
      "text/plain": [
       "<Figure size 1080x432 with 1 Axes>"
      ]
     },
     "metadata": {},
     "output_type": "display_data"
    }
   ],
   "source": [
    "fig, ax = plt.subplots(figsize=(15, 6))\n",
    "    \n",
    "ax.hist(df.price, bins=50);\n",
    "\n",
    "# df.price.hist(bins=100)"
   ]
  },
  {
   "cell_type": "code",
   "execution_count": 43,
   "metadata": {},
   "outputs": [
    {
     "name": "stdout",
     "output_type": "stream",
     "text": [
      "Statistical Calculations :\n",
      "--------------------------\n",
      "Minimum: 490.00\n",
      "Mean:  23470.66\n",
      "Median:17979.00\n",
      "Mode:  14990.00\n",
      "Maximum:999999.00\n",
      "\n"
     ]
    },
    {
     "data": {
      "image/png": "[encoded data removed]",
      "text/plain": [
       "<Figure size 1500x1500 with 2 Axes>"
      ]
     },
     "metadata": {},
     "output_type": "display_data"
    }
   ],
   "source": [
    "show_distribution(df[\"price\"])"
   ]
  },
  {
   "cell_type": "markdown",
   "metadata": {},
   "source": [
    "## make_model\n",
    "\n",
    "### 📝 Some Remarks on car model & make:\n",
    "\n",
    "Of the basic factors influencing your car value are the make and model since some vehicles are more likely to sell than others, there are some automobile models that also have a better reputation for durability and other aspects, making them ideal options for those wanting to buy a used car, for example, Japanese models tend to have a better reputation for resale than German models, but of course, it is not in all cases.\n",
    "\n",
    "The supply and demand of some models is another factor to consider, and, for example, if there are a lot of cars of the same brand and model as yours entering the used car market, this will also affect the price due to the offer and demand."
   ]
  },
  {
   "cell_type": "code",
   "execution_count": 44,
   "metadata": {},
   "outputs": [
    {
     "name": "stdout",
     "output_type": "stream",
     "text": [
      "column name    :  make_model\n",
      "--------------------------------\n",
      "per_of_nulls   :  % 0.0\n",
      "num_of_nulls   :  0\n",
      "num_of_uniques :  611\n",
      "--------------------------------\n",
      "Renault Megane     863\n",
      "SEAT Leon          787\n",
      "Volvo V40          740\n",
      "Dacia Sandero      730\n",
      "Hyundai i30        706\n",
      "                  ... \n",
      "Toyota GR86          1\n",
      "Toyota Tacoma        1\n",
      "Toyota Tundra        1\n",
      "Toyota 4-Runner      1\n",
      "Volvo 244            1\n",
      "Name: make_model, Length: 611, dtype: int64\n"
     ]
    }
   ],
   "source": [
    "first_looking(\"make_model\")"
   ]
  },
  {
   "cell_type": "markdown",
   "metadata": {},
   "source": [
    "**As seen, the \"make_model\" column gives us a more detailed information for our analysis so after the examination of the following columns, \"Make\" & \"Model\", we will decide which one/s we will continue.**"
   ]
  },
  {
   "cell_type": "code",
   "execution_count": 45,
   "metadata": {},
   "outputs": [],
   "source": [
    "# df.make_model.str.contains('Volvo', regex=False)\n",
    "\n",
    "# df[df.make_model.str.contains('Volvo', regex=False, na=False)]"
   ]
  },
  {
   "cell_type": "markdown",
   "metadata": {},
   "source": [
    "## make"
   ]
  },
  {
   "cell_type": "code",
   "execution_count": 46,
   "metadata": {},
   "outputs": [
    {
     "name": "stdout",
     "output_type": "stream",
     "text": [
      "column name    :  make\n",
      "--------------------------------\n",
      "per_of_nulls   :  % 0.0\n",
      "num_of_nulls   :  0\n",
      "num_of_uniques :  13\n",
      "--------------------------------\n",
      "\\nVolvo\\n            3659\n",
      "\\nMercedes-Benz\\n    2398\n",
      "\\nOpel\\n             2385\n",
      "\\nPeugeot\\n          2360\n",
      "\\nRenault\\n          2351\n",
      "\\nFiat\\n             2338\n",
      "\\nFord\\n             2324\n",
      "\\nNissan\\n           2064\n",
      "\\nToyota\\n           2038\n",
      "\\nHyundai\\n          1867\n",
      "\\nSEAT\\n             1743\n",
      "\\nSkoda\\n            1566\n",
      "\\nDacia\\n            1537\n",
      "Name: make, dtype: int64\n"
     ]
    }
   ],
   "source": [
    "first_looking(\"make\")"
   ]
  },
  {
   "cell_type": "code",
   "execution_count": 47,
   "metadata": {},
   "outputs": [],
   "source": [
    "df[\"make\"] = df.make.str.strip('\\n')\n",
    "\n",
    "# df[\"make\"].map(lambda x : x.strip('\\n '), na_action = 'ignore') "
   ]
  },
  {
   "cell_type": "code",
   "execution_count": 48,
   "metadata": {},
   "outputs": [
    {
     "data": {
      "text/plain": [
       "Volvo            3659\n",
       "Mercedes-Benz    2398\n",
       "Opel             2385\n",
       "Peugeot          2360\n",
       "Renault          2351\n",
       "Fiat             2338\n",
       "Ford             2324\n",
       "Nissan           2064\n",
       "Toyota           2038\n",
       "Hyundai          1867\n",
       "SEAT             1743\n",
       "Skoda            1566\n",
       "Dacia            1537\n",
       "Name: make, dtype: int64"
      ]
     },
     "execution_count": 48,
     "metadata": {},
     "output_type": "execute_result"
    }
   ],
   "source": [
    "df.make.value_counts(dropna=False)"
   ]
  },
  {
   "cell_type": "markdown",
   "metadata": {},
   "source": [
    "## model"
   ]
  },
  {
   "cell_type": "code",
   "execution_count": 49,
   "metadata": {},
   "outputs": [
    {
     "name": "stdout",
     "output_type": "stream",
     "text": [
      "column name    :  model\n",
      "--------------------------------\n",
      "per_of_nulls   :  % 0.0\n",
      "num_of_nulls   :  0\n",
      "num_of_uniques :  594\n",
      "--------------------------------\n",
      "[\\n, Megane ,\\n]        863\n",
      "[\\n, Leon ,\\n]          787\n",
      "[\\n, V40 ,\\n]           740\n",
      "[\\n, Sandero ,\\n]       730\n",
      "[\\n, i30 ,\\n]           706\n",
      "                       ... \n",
      "[\\n, GLA 35 AMG ,\\n]      1\n",
      "[\\n, G 55 AMG ,\\n]        1\n",
      "[\\n, Ariya ,\\n]           1\n",
      "[\\n, 105 ,\\n]             1\n",
      "[\\n, 244 ,\\n]             1\n",
      "Name: model, Length: 594, dtype: int64\n"
     ]
    }
   ],
   "source": [
    "first_looking(\"model\")"
   ]
  },
  {
   "cell_type": "code",
   "execution_count": 50,
   "metadata": {},
   "outputs": [
    {
     "data": {
      "text/plain": [
       "0           A 160\n",
       "1         EQE 350\n",
       "2        A 45 AMG\n",
       "3        A 35 AMG\n",
       "4        A 45 AMG\n",
       "           ...   \n",
       "29474         S90\n",
       "29475         S40\n",
       "29476         C30\n",
       "29477         S90\n",
       "29478         S80\n",
       "Name: model, Length: 28630, dtype: object"
      ]
     },
     "execution_count": 50,
     "metadata": {},
     "output_type": "execute_result"
    }
   ],
   "source": [
    "# df[\"model\"].str[0]\n",
    "# df['model'].astype(str).str.extract('([A-Z]+.\\d+)')\n",
    "# df['model'].astype(str).str.extract('( \\D+.\\d+)')\n",
    "\n",
    "df['model'] = df['model'].explode().str.strip(\"\\n, \")\n",
    "df['model']"
   ]
  },
  {
   "cell_type": "code",
   "execution_count": 51,
   "metadata": {},
   "outputs": [
    {
     "data": {
      "text/plain": [
       "Megane        863\n",
       "Leon          787\n",
       "V40           740\n",
       "Sandero       730\n",
       "i30           706\n",
       "             ... \n",
       "GLA 35 AMG      1\n",
       "G 55 AMG        1\n",
       "Ariya           1\n",
       "105             1\n",
       "244             1\n",
       "Name: model, Length: 594, dtype: int64"
      ]
     },
     "execution_count": 51,
     "metadata": {},
     "output_type": "execute_result"
    }
   ],
   "source": [
    "df.model.value_counts(dropna=False)"
   ]
  },
  {
   "cell_type": "code",
   "execution_count": 52,
   "metadata": {},
   "outputs": [
    {
     "data": {
      "text/html": [
       "<div>\n",
       "<style scoped>\n",
       "    .dataframe tbody tr th:only-of-type {\n",
       "        vertical-align: middle;\n",
       "    }\n",
       "\n",
       "    .dataframe tbody tr th {\n",
       "        vertical-align: top;\n",
       "    }\n",
       "\n",
       "    .dataframe thead th {\n",
       "        text-align: right;\n",
       "    }\n",
       "</style>\n",
       "<table border=\"1\" class=\"dataframe\">\n",
       "  <thead>\n",
       "    <tr style=\"text-align: right;\">\n",
       "      <th></th>\n",
       "      <th>make_model</th>\n",
       "      <th>make</th>\n",
       "      <th>model</th>\n",
       "    </tr>\n",
       "  </thead>\n",
       "  <tbody>\n",
       "    <tr>\n",
       "      <th>11943</th>\n",
       "      <td>Fiat 500</td>\n",
       "      <td>Fiat</td>\n",
       "      <td>500</td>\n",
       "    </tr>\n",
       "    <tr>\n",
       "      <th>12979</th>\n",
       "      <td>SEAT Ateca</td>\n",
       "      <td>SEAT</td>\n",
       "      <td>Ateca</td>\n",
       "    </tr>\n",
       "    <tr>\n",
       "      <th>6418</th>\n",
       "      <td>Renault Megane</td>\n",
       "      <td>Renault</td>\n",
       "      <td>Megane</td>\n",
       "    </tr>\n",
       "    <tr>\n",
       "      <th>15539</th>\n",
       "      <td>Dacia Sandero</td>\n",
       "      <td>Dacia</td>\n",
       "      <td>Sandero</td>\n",
       "    </tr>\n",
       "    <tr>\n",
       "      <th>24299</th>\n",
       "      <td>Hyundai i30</td>\n",
       "      <td>Hyundai</td>\n",
       "      <td>i30</td>\n",
       "    </tr>\n",
       "    <tr>\n",
       "      <th>22900</th>\n",
       "      <td>Ford Kuga</td>\n",
       "      <td>Ford</td>\n",
       "      <td>Kuga</td>\n",
       "    </tr>\n",
       "    <tr>\n",
       "      <th>14523</th>\n",
       "      <td>Skoda Kodiaq</td>\n",
       "      <td>Skoda</td>\n",
       "      <td>Kodiaq</td>\n",
       "    </tr>\n",
       "    <tr>\n",
       "      <th>12815</th>\n",
       "      <td>SEAT Arona</td>\n",
       "      <td>SEAT</td>\n",
       "      <td>Arona</td>\n",
       "    </tr>\n",
       "    <tr>\n",
       "      <th>4077</th>\n",
       "      <td>Opel Vivaro</td>\n",
       "      <td>Opel</td>\n",
       "      <td>Vivaro</td>\n",
       "    </tr>\n",
       "    <tr>\n",
       "      <th>8400</th>\n",
       "      <td>Peugeot 3008</td>\n",
       "      <td>Peugeot</td>\n",
       "      <td>3008</td>\n",
       "    </tr>\n",
       "    <tr>\n",
       "      <th>21207</th>\n",
       "      <td>Nissan Qashqai</td>\n",
       "      <td>Nissan</td>\n",
       "      <td>Qashqai</td>\n",
       "    </tr>\n",
       "    <tr>\n",
       "      <th>6396</th>\n",
       "      <td>Renault Megane</td>\n",
       "      <td>Renault</td>\n",
       "      <td>Megane</td>\n",
       "    </tr>\n",
       "    <tr>\n",
       "      <th>28350</th>\n",
       "      <td>Volvo V60</td>\n",
       "      <td>Volvo</td>\n",
       "      <td>V60</td>\n",
       "    </tr>\n",
       "    <tr>\n",
       "      <th>18423</th>\n",
       "      <td>Toyota Corolla</td>\n",
       "      <td>Toyota</td>\n",
       "      <td>Corolla</td>\n",
       "    </tr>\n",
       "    <tr>\n",
       "      <th>24278</th>\n",
       "      <td>Hyundai i30</td>\n",
       "      <td>Hyundai</td>\n",
       "      <td>i30</td>\n",
       "    </tr>\n",
       "    <tr>\n",
       "      <th>26725</th>\n",
       "      <td>Volvo C70</td>\n",
       "      <td>Volvo</td>\n",
       "      <td>C70</td>\n",
       "    </tr>\n",
       "    <tr>\n",
       "      <th>21392</th>\n",
       "      <td>Ford Fiesta</td>\n",
       "      <td>Ford</td>\n",
       "      <td>Fiesta</td>\n",
       "    </tr>\n",
       "    <tr>\n",
       "      <th>20135</th>\n",
       "      <td>Nissan Patrol</td>\n",
       "      <td>Nissan</td>\n",
       "      <td>Patrol</td>\n",
       "    </tr>\n",
       "    <tr>\n",
       "      <th>732</th>\n",
       "      <td>Mercedes-Benz E 450</td>\n",
       "      <td>Mercedes-Benz</td>\n",
       "      <td>E 450</td>\n",
       "    </tr>\n",
       "    <tr>\n",
       "      <th>16208</th>\n",
       "      <td>Dacia Logan</td>\n",
       "      <td>Dacia</td>\n",
       "      <td>Logan</td>\n",
       "    </tr>\n",
       "  </tbody>\n",
       "</table>\n",
       "</div>"
      ],
      "text/plain": [
       "                make_model           make    model\n",
       "11943             Fiat 500           Fiat      500\n",
       "12979           SEAT Ateca           SEAT    Ateca\n",
       "6418        Renault Megane        Renault   Megane\n",
       "15539        Dacia Sandero          Dacia  Sandero\n",
       "24299          Hyundai i30        Hyundai      i30\n",
       "22900            Ford Kuga           Ford     Kuga\n",
       "14523         Skoda Kodiaq          Skoda   Kodiaq\n",
       "12815           SEAT Arona           SEAT    Arona\n",
       "4077           Opel Vivaro           Opel   Vivaro\n",
       "8400          Peugeot 3008        Peugeot     3008\n",
       "21207       Nissan Qashqai         Nissan  Qashqai\n",
       "6396        Renault Megane        Renault   Megane\n",
       "28350            Volvo V60          Volvo      V60\n",
       "18423       Toyota Corolla         Toyota  Corolla\n",
       "24278          Hyundai i30        Hyundai      i30\n",
       "26725            Volvo C70          Volvo      C70\n",
       "21392          Ford Fiesta           Ford   Fiesta\n",
       "20135        Nissan Patrol         Nissan   Patrol\n",
       "732    Mercedes-Benz E 450  Mercedes-Benz    E 450\n",
       "16208          Dacia Logan          Dacia    Logan"
      ]
     },
     "execution_count": 52,
     "metadata": {},
     "output_type": "execute_result"
    }
   ],
   "source": [
    "df[['make_model', 'make', 'model']].sample(20)"
   ]
  },
  {
   "cell_type": "code",
   "execution_count": 53,
   "metadata": {},
   "outputs": [
    {
     "data": {
      "text/plain": [
       "611"
      ]
     },
     "metadata": {},
     "output_type": "display_data"
    },
    {
     "data": {
      "text/plain": [
       "13"
      ]
     },
     "metadata": {},
     "output_type": "display_data"
    },
    {
     "data": {
      "text/plain": [
       "594"
      ]
     },
     "metadata": {},
     "output_type": "display_data"
    },
    {
     "data": {
      "text/html": [
       "<div>\n",
       "<style scoped>\n",
       "    .dataframe tbody tr th:only-of-type {\n",
       "        vertical-align: middle;\n",
       "    }\n",
       "\n",
       "    .dataframe tbody tr th {\n",
       "        vertical-align: top;\n",
       "    }\n",
       "\n",
       "    .dataframe thead th {\n",
       "        text-align: right;\n",
       "    }\n",
       "</style>\n",
       "<table border=\"1\" class=\"dataframe\">\n",
       "  <thead>\n",
       "    <tr style=\"text-align: right;\">\n",
       "      <th></th>\n",
       "      <th>model</th>\n",
       "    </tr>\n",
       "    <tr>\n",
       "      <th>make</th>\n",
       "      <th></th>\n",
       "    </tr>\n",
       "  </thead>\n",
       "  <tbody>\n",
       "    <tr>\n",
       "      <th>Dacia</th>\n",
       "      <td>9</td>\n",
       "    </tr>\n",
       "    <tr>\n",
       "      <th>Fiat</th>\n",
       "      <td>45</td>\n",
       "    </tr>\n",
       "    <tr>\n",
       "      <th>Ford</th>\n",
       "      <td>44</td>\n",
       "    </tr>\n",
       "    <tr>\n",
       "      <th>Hyundai</th>\n",
       "      <td>35</td>\n",
       "    </tr>\n",
       "    <tr>\n",
       "      <th>Mercedes-Benz</th>\n",
       "      <td>205</td>\n",
       "    </tr>\n",
       "    <tr>\n",
       "      <th>Nissan</th>\n",
       "      <td>46</td>\n",
       "    </tr>\n",
       "    <tr>\n",
       "      <th>Opel</th>\n",
       "      <td>40</td>\n",
       "    </tr>\n",
       "    <tr>\n",
       "      <th>Peugeot</th>\n",
       "      <td>39</td>\n",
       "    </tr>\n",
       "    <tr>\n",
       "      <th>Renault</th>\n",
       "      <td>45</td>\n",
       "    </tr>\n",
       "    <tr>\n",
       "      <th>SEAT</th>\n",
       "      <td>16</td>\n",
       "    </tr>\n",
       "    <tr>\n",
       "      <th>Skoda</th>\n",
       "      <td>14</td>\n",
       "    </tr>\n",
       "    <tr>\n",
       "      <th>Toyota</th>\n",
       "      <td>39</td>\n",
       "    </tr>\n",
       "    <tr>\n",
       "      <th>Volvo</th>\n",
       "      <td>34</td>\n",
       "    </tr>\n",
       "  </tbody>\n",
       "</table>\n",
       "</div>"
      ],
      "text/plain": [
       "               model\n",
       "make                \n",
       "Dacia              9\n",
       "Fiat              45\n",
       "Ford              44\n",
       "Hyundai           35\n",
       "Mercedes-Benz    205\n",
       "Nissan            46\n",
       "Opel              40\n",
       "Peugeot           39\n",
       "Renault           45\n",
       "SEAT              16\n",
       "Skoda             14\n",
       "Toyota            39\n",
       "Volvo             34"
      ]
     },
     "metadata": {},
     "output_type": "display_data"
    }
   ],
   "source": [
    "display(df[\"make_model\"].nunique())\n",
    "display(df[\"make\"].nunique())\n",
    "display(df[\"model\"].nunique())\n",
    "display(df.groupby(\"make\")[\"model\"].nunique().to_frame())"
   ]
  },
  {
   "cell_type": "code",
   "execution_count": 54,
   "metadata": {},
   "outputs": [],
   "source": [
    "# df.drop([\"make\"], axis=1, inplace=True)\n",
    "df.drop([\"model\"], axis=1, inplace=True)"
   ]
  },
  {
   "cell_type": "code",
   "execution_count": 55,
   "metadata": {},
   "outputs": [
    {
     "data": {
      "text/plain": [
       "(28630, 45)"
      ]
     },
     "execution_count": 55,
     "metadata": {},
     "output_type": "execute_result"
    }
   ],
   "source": [
    "df.shape"
   ]
  },
  {
   "cell_type": "markdown",
   "metadata": {},
   "source": [
    "**After the examination, we have decided to drop the columns, \"make\" & \"model\" and kept the column of \"make_model.**"
   ]
  },
  {
   "cell_type": "markdown",
   "metadata": {},
   "source": [
    "## short_description"
   ]
  },
  {
   "cell_type": "code",
   "execution_count": 56,
   "metadata": {},
   "outputs": [
    {
     "name": "stdout",
     "output_type": "stream",
     "text": [
      "column name    :  short_description\n",
      "--------------------------------\n",
      "per_of_nulls   :  % 0.0\n",
      "num_of_nulls   :  0\n",
      "num_of_uniques :  20947\n",
      "--------------------------------\n",
      "                                                      213\n",
      "D2 Momentum 120                                        88\n",
      "D2 Kinetic 120                                         87\n",
      "Cabrio 1.4T S&S Excellence                             85\n",
      "Extreme+ 7-Sitzer TCe 110                              57\n",
      "                                                     ... \n",
      "PureTech  EAT8 Allure Pack...DISP. PER NOLEGGIO         1\n",
      "BlueHDi 130 S&S EAT8 Business                           1\n",
      "2.0 BlueHDi 180ch S\\u0026S GT Line EAT8                 1\n",
      "1.2 PureTech Première AUT. NAVI PANO                    1\n",
      "2.9 Executive G. NETTE AUTO! LEER! NAVI! CRUISE! L      1\n",
      "Name: short_description, Length: 20947, dtype: int64\n"
     ]
    }
   ],
   "source": [
    "first_looking(\"short_description\")"
   ]
  },
  {
   "cell_type": "code",
   "execution_count": 57,
   "metadata": {},
   "outputs": [],
   "source": [
    "df.drop(\"short_description\", axis=1, inplace=True)"
   ]
  },
  {
   "cell_type": "code",
   "execution_count": 58,
   "metadata": {},
   "outputs": [
    {
     "data": {
      "text/plain": [
       "(28630, 44)"
      ]
     },
     "execution_count": 58,
     "metadata": {},
     "output_type": "execute_result"
    }
   ],
   "source": [
    "df.shape"
   ]
  },
  {
   "cell_type": "markdown",
   "metadata": {},
   "source": [
    "## desc"
   ]
  },
  {
   "cell_type": "code",
   "execution_count": 59,
   "metadata": {},
   "outputs": [
    {
     "name": "stdout",
     "output_type": "stream",
     "text": [
      "column name    :  desc\n",
      "--------------------------------\n",
      "per_of_nulls   :  % 2.04\n",
      "num_of_nulls   :  583\n",
      "num_of_uniques :  23242\n",
      "--------------------------------\n",
      "NaN                                                                                                                                                                                                                                                                                                                                                                                                                                                                                                                                                                                                                                                                                                                                                                                                                                                                                                                                                                                                                                                                                                                                                                                                                                                                                                                                                                                                                                                                                                                                                                                                                                                                                                                                                                                                                                                                                                                                                                                                                                                                                                                                                                                                                                                                                                                                                                                                                                                                                                                                                                                                                                                                                                                                                                                                                                                                                                                                                                                                                                                                                                                                                                                                                                                                                                                                                                                                                                                                                                                                                                                                                                                                                                                                                                                                                                                                                                                                                                                                                                                                                                                                                                  583\n",
      "[]                                                                                                                                                                                                                                                                                                                                                                                                                                                                                                                                                                                                                                                                                                                                                                                                                                                                                                                                                                                                                                                                                                                                                                                                                                                                                                                                                                                                                                                                                                                                                                                                                                                                                                                                                                                                                                                                                                                                                                                                                                                                                                                                                                                                                                                                                                                                                                                                                                                                                                                                                                                                                                                                                                                                                                                                                                                                                                                                                                                                                                                                                                                                                                                                                                                                                                                                                                                                                                                                                                                                                                                                                                                                                                                                                                                                                                                                                                                                                                                                                                                                                                                                                                    88\n",
      "[Genaue Angaben zu der Serienausstattung, finden Sie auf unsere Homepage., Gerne nehmen wir Ihr Aktuelles Fahrzeug zurück!, Der Verkäufer übernimmt keine Haftung für Tipp und Datenübermittlungsfehler., Angeführte Ausstattungen sind ggfs. gesondert vor Ort zu prüfen., Alle Angaben in den Inseraten sind unverbindlich und ohne Gewähr.,  , Dacia Jogger TCe 110 Extreme+ 7-Sitzer,  , Sonderausstattung,  , City-Paket,  , - elektrische Parkbremse, - erhöhte Mittelkonsole, - Einparkhilfe vorne und hinten, - Rückfahrkamera, - Toter-Winkel-Warner,  , Sitzheizung für Vordersitze,  , Klimaautomatik,  , Scheiben hinten abgedunkelt,  , 7-Sitzer,  , Serienausstattung,  ,  , Eco LED-Scheinwerfer,  , Reserverad,  , Notbremsassistent,  , ECO-Mode,  , 12V Steckdose,  , Klapptische für zweite Sitzreihe,  , El. Parkbremse,  , Sonnenblenden mit Make-up-Spiegel,  , Beifahrersonnenblende mit Make-up-Spiegel,  , Fahrersitz höhenverstellbar,  , Lenkrad höhen- und längsverstellbar,  , Rücksitzbank 60/40 umklappbar,  , Servolenkung,  , Zentralverriegelung,  , El. Fensterheber vorne und hinten,  , El. Seitenspiegel,  , Schlüssellose Zentralverriegelung,  , Armlehne,  , Lenkrad in Lederoptik mit Multifunktion,  , Dachreling modular,  , Leichtmetallfelgen in schwarz mit Sommerreifen,  , Reifendruck-Kontrolle,  , Dacia Media Nav Multimediasystem,  , DAB-Radio,  , MP3 fähig,  , Bluetooth,  , USB-Anschluss,  , Touchscreen,  , CarPlay,  , Android Auto,  , Sprachsteuerung,  , Navigationssystem,  , Tempomat,  , Freisprecheinrichtung,  , Bordcomputer Check-Control,  , Geschwindigkeitsbegrenzungsanlage, ...]                                                                                                                                                                                                                                                                                                                                                                                                                                                                                                                                                                                                                                                                                                                                                                                                                                                                                                                                                                                                                                                                                                                                                                                                                                                                                                                                                                                                                                                                                                                                                                                                                                                                                                                                                                                                                                                                                                                                                                                                                                                                                                                                                                                                                                                                                                                                                                                                                                                                                                           51\n",
      "[Ref.  4236LFG,            OCASIONPLUS, SÓLO ESTE MES MEJOR PRECIO GARANTIZADO, COMPRA CON TOTAL CONFIANZA - 15 DÍAS O 1000 KMs DE PRUEBA, OCASIONPLUS - Nº1 Calidad/Precio, 5000 COCHES - 50 centros en toda la península , Elige tu coche y te lo llevamos a tu provincia, Hasta 2350€ de descuento en este coche, ADEMÁS HACEMOS FINANCIACIONES A MEDIDA, PREGÚNTANOS!!, Equipamiento destacado: Techo panorámico, Tapicería de piel, Asistente de aparcamiento, Navegador, Encendido automático de faros, Arranque por botón, Start/Stop automático, Control de velocidad, Volante multifunción, Bluetooth, Aire Acondicionado (Climatizador), Control de tracción, Llantas de aleación (18\")., - Garantía total 1 año, con cobertura nacional, ampliable a 24 meses., - Certificado de Kilómetros y ausencia de golpes estructurales., - Sobrevaloramos tu coche en operaciones de cambio. Tásalo ahora en ocasionplus.com, - Entregamos cualquier coche en cualquier centro por 100€, - Abierto Domingo y Festivos.,  , Extras,  ,  , Equipamiento destacado seleccionado por el usuario,  ,  , - Llantas de aleación de 18\", - Techo panorámico, - Navegador, - Start/Stop automático, - Control de velocidad, - Volante multifunción, - Bluetooth, - Control de tracción, - Climatizador, - Llantas de aleación, - Aire Acondicionado, - Tapicería de piel, - Asistente de aparcamiento, - Encendido automático de faros, - Arranque por botón, See more]                                                                                                                                                                                                                                                                                                                                                                                                                                                                                                                                                                                                                                                                                                                                                                                                                                                                                                                                                                                                                                                                                                                                                                                                                                                                                                                                                                                                                                                                                                                                                                                                                                                                                                                                                                                                                                                                                                                                                                                                                                                                                                                                                                                                                                                                                                                                                                                                                                                                                                                                                                                                                                                                                                     34\n",
      "[ , Precio al contado: 15200 euros,  , Ref.  6710KJS,            \"OCASIONPLUS, SÓLO ESTE MES MEJOR PRECIO GARANTIZADO, COMPRA CON TOTAL CONFIANZA - 15 DÍAS O 1000 KMs DE PRUEBA, OCASIONPLUS - Nº1 Calidad/Precio, 5000 COCHES - 50 centros en toda la península , Elige tu coche y te lo llevamos a tu provincia, Hasta 1382€ de descuento en este coche, Precio oferta financiado: 13818€ (202€/mes) financiando la totalidad a un plazo mínimo de 60 meses, Precio al contado: 15200€ ADEMÁS HACEMOS FINANCIACIONES A MEDIDA, PREGÚNTANOS!!\", Equipamiento destacado: Faros traseros led, Bluetooth, Arranque por botón, Aire Acondicionado (Climatizador), Isofix, Llantas de aleación (16\")., - Coche Nacional., - Garantía total 1 año, con cobertura nacional, ampliable a 24 meses., - Certificado de Kilómetros y ausencia de golpes estructurales., - Sobrevaloramos tu coche en operaciones de cambio. Tásalo ahora en ocasionplus.com, - Entregamos cualquier coche en cualquier centro por 100€, - Abierto Domingo y Festivos.,  , Extras,  ,  , Equipamiento destacado seleccionado por el usuario,  ,  , - Bluetooth, - Climatizador, - Llantas de aleación, - Aire Acondicionado, - Llantas de aleación de 16\", - Faros traseros led, - Isofi, x- Arranque por botón,  , Condiciones de la financiación,  , \"OCASIONPLUS, SÓLO ESTE MES MEJOR PRECIO GARANTIZADO, COMPRA CON TOTAL CONFIANZA - 15 DÍAS O 1000 KMs DE PRUEBA, OCASIONPLUS - Nº1 Calidad/Precio, 5000 COCHES - 50 centros en toda la península , Elige tu coche y te lo llevamos a tu provincia, Hasta 1382€ de descuento en este coche, Precio oferta financiado: 13818€ (202€/mes) financiando la totalidad a un plazo mínimo de 60 meses, Precio al contado: 15200€ ADEMÁS HACEMOS FINANCIACIONES A MEDIDA, PREGÚNTANOS!!\", See more]                                                                                                                                                                                                                                                                                                                                                                                                                                                                                                                                                                                                                                                                                                                                                                                                                                                                                                                                                                                                                                                                                                                                                                                                                                                                                                                                                                                                                                                                                                                                                                                                                                                                                                                                                                                                                                                                                                                                                                                                                                                                                                                                                                                                                                                                                                                                               34\n",
      "                                                                                                                                                                                                                                                                                                                                                                                                                                                                                                                                                                                                                                                                                                                                                                                                                                                                                                                                                                                                                                                                                                                                                                                                                                                                                                                                                                                                                                                                                                                                                                                                                                                                                                                                                                                                                                                                                                                                                                                                                                                                                                                                                                                                                                                                                                                                                                                                                                                                                                                                                                                                                                                                                                                                                                                                                                                                                                                                                                                                                                                                                                                                                                                                                                                                                                                                                                                                                                                                                                                                                                                                                                                                                                                                                                                                                                                                                                                                                                                                                                                                                                                                                                    ... \n",
      "[PEUGEOT 3008 BUSINESS 3008 1.6 BlueHDi 120ch S&S EAT6 Active Business]                                                                                                                                                                                                                                                                                                                                                                                                                                                                                                                                                                                                                                                                                                                                                                                                                                                                                                                                                                                                                                                                                                                                                                                                                                                                                                                                                                                                                                                                                                                                                                                                                                                                                                                                                                                                                                                                                                                                                                                                                                                                                                                                                                                                                                                                                                                                                                                                                                                                                                                                                                                                                                                                                                                                                                                                                                                                                                                                                                                                                                                                                                                                                                                                                                                                                                                                                                                                                                                                                                                                                                                                                                                                                                                                                                                                                                                                                                                                                                                                                                                                                                1\n",
      "[ , Precio al contado: 27900 euros,  , Concesionario oficial Peugeot en Valencia con más de 50 Años de experiencia. Vehículo revisado en más de 100 puntos con el programa Spoticar de Peugeot. Posibilidad de financiar hasta 120 meses sin entrada. Garantizado 12 meses ampliable hasta 36 meses. Gestionamos también su seguro de coche a los mejores precios. Vehículo publicado con 3.400-€ de descuento al financiar con nuestra entidad financiera colaboradora una cantidad mínima de 10.000.-€ a 60 meses y entregando coche de más de 10 años., Este anuncio no es contractual y está sujeto a las condiciones de la campaña mensual. Le animamos, a consultar condiciones., EQUIPAMIENTOS:, Asientos de tela (material principal) y de cuero sintético (material secundario), Navegador con datos vía memoria interna/disco duro y pantalla a color de 10,0 \" con información en 3D y con voz, control mediante pantalla táctil y información de tráfico 25,4 y 36, Volante multi-función revestido de cuero ajustable en altura y en profundidad,  , Condiciones de la financiación,  , Consultar condiciones de financiación en este anuncio o contactando con el anunciante, See more]                                                                                                                                                                                                                                                                                                                                                                                                                                                                                                                                                                                                                                                                                                                                                                                                                                                                                                                                                                                                                                                                                                                                                                                                                                                                                                                                                                                                                                                                                                                                                                                                                                                                                                                                                                                                                                                                                                                                                                                                                                                                                                                                                                                                                                                                                                                                                                                                                                                                                                                                                                                                                                                                                                                                                                                                                                                                                                                                                                  1\n",
      "[Concessionaria Burnout che fa parte della Community NON PRENDERMI PER IL CHILOMETRO e da più di 10 anni sul mercato E' LIETA DI PRESENTARVI . Stupenda Peugeot 5008 1.6 hdi 120 cv 7 posti , Vettura tagliandata, garantita ,sanificata e ricondizionamento interni., SCOPRITE I NOSTRI VANTAGGI USATO GARANTITO E RICONDIZIONATO , * POSSIBILITA' PERMUTA USATO CON USATO, * FINANZIAMENTI PERSONALIZZATI. , * POSSIBILITA' DI ESTENDERE LA GARANZIA A 24 / 36 / 48 MESI , Optional:, specchi elettrici , Apple Car play, Cruise control, Completa cronologia tagliandi, vetri elettrici, Sensore pioggia , sensore luci, Unico proprietario, Sensori di parcheggio, E tanto altro ancora, Ci scusiamo per l'inconveniente ma a causa della non uniformità dei dati pubblicati dai diversi portali,vi invitiamo a verificare le caratteristiche dello specifico veicolo , * I nostri Consulenti sono a Sua disposizione tutti i giorni, dal lunedì al sabato, dalle 9.00 alle19 , WhatsApp Messenger  3473007167, See more]                                                                                                                                                                                                                                                                                                                                                                                                                                                                                                                                                                                                                                                                                                                                                                                                                                                                                                                                                                                                                                                                                                                                                                                                                                                                                                                                                                                                                                                                                                                                                                                                                                                                                                                                                                                                                                                                                                                                                                                                                                                                                                                                                                                                                                                                                                                                                                                                                                                                                                                                                                                                                                                                                                                                                                                                                                                                                                                                                                                                                                                                                                                                          1\n",
      "[Equipements supplémentaires : 2 sieges escamotables et extractibles pour les passagers du 3eme rang, Acces et demarrage mains libres, Accoudoir central AV a ouverture papillon, avec compartiment de rangement eclaire et refrigerable, Aide graphique et sonore au stationnement AR, Aide graphique et sonore au stationnement AV, Air conditionne automatique bi-zone avec aerateurs aux places AR, Airbags frontaux conducteur et passager adaptatifs (passager neutralisable par cle), airbags lateraux conducteur et passager AV, airbags rideaux de tete aux places AV et AR, Appuis-tete a securite optimisee reglables en hauteur sur les sieges conducteur et passager AV ainsi que sur les places laterales AR, Avertisseur de temps de conduite, Barres de toit longitudinales profilee en Aluminium, Boite a gants floquee et eclairee, Boitiers de retroviseurs exterieurs dans la couleur de la carrosserie, Calandre avec jonc peripherique et ailettes chromes, Ceintures de securite 3 points a enrouleur (x2) au 3eme rang, Ceintures de securite 3 points a enrouleur (x3) au 2eme rang, avec pretensionneurs et limiteurs d'effort aux places laterales, Ceintures de securite AV 3 points a enrouleur, reglables en hauteur avec pretensionneurs et limiteurs d'effort, Commande de verrouillage a distance (2 plips), Console centrale AV avec 2 porte-gobelets, Controle dynamique de stabilite CDS avec antipatinage electronique ASR, Decors de planche de bord et panneaux de portes en maille 'Brumeo', Decors interieurs (baguettes de planche de bord et panneaux de portes, enjoliveur de console) chromes, Detection de sous-gonflage indirecte, Direction assistee electrique, colonne de direction reglable en hauteur et profondeur (mecanique), Ecran tactile capacitif 8' et 'Toggles Switches', Enjoliveur d'arc de pavillon en inox, Enjoliveur de seuil d'entree de coffre chrome, Enjoliveur en inox sur les protecteurs de bas de portes, Essuie-vitre AR avec enclenchement automatique en marche AR, Essuie-vitre AV avec systeme de lavage 'Magic Wash', Fixations pour 3 sieges enfants suivant norme ISOFIX aux places du 2eme rang, Fonction 'Mirror Screen', Frein de stationnement electrique avec aide au demarrage en pente, Indicateur de rapport conseille, Inserts d'ailes AV chromes, Jantes alliage 18' 'Detroit' bi-ton diamantees, Kit de depannage de pneumatique : compresseur 12 volts, flacon de produit de colmatage, anneau de remorquage, deux cales de roue, manivelle de frein de stationnement electrique, Leve-vitres AR electriques et sequentiels avec antipincement, Leve-vitres AV electriques et sequentiels avec antipincement, Lunette AR chauffante avec antennes serigraphiees, Miroirs de courtoisie eclaires, Nouveau Peugeot i-Cockpit : combine tete haute numerique reconfigurable et volant compact multi-fonctions, Pack City 1, Pack Eclairage d'ambiance, Pack Safety Plus, Pack Visibilite, Passages de roues rapportes noirs, Peugeot Connect, Plafonnier AV avec spots de lecture (x2) et plafonniers a extinction temporisee aux 2eme et 3eme rangs, Poches/filets aumonieres au dos des sieges AV, Poignees de maintien (x4) retractables avec frein (crochets pour cintres aux places AR), Poignees de portes couleur carrosserie, Prise 12V (x3 : zone connectique, AR de console et coffre), Prise USB (dans la zone connectique), Projecteurs antibrouillard halogenes, Projecteurs halogenes a l'AV avec feux diurnes a LED, Radio 6 HP, bi-tuner compatible MP3 et connectivite Bluetooth (audio streaming, kit mains libres), avec commandes au volant, ecran tactile capacitif 8', Reconnaissance des panneaux de vitesse et preconisation de vitesse, Regulateur / Limiteur de vitesse, Retroviseurs exterieurs electriques degivrants, Retroviseurs exterieurs rabattables electriquement avec eclairage d'accueil a LED, Retroviseurs indexes a la marche AR, Rideaux pare-soleil (x2) pour les passagers du 2eme rang, Sabots de pare-chocs AV gris metallise, Securite enfants electrique des vitres AR, Sellerie TEP & Tissu 'Evron', Sieg, See more]      1\n",
      "[YOUNGTIMER !, Bedrijfsinformatie, NEEM VOOR U WILT KOMEN KIJKEN NAAR EEN AUTO TELEFONISCH CONTACT MET ONS OP 0162-313775 (optie 2) U BENT VAN HARTE WELKOM VOOR PROEFRIT! DINSDAG ALLEEN OP AFSPRAAK! , Overige informatie: Inruil, financiering, garantie of nieuwe apk zijn bespreekbaar. Inruil van uw auto, bus, bestelwagen,vrachtwagen , camper, caravan, boot, graafmachines tractoren of andere industriële equipment is mogelijk! Overdekte showroom 2500 M2 met 100 occasions op voorraad! Ons adres is Lage Ham 106 in Dongen. Openingstijden: Maandag: 9:00-18.00 Dinsdag: ALLEEN OP AFSPRAAK  woensdag t/m vrijdag: 09.00 t/m 18.00 zaterdag 09.00 t/m 14.00. Wij zijn bereikbaar op 0162-313 775 Verdere informatie: WWW.FOCD.NL. Voor informatie over afwijkende openingstijden wat betreft feestdagen kunt u terecht op onze home pagina van WWW.FOCD.NL, Meer informatie, Algemene informatie, Modeljaar: , 2001, Prestaties, Acceleratie (0-100): , 8,9 s, Topsnelheid: , 225 km/u, Maten, Afmetingen (LxBxH): , 482 x 183 x 145 cm, Wielbasis: , 279 cm, Gewichten, Laadvermogen: , 517 kg, GVW: , 2.090 kg, Max. trekgewicht: , 1.800 kg,  (ongeremd 500 kg), Financiële informatie, BTW/marge: , BTW niet verrekenbaar voor ondernemers (margeregeling), Motorrijtuigenbelasting: , € 230 - € 261,  per kwartaal, Aanvullende opties en accessoires, Exterieur, Metaalkleur vernis of parelmoerlak, Buitenspiegels elektrisch verstel- en verwarmbaar, Buitenspiegels in carrosseriekleur, Elektronische remkrachtverdeling, koplampreiniging, Trekhaak afneembaar, Infotainment, Navigatiesysteem en autotelefoon, Interieur, Achterbank verwarmd, Armsteun achter, Armsteun voor, Elektrische ramen voor en achter, Elektrisch rolgordijn voor achterruit, Elektrisch verstelbare bestuurdersstoel, Hoofdsteunen voor en achter, Houtafwerking interieur, Lendesteunen (verstelbaar), Stuur verstelbaar, Voorstoelen in hoogte verstelbaar, Voorstoelen verwarmd, Veiligheid, Airbag(s) hoofd voor, Alarm klasse 1(startblokkering), Alarm klasse 3, Side Impact Protection System, See more]                                                                                                                                                                                                                                                                                                                                                                                                                                                                                                                                                                                                                                                                                                                                                                                                                                                                                                                                                                                                                                                                                                                                                                                                                                                                                                                                                                                                                                                                                                                                                                                                                                                                                                                                                                                                                                                                                                                                                                                                                                                  1\n",
      "Name: desc, Length: 23242, dtype: int64\n"
     ]
    }
   ],
   "source": [
    "first_looking(\"desc\")"
   ]
  },
  {
   "cell_type": "code",
   "execution_count": 60,
   "metadata": {},
   "outputs": [
    {
     "data": {
      "text/plain": [
       "(28630, 44)"
      ]
     },
     "execution_count": 60,
     "metadata": {},
     "output_type": "execute_result"
    }
   ],
   "source": [
    "df.shape"
   ]
  },
  {
   "cell_type": "code",
   "execution_count": 61,
   "metadata": {},
   "outputs": [],
   "source": [
    "df.drop(\"desc\", axis=1, inplace=True)"
   ]
  },
  {
   "cell_type": "code",
   "execution_count": 62,
   "metadata": {},
   "outputs": [
    {
     "data": {
      "text/plain": [
       "(28630, 43)"
      ]
     },
     "execution_count": 62,
     "metadata": {},
     "output_type": "execute_result"
    }
   ],
   "source": [
    "df.shape"
   ]
  },
  {
   "cell_type": "markdown",
   "metadata": {},
   "source": [
    "## location"
   ]
  },
  {
   "cell_type": "code",
   "execution_count": 63,
   "metadata": {},
   "outputs": [
    {
     "name": "stdout",
     "output_type": "stream",
     "text": [
      "column name    :  location\n",
      "--------------------------------\n",
      "per_of_nulls   :  % 0.0\n",
      "num_of_nulls   :  0\n",
      "num_of_uniques :  8181\n",
      "--------------------------------\n",
      "Av. Laboral, 10,  28021 MADRID, ES                          306\n",
      "Luckenwalder Berg 5,  14913 Jüterbog, DE                    170\n",
      "Ctra. del Mig, 96,,  08097 L'Hospitalet de Llobregat, ES    146\n",
      "9 boulevard Jules Ferry,  75011 Paris, FR                   142\n",
      "Neuenhofstr. 77,  52078 Aachen, DE                          135\n",
      "                                                           ... \n",
      "2727CT ZOETERMEER, NL                                         1\n",
      "Rosendaalsestraat 437-439,  6824 CK ARNHEM, NL                1\n",
      "5751VH DEURNE, NL                                             1\n",
      "00148 roma, IT                                                1\n",
      "Sur rendez-vous,  5060 Sambreville, BE                        1\n",
      "Name: location, Length: 8181, dtype: int64\n"
     ]
    }
   ],
   "source": [
    "first_looking(\"location\")"
   ]
  },
  {
   "cell_type": "code",
   "execution_count": 64,
   "metadata": {},
   "outputs": [
    {
     "data": {
      "text/plain": [
       "0        P.I. EL PALMAR C/FORJA 6,  11500 PUERTO DE SAN...\n",
       "1             APARTADO DE CORREOS 1032,  26140 LOGROÑO, ES\n",
       "2        PORT. TARRACO, MOLL DE LLEVANT, Nº 5, LOC. 6-8...\n",
       "3        Carrer de Provença, 31 Local,  8029 BARCELONA, ES\n",
       "4                   CARRIL ARAGONES 4,  30007 CASILLAS, ES\n",
       "                               ...                        \n",
       "29474             HERMANOS LUMIERE Nº16,  29004 MALAGA, ES\n",
       "29475                    Stobbeweg 6,  2461 EX TER AAR, NL\n",
       "29476               Sur rendez-vous,  5060 Sambreville, BE\n",
       "29477      Bergambachterstraat 5,  2871 JB SCHOONHOVEN, NL\n",
       "29478                    Lage Ham 106,  5102 AE DONGEN, NL\n",
       "Name: location, Length: 28630, dtype: object"
      ]
     },
     "execution_count": 64,
     "metadata": {},
     "output_type": "execute_result"
    }
   ],
   "source": [
    "df.location"
   ]
  },
  {
   "cell_type": "markdown",
   "metadata": {},
   "source": [
    "### Location feature will be kept for finding the answers of some analytical questions, rather than machine learning modelling."
   ]
  },
  {
   "cell_type": "markdown",
   "metadata": {},
   "source": [
    "## body_type\n",
    "\n",
    "Vehicle class and body type affect resale value for multiple reasons. One critical factor is geography. Sports cars and convertibles sell better in warm climates, where they’re practical throughout the year. Rugged SUVs and four-wheel-drive vehicles are more popular in colder climates and areas with rougher terrain."
   ]
  },
  {
   "cell_type": "code",
   "execution_count": 65,
   "metadata": {},
   "outputs": [
    {
     "name": "stdout",
     "output_type": "stream",
     "text": [
      "column name    :  body_type\n",
      "--------------------------------\n",
      "per_of_nulls   :  % 0.0\n",
      "num_of_nulls   :  0\n",
      "num_of_uniques :  6\n",
      "--------------------------------\n",
      "[\\n, Station wagon, \\n]       5448\n",
      "[\\n, Off-Road/Pick-up, \\n]    5415\n",
      "[\\n, Compact, \\n]             5387\n",
      "[\\n, Sedan, \\n]               5043\n",
      "[\\n, Coupe, \\n]               4009\n",
      "[\\n, Convertible, \\n]         3328\n",
      "Name: body_type, dtype: int64\n"
     ]
    }
   ],
   "source": [
    "first_looking(\"body_type\")"
   ]
  },
  {
   "cell_type": "code",
   "execution_count": 66,
   "metadata": {},
   "outputs": [
    {
     "data": {
      "text/plain": [
       "0        Compact\n",
       "1        Compact\n",
       "2        Compact\n",
       "3        Compact\n",
       "4        Compact\n",
       "          ...   \n",
       "29474      Sedan\n",
       "29475      Sedan\n",
       "29476      Sedan\n",
       "29477      Sedan\n",
       "29478      Sedan\n",
       "Name: body_type, Length: 28630, dtype: object"
      ]
     },
     "execution_count": 66,
     "metadata": {},
     "output_type": "execute_result"
    }
   ],
   "source": [
    "# df[\"body_type\"].str[0]\n",
    "# df['body_type'].astype(str).str.extract('([A-Z]+.\\d+)')\n",
    "# df['body_type'].astype(str).str.extract('( \\D+.\\d+)')\n",
    "\n",
    "df['body_type'] = df['body_type'].explode().str.strip(\"\\n, \")\n",
    "df['body_type']"
   ]
  },
  {
   "cell_type": "code",
   "execution_count": 67,
   "metadata": {
    "scrolled": true
   },
   "outputs": [
    {
     "data": {
      "text/plain": [
       "Station wagon       5448\n",
       "Off-Road/Pick-up    5415\n",
       "Compact             5387\n",
       "Sedan               5043\n",
       "Coupe               4009\n",
       "Convertible         3328\n",
       "Name: body_type, dtype: int64"
      ]
     },
     "execution_count": 67,
     "metadata": {},
     "output_type": "execute_result"
    }
   ],
   "source": [
    "df[\"body_type\"].value_counts(dropna=False)"
   ]
  },
  {
   "cell_type": "markdown",
   "metadata": {},
   "source": [
    "## type\n",
    "\n",
    "An ex-demo car is a ex-demonstration unit that are typically test driven by potential customers at the showroom. In the process, the car would have clocked up some mileage. An ex-demo car, depending on how you look at it, can be quite a bargain when shopping for a car. After all, on paper at least, it offers quite a lot of savings compared to a brand-new car. More than often, ex-demo cars are top-spec models as dealers want to persuade customers to get the highest variant possible. Compared to a typical used car, getting an ex-demo car is way more straightforward and transparent, but no where as hassle-free as buying new.\n",
    "\n",
    "A company/employee car is a vehicle provided by the business for both business and private use of an employee who usually is required to travel extensively for their role, for example, a regional sales manager. Due to its nature, this kind of cars will be driven by their owners and have more mileage than others. This is probably the most important factor in a resale. Greater the mileage, more the car has been used; hence higher wear and tear and impact on the engine. A lower reading on the odometer will always command a higher price."
   ]
  },
  {
   "cell_type": "code",
   "execution_count": 68,
   "metadata": {},
   "outputs": [
    {
     "name": "stdout",
     "output_type": "stream",
     "text": [
      "column name    :  type\n",
      "--------------------------------\n",
      "per_of_nulls   :  % 0.0\n",
      "num_of_nulls   :  0\n",
      "num_of_uniques :  4\n",
      "--------------------------------\n",
      "[\\n, Used, \\n]              25251\n",
      "[\\n, Demonstration, \\n]      1433\n",
      "[\\n, Pre-registered, \\n]     1377\n",
      "[\\n, Employee's car, \\n]      569\n",
      "Name: type, dtype: int64\n"
     ]
    }
   ],
   "source": [
    "first_looking(\"type\")"
   ]
  },
  {
   "cell_type": "code",
   "execution_count": 69,
   "metadata": {},
   "outputs": [
    {
     "data": {
      "text/plain": [
       "0                  Used\n",
       "1        Pre-registered\n",
       "2                  Used\n",
       "3                  Used\n",
       "4                  Used\n",
       "              ...      \n",
       "29474              Used\n",
       "29475              Used\n",
       "29476              Used\n",
       "29477              Used\n",
       "29478              Used\n",
       "Name: type, Length: 28630, dtype: object"
      ]
     },
     "execution_count": 69,
     "metadata": {},
     "output_type": "execute_result"
    }
   ],
   "source": [
    "df['type'] = df['type'].explode().str.strip(\"\\n, \")\n",
    "df['type']"
   ]
  },
  {
   "cell_type": "code",
   "execution_count": 70,
   "metadata": {},
   "outputs": [
    {
     "data": {
      "text/plain": [
       "Used              25251\n",
       "Demonstration      1433\n",
       "Pre-registered     1377\n",
       "Employee's car      569\n",
       "Name: type, dtype: int64"
      ]
     },
     "execution_count": 70,
     "metadata": {},
     "output_type": "execute_result"
    }
   ],
   "source": [
    "df.type.value_counts(dropna=False)"
   ]
  },
  {
   "cell_type": "markdown",
   "metadata": {},
   "source": [
    "## doors"
   ]
  },
  {
   "cell_type": "code",
   "execution_count": 71,
   "metadata": {},
   "outputs": [
    {
     "name": "stdout",
     "output_type": "stream",
     "text": [
      "column name    :  doors\n",
      "--------------------------------\n",
      "per_of_nulls   :  % 1.25\n",
      "num_of_nulls   :  359\n",
      "num_of_uniques :  7\n",
      "--------------------------------\n",
      "[\\n, 5, \\n]    17481\n",
      "[\\n, 2, \\n]     5523\n",
      "[\\n, 4, \\n]     3001\n",
      "[\\n, 3, \\n]     2259\n",
      "NaN              359\n",
      "[\\n, 6, \\n]        5\n",
      "[\\n, 1, \\n]        2\n",
      "Name: doors, dtype: int64\n"
     ]
    }
   ],
   "source": [
    "first_looking(\"doors\")"
   ]
  },
  {
   "cell_type": "code",
   "execution_count": 72,
   "metadata": {},
   "outputs": [
    {
     "data": {
      "text/plain": [
       "0       5.00\n",
       "1       4.00\n",
       "2       5.00\n",
       "3       5.00\n",
       "4       5.00\n",
       "        ... \n",
       "29474   4.00\n",
       "29475   4.00\n",
       "29476   3.00\n",
       "29477   4.00\n",
       "29478   4.00\n",
       "Name: doors, Length: 28630, dtype: float64"
      ]
     },
     "execution_count": 72,
     "metadata": {},
     "output_type": "execute_result"
    }
   ],
   "source": [
    "df['doors'] = df['doors'].explode().str.strip(\"\\n, \")\n",
    "df['doors'] = pd.to_numeric(df['doors'])\n",
    "df['doors']"
   ]
  },
  {
   "cell_type": "code",
   "execution_count": 73,
   "metadata": {
    "scrolled": true
   },
   "outputs": [
    {
     "data": {
      "text/plain": [
       "5.00    17481\n",
       "2.00     5523\n",
       "4.00     3001\n",
       "3.00     2259\n",
       "NaN       359\n",
       "6.00        5\n",
       "1.00        2\n",
       "Name: doors, dtype: int64"
      ]
     },
     "execution_count": 73,
     "metadata": {},
     "output_type": "execute_result"
    }
   ],
   "source": [
    "df.doors.value_counts(dropna=False)"
   ]
  },
  {
   "cell_type": "markdown",
   "metadata": {},
   "source": [
    "## country_version"
   ]
  },
  {
   "cell_type": "code",
   "execution_count": 74,
   "metadata": {},
   "outputs": [
    {
     "name": "stdout",
     "output_type": "stream",
     "text": [
      "column name    :  country_version\n",
      "--------------------------------\n",
      "per_of_nulls   :  % 41.01\n",
      "num_of_nulls   :  11741\n",
      "num_of_uniques :  26\n",
      "--------------------------------\n",
      "NaN                         11741\n",
      "[\\n, Germany, \\n]            7939\n",
      "[\\n, Spain, \\n]              6376\n",
      "[\\n, Italy, \\n]               679\n",
      "[\\n, Belgium, \\n]             641\n",
      "[\\n, European Union, \\n]      340\n",
      "[\\n, Netherlands, \\n]         306\n",
      "[\\n, Austria, \\n]             266\n",
      "[\\n, France, \\n]              101\n",
      "[\\n, United States, \\n]        57\n",
      "[\\n, Czechia, \\n]              47\n",
      "[\\n, Poland, \\n]               31\n",
      "[\\n, Hungary, \\n]              21\n",
      "[\\n, Denmark, \\n]              21\n",
      "[\\n, Romania, \\n]              12\n",
      "[\\n, Japan, \\n]                12\n",
      "[\\n, Switzerland, \\n]           9\n",
      "[\\n, Luxembourg, \\n]            9\n",
      "[\\n, Sweden, \\n]                6\n",
      "[\\n, Slovenia, \\n]              5\n",
      "[\\n, Slovakia, \\n]              4\n",
      "[\\n, Croatia, \\n]               3\n",
      "[\\n, Bulgaria, \\n]              1\n",
      "[\\n, Malta, \\n]                 1\n",
      "[\\n, Canada, \\n]                1\n",
      "[\\n, Mexico, \\n]                1\n",
      "Name: country_version, dtype: int64\n"
     ]
    }
   ],
   "source": [
    "first_looking(\"country_version\")"
   ]
  },
  {
   "cell_type": "code",
   "execution_count": 75,
   "metadata": {},
   "outputs": [
    {
     "data": {
      "text/plain": [
       "0          Spain\n",
       "1          Spain\n",
       "2          Spain\n",
       "3          Spain\n",
       "4          Spain\n",
       "          ...   \n",
       "29474      Spain\n",
       "29475        NaN\n",
       "29476    Belgium\n",
       "29477        NaN\n",
       "29478        NaN\n",
       "Name: country_version, Length: 28630, dtype: object"
      ]
     },
     "execution_count": 75,
     "metadata": {},
     "output_type": "execute_result"
    }
   ],
   "source": [
    "df[\"country_version\"] = df[\"country_version\"].apply(lambda item: item[0] if type(item) == list else item)\\\n",
    "                                             .str.strip(\"\\n, \")\n",
    "df[\"country_version\"]"
   ]
  },
  {
   "cell_type": "code",
   "execution_count": 76,
   "metadata": {
    "scrolled": true
   },
   "outputs": [
    {
     "data": {
      "text/plain": [
       "NaN               11741\n",
       "Germany            7939\n",
       "Spain              6376\n",
       "Italy               679\n",
       "Belgium             641\n",
       "European Union      340\n",
       "Netherlands         306\n",
       "Austria             266\n",
       "France              101\n",
       "United States        57\n",
       "Czechia              47\n",
       "Poland               31\n",
       "Hungary              21\n",
       "Denmark              21\n",
       "Romania              12\n",
       "Japan                12\n",
       "Switzerland           9\n",
       "Luxembourg            9\n",
       "Sweden                6\n",
       "Slovenia              5\n",
       "Slovakia              4\n",
       "Croatia               3\n",
       "Bulgaria              1\n",
       "Malta                 1\n",
       "Canada                1\n",
       "Mexico                1\n",
       "Name: country_version, dtype: int64"
      ]
     },
     "execution_count": 76,
     "metadata": {},
     "output_type": "execute_result"
    }
   ],
   "source": [
    "df[\"country_version\"].value_counts(dropna=False)"
   ]
  },
  {
   "cell_type": "code",
   "execution_count": 77,
   "metadata": {},
   "outputs": [
    {
     "data": {
      "text/plain": [
       "(28630, 43)"
      ]
     },
     "execution_count": 77,
     "metadata": {},
     "output_type": "execute_result"
    }
   ],
   "source": [
    "df.shape"
   ]
  },
  {
   "cell_type": "code",
   "execution_count": 78,
   "metadata": {},
   "outputs": [],
   "source": [
    "df.drop(\"country_version\", axis=1, inplace=True)"
   ]
  },
  {
   "cell_type": "code",
   "execution_count": 79,
   "metadata": {},
   "outputs": [
    {
     "data": {
      "text/plain": [
       "(28630, 42)"
      ]
     },
     "execution_count": 79,
     "metadata": {},
     "output_type": "execute_result"
    }
   ],
   "source": [
    "df.shape"
   ]
  },
  {
   "cell_type": "markdown",
   "metadata": {},
   "source": [
    "## offer_number"
   ]
  },
  {
   "cell_type": "code",
   "execution_count": 80,
   "metadata": {},
   "outputs": [
    {
     "name": "stdout",
     "output_type": "stream",
     "text": [
      "column name    :  offer_number\n",
      "--------------------------------\n",
      "per_of_nulls   :  % 19.32\n",
      "num_of_nulls   :  5530\n",
      "num_of_uniques :  20946\n",
      "--------------------------------\n",
      "NaN                                5530\n",
      "[\\n, 1, \\n]                          28\n",
      "[\\n, L-Vorlauf 2023, \\n]             10\n",
      "[\\n, 30, \\n]                          9\n",
      "[\\n, 20, \\n]                          9\n",
      "                                   ... \n",
      "[\\n, ggp-EP-880-ZS, \\n]               1\n",
      "[\\n, 7475319, \\n]                     1\n",
      "[\\n, abci-EZ-260-PS_130291, \\n]       1\n",
      "[\\n, 7407611, \\n]                     1\n",
      "[\\n, 43-JR-LR, \\n]                    1\n",
      "Name: offer_number, Length: 20946, dtype: int64\n"
     ]
    }
   ],
   "source": [
    "first_looking(\"offer_number\")"
   ]
  },
  {
   "cell_type": "code",
   "execution_count": 81,
   "metadata": {},
   "outputs": [
    {
     "data": {
      "text/plain": [
       "(28630, 42)"
      ]
     },
     "execution_count": 81,
     "metadata": {},
     "output_type": "execute_result"
    }
   ],
   "source": [
    "df.shape"
   ]
  },
  {
   "cell_type": "code",
   "execution_count": 82,
   "metadata": {},
   "outputs": [],
   "source": [
    "df.drop(\"offer_number\", axis=1, inplace=True)"
   ]
  },
  {
   "cell_type": "code",
   "execution_count": 83,
   "metadata": {},
   "outputs": [
    {
     "data": {
      "text/plain": [
       "(28630, 41)"
      ]
     },
     "execution_count": 83,
     "metadata": {},
     "output_type": "execute_result"
    }
   ],
   "source": [
    "df.shape"
   ]
  },
  {
   "cell_type": "markdown",
   "metadata": {},
   "source": [
    "## warranty"
   ]
  },
  {
   "cell_type": "code",
   "execution_count": 84,
   "metadata": {},
   "outputs": [
    {
     "name": "stdout",
     "output_type": "stream",
     "text": [
      "column name    :  warranty\n",
      "--------------------------------\n",
      "per_of_nulls   :  % 44.87\n",
      "num_of_nulls   :  12846\n",
      "num_of_uniques :  66\n",
      "--------------------------------\n",
      "NaN                     12846\n",
      "[\\n, 12 months, \\n]      9545\n",
      "[\\n, Yes, \\n]            2319\n",
      "[\\n, 24 months, \\n]      1515\n",
      "[\\n, 60 months, \\n]       968\n",
      "[\\n, 6 months, \\n]        398\n",
      "[\\n, 36 months, \\n]       257\n",
      "[\\n, 3 months, \\n]        185\n",
      "[\\n, 0 months, \\n]        133\n",
      "[\\n, 48 months, \\n]        78\n",
      "[\\n, 84 months, \\n]        47\n",
      "[\\n, 72 months, \\n]        40\n",
      "[\\n, 13 months, \\n]        22\n",
      "[\\n, 8 months, \\n]         19\n",
      "[\\n, 18 months, \\n]        15\n",
      "[\\n, 1 months, \\n]         15\n",
      "[\\n, 15 months, \\n]        13\n",
      "[\\n, 14 months, \\n]        13\n",
      "[\\n, 16 months, \\n]        13\n",
      "[\\n, 30 months, \\n]        12\n",
      "[\\n, 34 months, \\n]        11\n",
      "[\\n, 21 months, \\n]        11\n",
      "[\\n, 33 months, \\n]        11\n",
      "[\\n, 32 months, \\n]         9\n",
      "[\\n, 20 months, \\n]         9\n",
      "[\\n, 23 months, \\n]         9\n",
      "[\\n, 19 months, \\n]         9\n",
      "[\\n, 17 months, \\n]         9\n",
      "[\\n, 35 months, \\n]         8\n",
      "[\\n, 28 months, \\n]         8\n",
      "[\\n, 50 months, \\n]         6\n",
      "[\\n, 22 months, \\n]         6\n",
      "[\\n, 42 months, \\n]         5\n",
      "[\\n, 31 months, \\n]         4\n",
      "[\\n, 26 months, \\n]         4\n",
      "[\\n, 52 months, \\n]         4\n",
      "[\\n, 47 months, \\n]         4\n",
      "[\\n, 9 months, \\n]          4\n",
      "[\\n, 25 months, \\n]         3\n",
      "[\\n, 58 months, \\n]         3\n",
      "[\\n, 11 months, \\n]         3\n",
      "[\\n, 27 months, \\n]         3\n",
      "[\\n, 45 months, \\n]         2\n",
      "[\\n, 53 months, \\n]         2\n",
      "[\\n, 10 months, \\n]         2\n",
      "[\\n, 57 months, \\n]         2\n",
      "[\\n, 51 months, \\n]         2\n",
      "[\\n, 29 months, \\n]         2\n",
      "[\\n, 2 months, \\n]          2\n",
      "[\\n, 80 months, \\n]         2\n",
      "[\\n, 90 months, \\n]         2\n",
      "[\\n, 7 months, \\n]          2\n",
      "[\\n, 46 months, \\n]         1\n",
      "[\\n, 117 months, \\n]        1\n",
      "[\\n, 43 months, \\n]         1\n",
      "[\\n, 65 months, \\n]         1\n",
      "[\\n, 39 months, \\n]         1\n",
      "[\\n, 142 months, \\n]        1\n",
      "[\\n, 110 months, \\n]        1\n",
      "[\\n, 37 months, \\n]         1\n",
      "[\\n, 49 months, \\n]         1\n",
      "[\\n, 55 months, \\n]         1\n",
      "[\\n, 99 months, \\n]         1\n",
      "[\\n, 122 months, \\n]        1\n",
      "[\\n, 44 months, \\n]         1\n",
      "[\\n, 4 months, \\n]          1\n",
      "Name: warranty, dtype: int64\n"
     ]
    }
   ],
   "source": [
    "first_looking(\"warranty\")"
   ]
  },
  {
   "cell_type": "code",
   "execution_count": 85,
   "metadata": {},
   "outputs": [
    {
     "data": {
      "text/plain": [
       "0       24.00\n",
       "1       24.00\n",
       "2       12.00\n",
       "3       12.00\n",
       "4       12.00\n",
       "         ... \n",
       "29474   12.00\n",
       "29475     NaN\n",
       "29476   13.00\n",
       "29477   12.00\n",
       "29478     NaN\n",
       "Name: warranty, Length: 28630, dtype: float64"
      ]
     },
     "execution_count": 85,
     "metadata": {},
     "output_type": "execute_result"
    }
   ],
   "source": [
    "df[\"warranty\"] = df.warranty.apply(lambda x : x[0] if type(x)==list else x)\n",
    "\n",
    "df[\"warranty\"] = df.warranty.str.extract('(\\d{1,4})').astype(\"float\") # str.extract('(\\d+)')\n",
    "df[\"warranty\"]"
   ]
  },
  {
   "cell_type": "code",
   "execution_count": 86,
   "metadata": {
    "scrolled": true
   },
   "outputs": [
    {
     "data": {
      "text/plain": [
       "NaN       15165\n",
       "12.00      9545\n",
       "24.00      1515\n",
       "60.00       968\n",
       "6.00        398\n",
       "36.00       257\n",
       "3.00        185\n",
       "0.00        133\n",
       "48.00        78\n",
       "84.00        47\n",
       "72.00        40\n",
       "13.00        22\n",
       "8.00         19\n",
       "18.00        15\n",
       "1.00         15\n",
       "15.00        13\n",
       "14.00        13\n",
       "16.00        13\n",
       "30.00        12\n",
       "34.00        11\n",
       "21.00        11\n",
       "33.00        11\n",
       "32.00         9\n",
       "20.00         9\n",
       "23.00         9\n",
       "19.00         9\n",
       "17.00         9\n",
       "35.00         8\n",
       "28.00         8\n",
       "50.00         6\n",
       "22.00         6\n",
       "42.00         5\n",
       "31.00         4\n",
       "26.00         4\n",
       "52.00         4\n",
       "47.00         4\n",
       "9.00          4\n",
       "25.00         3\n",
       "58.00         3\n",
       "11.00         3\n",
       "27.00         3\n",
       "45.00         2\n",
       "53.00         2\n",
       "10.00         2\n",
       "57.00         2\n",
       "51.00         2\n",
       "29.00         2\n",
       "2.00          2\n",
       "80.00         2\n",
       "90.00         2\n",
       "7.00          2\n",
       "46.00         1\n",
       "117.00        1\n",
       "43.00         1\n",
       "65.00         1\n",
       "39.00         1\n",
       "142.00        1\n",
       "110.00        1\n",
       "37.00         1\n",
       "49.00         1\n",
       "55.00         1\n",
       "99.00         1\n",
       "122.00        1\n",
       "44.00         1\n",
       "4.00          1\n",
       "Name: warranty, dtype: int64"
      ]
     },
     "execution_count": 86,
     "metadata": {},
     "output_type": "execute_result"
    }
   ],
   "source": [
    "df.warranty.value_counts(dropna=False)"
   ]
  },
  {
   "cell_type": "markdown",
   "metadata": {},
   "source": [
    "## mileage\n",
    "\n",
    "### 📝 Some Remarks on mileage:\n",
    "\n",
    "Actual kilometer on the cars is one of the most important factors which one may think that there is negative linear correlation between the price and the kilometers of the car. \n",
    "\n",
    "Cars stack, on average, 10,000-15,000 kms in mileage, each year. The more miles your car has been driven, the lower its market value will get generally. Cars with higher mileage on the odometer tend to be exposed to greater wear and tear, and are more likely to require a greater focus on maintenance and repairs. Mileage is also a key ranking factor for prospective used car buyers – the general rule of thumb being that a car with lower miles is viewed more favourably by buyers. "
   ]
  },
  {
   "cell_type": "code",
   "execution_count": 87,
   "metadata": {},
   "outputs": [
    {
     "name": "stdout",
     "output_type": "stream",
     "text": [
      "column name    :  mileage\n",
      "--------------------------------\n",
      "per_of_nulls   :  % 0.0\n",
      "num_of_nulls   :  1\n",
      "num_of_uniques :  14184\n",
      "--------------------------------\n",
      "10 km         586\n",
      "1 km          172\n",
      "50 km         133\n",
      "100 km        119\n",
      "5,000 km      118\n",
      "             ... \n",
      "141,589 km      1\n",
      "59,821 km       1\n",
      "123,500 km      1\n",
      "29,781 km       1\n",
      "230,047 km      1\n",
      "Name: mileage, Length: 14184, dtype: int64\n"
     ]
    }
   ],
   "source": [
    "first_looking(\"mileage\")"
   ]
  },
  {
   "cell_type": "code",
   "execution_count": 88,
   "metadata": {},
   "outputs": [
    {
     "data": {
      "text/plain": [
       "0       120200.00\n",
       "1         5000.00\n",
       "2        18900.00\n",
       "3        18995.00\n",
       "4       197000.00\n",
       "           ...   \n",
       "29474    40345.00\n",
       "29475   145000.00\n",
       "29476    96000.00\n",
       "29477    94343.00\n",
       "29478   230047.00\n",
       "Name: mileage, Length: 28630, dtype: float64"
      ]
     },
     "execution_count": 88,
     "metadata": {},
     "output_type": "execute_result"
    }
   ],
   "source": [
    "# df.mileage.str.replace(',', '').str.rstrip(\" km\").replace('-', np.nan).astype('float')\n",
    "\n",
    "\n",
    "df[\"mileage\"] = df.mileage.str.replace(',', '').str.extract('(\\d{1,8})').astype('float')\n",
    "df[\"mileage\"]"
   ]
  },
  {
   "cell_type": "code",
   "execution_count": 89,
   "metadata": {},
   "outputs": [
    {
     "data": {
      "text/plain": [
       "10.00        586\n",
       "1.00         172\n",
       "50.00        133\n",
       "100.00       119\n",
       "5000.00      118\n",
       "            ... \n",
       "141589.00      1\n",
       "59821.00       1\n",
       "123500.00      1\n",
       "29781.00       1\n",
       "230047.00      1\n",
       "Name: mileage, Length: 14184, dtype: int64"
      ]
     },
     "execution_count": 89,
     "metadata": {},
     "output_type": "execute_result"
    }
   ],
   "source": [
    "df.mileage.value_counts(dropna=False)"
   ]
  },
  {
   "cell_type": "markdown",
   "metadata": {},
   "source": [
    "## first_registration"
   ]
  },
  {
   "cell_type": "code",
   "execution_count": 90,
   "metadata": {},
   "outputs": [
    {
     "name": "stdout",
     "output_type": "stream",
     "text": [
      "column name    :  first_registration\n",
      "--------------------------------\n",
      "per_of_nulls   :  % 0.01\n",
      "num_of_nulls   :  2\n",
      "num_of_uniques :  656\n",
      "--------------------------------\n",
      "08/2022    454\n",
      "06/2022    428\n",
      "05/2019    420\n",
      "06/2019    418\n",
      "07/2019    416\n",
      "          ... \n",
      "06/1967      1\n",
      "06/1980      1\n",
      "09/1970      1\n",
      "06/1963      1\n",
      "10/1979      1\n",
      "Name: first_registration, Length: 656, dtype: int64\n"
     ]
    }
   ],
   "source": [
    "first_looking(\"first_registration\")"
   ]
  },
  {
   "cell_type": "code",
   "execution_count": 91,
   "metadata": {
    "scrolled": true
   },
   "outputs": [
    {
     "data": {
      "text/plain": [
       "0        2016\n",
       "1        2022\n",
       "2        2020\n",
       "3        2020\n",
       "4        2015\n",
       "         ... \n",
       "29474    2019\n",
       "29475    2004\n",
       "29476    2011\n",
       "29477    2017\n",
       "29478    2002\n",
       "Name: first_registration, Length: 28630, dtype: object"
      ]
     },
     "execution_count": 91,
     "metadata": {},
     "output_type": "execute_result"
    }
   ],
   "source": [
    "df['first_registration'].str.extract('.*(\\d{4})', expand=False)"
   ]
  },
  {
   "cell_type": "code",
   "execution_count": 92,
   "metadata": {},
   "outputs": [
    {
     "data": {
      "text/plain": [
       "0        2016\n",
       "1        2022\n",
       "2        2020\n",
       "3        2020\n",
       "4        2015\n",
       "         ... \n",
       "29474    2019\n",
       "29475    2004\n",
       "29476    2011\n",
       "29477    2017\n",
       "29478    2002\n",
       "Name: first_registration, Length: 28630, dtype: object"
      ]
     },
     "execution_count": 92,
     "metadata": {},
     "output_type": "execute_result"
    }
   ],
   "source": [
    "# df['first_registration'].map(lambda x: str(x)[-4:])\n",
    "# df.apply(lambda x: str(x['first_registration'])[-4:], axis=1)\n",
    "# [x.strip()[-4:] for x in df['first_registration'].astype(str)]\n",
    "# df['first_registration'].astype(str).str.findall(\"(\\w{4})\").str.join(\"\")\n",
    "# df['first_registration'].astype(str).str.extract(\"(\\w{4})\")\n",
    "# df['first_registration'].str.extract('.*(\\d{4})', expand=False)\n",
    "# df['first_registration'].get(1).extract(\"(\\w{4})\")\n",
    "\n",
    "df['first_registration'].str[-4:]"
   ]
  },
  {
   "cell_type": "code",
   "execution_count": 93,
   "metadata": {},
   "outputs": [
    {
     "data": {
      "text/plain": [
       "0       2016.00\n",
       "1       2022.00\n",
       "2       2020.00\n",
       "3       2020.00\n",
       "4       2015.00\n",
       "          ...  \n",
       "29474   2019.00\n",
       "29475   2004.00\n",
       "29476   2011.00\n",
       "29477   2017.00\n",
       "29478   2002.00\n",
       "Name: first_registration, Length: 28630, dtype: float64"
      ]
     },
     "execution_count": 93,
     "metadata": {},
     "output_type": "execute_result"
    }
   ],
   "source": [
    "df['first_registration'] = df['first_registration'].str[-4:].astype('float')\n",
    "df['first_registration']"
   ]
  },
  {
   "cell_type": "code",
   "execution_count": 94,
   "metadata": {
    "scrolled": true
   },
   "outputs": [
    {
     "data": {
      "text/plain": [
       "2019.00    3667\n",
       "2018.00    3492\n",
       "2022.00    3086\n",
       "2021.00    2870\n",
       "2020.00    2473\n",
       "2017.00    2426\n",
       "2016.00    1486\n",
       "2015.00    1237\n",
       "2014.00     936\n",
       "2013.00     703\n",
       "2012.00     655\n",
       "2011.00     642\n",
       "2010.00     559\n",
       "2007.00     492\n",
       "2008.00     441\n",
       "2009.00     424\n",
       "2006.00     395\n",
       "2005.00     287\n",
       "2004.00     247\n",
       "2003.00     211\n",
       "2001.00     191\n",
       "2002.00     187\n",
       "2000.00     160\n",
       "1999.00     144\n",
       "1998.00      91\n",
       "1997.00      81\n",
       "1994.00      80\n",
       "1995.00      78\n",
       "1996.00      71\n",
       "1991.00      62\n",
       "1992.00      60\n",
       "1993.00      55\n",
       "1990.00      54\n",
       "1966.00      41\n",
       "1967.00      34\n",
       "1988.00      33\n",
       "1965.00      32\n",
       "1973.00      29\n",
       "1972.00      29\n",
       "1968.00      27\n",
       "1987.00      26\n",
       "1978.00      23\n",
       "1986.00      22\n",
       "1989.00      20\n",
       "1970.00      19\n",
       "1971.00      18\n",
       "1985.00      18\n",
       "1969.00      17\n",
       "1979.00      17\n",
       "1983.00      16\n",
       "1975.00      14\n",
       "1977.00      13\n",
       "1964.00      11\n",
       "1976.00      11\n",
       "1982.00      11\n",
       "1984.00      10\n",
       "1981.00       9\n",
       "1963.00       9\n",
       "1974.00       9\n",
       "1962.00       8\n",
       "1961.00       7\n",
       "1980.00       6\n",
       "1955.00       6\n",
       "1954.00       4\n",
       "1958.00       4\n",
       "1957.00       4\n",
       "1960.00       4\n",
       "1932.00       3\n",
       "1937.00       2\n",
       "1959.00       2\n",
       "1900.00       2\n",
       "1953.00       2\n",
       "1930.00       2\n",
       "NaN           2\n",
       "1952.00       2\n",
       "2025.00       1\n",
       "1933.00       1\n",
       "1946.00       1\n",
       "1956.00       1\n",
       "2023.00       1\n",
       "1929.00       1\n",
       "1950.00       1\n",
       "1928.00       1\n",
       "2202.00       1\n",
       "Name: first_registration, dtype: int64"
      ]
     },
     "execution_count": 94,
     "metadata": {},
     "output_type": "execute_result"
    }
   ],
   "source": [
    "df[\"first_registration\"].value_counts(dropna=False)"
   ]
  },
  {
   "cell_type": "markdown",
   "metadata": {},
   "source": [
    "## production_date"
   ]
  },
  {
   "cell_type": "code",
   "execution_count": 95,
   "metadata": {},
   "outputs": [
    {
     "name": "stdout",
     "output_type": "stream",
     "text": [
      "column name    :  production_date\n",
      "--------------------------------\n",
      "per_of_nulls   :  % 79.36\n",
      "num_of_nulls   :  22722\n",
      "num_of_uniques :  50\n",
      "--------------------------------\n",
      "NaN        22722\n",
      "2019.00     1179\n",
      "2021.00      980\n",
      "2022.00      894\n",
      "2020.00      763\n",
      "2018.00      762\n",
      "2017.00      391\n",
      "2016.00      239\n",
      "2015.00      118\n",
      "2014.00       90\n",
      "2013.00       76\n",
      "2010.00       53\n",
      "2012.00       43\n",
      "2011.00       43\n",
      "2008.00       34\n",
      "2009.00       26\n",
      "2007.00       20\n",
      "2006.00       17\n",
      "2002.00       15\n",
      "2004.00       13\n",
      "2003.00       13\n",
      "1967.00       12\n",
      "2001.00       12\n",
      "1966.00       11\n",
      "1999.00        9\n",
      "2005.00        9\n",
      "1965.00        9\n",
      "1970.00        9\n",
      "1997.00        8\n",
      "1994.00        8\n",
      "1968.00        7\n",
      "2000.00        7\n",
      "1998.00        5\n",
      "1990.00        3\n",
      "1973.00        3\n",
      "1987.00        3\n",
      "1993.00        3\n",
      "1991.00        3\n",
      "1996.00        3\n",
      "1995.00        2\n",
      "1969.00        2\n",
      "1978.00        2\n",
      "1982.00        2\n",
      "1961.00        1\n",
      "1954.00        1\n",
      "1988.00        1\n",
      "1962.00        1\n",
      "1981.00        1\n",
      "1985.00        1\n",
      "1976.00        1\n",
      "Name: production_date, dtype: int64\n"
     ]
    }
   ],
   "source": [
    "first_looking(\"production_date\")"
   ]
  },
  {
   "cell_type": "code",
   "execution_count": 96,
   "metadata": {},
   "outputs": [
    {
     "data": {
      "text/html": [
       "<div>\n",
       "<style scoped>\n",
       "    .dataframe tbody tr th:only-of-type {\n",
       "        vertical-align: middle;\n",
       "    }\n",
       "\n",
       "    .dataframe tbody tr th {\n",
       "        vertical-align: top;\n",
       "    }\n",
       "\n",
       "    .dataframe thead th {\n",
       "        text-align: right;\n",
       "    }\n",
       "</style>\n",
       "<table border=\"1\" class=\"dataframe\">\n",
       "  <thead>\n",
       "    <tr style=\"text-align: right;\">\n",
       "      <th></th>\n",
       "      <th>first_registration</th>\n",
       "      <th>production_date</th>\n",
       "    </tr>\n",
       "  </thead>\n",
       "  <tbody>\n",
       "    <tr>\n",
       "      <th>23</th>\n",
       "      <td>2019.00</td>\n",
       "      <td>2018.00</td>\n",
       "    </tr>\n",
       "    <tr>\n",
       "      <th>30</th>\n",
       "      <td>2020.00</td>\n",
       "      <td>2018.00</td>\n",
       "    </tr>\n",
       "    <tr>\n",
       "      <th>31</th>\n",
       "      <td>2020.00</td>\n",
       "      <td>2019.00</td>\n",
       "    </tr>\n",
       "    <tr>\n",
       "      <th>470</th>\n",
       "      <td>2022.00</td>\n",
       "      <td>2021.00</td>\n",
       "    </tr>\n",
       "    <tr>\n",
       "      <th>472</th>\n",
       "      <td>2019.00</td>\n",
       "      <td>2016.00</td>\n",
       "    </tr>\n",
       "    <tr>\n",
       "      <th>...</th>\n",
       "      <td>...</td>\n",
       "      <td>...</td>\n",
       "    </tr>\n",
       "    <tr>\n",
       "      <th>29350</th>\n",
       "      <td>2019.00</td>\n",
       "      <td>2017.00</td>\n",
       "    </tr>\n",
       "    <tr>\n",
       "      <th>29380</th>\n",
       "      <td>2022.00</td>\n",
       "      <td>2021.00</td>\n",
       "    </tr>\n",
       "    <tr>\n",
       "      <th>29414</th>\n",
       "      <td>2022.00</td>\n",
       "      <td>2021.00</td>\n",
       "    </tr>\n",
       "    <tr>\n",
       "      <th>29426</th>\n",
       "      <td>2020.00</td>\n",
       "      <td>2019.00</td>\n",
       "    </tr>\n",
       "    <tr>\n",
       "      <th>29436</th>\n",
       "      <td>2022.00</td>\n",
       "      <td>2021.00</td>\n",
       "    </tr>\n",
       "  </tbody>\n",
       "</table>\n",
       "<p>841 rows × 2 columns</p>\n",
       "</div>"
      ],
      "text/plain": [
       "       first_registration  production_date\n",
       "23                2019.00          2018.00\n",
       "30                2020.00          2018.00\n",
       "31                2020.00          2019.00\n",
       "470               2022.00          2021.00\n",
       "472               2019.00          2016.00\n",
       "...                   ...              ...\n",
       "29350             2019.00          2017.00\n",
       "29380             2022.00          2021.00\n",
       "29414             2022.00          2021.00\n",
       "29426             2020.00          2019.00\n",
       "29436             2022.00          2021.00\n",
       "\n",
       "[841 rows x 2 columns]"
      ]
     },
     "execution_count": 96,
     "metadata": {},
     "output_type": "execute_result"
    }
   ],
   "source": [
    "df[(df[\"first_registration\"].notnull()) &\\\n",
    "   (df[\"production_date\"].notnull()) &\\\n",
    "   (df[\"first_registration\"]!=df[\"production_date\"])]\\\n",
    "    [[\"first_registration\",\"production_date\"]]"
   ]
  },
  {
   "cell_type": "markdown",
   "metadata": {},
   "source": [
    "## Feature Engineering for \"Age\" Column\n",
    "\n",
    "### ⚠️ Why do we need a new feature named \"age\"❓\n",
    "\n",
    "Car age is perhaps the biggest factor in deciding the price of a second-hand car. Most probably new cars in the world lose their value fairly quickly in the initial years of usage. Unless your car is a prized vintage, you will realize that the relation between the car price and its age are inversely proportional.\n",
    "\n",
    "Unless it is a vintage, the older the car, the lower the resale price. The reason is fairly simple – every car has a lifetime. And the closer it is to the end of its life, the lower the price."
   ]
  },
  {
   "cell_type": "code",
   "execution_count": 97,
   "metadata": {},
   "outputs": [
    {
     "data": {
      "text/plain": [
       "0        6.00\n",
       "1        0.00\n",
       "2        2.00\n",
       "3        2.00\n",
       "4        7.00\n",
       "         ... \n",
       "29474    3.00\n",
       "29475   18.00\n",
       "29476   11.00\n",
       "29477    5.00\n",
       "29478   20.00\n",
       "Name: age, Length: 28630, dtype: float64"
      ]
     },
     "execution_count": 97,
     "metadata": {},
     "output_type": "execute_result"
    }
   ],
   "source": [
    "# The data used for this project were scraped in 2022.\n",
    "\n",
    "df['age'] = 2022 - df['first_registration']\n",
    "df['age']"
   ]
  },
  {
   "cell_type": "code",
   "execution_count": 98,
   "metadata": {},
   "outputs": [
    {
     "data": {
      "text/plain": [
       "3.00       3667\n",
       "4.00       3492\n",
       "0.00       3086\n",
       "1.00       2870\n",
       "2.00       2473\n",
       "5.00       2426\n",
       "6.00       1486\n",
       "7.00       1237\n",
       "8.00        936\n",
       "9.00        703\n",
       "10.00       655\n",
       "11.00       642\n",
       "12.00       559\n",
       "15.00       492\n",
       "14.00       441\n",
       "13.00       424\n",
       "16.00       395\n",
       "17.00       287\n",
       "18.00       247\n",
       "19.00       211\n",
       "21.00       191\n",
       "20.00       187\n",
       "22.00       160\n",
       "23.00       144\n",
       "24.00        91\n",
       "25.00        81\n",
       "28.00        80\n",
       "27.00        78\n",
       "26.00        71\n",
       "31.00        62\n",
       "30.00        60\n",
       "29.00        55\n",
       "32.00        54\n",
       "56.00        41\n",
       "55.00        34\n",
       "34.00        33\n",
       "57.00        32\n",
       "49.00        29\n",
       "50.00        29\n",
       "54.00        27\n",
       "35.00        26\n",
       "44.00        23\n",
       "36.00        22\n",
       "33.00        20\n",
       "52.00        19\n",
       "51.00        18\n",
       "37.00        18\n",
       "53.00        17\n",
       "43.00        17\n",
       "39.00        16\n",
       "47.00        14\n",
       "45.00        13\n",
       "58.00        11\n",
       "46.00        11\n",
       "40.00        11\n",
       "38.00        10\n",
       "41.00         9\n",
       "59.00         9\n",
       "48.00         9\n",
       "60.00         8\n",
       "61.00         7\n",
       "42.00         6\n",
       "67.00         6\n",
       "68.00         4\n",
       "64.00         4\n",
       "65.00         4\n",
       "62.00         4\n",
       "90.00         3\n",
       "85.00         2\n",
       "63.00         2\n",
       "122.00        2\n",
       "69.00         2\n",
       "92.00         2\n",
       "NaN           2\n",
       "70.00         2\n",
       "-3.00         1\n",
       "89.00         1\n",
       "76.00         1\n",
       "66.00         1\n",
       "-1.00         1\n",
       "93.00         1\n",
       "72.00         1\n",
       "94.00         1\n",
       "-180.00       1\n",
       "Name: age, dtype: int64"
      ]
     },
     "execution_count": 98,
     "metadata": {},
     "output_type": "execute_result"
    }
   ],
   "source": [
    "df.age.value_counts(dropna=False)"
   ]
  },
  {
   "cell_type": "code",
   "execution_count": 99,
   "metadata": {},
   "outputs": [],
   "source": [
    "df.drop([\"first_registration\", \"production_date\"], axis=1, inplace=True)"
   ]
  },
  {
   "cell_type": "code",
   "execution_count": 100,
   "metadata": {},
   "outputs": [
    {
     "data": {
      "text/plain": [
       "(28630, 40)"
      ]
     },
     "execution_count": 100,
     "metadata": {},
     "output_type": "execute_result"
    }
   ],
   "source": [
    "df.shape"
   ]
  },
  {
   "cell_type": "markdown",
   "metadata": {},
   "source": [
    "## gearbox\n",
    "\n",
    "### 📝 Some Remarks on transmission type: \n",
    "\n",
    "Though manual transmissions (stick shifts) have historically been slightly more fuel-efficient than automatic transmissions, they’re usually detrimental to resale value in some cultures. That’s because most drivers don’t know how to drive stick, have mobility issues that make shifting painful or difficult, or simply don’t like keeping their right hands and left feet in constant motion in stop-and-go traffic."
   ]
  },
  {
   "cell_type": "code",
   "execution_count": 101,
   "metadata": {},
   "outputs": [
    {
     "name": "stdout",
     "output_type": "stream",
     "text": [
      "column name    :  gearbox\n",
      "--------------------------------\n",
      "per_of_nulls   :  % 0.87\n",
      "num_of_nulls   :  248\n",
      "num_of_uniques :  4\n",
      "--------------------------------\n",
      "[\\nManual\\n]            17023\n",
      "[\\nAutomatic\\n]         11287\n",
      "NaN                       248\n",
      "[\\nSemi-automatic\\n]       72\n",
      "Name: gearbox, dtype: int64\n"
     ]
    }
   ],
   "source": [
    "first_looking(\"gearbox\")"
   ]
  },
  {
   "cell_type": "code",
   "execution_count": 102,
   "metadata": {},
   "outputs": [
    {
     "data": {
      "text/plain": [
       "0           Manual\n",
       "1        Automatic\n",
       "2        Automatic\n",
       "3        Automatic\n",
       "4        Automatic\n",
       "           ...    \n",
       "29474    Automatic\n",
       "29475    Automatic\n",
       "29476       Manual\n",
       "29477    Automatic\n",
       "29478    Automatic\n",
       "Name: gearbox, Length: 28630, dtype: object"
      ]
     },
     "execution_count": 102,
     "metadata": {},
     "output_type": "execute_result"
    }
   ],
   "source": [
    "# df[\"gearbox\"].apply(lambda item: item[0] if type(item) == list else item).str.split('\\n').str[1].str.strip()\n",
    "# df['gearbox'].astype(str).str.strip(\"['\\\\n\\\\n']\")\n",
    "# df['gearbox'].explode().str.strip(\"\\n \")\n",
    "\n",
    "df['gearbox'] = df['gearbox'].astype(str).str.strip(\"['\\\\n, \\\\n']\").str.extract(\"(\\D+)\")\n",
    "df['gearbox']"
   ]
  },
  {
   "cell_type": "code",
   "execution_count": 103,
   "metadata": {},
   "outputs": [
    {
     "data": {
      "text/plain": [
       "Manual            17023\n",
       "Automatic         11287\n",
       "a                   248\n",
       "Semi-automatic       72\n",
       "Name: gearbox, dtype: int64"
      ]
     },
     "execution_count": 103,
     "metadata": {},
     "output_type": "execute_result"
    }
   ],
   "source": [
    "df.gearbox.value_counts(dropna=False)"
   ]
  },
  {
   "cell_type": "code",
   "execution_count": 104,
   "metadata": {},
   "outputs": [],
   "source": [
    "df['gearbox'].replace('a', np.nan, inplace=True)"
   ]
  },
  {
   "cell_type": "code",
   "execution_count": 105,
   "metadata": {},
   "outputs": [
    {
     "data": {
      "text/plain": [
       "Manual            17023\n",
       "Automatic         11287\n",
       "NaN                 248\n",
       "Semi-automatic       72\n",
       "Name: gearbox, dtype: int64"
      ]
     },
     "execution_count": 105,
     "metadata": {},
     "output_type": "execute_result"
    }
   ],
   "source": [
    "df.gearbox.value_counts(dropna=False)"
   ]
  },
  {
   "cell_type": "markdown",
   "metadata": {},
   "source": [
    "## power"
   ]
  },
  {
   "cell_type": "code",
   "execution_count": 106,
   "metadata": {},
   "outputs": [
    {
     "name": "stdout",
     "output_type": "stream",
     "text": [
      "column name    :  power\n",
      "--------------------------------\n",
      "per_of_nulls   :  % 2.0\n",
      "num_of_nulls   :  572\n",
      "num_of_uniques :  352\n",
      "--------------------------------\n",
      "[\\n110 kW (150 hp)\\n]      1992\n",
      "[\\n96 kW (131 hp)\\n]       1356\n",
      "[\\n88 kW (120 hp)\\n]       1182\n",
      "[\\n81 kW (110 hp)\\n]       1166\n",
      "[\\n66 kW (90 hp)\\n]        1110\n",
      "                           ... \n",
      "[\\n746 kW (1,014 hp)\\n]       1\n",
      "[\\n570 kW (775 hp)\\n]         1\n",
      "[\\n471 kW (640 hp)\\n]         1\n",
      "[\\n179 kW (243 hp)\\n]         1\n",
      "[\\n26 kW (35 hp)\\n]           1\n",
      "Name: power, Length: 352, dtype: int64\n"
     ]
    }
   ],
   "source": [
    "first_looking(\"power\")"
   ]
  },
  {
   "cell_type": "code",
   "execution_count": 107,
   "metadata": {},
   "outputs": [
    {
     "data": {
      "text/html": [
       "<div>\n",
       "<style scoped>\n",
       "    .dataframe tbody tr th:only-of-type {\n",
       "        vertical-align: middle;\n",
       "    }\n",
       "\n",
       "    .dataframe tbody tr th {\n",
       "        vertical-align: top;\n",
       "    }\n",
       "\n",
       "    .dataframe thead th {\n",
       "        text-align: right;\n",
       "    }\n",
       "</style>\n",
       "<table border=\"1\" class=\"dataframe\">\n",
       "  <thead>\n",
       "    <tr style=\"text-align: right;\">\n",
       "      <th></th>\n",
       "      <th>make_model</th>\n",
       "      <th>make</th>\n",
       "      <th>location</th>\n",
       "      <th>price</th>\n",
       "      <th>body_type</th>\n",
       "      <th>type</th>\n",
       "      <th>doors</th>\n",
       "      <th>warranty</th>\n",
       "      <th>mileage</th>\n",
       "      <th>gearbox</th>\n",
       "      <th>fuel_type</th>\n",
       "      <th>colour</th>\n",
       "      <th>paint</th>\n",
       "      <th>seller</th>\n",
       "      <th>seats</th>\n",
       "      <th>power</th>\n",
       "      <th>engine_size</th>\n",
       "      <th>gears</th>\n",
       "      <th>co_emissions</th>\n",
       "      <th>manufacturer_colour</th>\n",
       "      <th>drivetrain</th>\n",
       "      <th>cylinders</th>\n",
       "      <th>fuel_consumption</th>\n",
       "      <th>comfort_&amp;_convenience</th>\n",
       "      <th>entertainment_&amp;_media</th>\n",
       "      <th>safety_&amp;_security</th>\n",
       "      <th>extras</th>\n",
       "      <th>empty_weight</th>\n",
       "      <th>model_code</th>\n",
       "      <th>general_inspection</th>\n",
       "      <th>full_service_history</th>\n",
       "      <th>non_smoker_vehicle</th>\n",
       "      <th>emission_class</th>\n",
       "      <th>emissions_sticker</th>\n",
       "      <th>upholstery_colour</th>\n",
       "      <th>upholstery</th>\n",
       "      <th>previous_owner</th>\n",
       "      <th>energy_efficiency_class</th>\n",
       "      <th>co_efficiency</th>\n",
       "      <th>age</th>\n",
       "      <th>power_kW</th>\n",
       "      <th>power_hp</th>\n",
       "    </tr>\n",
       "  </thead>\n",
       "  <tbody>\n",
       "    <tr>\n",
       "      <th>0</th>\n",
       "      <td>Mercedes-Benz A 160</td>\n",
       "      <td>Mercedes-Benz</td>\n",
       "      <td>P.I. EL PALMAR C/FORJA 6,  11500 PUERTO DE SAN...</td>\n",
       "      <td>16950.00</td>\n",
       "      <td>Compact</td>\n",
       "      <td>Used</td>\n",
       "      <td>5.00</td>\n",
       "      <td>24.00</td>\n",
       "      <td>120200.00</td>\n",
       "      <td>Manual</td>\n",
       "      <td>Diesel</td>\n",
       "      <td>Black</td>\n",
       "      <td>Metallic</td>\n",
       "      <td>Dealer</td>\n",
       "      <td>NaN</td>\n",
       "      <td>NaN</td>\n",
       "      <td>NaN</td>\n",
       "      <td>NaN</td>\n",
       "      <td>NaN</td>\n",
       "      <td>NaN</td>\n",
       "      <td>NaN</td>\n",
       "      <td>NaN</td>\n",
       "      <td>NaN</td>\n",
       "      <td>NaN</td>\n",
       "      <td>NaN</td>\n",
       "      <td>NaN</td>\n",
       "      <td>NaN</td>\n",
       "      <td>NaN</td>\n",
       "      <td>NaN</td>\n",
       "      <td>NaN</td>\n",
       "      <td>NaN</td>\n",
       "      <td>NaN</td>\n",
       "      <td>NaN</td>\n",
       "      <td>NaN</td>\n",
       "      <td>NaN</td>\n",
       "      <td>NaN</td>\n",
       "      <td>NaN</td>\n",
       "      <td>NaN</td>\n",
       "      <td>NaN</td>\n",
       "      <td>6.00</td>\n",
       "      <td>NaN</td>\n",
       "      <td>NaN</td>\n",
       "    </tr>\n",
       "    <tr>\n",
       "      <th>1</th>\n",
       "      <td>Mercedes-Benz EQE 350</td>\n",
       "      <td>Mercedes-Benz</td>\n",
       "      <td>APARTADO DE CORREOS 1032,  26140 LOGROÑO, ES</td>\n",
       "      <td>80900.00</td>\n",
       "      <td>Compact</td>\n",
       "      <td>Pre-registered</td>\n",
       "      <td>4.00</td>\n",
       "      <td>24.00</td>\n",
       "      <td>5000.00</td>\n",
       "      <td>Automatic</td>\n",
       "      <td>Electric</td>\n",
       "      <td>NaN</td>\n",
       "      <td>NaN</td>\n",
       "      <td>Dealer</td>\n",
       "      <td>[\\n, 5, \\n]</td>\n",
       "      <td>[\\n215 kW (292 hp)\\n]</td>\n",
       "      <td>[\\n1 cc\\n]</td>\n",
       "      <td>[\\n9\\n]</td>\n",
       "      <td>0 g/km (comb.)</td>\n",
       "      <td>Negro Obsidiana</td>\n",
       "      <td>NaN</td>\n",
       "      <td>NaN</td>\n",
       "      <td>NaN</td>\n",
       "      <td>NaN</td>\n",
       "      <td>NaN</td>\n",
       "      <td>NaN</td>\n",
       "      <td>NaN</td>\n",
       "      <td>NaN</td>\n",
       "      <td>NaN</td>\n",
       "      <td>NaN</td>\n",
       "      <td>NaN</td>\n",
       "      <td>NaN</td>\n",
       "      <td>NaN</td>\n",
       "      <td>NaN</td>\n",
       "      <td>NaN</td>\n",
       "      <td>NaN</td>\n",
       "      <td>NaN</td>\n",
       "      <td>NaN</td>\n",
       "      <td>NaN</td>\n",
       "      <td>0.00</td>\n",
       "      <td>215.00</td>\n",
       "      <td>292.00</td>\n",
       "    </tr>\n",
       "    <tr>\n",
       "      <th>2</th>\n",
       "      <td>Mercedes-Benz A 45 AMG</td>\n",
       "      <td>Mercedes-Benz</td>\n",
       "      <td>PORT. TARRACO, MOLL DE LLEVANT, Nº 5, LOC. 6-8...</td>\n",
       "      <td>69900.00</td>\n",
       "      <td>Compact</td>\n",
       "      <td>Used</td>\n",
       "      <td>5.00</td>\n",
       "      <td>12.00</td>\n",
       "      <td>18900.00</td>\n",
       "      <td>Automatic</td>\n",
       "      <td>Gasoline</td>\n",
       "      <td>Grey</td>\n",
       "      <td>NaN</td>\n",
       "      <td>Dealer</td>\n",
       "      <td>[\\n, 5, \\n]</td>\n",
       "      <td>[\\n310 kW (421 hp)\\n]</td>\n",
       "      <td>[\\n1,991 cc\\n]</td>\n",
       "      <td>[\\n8\\n]</td>\n",
       "      <td>NaN</td>\n",
       "      <td>Mountaingrau magno</td>\n",
       "      <td>[\\n, 4WD, \\n]</td>\n",
       "      <td>[\\n4\\n]</td>\n",
       "      <td>[[8.4 l/100 km (comb.)], [10.9 l/100 km (city)...</td>\n",
       "      <td>NaN</td>\n",
       "      <td>NaN</td>\n",
       "      <td>NaN</td>\n",
       "      <td>NaN</td>\n",
       "      <td>NaN</td>\n",
       "      <td>NaN</td>\n",
       "      <td>NaN</td>\n",
       "      <td>NaN</td>\n",
       "      <td>NaN</td>\n",
       "      <td>NaN</td>\n",
       "      <td>NaN</td>\n",
       "      <td>NaN</td>\n",
       "      <td>NaN</td>\n",
       "      <td>NaN</td>\n",
       "      <td>NaN</td>\n",
       "      <td>NaN</td>\n",
       "      <td>2.00</td>\n",
       "      <td>310.00</td>\n",
       "      <td>421.00</td>\n",
       "    </tr>\n",
       "  </tbody>\n",
       "</table>\n",
       "</div>"
      ],
      "text/plain": [
       "               make_model           make  \\\n",
       "0     Mercedes-Benz A 160  Mercedes-Benz   \n",
       "1   Mercedes-Benz EQE 350  Mercedes-Benz   \n",
       "2  Mercedes-Benz A 45 AMG  Mercedes-Benz   \n",
       "\n",
       "                                            location    price body_type  \\\n",
       "0  P.I. EL PALMAR C/FORJA 6,  11500 PUERTO DE SAN... 16950.00   Compact   \n",
       "1       APARTADO DE CORREOS 1032,  26140 LOGROÑO, ES 80900.00   Compact   \n",
       "2  PORT. TARRACO, MOLL DE LLEVANT, Nº 5, LOC. 6-8... 69900.00   Compact   \n",
       "\n",
       "             type  doors  warranty   mileage    gearbox fuel_type colour  \\\n",
       "0            Used   5.00     24.00 120200.00     Manual    Diesel  Black   \n",
       "1  Pre-registered   4.00     24.00   5000.00  Automatic  Electric    NaN   \n",
       "2            Used   5.00     12.00  18900.00  Automatic  Gasoline   Grey   \n",
       "\n",
       "      paint  seller        seats                  power     engine_size  \\\n",
       "0  Metallic  Dealer          NaN                    NaN             NaN   \n",
       "1       NaN  Dealer  [\\n, 5, \\n]  [\\n215 kW (292 hp)\\n]      [\\n1 cc\\n]   \n",
       "2       NaN  Dealer  [\\n, 5, \\n]  [\\n310 kW (421 hp)\\n]  [\\n1,991 cc\\n]   \n",
       "\n",
       "     gears    co_emissions manufacturer_colour     drivetrain cylinders  \\\n",
       "0      NaN             NaN                 NaN            NaN       NaN   \n",
       "1  [\\n9\\n]  0 g/km (comb.)     Negro Obsidiana            NaN       NaN   \n",
       "2  [\\n8\\n]             NaN  Mountaingrau magno  [\\n, 4WD, \\n]   [\\n4\\n]   \n",
       "\n",
       "                                    fuel_consumption comfort_&_convenience  \\\n",
       "0                                                NaN                   NaN   \n",
       "1                                                NaN                   NaN   \n",
       "2  [[8.4 l/100 km (comb.)], [10.9 l/100 km (city)...                   NaN   \n",
       "\n",
       "  entertainment_&_media safety_&_security extras empty_weight model_code  \\\n",
       "0                   NaN               NaN    NaN          NaN        NaN   \n",
       "1                   NaN               NaN    NaN          NaN        NaN   \n",
       "2                   NaN               NaN    NaN          NaN        NaN   \n",
       "\n",
       "  general_inspection full_service_history non_smoker_vehicle emission_class  \\\n",
       "0                NaN                  NaN                NaN            NaN   \n",
       "1                NaN                  NaN                NaN            NaN   \n",
       "2                NaN                  NaN                NaN            NaN   \n",
       "\n",
       "  emissions_sticker upholstery_colour upholstery previous_owner  \\\n",
       "0               NaN               NaN        NaN            NaN   \n",
       "1               NaN               NaN        NaN            NaN   \n",
       "2               NaN               NaN        NaN            NaN   \n",
       "\n",
       "  energy_efficiency_class co_efficiency  age  power_kW  power_hp  \n",
       "0                     NaN           NaN 6.00       NaN       NaN  \n",
       "1                     NaN           NaN 0.00    215.00    292.00  \n",
       "2                     NaN           NaN 2.00    310.00    421.00  "
      ]
     },
     "execution_count": 107,
     "metadata": {},
     "output_type": "execute_result"
    }
   ],
   "source": [
    "df[['power_kW', 'power_hp']] = df[\"power\"].apply(lambda item: item[0] if type(item) == list else item)\\\n",
    "                              .str.extract(r'\\D*(?P<kW>\\d+)\\D+(?P<hp>\\d+)').astype(float)\n",
    "df.head(3)"
   ]
  },
  {
   "cell_type": "code",
   "execution_count": 108,
   "metadata": {},
   "outputs": [
    {
     "data": {
      "text/plain": [
       "110.00    1992\n",
       "96.00     1356\n",
       "88.00     1182\n",
       "81.00     1166\n",
       "66.00     1110\n",
       "          ... \n",
       "746.00       1\n",
       "570.00       1\n",
       "471.00       1\n",
       "179.00       1\n",
       "26.00        1\n",
       "Name: power_kW, Length: 352, dtype: int64"
      ]
     },
     "execution_count": 108,
     "metadata": {},
     "output_type": "execute_result"
    }
   ],
   "source": [
    "df.power_kW.value_counts(dropna=False)"
   ]
  },
  {
   "cell_type": "code",
   "execution_count": 109,
   "metadata": {},
   "outputs": [
    {
     "data": {
      "text/plain": [
       "150.00    1992\n",
       "131.00    1356\n",
       "120.00    1182\n",
       "110.00    1166\n",
       "90.00     1110\n",
       "          ... \n",
       "465.00       1\n",
       "412.00       1\n",
       "670.00       1\n",
       "506.00       1\n",
       "33.00        1\n",
       "Name: power_hp, Length: 348, dtype: int64"
      ]
     },
     "execution_count": 109,
     "metadata": {},
     "output_type": "execute_result"
    }
   ],
   "source": [
    "df.power_hp.value_counts(dropna=False)"
   ]
  },
  {
   "cell_type": "code",
   "execution_count": 110,
   "metadata": {},
   "outputs": [
    {
     "data": {
      "text/plain": [
       "(28630, 42)"
      ]
     },
     "execution_count": 110,
     "metadata": {},
     "output_type": "execute_result"
    }
   ],
   "source": [
    "df.shape"
   ]
  },
  {
   "cell_type": "code",
   "execution_count": 111,
   "metadata": {},
   "outputs": [],
   "source": [
    "df.drop('power', axis=1, inplace=True)"
   ]
  },
  {
   "cell_type": "code",
   "execution_count": 112,
   "metadata": {},
   "outputs": [
    {
     "data": {
      "text/plain": [
       "(28630, 41)"
      ]
     },
     "execution_count": 112,
     "metadata": {},
     "output_type": "execute_result"
    }
   ],
   "source": [
    "df.shape"
   ]
  },
  {
   "cell_type": "markdown",
   "metadata": {},
   "source": [
    "## fuel_type\n",
    "\n",
    "Another key factor affecting used car prices is fuel economy. Efficient vehicles tend to hold their value better when gas prices are high, while less efficient vehicles (which typically have more cargo space and higher safety ratings) do better when gas is cheap."
   ]
  },
  {
   "cell_type": "code",
   "execution_count": 113,
   "metadata": {},
   "outputs": [
    {
     "name": "stdout",
     "output_type": "stream",
     "text": [
      "column name    :  fuel_type\n",
      "--------------------------------\n",
      "per_of_nulls   :  % 6.24\n",
      "num_of_nulls   :  1787\n",
      "num_of_uniques :  47\n",
      "--------------------------------\n",
      "Gasoline                                                                                              8532\n",
      "Diesel                                                                                                5911\n",
      "Super 95                                                                                              3557\n",
      "Diesel (Particle filter)                                                                              2816\n",
      "Regular/Benzine 91                                                                                    2065\n",
      "NaN                                                                                                   1787\n",
      "Super E10 95                                                                                          1016\n",
      "Regular/Benzine 91 (Particle filter)                                                                   555\n",
      "Super 95 (Particle filter)                                                                             537\n",
      "Super E10 95 (Particle filter)                                                                         324\n",
      "Regular/Benzine E10 91                                                                                 278\n",
      "Others                                                                                                 197\n",
      "Gasoline (Particle filter)                                                                             196\n",
      "Electric                                                                                               185\n",
      "Super Plus 98                                                                                          170\n",
      "Liquid petroleum gas (LPG)                                                                             148\n",
      "CNG                                                                                                     87\n",
      "LPG                                                                                                     73\n",
      "Super Plus E10 98                                                                                       42\n",
      "Super Plus E10 98 (Particle filter)                                                                     35\n",
      "Domestic gas H                                                                                          24\n",
      "Others (Particle filter)                                                                                16\n",
      "Super Plus 98 (Particle filter)                                                                         15\n",
      "Domestic gas L                                                                                          10\n",
      "CNG (Particle filter)                                                                                    8\n",
      "Regular/Benzine E10 91 (Particle filter)                                                                 8\n",
      "LPG (Particle filter)                                                                                    4\n",
      "Hydrogen                                                                                                 3\n",
      "Ethanol                                                                                                  3\n",
      "Electric (Particle filter)                                                                               3\n",
      "Liquid petroleum gas (LPG) (Particle filter) / Super 95 / Super E10 95                                   3\n",
      "Liquid petroleum gas (LPG) / Super 95 / Super Plus 98 / Super Plus E10 98 / Super E10 95                 2\n",
      "Liquid petroleum gas (LPG) / Super 95 / Super E10 95                                                     2\n",
      "Domestic gas L (Particle filter)                                                                         2\n",
      "Liquid petroleum gas (LPG) (Particle filter)                                                             2\n",
      "Liquid petroleum gas (LPG) / Super 95                                                                    2\n",
      "Liquid petroleum gas (LPG) / Super 95 / Super E10 95 / Super Plus 98                                     2\n",
      "Liquid petroleum gas (LPG) / Super 95 / Super Plus 98                                                    1\n",
      "Super 95 (Particle filter) / Super E10 95 / Ethanol                                                      1\n",
      "Liquid petroleum gas (LPG) / Super E10 95 / Super Plus E10 98 / Super Plus 98 / Super 95                 1\n",
      "Liquid petroleum gas (LPG) / Super E10 95                                                                1\n",
      "Biogas                                                                                                   1\n",
      "Super 95 / Super Plus 98 / Liquid petroleum gas (LPG)                                                    1\n",
      "Domestic gas L / Super 95 / Domestic gas H                                                               1\n",
      "Domestic gas H / Super E10 95 / Super Plus E10 98 / Super 95 / Super Plus 98 / Domestic gas L            1\n",
      "Liquid petroleum gas (LPG) / Super E10 95 / Regular/Benzine 91 / Super 95 / Super Plus 98 / Biogas       1\n",
      "Super 95 / Liquid petroleum gas (LPG)                                                                    1\n",
      "Name: fuel_type, dtype: int64\n"
     ]
    }
   ],
   "source": [
    "first_looking(\"fuel_type\")"
   ]
  },
  {
   "cell_type": "code",
   "execution_count": 114,
   "metadata": {},
   "outputs": [
    {
     "data": {
      "text/plain": [
       "[Gasoline]                                                                                                    8532\n",
       "[Diesel]                                                                                                      5911\n",
       "[Super 95]                                                                                                    3557\n",
       "[Diesel (Particle filter)]                                                                                    2816\n",
       "[Regular, Benzine 91]                                                                                         2065\n",
       "NaN                                                                                                           1787\n",
       "[Super E10 95]                                                                                                1016\n",
       "[Regular, Benzine 91 (Particle filter)]                                                                        555\n",
       "[Super 95 (Particle filter)]                                                                                   537\n",
       "[Super E10 95 (Particle filter)]                                                                               324\n",
       "[Regular, Benzine E10 91]                                                                                      278\n",
       "[Others]                                                                                                       197\n",
       "[Gasoline (Particle filter)]                                                                                   196\n",
       "[Electric]                                                                                                     185\n",
       "[Super Plus 98]                                                                                                170\n",
       "[Liquid petroleum gas (LPG)]                                                                                   148\n",
       "[CNG]                                                                                                           87\n",
       "[LPG]                                                                                                           73\n",
       "[Super Plus E10 98]                                                                                             42\n",
       "[Super Plus E10 98 (Particle filter)]                                                                           35\n",
       "[Domestic gas H]                                                                                                24\n",
       "[Others (Particle filter)]                                                                                      16\n",
       "[Super Plus 98 (Particle filter)]                                                                               15\n",
       "[Domestic gas L]                                                                                                10\n",
       "[CNG (Particle filter)]                                                                                          8\n",
       "[Regular, Benzine E10 91 (Particle filter)]                                                                      8\n",
       "[LPG (Particle filter)]                                                                                          4\n",
       "[Hydrogen]                                                                                                       3\n",
       "[Ethanol]                                                                                                        3\n",
       "[Electric (Particle filter)]                                                                                     3\n",
       "[Liquid petroleum gas (LPG) (Particle filter) ,  Super 95 ,  Super E10 95]                                       3\n",
       "[Liquid petroleum gas (LPG) ,  Super 95 ,  Super Plus 98 ,  Super Plus E10 98 ,  Super E10 95]                   2\n",
       "[Liquid petroleum gas (LPG) ,  Super 95 ,  Super E10 95]                                                         2\n",
       "[Domestic gas L (Particle filter)]                                                                               2\n",
       "[Liquid petroleum gas (LPG) (Particle filter)]                                                                   2\n",
       "[Liquid petroleum gas (LPG) ,  Super 95]                                                                         2\n",
       "[Liquid petroleum gas (LPG) ,  Super 95 ,  Super E10 95 ,  Super Plus 98]                                        2\n",
       "[Liquid petroleum gas (LPG) ,  Super 95 ,  Super Plus 98]                                                        1\n",
       "[Super 95 (Particle filter) ,  Super E10 95 ,  Ethanol]                                                          1\n",
       "[Liquid petroleum gas (LPG) ,  Super E10 95 ,  Super Plus E10 98 ,  Super Plus 98 ,  Super 95]                   1\n",
       "[Liquid petroleum gas (LPG) ,  Super E10 95]                                                                     1\n",
       "[Biogas]                                                                                                         1\n",
       "[Super 95 ,  Super Plus 98 ,  Liquid petroleum gas (LPG)]                                                        1\n",
       "[Domestic gas L ,  Super 95 ,  Domestic gas H]                                                                   1\n",
       "[Domestic gas H ,  Super E10 95 ,  Super Plus E10 98 ,  Super 95 ,  Super Plus 98 ,  Domestic gas L]             1\n",
       "[Liquid petroleum gas (LPG) ,  Super E10 95 ,  Regular, Benzine 91 ,  Super 95 ,  Super Plus 98 ,  Biogas]       1\n",
       "[Super 95 ,  Liquid petroleum gas (LPG)]                                                                         1\n",
       "Name: fuel_type, dtype: int64"
      ]
     },
     "execution_count": 114,
     "metadata": {},
     "output_type": "execute_result"
    }
   ],
   "source": [
    "df[\"fuel_type\"].str.split(\"/\").value_counts(dropna=False)"
   ]
  },
  {
   "cell_type": "code",
   "execution_count": 115,
   "metadata": {},
   "outputs": [
    {
     "data": {
      "text/plain": [
       "0                          Diesel\n",
       "1                        Electric\n",
       "2                        Gasoline\n",
       "3                        Gasoline\n",
       "4                          Diesel\n",
       "                   ...           \n",
       "29474                         NaN\n",
       "29475                    Gasoline\n",
       "29476    Diesel (Particle filter)\n",
       "29477                    Gasoline\n",
       "29478                    Super 95\n",
       "Name: fuel_type, Length: 28630, dtype: object"
      ]
     },
     "execution_count": 115,
     "metadata": {},
     "output_type": "execute_result"
    }
   ],
   "source": [
    "df[\"fuel_type\"] = df[\"fuel_type\"].str.split(\"/\").str[0].str.strip()\n",
    "df[\"fuel_type\"]"
   ]
  },
  {
   "cell_type": "code",
   "execution_count": 116,
   "metadata": {},
   "outputs": [
    {
     "data": {
      "text/plain": [
       "0          Diesel\n",
       "1        Electric\n",
       "2        Gasoline\n",
       "3        Gasoline\n",
       "4          Diesel\n",
       "           ...   \n",
       "29474         NaN\n",
       "29475    Gasoline\n",
       "29476      Diesel\n",
       "29477    Gasoline\n",
       "29478    Super 95\n",
       "Name: fuel_type, Length: 28630, dtype: object"
      ]
     },
     "execution_count": 116,
     "metadata": {},
     "output_type": "execute_result"
    }
   ],
   "source": [
    "df[\"fuel_type\"] = df[\"fuel_type\"].str.split(\"(\").str[0].str.strip()\n",
    "df[\"fuel_type\"]"
   ]
  },
  {
   "cell_type": "code",
   "execution_count": 117,
   "metadata": {},
   "outputs": [
    {
     "data": {
      "text/plain": [
       "Gasoline                8728\n",
       "Diesel                  8727\n",
       "Super 95                4097\n",
       "Regular                 2906\n",
       "NaN                     1787\n",
       "Super E10 95            1340\n",
       "Others                   213\n",
       "Electric                 188\n",
       "Super Plus 98            185\n",
       "Liquid petroleum gas     165\n",
       "CNG                       95\n",
       "Super Plus E10 98         77\n",
       "LPG                       77\n",
       "Domestic gas H            25\n",
       "Domestic gas L            13\n",
       "Ethanol                    3\n",
       "Hydrogen                   3\n",
       "Biogas                     1\n",
       "Name: fuel_type, dtype: int64"
      ]
     },
     "execution_count": 117,
     "metadata": {},
     "output_type": "execute_result"
    }
   ],
   "source": [
    "df['fuel_type'].value_counts(dropna=False)"
   ]
  },
  {
   "cell_type": "code",
   "execution_count": 118,
   "metadata": {},
   "outputs": [],
   "source": [
    "benzine = [\"Gasoline\", \"Super 95\", \"Regular\", \"Super E10 95\", \"Super Plus 98\", \"Super Plus E10 98\", \"Others\"]\n",
    "petroleum_gas = [\"Liquid petroleum gas\", \"CNG\", \"LPG\", \"Domestic gas H\", \"Domestic gas L\", \"Biogas\", \"Hydrogen\", \"Ethanol\"]\n",
    "\n",
    "def fueltype(x):\n",
    "    if x in benzine:\n",
    "        return \"Benzine\"\n",
    "    elif x in petroleum_gas:\n",
    "        return \"Liquid/Natural Gas\"\n",
    "    else:\n",
    "        return x\n",
    "\n",
    "df[\"fuel_type\"] = df[\"fuel_type\"].apply(fueltype)"
   ]
  },
  {
   "cell_type": "code",
   "execution_count": 119,
   "metadata": {},
   "outputs": [
    {
     "data": {
      "text/plain": [
       "Benzine               17546\n",
       "Diesel                 8727\n",
       "NaN                    1787\n",
       "Liquid/Natural Gas      382\n",
       "Electric                188\n",
       "Name: fuel_type, dtype: int64"
      ]
     },
     "execution_count": 119,
     "metadata": {},
     "output_type": "execute_result"
    }
   ],
   "source": [
    "df['fuel_type'].value_counts(dropna=False)"
   ]
  },
  {
   "cell_type": "markdown",
   "metadata": {},
   "source": [
    "## colour\n",
    "\n",
    "### 📝 Some Remarks on car colour:\n",
    "\n",
    "Car colour (some cars may have limited edition colours): Popular colours usually garner more attention from potential buyers and therefore are easier to sell. Some cars may come in limited edition colours, which can be difficult to sell; however, these cars usually find a higher than usual price when successfully sold."
   ]
  },
  {
   "cell_type": "code",
   "execution_count": 120,
   "metadata": {},
   "outputs": [
    {
     "name": "stdout",
     "output_type": "stream",
     "text": [
      "column name    :  colour\n",
      "--------------------------------\n",
      "per_of_nulls   :  % 6.02\n",
      "num_of_nulls   :  1724\n",
      "num_of_uniques :  15\n",
      "--------------------------------\n",
      "Black     6473\n",
      "Grey      5998\n",
      "White     5185\n",
      "Blue      3478\n",
      "Red       2242\n",
      "NaN       1724\n",
      "Silver    1622\n",
      "Green      450\n",
      "Brown      437\n",
      "Orange     288\n",
      "Beige      278\n",
      "Yellow     230\n",
      "Violet      98\n",
      "Bronze      65\n",
      "Gold        62\n",
      "Name: colour, dtype: int64\n"
     ]
    }
   ],
   "source": [
    "first_looking(\"colour\")"
   ]
  },
  {
   "cell_type": "markdown",
   "metadata": {},
   "source": [
    "## manufacturer_colour"
   ]
  },
  {
   "cell_type": "code",
   "execution_count": 121,
   "metadata": {},
   "outputs": [
    {
     "name": "stdout",
     "output_type": "stream",
     "text": [
      "column name    :  manufacturer_colour\n",
      "--------------------------------\n",
      "per_of_nulls   :  % 23.9\n",
      "num_of_nulls   :  6843\n",
      "num_of_uniques :  4964\n",
      "--------------------------------\n",
      "NaN                               6843\n",
      "Blanco                            1235\n",
      "Gris                               671\n",
      "Azul                               552\n",
      "Negro                              546\n",
      "                                  ... \n",
      "Colore esterno (snowflake whit       1\n",
      "Pompeigraumetallic                   1\n",
      "Cararragrau                          1\n",
      "ICE WHITE (wit metallic)             1\n",
      "Denim Blue metallic (blauw met       1\n",
      "Name: manufacturer_colour, Length: 4964, dtype: int64\n"
     ]
    }
   ],
   "source": [
    "first_looking(\"manufacturer_colour\")"
   ]
  },
  {
   "cell_type": "code",
   "execution_count": 122,
   "metadata": {},
   "outputs": [
    {
     "data": {
      "text/html": [
       "<div>\n",
       "<style scoped>\n",
       "    .dataframe tbody tr th:only-of-type {\n",
       "        vertical-align: middle;\n",
       "    }\n",
       "\n",
       "    .dataframe tbody tr th {\n",
       "        vertical-align: top;\n",
       "    }\n",
       "\n",
       "    .dataframe thead th {\n",
       "        text-align: right;\n",
       "    }\n",
       "</style>\n",
       "<table border=\"1\" class=\"dataframe\">\n",
       "  <thead>\n",
       "    <tr style=\"text-align: right;\">\n",
       "      <th></th>\n",
       "      <th>colour</th>\n",
       "      <th>manufacturer_colour</th>\n",
       "    </tr>\n",
       "  </thead>\n",
       "  <tbody>\n",
       "    <tr>\n",
       "      <th>14846</th>\n",
       "      <td>Black</td>\n",
       "      <td>Black Magic</td>\n",
       "    </tr>\n",
       "    <tr>\n",
       "      <th>24922</th>\n",
       "      <td>Red</td>\n",
       "      <td>Engine red / sol</td>\n",
       "    </tr>\n",
       "    <tr>\n",
       "      <th>25627</th>\n",
       "      <td>Grey</td>\n",
       "      <td>Grigio scuro</td>\n",
       "    </tr>\n",
       "    <tr>\n",
       "      <th>6011</th>\n",
       "      <td>White</td>\n",
       "      <td>Univers Weiss Metallic</td>\n",
       "    </tr>\n",
       "    <tr>\n",
       "      <th>6774</th>\n",
       "      <td>Red</td>\n",
       "      <td>Rosso</td>\n",
       "    </tr>\n",
       "    <tr>\n",
       "      <th>10036</th>\n",
       "      <td>White</td>\n",
       "      <td>Colore esterno (gelato weiss)</td>\n",
       "    </tr>\n",
       "    <tr>\n",
       "      <th>12212</th>\n",
       "      <td>Grey</td>\n",
       "      <td>Magnetic grau</td>\n",
       "    </tr>\n",
       "    <tr>\n",
       "      <th>27975</th>\n",
       "      <td>Black</td>\n",
       "      <td>Onyx black / metallic</td>\n",
       "    </tr>\n",
       "    <tr>\n",
       "      <th>5405</th>\n",
       "      <td>NaN</td>\n",
       "      <td>NaN</td>\n",
       "    </tr>\n",
       "    <tr>\n",
       "      <th>27262</th>\n",
       "      <td>Red</td>\n",
       "      <td>NaN</td>\n",
       "    </tr>\n",
       "    <tr>\n",
       "      <th>7179</th>\n",
       "      <td>Blue</td>\n",
       "      <td>AZZURRA / CELESTE</td>\n",
       "    </tr>\n",
       "    <tr>\n",
       "      <th>3761</th>\n",
       "      <td>White</td>\n",
       "      <td>Blanco</td>\n",
       "    </tr>\n",
       "    <tr>\n",
       "      <th>24796</th>\n",
       "      <td>Silver</td>\n",
       "      <td>Sleek Silver</td>\n",
       "    </tr>\n",
       "    <tr>\n",
       "      <th>14782</th>\n",
       "      <td>White</td>\n",
       "      <td>Moon-Weiss Metallic</td>\n",
       "    </tr>\n",
       "    <tr>\n",
       "      <th>28218</th>\n",
       "      <td>Brown</td>\n",
       "      <td>NaN</td>\n",
       "    </tr>\n",
       "    <tr>\n",
       "      <th>11432</th>\n",
       "      <td>Silver</td>\n",
       "      <td>Gris Plata</td>\n",
       "    </tr>\n",
       "    <tr>\n",
       "      <th>16926</th>\n",
       "      <td>Blue</td>\n",
       "      <td>Azul</td>\n",
       "    </tr>\n",
       "    <tr>\n",
       "      <th>23984</th>\n",
       "      <td>Silver</td>\n",
       "      <td>Gris Plata</td>\n",
       "    </tr>\n",
       "    <tr>\n",
       "      <th>11457</th>\n",
       "      <td>Blue</td>\n",
       "      <td>Azul</td>\n",
       "    </tr>\n",
       "    <tr>\n",
       "      <th>5175</th>\n",
       "      <td>NaN</td>\n",
       "      <td>Peinture Bleu Iron</td>\n",
       "    </tr>\n",
       "  </tbody>\n",
       "</table>\n",
       "</div>"
      ],
      "text/plain": [
       "       colour            manufacturer_colour\n",
       "14846   Black                    Black Magic\n",
       "24922     Red               Engine red / sol\n",
       "25627    Grey                   Grigio scuro\n",
       "6011    White         Univers Weiss Metallic\n",
       "6774      Red                          Rosso\n",
       "10036   White  Colore esterno (gelato weiss)\n",
       "12212    Grey                  Magnetic grau\n",
       "27975   Black          Onyx black / metallic\n",
       "5405      NaN                            NaN\n",
       "27262     Red                            NaN\n",
       "7179     Blue              AZZURRA / CELESTE\n",
       "3761    White                         Blanco\n",
       "24796  Silver                   Sleek Silver\n",
       "14782   White            Moon-Weiss Metallic\n",
       "28218   Brown                            NaN\n",
       "11432  Silver                     Gris Plata\n",
       "16926    Blue                           Azul\n",
       "23984  Silver                     Gris Plata\n",
       "11457    Blue                           Azul\n",
       "5175      NaN             Peinture Bleu Iron"
      ]
     },
     "execution_count": 122,
     "metadata": {},
     "output_type": "execute_result"
    }
   ],
   "source": [
    "df[['colour', 'manufacturer_colour']].sample(20)"
   ]
  },
  {
   "cell_type": "code",
   "execution_count": 123,
   "metadata": {},
   "outputs": [
    {
     "data": {
      "text/html": [
       "<div>\n",
       "<style scoped>\n",
       "    .dataframe tbody tr th:only-of-type {\n",
       "        vertical-align: middle;\n",
       "    }\n",
       "\n",
       "    .dataframe tbody tr th {\n",
       "        vertical-align: top;\n",
       "    }\n",
       "\n",
       "    .dataframe thead th {\n",
       "        text-align: right;\n",
       "    }\n",
       "</style>\n",
       "<table border=\"1\" class=\"dataframe\">\n",
       "  <thead>\n",
       "    <tr style=\"text-align: right;\">\n",
       "      <th></th>\n",
       "      <th>colour</th>\n",
       "      <th>manufacturer_colour</th>\n",
       "    </tr>\n",
       "  </thead>\n",
       "  <tbody>\n",
       "    <tr>\n",
       "      <th>1</th>\n",
       "      <td>NaN</td>\n",
       "      <td>Negro Obsidiana</td>\n",
       "    </tr>\n",
       "    <tr>\n",
       "      <th>24</th>\n",
       "      <td>NaN</td>\n",
       "      <td>GRIS GRAFITO</td>\n",
       "    </tr>\n",
       "    <tr>\n",
       "      <th>37</th>\n",
       "      <td>NaN</td>\n",
       "      <td>Plata Iridio</td>\n",
       "    </tr>\n",
       "    <tr>\n",
       "      <th>145</th>\n",
       "      <td>NaN</td>\n",
       "      <td>Gris Montagne</td>\n",
       "    </tr>\n",
       "    <tr>\n",
       "      <th>169</th>\n",
       "      <td>NaN</td>\n",
       "      <td>Bleu denim métallisé</td>\n",
       "    </tr>\n",
       "    <tr>\n",
       "      <th>...</th>\n",
       "      <td>...</td>\n",
       "      <td>...</td>\n",
       "    </tr>\n",
       "    <tr>\n",
       "      <th>29434</th>\n",
       "      <td>NaN</td>\n",
       "      <td>Blanc Cristal</td>\n",
       "    </tr>\n",
       "    <tr>\n",
       "      <th>29439</th>\n",
       "      <td>NaN</td>\n",
       "      <td>Gris Osmium</td>\n",
       "    </tr>\n",
       "    <tr>\n",
       "      <th>29440</th>\n",
       "      <td>NaN</td>\n",
       "      <td>Noir Onyx Métallisé</td>\n",
       "    </tr>\n",
       "    <tr>\n",
       "      <th>29441</th>\n",
       "      <td>NaN</td>\n",
       "      <td>Gris Osmium</td>\n",
       "    </tr>\n",
       "    <tr>\n",
       "      <th>29446</th>\n",
       "      <td>NaN</td>\n",
       "      <td>DENIM BLUE</td>\n",
       "    </tr>\n",
       "  </tbody>\n",
       "</table>\n",
       "<p>1481 rows × 2 columns</p>\n",
       "</div>"
      ],
      "text/plain": [
       "      colour   manufacturer_colour\n",
       "1        NaN       Negro Obsidiana\n",
       "24       NaN          GRIS GRAFITO\n",
       "37       NaN          Plata Iridio\n",
       "145      NaN         Gris Montagne\n",
       "169      NaN  Bleu denim métallisé\n",
       "...      ...                   ...\n",
       "29434    NaN         Blanc Cristal\n",
       "29439    NaN           Gris Osmium\n",
       "29440    NaN   Noir Onyx Métallisé\n",
       "29441    NaN           Gris Osmium\n",
       "29446    NaN            DENIM BLUE\n",
       "\n",
       "[1481 rows x 2 columns]"
      ]
     },
     "execution_count": 123,
     "metadata": {},
     "output_type": "execute_result"
    }
   ],
   "source": [
    "df[(df[\"colour\"].isnull()) & (df[\"manufacturer_colour\"].notnull())][[\"colour\", \"manufacturer_colour\"]]"
   ]
  },
  {
   "cell_type": "code",
   "execution_count": 124,
   "metadata": {},
   "outputs": [
    {
     "data": {
      "text/plain": [
       "(28630, 41)"
      ]
     },
     "execution_count": 124,
     "metadata": {},
     "output_type": "execute_result"
    }
   ],
   "source": [
    "df.shape"
   ]
  },
  {
   "cell_type": "code",
   "execution_count": 125,
   "metadata": {},
   "outputs": [],
   "source": [
    "df.drop([\"colour\", \"manufacturer_colour\"], axis=1, inplace=True)"
   ]
  },
  {
   "cell_type": "code",
   "execution_count": 126,
   "metadata": {},
   "outputs": [
    {
     "data": {
      "text/plain": [
       "(28630, 39)"
      ]
     },
     "execution_count": 126,
     "metadata": {},
     "output_type": "execute_result"
    }
   ],
   "source": [
    "df.shape"
   ]
  },
  {
   "cell_type": "markdown",
   "metadata": {},
   "source": [
    "## paint"
   ]
  },
  {
   "cell_type": "code",
   "execution_count": 127,
   "metadata": {},
   "outputs": [
    {
     "name": "stdout",
     "output_type": "stream",
     "text": [
      "column name    :  paint\n",
      "--------------------------------\n",
      "per_of_nulls   :  % 49.37\n",
      "num_of_nulls   :  14135\n",
      "num_of_uniques :  3\n",
      "--------------------------------\n",
      "Metallic     14494\n",
      "NaN          14135\n",
      "Uni/basic        1\n",
      "Name: paint, dtype: int64\n"
     ]
    }
   ],
   "source": [
    "first_looking(\"paint\")"
   ]
  },
  {
   "cell_type": "code",
   "execution_count": 128,
   "metadata": {},
   "outputs": [
    {
     "data": {
      "text/plain": [
       "0         Metallic\n",
       "1        Uni/basic\n",
       "2        Uni/basic\n",
       "3        Uni/basic\n",
       "4         Metallic\n",
       "           ...    \n",
       "29474    Uni/basic\n",
       "29475    Uni/basic\n",
       "29476     Metallic\n",
       "29477     Metallic\n",
       "29478    Uni/basic\n",
       "Name: paint, Length: 28630, dtype: object"
      ]
     },
     "execution_count": 128,
     "metadata": {},
     "output_type": "execute_result"
    }
   ],
   "source": [
    "# df['Paint'].fillna(\"Uni/basic\")\n",
    "\n",
    "df['paint'] = df['paint'].replace(np.nan, \"Uni/basic\", regex=True)\n",
    "df['paint']"
   ]
  },
  {
   "cell_type": "code",
   "execution_count": 129,
   "metadata": {},
   "outputs": [
    {
     "data": {
      "text/plain": [
       "Metallic     14494\n",
       "Uni/basic    14136\n",
       "Name: paint, dtype: int64"
      ]
     },
     "execution_count": 129,
     "metadata": {},
     "output_type": "execute_result"
    }
   ],
   "source": [
    "df['paint'].value_counts(dropna=False)"
   ]
  },
  {
   "cell_type": "code",
   "execution_count": 130,
   "metadata": {},
   "outputs": [
    {
     "data": {
      "text/plain": [
       "(28630, 39)"
      ]
     },
     "execution_count": 130,
     "metadata": {},
     "output_type": "execute_result"
    }
   ],
   "source": [
    "df.shape"
   ]
  },
  {
   "cell_type": "code",
   "execution_count": 131,
   "metadata": {},
   "outputs": [],
   "source": [
    "df.drop(\"paint\", axis=1, inplace=True)"
   ]
  },
  {
   "cell_type": "code",
   "execution_count": 132,
   "metadata": {},
   "outputs": [
    {
     "data": {
      "text/plain": [
       "(28630, 38)"
      ]
     },
     "execution_count": 132,
     "metadata": {},
     "output_type": "execute_result"
    }
   ],
   "source": [
    "df.shape"
   ]
  },
  {
   "cell_type": "markdown",
   "metadata": {},
   "source": [
    "## seller"
   ]
  },
  {
   "cell_type": "code",
   "execution_count": 133,
   "metadata": {},
   "outputs": [
    {
     "name": "stdout",
     "output_type": "stream",
     "text": [
      "column name    :  seller\n",
      "--------------------------------\n",
      "per_of_nulls   :  % 0.0\n",
      "num_of_nulls   :  0\n",
      "num_of_uniques :  2\n",
      "--------------------------------\n",
      "Dealer            26318\n",
      "Private seller     2312\n",
      "Name: seller, dtype: int64\n"
     ]
    }
   ],
   "source": [
    "first_looking(\"seller\")"
   ]
  },
  {
   "cell_type": "markdown",
   "metadata": {},
   "source": [
    "## seats"
   ]
  },
  {
   "cell_type": "code",
   "execution_count": 134,
   "metadata": {},
   "outputs": [
    {
     "name": "stdout",
     "output_type": "stream",
     "text": [
      "column name    :  seats\n",
      "--------------------------------\n",
      "per_of_nulls   :  % 10.92\n",
      "num_of_nulls   :  3125\n",
      "num_of_uniques :  12\n",
      "--------------------------------\n",
      "[\\n, 5, \\n]     18308\n",
      "[\\n, 4, \\n]      5390\n",
      "NaN              3125\n",
      "[\\n, 2, \\n]      1186\n",
      "[\\n, 7, \\n]       488\n",
      "[\\n, 8, \\n]        43\n",
      "[\\n, 9, \\n]        35\n",
      "[\\n, 3, \\n]        25\n",
      "[\\n, 6, \\n]        12\n",
      "[\\n, 0, \\n]         9\n",
      "[\\n, 1, \\n]         7\n",
      "[\\n, 17, \\n]        2\n",
      "Name: seats, dtype: int64\n"
     ]
    }
   ],
   "source": [
    "first_looking(\"seats\")"
   ]
  },
  {
   "cell_type": "code",
   "execution_count": 135,
   "metadata": {},
   "outputs": [
    {
     "data": {
      "text/plain": [
       "0        NaN\n",
       "1       5.00\n",
       "2       5.00\n",
       "3       5.00\n",
       "4       5.00\n",
       "        ... \n",
       "29474   4.00\n",
       "29475   5.00\n",
       "29476   4.00\n",
       "29477   5.00\n",
       "29478   5.00\n",
       "Name: seats, Length: 28630, dtype: float64"
      ]
     },
     "execution_count": 135,
     "metadata": {},
     "output_type": "execute_result"
    }
   ],
   "source": [
    "df[\"seats\"] = df.seats.apply(lambda x : x[0] if type(x)==list else x)\n",
    "\n",
    "df[\"seats\"] = df.seats.str.extract('(\\d{1,4})').astype(\"float\") # str.extract('(\\d+)')\n",
    "df[\"seats\"]"
   ]
  },
  {
   "cell_type": "code",
   "execution_count": 136,
   "metadata": {},
   "outputs": [
    {
     "data": {
      "text/plain": [
       "5.00     18308\n",
       "4.00      5390\n",
       "NaN       3125\n",
       "2.00      1186\n",
       "7.00       488\n",
       "8.00        43\n",
       "9.00        35\n",
       "3.00        25\n",
       "6.00        12\n",
       "0.00         9\n",
       "1.00         7\n",
       "17.00        2\n",
       "Name: seats, dtype: int64"
      ]
     },
     "execution_count": 136,
     "metadata": {},
     "output_type": "execute_result"
    }
   ],
   "source": [
    "df['seats'].value_counts(dropna=False)"
   ]
  },
  {
   "cell_type": "markdown",
   "metadata": {},
   "source": [
    "## engine_size\n",
    "\n",
    "🔔 Does the engine capacity affect the price of a vehicle❓\n",
    "\n",
    " - A larger engine tends to be more expensive for the manufacturer to build. This cost is usually recovered (plus a nice profit) by increasing the price toward the customer.\n",
    " - Many cars will have more equipment standard with the larger engine, equipment that would be chargeable extras when the car is ordered with a smaller engine. The cost of this equipment is added to the base price of the car.\n",
    "Direct taxation on engine displacement in some places. Some countries or states will calculate taxes directly on the displacement. Even with power, emissions and such identical between a large and a small engine, obsolete and nonsensical rules dictate more tax to be paid on the big one.\n",
    " - Indirect taxation on typical side effects of larger engines. Back in the day, a large engine would be more powerful than a small engine, so a tax on horsepower would hit a large engine harder than a small one. Of course, with turbocharging becoming common, a small engine with a turbocharger often has more horsepower than a large engine without a turbocharger, and thus the stronger, smaller engine would be taxed more. These days, emissions-based taxes are more popular, and larger engines tend to have more emissions than smaller engines, triggering higher taxes on the larger engines."
   ]
  },
  {
   "cell_type": "code",
   "execution_count": 137,
   "metadata": {},
   "outputs": [
    {
     "name": "stdout",
     "output_type": "stream",
     "text": [
      "column name    :  engine_size\n",
      "--------------------------------\n",
      "per_of_nulls   :  % 4.9\n",
      "num_of_nulls   :  1403\n",
      "num_of_uniques :  468\n",
      "--------------------------------\n",
      "[\\n1,598 cc\\n]    2099\n",
      "[\\n999 cc\\n]      2068\n",
      "[\\n1,969 cc\\n]    1929\n",
      "NaN               1403\n",
      "[\\n1,461 cc\\n]    1110\n",
      "                  ... \n",
      "[\\n2,753 cc\\n]       1\n",
      "[\\n2,495 cc\\n]       1\n",
      "[\\n200 cc\\n]         1\n",
      "[\\n3,224 cc\\n]       1\n",
      "[\\n2,473 cc\\n]       1\n",
      "Name: engine_size, Length: 468, dtype: int64\n"
     ]
    }
   ],
   "source": [
    "first_looking(\"engine_size\")"
   ]
  },
  {
   "cell_type": "code",
   "execution_count": 138,
   "metadata": {},
   "outputs": [
    {
     "data": {
      "text/plain": [
       "0           NaN\n",
       "1          1.00\n",
       "2       1991.00\n",
       "3       1991.00\n",
       "4       2143.00\n",
       "          ...  \n",
       "29474   1969.00\n",
       "29475   2435.00\n",
       "29476   1560.00\n",
       "29477   1969.00\n",
       "29478   2922.00\n",
       "Name: engine_size, Length: 28630, dtype: float64"
      ]
     },
     "execution_count": 138,
     "metadata": {},
     "output_type": "execute_result"
    }
   ],
   "source": [
    "df['engine_size'] = df['engine_size'].astype(str).str.strip(\"['\\\\n, cc\\\\n']\").replace({\"a\", np.nan})\n",
    "df['engine_size'] = df['engine_size'].str.replace(',', '').str.extract('(\\d+)').astype(\"float\")\n",
    "df['engine_size']"
   ]
  },
  {
   "cell_type": "code",
   "execution_count": 139,
   "metadata": {},
   "outputs": [
    {
     "data": {
      "text/plain": [
       "1598.00    2099\n",
       "999.00     2068\n",
       "1969.00    1929\n",
       "NaN        1403\n",
       "1461.00    1110\n",
       "           ... \n",
       "2753.00       1\n",
       "2495.00       1\n",
       "200.00        1\n",
       "3224.00       1\n",
       "2473.00       1\n",
       "Name: engine_size, Length: 468, dtype: int64"
      ]
     },
     "execution_count": 139,
     "metadata": {},
     "output_type": "execute_result"
    }
   ],
   "source": [
    "df['engine_size'].value_counts(dropna=False)"
   ]
  },
  {
   "cell_type": "markdown",
   "metadata": {},
   "source": [
    "## gears"
   ]
  },
  {
   "cell_type": "code",
   "execution_count": 140,
   "metadata": {},
   "outputs": [
    {
     "name": "stdout",
     "output_type": "stream",
     "text": [
      "column name    :  gears\n",
      "--------------------------------\n",
      "per_of_nulls   :  % 33.8\n",
      "num_of_nulls   :  9676\n",
      "num_of_uniques :  12\n",
      "--------------------------------\n",
      "NaN         9676\n",
      "[\\n6\\n]     8412\n",
      "[\\n5\\n]     5335\n",
      "[\\n7\\n]     1738\n",
      "[\\n8\\n]     1690\n",
      "[\\n1\\n]      712\n",
      "[\\n9\\n]      642\n",
      "[\\n4\\n]      256\n",
      "[\\n10\\n]     112\n",
      "[\\n0\\n]       31\n",
      "[\\n3\\n]       24\n",
      "[\\n2\\n]        2\n",
      "Name: gears, dtype: int64\n"
     ]
    }
   ],
   "source": [
    "first_looking(\"gears\")"
   ]
  },
  {
   "cell_type": "code",
   "execution_count": 141,
   "metadata": {},
   "outputs": [
    {
     "data": {
      "text/plain": [
       "0        NaN\n",
       "1       9.00\n",
       "2       8.00\n",
       "3       7.00\n",
       "4       7.00\n",
       "        ... \n",
       "29474   8.00\n",
       "29475   5.00\n",
       "29476   6.00\n",
       "29477   8.00\n",
       "29478    NaN\n",
       "Name: gears, Length: 28630, dtype: float64"
      ]
     },
     "execution_count": 141,
     "metadata": {},
     "output_type": "execute_result"
    }
   ],
   "source": [
    "df['gears'] = df['gears'].astype(str).str.extract('(\\d+)').astype(\"float\")\n",
    "df['gears']"
   ]
  },
  {
   "cell_type": "code",
   "execution_count": 142,
   "metadata": {},
   "outputs": [
    {
     "data": {
      "text/plain": [
       "NaN      9676\n",
       "6.00     8412\n",
       "5.00     5335\n",
       "7.00     1738\n",
       "8.00     1690\n",
       "1.00      712\n",
       "9.00      642\n",
       "4.00      256\n",
       "10.00     112\n",
       "0.00       31\n",
       "3.00       24\n",
       "2.00        2\n",
       "Name: gears, dtype: int64"
      ]
     },
     "execution_count": 142,
     "metadata": {},
     "output_type": "execute_result"
    }
   ],
   "source": [
    "df[\"gears\"].value_counts(dropna=False)"
   ]
  },
  {
   "cell_type": "markdown",
   "metadata": {},
   "source": [
    "## co_emissions"
   ]
  },
  {
   "cell_type": "code",
   "execution_count": 143,
   "metadata": {},
   "outputs": [
    {
     "name": "stdout",
     "output_type": "stream",
     "text": [
      "column name    :  co_emissions\n",
      "--------------------------------\n",
      "per_of_nulls   :  % 35.05\n",
      "num_of_nulls   :  10036\n",
      "num_of_uniques :  348\n",
      "--------------------------------\n",
      "NaN                  10036\n",
      "0 g/km (comb.)        1038\n",
      "119 g/km (comb.)       393\n",
      "124 g/km (comb.)       340\n",
      "129 g/km (comb.)       319\n",
      "                     ...  \n",
      "7 g/km (comb.)           1\n",
      "80 g/km (comb.)          1\n",
      "196  g/km (comb.)        1\n",
      "100  g/km (comb.)        1\n",
      "53 g/km (comb.)          1\n",
      "Name: co_emissions, Length: 348, dtype: int64\n"
     ]
    }
   ],
   "source": [
    "first_looking(\"co_emissions\")"
   ]
  },
  {
   "cell_type": "code",
   "execution_count": 144,
   "metadata": {},
   "outputs": [
    {
     "data": {
      "text/plain": [
       "0          NaN\n",
       "1         0.00\n",
       "2          NaN\n",
       "3          NaN\n",
       "4          NaN\n",
       "         ...  \n",
       "29474      NaN\n",
       "29475   217.00\n",
       "29476    99.00\n",
       "29477   149.00\n",
       "29478   251.00\n",
       "Name: co_emissions, Length: 28630, dtype: float64"
      ]
     },
     "execution_count": 144,
     "metadata": {},
     "output_type": "execute_result"
    }
   ],
   "source": [
    "df[\"co_emissions\"] = df[\"co_emissions\"].astype(str).str.extract('(\\d+)').astype(\"float\")\n",
    "df[\"co_emissions\"]"
   ]
  },
  {
   "cell_type": "code",
   "execution_count": 145,
   "metadata": {},
   "outputs": [
    {
     "data": {
      "text/plain": [
       "NaN       10036\n",
       "0.00       1040\n",
       "119.00      393\n",
       "124.00      340\n",
       "129.00      319\n",
       "          ...  \n",
       "332.00        1\n",
       "70.00         1\n",
       "338.00        1\n",
       "342.00        1\n",
       "53.00         1\n",
       "Name: co_emissions, Length: 327, dtype: int64"
      ]
     },
     "execution_count": 145,
     "metadata": {},
     "output_type": "execute_result"
    }
   ],
   "source": [
    "df[\"co_emissions\"].value_counts(dropna=False)"
   ]
  },
  {
   "cell_type": "markdown",
   "metadata": {},
   "source": [
    "## drivetrain\n",
    "\n",
    "A car’s drivetrain includes all of the components necessary to transfer the engine’s energy to its wheels in order to make your vehicle move. A car’s drivetrain connects the engine to the wheels enabling the vehicle to move. As the engine runs, the drivetrain helps send power through the transmission to the drive wheels. The drive wheels can be either the front wheels, rear wheels, or all the wheels — also known as front-wheel, rear-wheel, and all-wheel drive.\n",
    "\n",
    "An Automotive Drivetrain is a combination of various components that provide power to the vehicle's wheel. It is made up of a driveshaft, transmission or gearbox, universal joints, constant velocity joints, wheels, and axles. It allows the driver to control the power flow and multiplies the engine torque for controlling the engine speed.\n",
    "\n",
    "Nowadays, the introduction of stringent emission regulations in European and North American countries has boosted demand for improved Automotive drivetrains that are lightweight and hence assist in increasing fuel efficiency, reducing emissions, and improving vehicle performance."
   ]
  },
  {
   "cell_type": "code",
   "execution_count": 146,
   "metadata": {},
   "outputs": [
    {
     "name": "stdout",
     "output_type": "stream",
     "text": [
      "column name    :  drivetrain\n",
      "--------------------------------\n",
      "per_of_nulls   :  % 41.0\n",
      "num_of_nulls   :  11737\n",
      "num_of_uniques :  4\n",
      "--------------------------------\n",
      "[\\n, Front, \\n]    12066\n",
      "NaN                11737\n",
      "[\\n, 4WD, \\n]       3252\n",
      "[\\n, Rear, \\n]      1575\n",
      "Name: drivetrain, dtype: int64\n"
     ]
    }
   ],
   "source": [
    "first_looking(\"drivetrain\")"
   ]
  },
  {
   "cell_type": "code",
   "execution_count": 147,
   "metadata": {},
   "outputs": [
    {
     "data": {
      "text/plain": [
       "0          NaN\n",
       "1          NaN\n",
       "2          4WD\n",
       "3          4WD\n",
       "4          4WD\n",
       "         ...  \n",
       "29474      4WD\n",
       "29475    Front\n",
       "29476    Front\n",
       "29477      NaN\n",
       "29478    Front\n",
       "Name: drivetrain, Length: 28630, dtype: object"
      ]
     },
     "execution_count": 147,
     "metadata": {},
     "output_type": "execute_result"
    }
   ],
   "source": [
    "df[\"drivetrain\"] = df[\"drivetrain\"].explode().str.strip(\"\\n, \")\n",
    "df[\"drivetrain\"]"
   ]
  },
  {
   "cell_type": "code",
   "execution_count": 148,
   "metadata": {},
   "outputs": [
    {
     "data": {
      "text/plain": [
       "Front    12066\n",
       "NaN      11737\n",
       "4WD       3252\n",
       "Rear      1575\n",
       "Name: drivetrain, dtype: int64"
      ]
     },
     "execution_count": 148,
     "metadata": {},
     "output_type": "execute_result"
    }
   ],
   "source": [
    "df[\"drivetrain\"].value_counts(dropna=False)"
   ]
  },
  {
   "cell_type": "markdown",
   "metadata": {},
   "source": [
    "## cylinders"
   ]
  },
  {
   "cell_type": "code",
   "execution_count": 149,
   "metadata": {},
   "outputs": [
    {
     "name": "stdout",
     "output_type": "stream",
     "text": [
      "column name    :  cylinders\n",
      "--------------------------------\n",
      "per_of_nulls   :  % 34.15\n",
      "num_of_nulls   :  9778\n",
      "num_of_uniques :  13\n",
      "--------------------------------\n",
      "[\\n4\\n]     13068\n",
      "NaN          9778\n",
      "[\\n3\\n]      3258\n",
      "[\\n6\\n]      1013\n",
      "[\\n5\\n]       799\n",
      "[\\n8\\n]       539\n",
      "[\\n2\\n]       103\n",
      "[\\n0\\n]        35\n",
      "[\\n1\\n]        21\n",
      "[\\n12\\n]        8\n",
      "[\\n7\\n]         6\n",
      "[\\n26\\n]        1\n",
      "[\\n16\\n]        1\n",
      "Name: cylinders, dtype: int64\n"
     ]
    }
   ],
   "source": [
    "first_looking(\"cylinders\")"
   ]
  },
  {
   "cell_type": "code",
   "execution_count": 150,
   "metadata": {},
   "outputs": [
    {
     "data": {
      "text/plain": [
       "0        NaN\n",
       "1        NaN\n",
       "2       4.00\n",
       "3       4.00\n",
       "4       4.00\n",
       "        ... \n",
       "29474   4.00\n",
       "29475   5.00\n",
       "29476   4.00\n",
       "29477   4.00\n",
       "29478   6.00\n",
       "Name: cylinders, Length: 28630, dtype: float64"
      ]
     },
     "execution_count": 150,
     "metadata": {},
     "output_type": "execute_result"
    }
   ],
   "source": [
    "df[\"cylinders\"] = df[\"cylinders\"].astype(str).str.extract('(\\d+)').astype(\"float\")\n",
    "df[\"cylinders\"]"
   ]
  },
  {
   "cell_type": "code",
   "execution_count": 151,
   "metadata": {},
   "outputs": [
    {
     "data": {
      "text/plain": [
       "4.00     13068\n",
       "NaN       9778\n",
       "3.00      3258\n",
       "6.00      1013\n",
       "5.00       799\n",
       "8.00       539\n",
       "2.00       103\n",
       "0.00        35\n",
       "1.00        21\n",
       "12.00        8\n",
       "7.00         6\n",
       "26.00        1\n",
       "16.00        1\n",
       "Name: cylinders, dtype: int64"
      ]
     },
     "execution_count": 151,
     "metadata": {},
     "output_type": "execute_result"
    }
   ],
   "source": [
    "df[\"cylinders\"].value_counts(dropna=False)"
   ]
  },
  {
   "cell_type": "markdown",
   "metadata": {},
   "source": [
    "## fuel_consumption\n",
    "\n",
    "### 📝 Some Remarks on fuel consumption:\n",
    "\n",
    "Another key factor is fuel economy. Efficient vehicles tend to hold their value better when gas prices are high, while less efficient vehicles (which typically have more cargo space and higher safety ratings) do better when gas is cheap."
   ]
  },
  {
   "cell_type": "code",
   "execution_count": 152,
   "metadata": {},
   "outputs": [
    {
     "name": "stdout",
     "output_type": "stream",
     "text": [
      "column name    :  fuel_consumption\n",
      "--------------------------------\n",
      "per_of_nulls   :  % 18.32\n",
      "num_of_nulls   :  5245\n",
      "num_of_uniques :  3453\n",
      "--------------------------------\n",
      "NaN                                                                            5245\n",
      "[[0 l/100 km (comb.)]]                                                          330\n",
      "[[0 l/100 km (comb.)], [0 l/100 km (city)], [0 l/100 km (country)]]             306\n",
      "[[3.4 l/100 km (comb.)], [3.7 l/100 km (city)], [3.2 l/100 km (country)]]       170\n",
      "[[4 l/100 km (comb.)]]                                                          149\n",
      "                                                                               ... \n",
      "[[14.2 l/100 km (comb.)], [21.3 l/100 km (city)], [10 l/100 km (country)]]        1\n",
      "[[3.5 l/100 km (comb.)], [4.4 l/100 km (city)], [2.9 l/100 km (country)]]         1\n",
      "[[4.5 l/100 km (comb.)], [6.2 l/100 km (city)], [3.5 l/100 km (country)]]         1\n",
      "[[4.9 l/100 km (comb.)], [99.9 l/100 km (city)], [98 l/100 km (country)]]         1\n",
      "[[10.4 l/100 km (comb.)], [15.3 l/100 km (city)], [7.6 l/100 km (country)]]       1\n",
      "Name: fuel_consumption, Length: 3453, dtype: int64\n"
     ]
    }
   ],
   "source": [
    "first_looking(\"fuel_consumption\")"
   ]
  },
  {
   "cell_type": "code",
   "execution_count": 153,
   "metadata": {},
   "outputs": [
    {
     "data": {
      "text/plain": [
       "[['8.4 l/100 km (comb.)'],\n",
       " ['10.9 l/100 km (city)'],\n",
       " ['5.8 l/100 km (country)']]"
      ]
     },
     "execution_count": 153,
     "metadata": {},
     "output_type": "execute_result"
    }
   ],
   "source": [
    "df[\"fuel_consumption\"].iloc[2]"
   ]
  },
  {
   "cell_type": "code",
   "execution_count": 154,
   "metadata": {},
   "outputs": [
    {
     "data": {
      "text/plain": [
       "['8.4 l/100 km (comb.)']"
      ]
     },
     "execution_count": 154,
     "metadata": {},
     "output_type": "execute_result"
    }
   ],
   "source": [
    "df[\"fuel_consumption\"][2][0]"
   ]
  },
  {
   "cell_type": "code",
   "execution_count": 155,
   "metadata": {},
   "outputs": [
    {
     "data": {
      "text/plain": [
       "['10.9 l/100 km (city)']"
      ]
     },
     "execution_count": 155,
     "metadata": {},
     "output_type": "execute_result"
    }
   ],
   "source": [
    "df[\"fuel_consumption\"][2][1]"
   ]
  },
  {
   "cell_type": "code",
   "execution_count": 156,
   "metadata": {},
   "outputs": [
    {
     "data": {
      "text/plain": [
       "['5.8 l/100 km (country)']"
      ]
     },
     "execution_count": 156,
     "metadata": {},
     "output_type": "execute_result"
    }
   ],
   "source": [
    "df[\"fuel_consumption\"][2][2]"
   ]
  },
  {
   "cell_type": "code",
   "execution_count": 157,
   "metadata": {},
   "outputs": [],
   "source": [
    "def cons_avg(x):\n",
    "    \n",
    "    if type(x)==list:\n",
    "        if x[0] != []: return x[0][0]\n",
    "        else: return None\n",
    "  \n",
    "    else:\n",
    "        return None"
   ]
  },
  {
   "cell_type": "code",
   "execution_count": 158,
   "metadata": {},
   "outputs": [],
   "source": [
    "def cons_city(x):\n",
    "    \n",
    "    if type(x)==list and len(x)==3:\n",
    "        if x[1] != []: return x[1][0]\n",
    "        else: return None\n",
    "        \n",
    "    else:\n",
    "        return None"
   ]
  },
  {
   "cell_type": "code",
   "execution_count": 159,
   "metadata": {},
   "outputs": [],
   "source": [
    "def cons_country(x):\n",
    "    \n",
    "    if type(x)==list and len(x)==3:\n",
    "        if x[2] != []: return x[2][0]\n",
    "        else: return None\n",
    "        \n",
    "    else:\n",
    "        return None"
   ]
  },
  {
   "cell_type": "code",
   "execution_count": 160,
   "metadata": {},
   "outputs": [
    {
     "data": {
      "text/plain": [
       "0         NaN\n",
       "1         NaN\n",
       "2        8.40\n",
       "3        7.30\n",
       "4        4.90\n",
       "         ... \n",
       "29474    2.00\n",
       "29475    9.10\n",
       "29476    3.80\n",
       "29477    6.50\n",
       "29478   10.40\n",
       "Name: cons_avg, Length: 28630, dtype: float64"
      ]
     },
     "execution_count": 160,
     "metadata": {},
     "output_type": "execute_result"
    }
   ],
   "source": [
    "df['cons_avg'] = df[\"fuel_consumption\"].apply(cons_avg).str.extract('(\\d{1,2}.\\d|\\d{1,3})').astype(\"float\")\n",
    "df['cons_avg']                                        # str.extract('(\\S+)')"
   ]
  },
  {
   "cell_type": "code",
   "execution_count": 161,
   "metadata": {},
   "outputs": [
    {
     "data": {
      "text/plain": [
       "0         NaN\n",
       "1         NaN\n",
       "2       10.90\n",
       "3        9.30\n",
       "4        5.70\n",
       "         ... \n",
       "29474     NaN\n",
       "29475   13.20\n",
       "29476    4.30\n",
       "29477    8.60\n",
       "29478   15.30\n",
       "Name: cons_city, Length: 28630, dtype: float64"
      ]
     },
     "execution_count": 161,
     "metadata": {},
     "output_type": "execute_result"
    }
   ],
   "source": [
    "df['cons_city'] =  df[\"fuel_consumption\"].apply(cons_city).str.extract('(\\d{1,2}.\\d|\\d{1,3})').astype(\"float\") \n",
    "df['cons_city']                                          # str.extract('(\\S+)')"
   ]
  },
  {
   "cell_type": "code",
   "execution_count": 162,
   "metadata": {},
   "outputs": [
    {
     "data": {
      "text/plain": [
       "0        NaN\n",
       "1        NaN\n",
       "2       5.80\n",
       "3       6.10\n",
       "4       4.40\n",
       "        ... \n",
       "29474    NaN\n",
       "29475   6.70\n",
       "29476   3.50\n",
       "29477   5.30\n",
       "29478   7.60\n",
       "Name: cons_country, Length: 28630, dtype: float64"
      ]
     },
     "execution_count": 162,
     "metadata": {},
     "output_type": "execute_result"
    }
   ],
   "source": [
    "df['cons_country'] = df[\"fuel_consumption\"].apply(cons_country).str.extract('(\\d{1,2}.\\d|\\d{1,3})').astype(\"float\") \n",
    "df['cons_country']                                            # str.extract('(\\S+)')"
   ]
  },
  {
   "cell_type": "code",
   "execution_count": 163,
   "metadata": {},
   "outputs": [
    {
     "data": {
      "text/plain": [
       "NaN      5245\n",
       "5.00      831\n",
       "4.90      812\n",
       "4.50      690\n",
       "0.00      652\n",
       "         ... \n",
       "16.00       1\n",
       "57.00       1\n",
       "61.00       1\n",
       "14.50       1\n",
       "44.00       1\n",
       "Name: cons_avg, Length: 162, dtype: int64"
      ]
     },
     "execution_count": 163,
     "metadata": {},
     "output_type": "execute_result"
    }
   ],
   "source": [
    "df['cons_avg'].value_counts(dropna=False)"
   ]
  },
  {
   "cell_type": "code",
   "execution_count": 164,
   "metadata": {},
   "outputs": [
    {
     "data": {
      "text/plain": [
       "NaN      8530\n",
       "5.80      494\n",
       "6.40      485\n",
       "5.30      479\n",
       "5.70      464\n",
       "         ... \n",
       "21.50       1\n",
       "50.00       1\n",
       "3.10        1\n",
       "79.00       1\n",
       "76.10       1\n",
       "Name: cons_city, Length: 196, dtype: int64"
      ]
     },
     "execution_count": 164,
     "metadata": {},
     "output_type": "execute_result"
    }
   ],
   "source": [
    "df['cons_city'].value_counts(dropna=False)"
   ]
  },
  {
   "cell_type": "code",
   "execution_count": 165,
   "metadata": {},
   "outputs": [
    {
     "data": {
      "text/plain": [
       "NaN      8530\n",
       "4.30      884\n",
       "4.00      804\n",
       "4.20      750\n",
       "4.70      730\n",
       "         ... \n",
       "18.00       1\n",
       "11.70       1\n",
       "14.40       1\n",
       "11.50       1\n",
       "12.70       1\n",
       "Name: cons_country, Length: 115, dtype: int64"
      ]
     },
     "execution_count": 165,
     "metadata": {},
     "output_type": "execute_result"
    }
   ],
   "source": [
    "df['cons_country'].value_counts(dropna=False)"
   ]
  },
  {
   "cell_type": "code",
   "execution_count": 166,
   "metadata": {},
   "outputs": [
    {
     "data": {
      "text/plain": [
       "(28630, 41)"
      ]
     },
     "execution_count": 166,
     "metadata": {},
     "output_type": "execute_result"
    }
   ],
   "source": [
    "df.shape"
   ]
  },
  {
   "cell_type": "code",
   "execution_count": 167,
   "metadata": {},
   "outputs": [],
   "source": [
    "df.drop(\"fuel_consumption\", axis=1, inplace=True)"
   ]
  },
  {
   "cell_type": "code",
   "execution_count": 168,
   "metadata": {},
   "outputs": [
    {
     "data": {
      "text/plain": [
       "(28630, 40)"
      ]
     },
     "execution_count": 168,
     "metadata": {},
     "output_type": "execute_result"
    }
   ],
   "source": [
    "df.shape"
   ]
  },
  {
   "cell_type": "markdown",
   "metadata": {},
   "source": [
    "## empty_weight"
   ]
  },
  {
   "cell_type": "code",
   "execution_count": 169,
   "metadata": {},
   "outputs": [
    {
     "name": "stdout",
     "output_type": "stream",
     "text": [
      "column name    :  empty_weight\n",
      "--------------------------------\n",
      "per_of_nulls   :  % 37.97\n",
      "num_of_nulls   :  10872\n",
      "num_of_uniques :  1219\n",
      "--------------------------------\n",
      "NaN               10872\n",
      "[\\n1,395 kg\\n]      233\n",
      "[\\n1,055 kg\\n]      224\n",
      "[\\n1,423 kg\\n]      216\n",
      "[\\n1,165 kg\\n]      200\n",
      "                  ...  \n",
      "[\\n1,877 kg\\n]        1\n",
      "[\\n1,011 kg\\n]        1\n",
      "[\\n1,069 kg\\n]        1\n",
      "[\\n983 kg\\n]          1\n",
      "[\\n1,391 kg\\n]        1\n",
      "Name: empty_weight, Length: 1219, dtype: int64\n"
     ]
    }
   ],
   "source": [
    "first_looking(\"empty_weight\")"
   ]
  },
  {
   "cell_type": "code",
   "execution_count": 170,
   "metadata": {},
   "outputs": [
    {
     "data": {
      "text/html": [
       "<div>\n",
       "<style scoped>\n",
       "    .dataframe tbody tr th:only-of-type {\n",
       "        vertical-align: middle;\n",
       "    }\n",
       "\n",
       "    .dataframe tbody tr th {\n",
       "        vertical-align: top;\n",
       "    }\n",
       "\n",
       "    .dataframe thead th {\n",
       "        text-align: right;\n",
       "    }\n",
       "</style>\n",
       "<table border=\"1\" class=\"dataframe\">\n",
       "  <thead>\n",
       "    <tr style=\"text-align: right;\">\n",
       "      <th></th>\n",
       "      <th>0</th>\n",
       "    </tr>\n",
       "  </thead>\n",
       "  <tbody>\n",
       "    <tr>\n",
       "      <th>0</th>\n",
       "      <td>NaN</td>\n",
       "    </tr>\n",
       "    <tr>\n",
       "      <th>1</th>\n",
       "      <td>NaN</td>\n",
       "    </tr>\n",
       "    <tr>\n",
       "      <th>2</th>\n",
       "      <td>NaN</td>\n",
       "    </tr>\n",
       "    <tr>\n",
       "      <th>3</th>\n",
       "      <td>NaN</td>\n",
       "    </tr>\n",
       "    <tr>\n",
       "      <th>4</th>\n",
       "      <td>1545.00</td>\n",
       "    </tr>\n",
       "    <tr>\n",
       "      <th>...</th>\n",
       "      <td>...</td>\n",
       "    </tr>\n",
       "    <tr>\n",
       "      <th>29474</th>\n",
       "      <td>2077.00</td>\n",
       "    </tr>\n",
       "    <tr>\n",
       "      <th>29475</th>\n",
       "      <td>1357.00</td>\n",
       "    </tr>\n",
       "    <tr>\n",
       "      <th>29476</th>\n",
       "      <td>1356.00</td>\n",
       "    </tr>\n",
       "    <tr>\n",
       "      <th>29477</th>\n",
       "      <td>1617.00</td>\n",
       "    </tr>\n",
       "    <tr>\n",
       "      <th>29478</th>\n",
       "      <td>1573.00</td>\n",
       "    </tr>\n",
       "  </tbody>\n",
       "</table>\n",
       "<p>28630 rows × 1 columns</p>\n",
       "</div>"
      ],
      "text/plain": [
       "            0\n",
       "0         NaN\n",
       "1         NaN\n",
       "2         NaN\n",
       "3         NaN\n",
       "4     1545.00\n",
       "...       ...\n",
       "29474 2077.00\n",
       "29475 1357.00\n",
       "29476 1356.00\n",
       "29477 1617.00\n",
       "29478 1573.00\n",
       "\n",
       "[28630 rows x 1 columns]"
      ]
     },
     "execution_count": 170,
     "metadata": {},
     "output_type": "execute_result"
    }
   ],
   "source": [
    "df['empty_weight'].astype(str).str.replace(',', '').str.extract('(\\d+)').astype(\"float\")"
   ]
  },
  {
   "cell_type": "code",
   "execution_count": 171,
   "metadata": {},
   "outputs": [
    {
     "data": {
      "text/plain": [
       "0           NaN\n",
       "1           NaN\n",
       "2           NaN\n",
       "3           NaN\n",
       "4       1545.00\n",
       "          ...  \n",
       "29474   2077.00\n",
       "29475   1357.00\n",
       "29476   1356.00\n",
       "29477   1617.00\n",
       "29478   1573.00\n",
       "Name: empty_weight, Length: 28630, dtype: float64"
      ]
     },
     "execution_count": 171,
     "metadata": {},
     "output_type": "execute_result"
    }
   ],
   "source": [
    "df['empty_weight'] = df['empty_weight'].astype(str).str.replace(',', '').str.extract('(\\d+)').astype(\"float\")\n",
    "df['empty_weight']"
   ]
  },
  {
   "cell_type": "code",
   "execution_count": 172,
   "metadata": {},
   "outputs": [
    {
     "data": {
      "text/plain": [
       "NaN        10872\n",
       "1395.00      233\n",
       "1055.00      224\n",
       "1423.00      216\n",
       "1165.00      200\n",
       "           ...  \n",
       "1877.00        1\n",
       "1011.00        1\n",
       "1069.00        1\n",
       "983.00         1\n",
       "1391.00        1\n",
       "Name: empty_weight, Length: 1219, dtype: int64"
      ]
     },
     "execution_count": 172,
     "metadata": {},
     "output_type": "execute_result"
    }
   ],
   "source": [
    "df['empty_weight'].value_counts(dropna=False)"
   ]
  },
  {
   "cell_type": "markdown",
   "metadata": {},
   "source": [
    "## model_code"
   ]
  },
  {
   "cell_type": "code",
   "execution_count": 173,
   "metadata": {},
   "outputs": [
    {
     "name": "stdout",
     "output_type": "stream",
     "text": [
      "column name    :  model_code\n",
      "--------------------------------\n",
      "per_of_nulls   :  % 70.78\n",
      "num_of_nulls   :  20263\n",
      "num_of_uniques :  2187\n",
      "--------------------------------\n",
      "NaN                   20263\n",
      "[\\n, 8212/AFJ, \\n]       75\n",
      "[\\n, 1727/AAM, \\n]       64\n",
      "[\\n, 1349/AGI, \\n]       61\n",
      "[\\n, 1889/ABU, \\n]       55\n",
      "                      ...  \n",
      "[\\n, 7593/ANL, \\n]        1\n",
      "[\\n, 1727/ABC, \\n]        1\n",
      "[\\n, 4136/AEC, \\n]        1\n",
      "[\\n, 4136/668, \\n]        1\n",
      "[\\n, 9101/449, \\n]        1\n",
      "Name: model_code, Length: 2187, dtype: int64\n"
     ]
    }
   ],
   "source": [
    "first_looking(\"model_code\")"
   ]
  },
  {
   "cell_type": "code",
   "execution_count": 174,
   "metadata": {},
   "outputs": [
    {
     "data": {
      "text/plain": [
       "(28630, 40)"
      ]
     },
     "execution_count": 174,
     "metadata": {},
     "output_type": "execute_result"
    }
   ],
   "source": [
    "df.shape"
   ]
  },
  {
   "cell_type": "code",
   "execution_count": 175,
   "metadata": {},
   "outputs": [],
   "source": [
    "df.drop(\"model_code\", axis=1, inplace=True)"
   ]
  },
  {
   "cell_type": "code",
   "execution_count": 176,
   "metadata": {},
   "outputs": [
    {
     "data": {
      "text/plain": [
       "(28630, 39)"
      ]
     },
     "execution_count": 176,
     "metadata": {},
     "output_type": "execute_result"
    }
   ],
   "source": [
    "df.shape"
   ]
  },
  {
   "cell_type": "markdown",
   "metadata": {},
   "source": [
    "## general_inspection"
   ]
  },
  {
   "cell_type": "code",
   "execution_count": 177,
   "metadata": {},
   "outputs": [
    {
     "name": "stdout",
     "output_type": "stream",
     "text": [
      "column name    :  general_inspection\n",
      "--------------------------------\n",
      "per_of_nulls   :  % 57.2\n",
      "num_of_nulls   :  16376\n",
      "num_of_uniques :  92\n",
      "--------------------------------\n",
      "NaN        16376\n",
      "New         5883\n",
      "05/2023      286\n",
      "08/2023      280\n",
      "03/2023      268\n",
      "06/2023      266\n",
      "04/2023      262\n",
      "09/2023      255\n",
      "07/2023      254\n",
      "06/2024      216\n",
      "05/2024      212\n",
      "01/2023      210\n",
      "02/2023      209\n",
      "03/2024      207\n",
      "07/2024      203\n",
      "08/2024      187\n",
      "09/2024      182\n",
      "11/2023      176\n",
      "01/2024      164\n",
      "02/2024      163\n",
      "04/2024      162\n",
      "12/2023      160\n",
      "12/2022      159\n",
      "10/2023      155\n",
      "06/2025      147\n",
      "11/2022      131\n",
      "08/2025      122\n",
      "07/2025      110\n",
      "09/2022       96\n",
      "03/2025       95\n",
      "05/2025       93\n",
      "10/2022       90\n",
      "04/2025       89\n",
      "01/2025       75\n",
      "02/2025       66\n",
      "09/2025       65\n",
      "10/2024       64\n",
      "08/2022       64\n",
      "12/2024       61\n",
      "11/2024       50\n",
      "06/2022       42\n",
      "07/2022       41\n",
      "04/2022       34\n",
      "03/2022       25\n",
      "05/2022       22\n",
      "10/2021       17\n",
      "11/2021       11\n",
      "01/2022       10\n",
      "07/2021       10\n",
      "09/2021        8\n",
      "08/2021        7\n",
      "12/2021        7\n",
      "02/2022        6\n",
      "05/2026        5\n",
      "07/2020        5\n",
      "10/2025        4\n",
      "05/2021        4\n",
      "06/2026        4\n",
      "12/2019        4\n",
      "06/2021        3\n",
      "01/2021        3\n",
      "11/2020        3\n",
      "04/2026        3\n",
      "02/2021        2\n",
      "02/2026        2\n",
      "12/2025        2\n",
      "09/2026        2\n",
      "01/2026        2\n",
      "12/2020        2\n",
      "07/2026        2\n",
      "08/2026        2\n",
      "02/2027        2\n",
      "06/2020        2\n",
      "12/2017        1\n",
      "10/2020        1\n",
      "01/2020        1\n",
      "04/2020        1\n",
      "10/2019        1\n",
      "05/2018        1\n",
      "09/2020        1\n",
      "07/2019        1\n",
      "05/2020        1\n",
      "08/2019        1\n",
      "03/2026        1\n",
      "11/2019        1\n",
      "01/2018        1\n",
      "07/2017        1\n",
      "09/2017        1\n",
      "08/2013        1\n",
      "08/2020        1\n",
      "08/2018        1\n",
      "03/2021        1\n",
      "Name: general_inspection, dtype: int64\n"
     ]
    }
   ],
   "source": [
    "first_looking(\"general_inspection\")"
   ]
  },
  {
   "cell_type": "code",
   "execution_count": 178,
   "metadata": {},
   "outputs": [
    {
     "data": {
      "text/plain": [
       "(28630, 39)"
      ]
     },
     "execution_count": 178,
     "metadata": {},
     "output_type": "execute_result"
    }
   ],
   "source": [
    "df.shape"
   ]
  },
  {
   "cell_type": "code",
   "execution_count": 179,
   "metadata": {},
   "outputs": [],
   "source": [
    "df.drop(\"general_inspection\", axis=1, inplace=True)"
   ]
  },
  {
   "cell_type": "code",
   "execution_count": 180,
   "metadata": {},
   "outputs": [
    {
     "data": {
      "text/plain": [
       "(28630, 38)"
      ]
     },
     "execution_count": 180,
     "metadata": {},
     "output_type": "execute_result"
    }
   ],
   "source": [
    "df.shape"
   ]
  },
  {
   "cell_type": "markdown",
   "metadata": {},
   "source": [
    "## full_service_history\n",
    "\n",
    "### 📝 Some Remarks on car service history: \n",
    "\n",
    "By keeping and maintaining your car service logbook, your car’s value will gain a boost. The logbook shows all the fixes and updates your car has gone through, which allows the buyer to have confidence in what he or she is getting."
   ]
  },
  {
   "cell_type": "code",
   "execution_count": 181,
   "metadata": {},
   "outputs": [
    {
     "name": "stdout",
     "output_type": "stream",
     "text": [
      "column name    :  full_service_history\n",
      "--------------------------------\n",
      "per_of_nulls   :  % 56.11\n",
      "num_of_nulls   :  16065\n",
      "num_of_uniques :  2\n",
      "--------------------------------\n",
      "NaN    16065\n",
      "Yes    12565\n",
      "Name: full_service_history, dtype: int64\n"
     ]
    }
   ],
   "source": [
    "first_looking(\"full_service_history\")"
   ]
  },
  {
   "cell_type": "code",
   "execution_count": 182,
   "metadata": {},
   "outputs": [],
   "source": [
    "df[\"full_service_history\"].replace(np.nan, \"No\", inplace=True)"
   ]
  },
  {
   "cell_type": "code",
   "execution_count": 183,
   "metadata": {},
   "outputs": [
    {
     "data": {
      "text/plain": [
       "No     16065\n",
       "Yes    12565\n",
       "Name: full_service_history, dtype: int64"
      ]
     },
     "execution_count": 183,
     "metadata": {},
     "output_type": "execute_result"
    }
   ],
   "source": [
    "df[\"full_service_history\"].value_counts(dropna=False)"
   ]
  },
  {
   "cell_type": "markdown",
   "metadata": {},
   "source": [
    "## non_smoker_vehicle"
   ]
  },
  {
   "cell_type": "code",
   "execution_count": 184,
   "metadata": {},
   "outputs": [
    {
     "name": "stdout",
     "output_type": "stream",
     "text": [
      "column name    :  non_smoker_vehicle\n",
      "--------------------------------\n",
      "per_of_nulls   :  % 59.5\n",
      "num_of_nulls   :  17036\n",
      "num_of_uniques :  2\n",
      "--------------------------------\n",
      "NaN    17036\n",
      "Yes    11594\n",
      "Name: non_smoker_vehicle, dtype: int64\n"
     ]
    }
   ],
   "source": [
    "first_looking(\"non_smoker_vehicle\")"
   ]
  },
  {
   "cell_type": "code",
   "execution_count": 185,
   "metadata": {},
   "outputs": [],
   "source": [
    "df[\"non_smoker_vehicle\"].replace(np.nan, \"No\", inplace=True)"
   ]
  },
  {
   "cell_type": "code",
   "execution_count": 186,
   "metadata": {},
   "outputs": [
    {
     "data": {
      "text/plain": [
       "No     17036\n",
       "Yes    11594\n",
       "Name: non_smoker_vehicle, dtype: int64"
      ]
     },
     "execution_count": 186,
     "metadata": {},
     "output_type": "execute_result"
    }
   ],
   "source": [
    "df[\"non_smoker_vehicle\"].value_counts(dropna=False)"
   ]
  },
  {
   "cell_type": "code",
   "execution_count": 187,
   "metadata": {},
   "outputs": [
    {
     "data": {
      "text/plain": [
       "(28630, 38)"
      ]
     },
     "execution_count": 187,
     "metadata": {},
     "output_type": "execute_result"
    }
   ],
   "source": [
    "df.shape"
   ]
  },
  {
   "cell_type": "code",
   "execution_count": 188,
   "metadata": {},
   "outputs": [],
   "source": [
    "df.drop(\"non_smoker_vehicle\", axis=1, inplace=True)"
   ]
  },
  {
   "cell_type": "code",
   "execution_count": 189,
   "metadata": {},
   "outputs": [
    {
     "data": {
      "text/plain": [
       "(28630, 37)"
      ]
     },
     "execution_count": 189,
     "metadata": {},
     "output_type": "execute_result"
    }
   ],
   "source": [
    "df.shape"
   ]
  },
  {
   "cell_type": "markdown",
   "metadata": {},
   "source": [
    "## emission_class\n",
    "\n",
    "### 📝 Some Remarks on emission class: \n",
    "\n",
    "Although emissions regulations date back to 1970, the first EU-wide standard – known as Euro 1 – wasn’t introduced until 1992, which saw catalytic converters became compulsory on new cars, effectively standardising fuel injection. \n",
    "\n",
    "Since then, there have been a series of Euro emissions standards, leading to the current Euro 6, introduced in September 2014 for new type approvals and rolled out for the majority of vehicle sales and registrations in September 2015. Euro 6 applies to all new cars registered from 1 September 2015.\n",
    "\n",
    "**🧐 [Euro 1 to Euro 6 guide](https://www.rac.co.uk/drive/advice/emissions/euro-emissions-standards/)**\n",
    "\n",
    "**🧐 [Euro 1 to Euro 6: how clean is my car?](https://www.whatcar.com/advice/owning/euro-1-to-euro-6-how-clean-is-my-car/n1190)**"
   ]
  },
  {
   "cell_type": "code",
   "execution_count": 190,
   "metadata": {},
   "outputs": [
    {
     "name": "stdout",
     "output_type": "stream",
     "text": [
      "column name    :  emission_class\n",
      "--------------------------------\n",
      "per_of_nulls   :  % 37.62\n",
      "num_of_nulls   :  10771\n",
      "num_of_uniques :  10\n",
      "--------------------------------\n",
      "NaN             10771\n",
      "Euro 6           6418\n",
      "Euro 6d-TEMP     3399\n",
      "Euro 6d          2858\n",
      "Euro 5           2389\n",
      "Euro 4           1743\n",
      "Euro 3            523\n",
      "Euro 2            217\n",
      "Euro 1            172\n",
      "Euro 6c           140\n",
      "Name: emission_class, dtype: int64\n"
     ]
    }
   ],
   "source": [
    "first_looking(\"emission_class\")"
   ]
  },
  {
   "cell_type": "markdown",
   "metadata": {},
   "source": [
    "Whether your car is Euro 6, Euro 6c, Euro 6d-TEMP, or Euro 6d, the emission amounts are the same. The differences are purely about testing and how much discrepancy is allowed between the lab figures and those from testing on real roads."
   ]
  },
  {
   "cell_type": "code",
   "execution_count": 191,
   "metadata": {},
   "outputs": [],
   "source": [
    "Euro_6 = [\"Euro 6\", \"Euro 6d-TEMP\", \"Euro 6d\", \"Euro 6c\"]\n",
    "\n",
    "def emissionclass(x):\n",
    "    if x in Euro_6:\n",
    "        return \"Euro 6\"\n",
    "    else:\n",
    "        return x\n",
    "\n",
    "df[\"emission_class\"] = df[\"emission_class\"].apply(emissionclass)"
   ]
  },
  {
   "cell_type": "code",
   "execution_count": 192,
   "metadata": {},
   "outputs": [
    {
     "data": {
      "text/plain": [
       "Euro 6    12815\n",
       "NaN       10771\n",
       "Euro 5     2389\n",
       "Euro 4     1743\n",
       "Euro 3      523\n",
       "Euro 2      217\n",
       "Euro 1      172\n",
       "Name: emission_class, dtype: int64"
      ]
     },
     "execution_count": 192,
     "metadata": {},
     "output_type": "execute_result"
    }
   ],
   "source": [
    "df[\"emission_class\"].value_counts(dropna=False)"
   ]
  },
  {
   "cell_type": "code",
   "execution_count": 193,
   "metadata": {},
   "outputs": [
    {
     "data": {
      "text/plain": [
       "(28630, 37)"
      ]
     },
     "execution_count": 193,
     "metadata": {},
     "output_type": "execute_result"
    }
   ],
   "source": [
    "df.shape"
   ]
  },
  {
   "cell_type": "code",
   "execution_count": 194,
   "metadata": {},
   "outputs": [],
   "source": [
    "df.drop(\"emission_class\", axis=1, inplace=True)"
   ]
  },
  {
   "cell_type": "code",
   "execution_count": 195,
   "metadata": {},
   "outputs": [
    {
     "data": {
      "text/plain": [
       "(28630, 36)"
      ]
     },
     "execution_count": 195,
     "metadata": {},
     "output_type": "execute_result"
    }
   ],
   "source": [
    "df.shape"
   ]
  },
  {
   "cell_type": "markdown",
   "metadata": {},
   "source": [
    "## emissions_sticker\n",
    "\n",
    "### 📝 Some Remarks on emission: \n",
    "\n",
    "Since 2008, German cities can legally designate low-emission zones that only motorized vehicles with an emissions sticker are allowed to enter. This sticker is called Umweltplakette or Feinstaubplakette in German. Older and polluting vehicles are not eligible for emissions stickers and are as a result barred from entering low-emission zones.\n",
    "\n",
    "The German emissions sticker comes in three colors: red, yellow and green. The red sticker is for the most polluting vehicles, the yellow sticker for slightly less polluting vehicles and and the green sticker for the least polluting vehicles.\n",
    "\n",
    "<img src=https://i.ibb.co/6JdPwc7/Colors-German-Emissions-Sticker.png width=\"400\" height=\"100\">\n",
    "\n",
    "## <p style=\"background-color:#FDFEFE; font-family:newtimeroman; color:#060108; font-size:100%; text-align:center; border-radius:10px 10px;\">Colors German Emissions Sticker</p>\n",
    "\n",
    "As of 2021, vehicles with a red emissions sticker are no longer allowed to enter any low-emission zones in Germany. Red stickers are therefore no longer for sale. Vehicles with a yellow sticker are only allowed to enter the low-emission zone of Neu-Ulm in Bavaria. Unless you plan to visit Neu-Ulm, obtaining a yellow sticker is not very useful.\n",
    "\n",
    "Vehicles with a green sticker on the other hand, can enter all low-emission zones in Germany. This green emissions sticker is the one you should obtain if you intend to visit German cities with a low-emission zone."
   ]
  },
  {
   "cell_type": "code",
   "execution_count": 196,
   "metadata": {},
   "outputs": [
    {
     "name": "stdout",
     "output_type": "stream",
     "text": [
      "column name    :  emissions_sticker\n",
      "--------------------------------\n",
      "per_of_nulls   :  % 67.12\n",
      "num_of_nulls   :  19216\n",
      "num_of_uniques :  5\n",
      "--------------------------------\n",
      "NaN               19216\n",
      "4 (Green)          9230\n",
      "1 (No sticker)      176\n",
      "3 (Yellow)            6\n",
      "2 (Red)               2\n",
      "Name: emissions_sticker, dtype: int64\n"
     ]
    }
   ],
   "source": [
    "first_looking(\"emissions_sticker\")"
   ]
  },
  {
   "cell_type": "code",
   "execution_count": 197,
   "metadata": {},
   "outputs": [],
   "source": [
    "df[\"emissions_sticker\"] = df[\"emissions_sticker\"].astype(str).str.extract(r\"([a-zA-Z]+)\")"
   ]
  },
  {
   "cell_type": "code",
   "execution_count": 198,
   "metadata": {},
   "outputs": [
    {
     "data": {
      "text/plain": [
       "nan       19216\n",
       "Green      9230\n",
       "No          176\n",
       "Yellow        6\n",
       "Red           2\n",
       "Name: emissions_sticker, dtype: int64"
      ]
     },
     "execution_count": 198,
     "metadata": {},
     "output_type": "execute_result"
    }
   ],
   "source": [
    "df[\"emissions_sticker\"].value_counts(dropna=False)"
   ]
  },
  {
   "cell_type": "code",
   "execution_count": 199,
   "metadata": {},
   "outputs": [
    {
     "data": {
      "text/plain": [
       "(28630, 36)"
      ]
     },
     "execution_count": 199,
     "metadata": {},
     "output_type": "execute_result"
    }
   ],
   "source": [
    "df.shape"
   ]
  },
  {
   "cell_type": "code",
   "execution_count": 200,
   "metadata": {},
   "outputs": [],
   "source": [
    "df.drop(\"emissions_sticker\", axis=1, inplace=True)"
   ]
  },
  {
   "cell_type": "code",
   "execution_count": 201,
   "metadata": {},
   "outputs": [
    {
     "data": {
      "text/plain": [
       "(28630, 35)"
      ]
     },
     "execution_count": 201,
     "metadata": {},
     "output_type": "execute_result"
    }
   ],
   "source": [
    "df.shape"
   ]
  },
  {
   "cell_type": "markdown",
   "metadata": {},
   "source": [
    "## upholstery_colour\n",
    "\n",
    "### 📝 Some Remarks on color conceptualization: \n",
    "\n",
    "**Primary Colors:** Red, yellow and blue<br>\n",
    "In traditional color theory (used in paint and pigments), primary colors are the 3 pigment colors that cannot be mixed or formed by any combination of other colors. All other colors are derived from these 3 hues. \n",
    "\n",
    "**Secondary Colors:** Green, orange and purple<br>\n",
    "These are the colors formed by mixing the primary colors.\n",
    "\n",
    "**Tertiary Colors:** Yellow-orange, red-orange, red-purple, blue-purple, blue-green & yellow-green<br>\n",
    "These are the colors formed by mixing a primary and a secondary color. That's why the hue is a two word name, such as blue-green, red-violet, and yellow-orange.\n",
    "\n",
    "<img src=https://i.ibb.co/N38yg7r/Basic-Color-Theory.png width=\"400\" height=\"100\">\n",
    "\n",
    "## <p style=\"background-color:#FDFEFE; font-family:newtimeroman; color:#060108; font-size:100%; text-align:center; border-radius:10px 10px;\">Color Wheel</p>\n",
    "\n",
    "**🧐 [Basic Color Theory](https://www.colormatters.com/color-and-design/basic-color-theory)**"
   ]
  },
  {
   "cell_type": "code",
   "execution_count": 202,
   "metadata": {},
   "outputs": [
    {
     "name": "stdout",
     "output_type": "stream",
     "text": [
      "column name    :  upholstery_colour\n",
      "--------------------------------\n",
      "per_of_nulls   :  % 49.11\n",
      "num_of_nulls   :  14061\n",
      "num_of_uniques :  12\n",
      "--------------------------------\n",
      "NaN       14061\n",
      "Black     10416\n",
      "Grey       2038\n",
      "Other      1003\n",
      "Beige       466\n",
      "Brown       275\n",
      "Red         159\n",
      "White        93\n",
      "Blue         82\n",
      "Orange       23\n",
      "Green         8\n",
      "Yellow        6\n",
      "Name: upholstery_colour, dtype: int64\n"
     ]
    }
   ],
   "source": [
    "first_looking(\"upholstery_colour\")"
   ]
  },
  {
   "cell_type": "code",
   "execution_count": 203,
   "metadata": {},
   "outputs": [],
   "source": [
    "Ordinary = [\"Black\", \"White\"]\n",
    "Primary = [\"Red\", \"Yellow\", \"Blue\"]\n",
    "Secondary = [\"Green\", \"Orange\"]\n",
    "Tertiary_Intermediate = [\"Brown\", \"Grey\", \"Beige\"]\n",
    "\n",
    "def coloridentifier(x):\n",
    "    if x in Ordinary:\n",
    "        return \"Ordinary\"\n",
    "    if x in Primary:\n",
    "        return \"Primary\"\n",
    "    if x in Secondary:\n",
    "        return \"Secondary\"\n",
    "    if x in Tertiary_Intermediate:\n",
    "        return \"Tertiary\"    \n",
    "    else:\n",
    "        return x\n",
    "\n",
    "df[\"upholstery_colour\"] = df[\"upholstery_colour\"].apply(coloridentifier)"
   ]
  },
  {
   "cell_type": "code",
   "execution_count": 204,
   "metadata": {},
   "outputs": [
    {
     "data": {
      "text/plain": [
       "NaN          14061\n",
       "Ordinary     10509\n",
       "Tertiary      2779\n",
       "Other         1003\n",
       "Primary        247\n",
       "Secondary       31\n",
       "Name: upholstery_colour, dtype: int64"
      ]
     },
     "execution_count": 204,
     "metadata": {},
     "output_type": "execute_result"
    }
   ],
   "source": [
    "df[\"upholstery_colour\"].value_counts(dropna=False)"
   ]
  },
  {
   "cell_type": "code",
   "execution_count": 205,
   "metadata": {},
   "outputs": [
    {
     "data": {
      "text/plain": [
       "(28630, 35)"
      ]
     },
     "execution_count": 205,
     "metadata": {},
     "output_type": "execute_result"
    }
   ],
   "source": [
    "df.shape"
   ]
  },
  {
   "cell_type": "code",
   "execution_count": 206,
   "metadata": {},
   "outputs": [],
   "source": [
    "df.drop(\"upholstery_colour\", axis=1, inplace=True)"
   ]
  },
  {
   "cell_type": "code",
   "execution_count": 207,
   "metadata": {},
   "outputs": [
    {
     "data": {
      "text/plain": [
       "(28630, 34)"
      ]
     },
     "execution_count": 207,
     "metadata": {},
     "output_type": "execute_result"
    }
   ],
   "source": [
    "df.shape"
   ]
  },
  {
   "cell_type": "markdown",
   "metadata": {},
   "source": [
    "## upholstery"
   ]
  },
  {
   "cell_type": "code",
   "execution_count": 208,
   "metadata": {},
   "outputs": [
    {
     "name": "stdout",
     "output_type": "stream",
     "text": [
      "column name    :  upholstery\n",
      "--------------------------------\n",
      "per_of_nulls   :  % 35.0\n",
      "num_of_nulls   :  10020\n",
      "num_of_uniques :  7\n",
      "--------------------------------\n",
      "NaN             10020\n",
      "Cloth            8736\n",
      "Full leather     5439\n",
      "Part leather     2835\n",
      "alcantara         764\n",
      "Other             628\n",
      "Velour            208\n",
      "Name: upholstery, dtype: int64\n"
     ]
    }
   ],
   "source": [
    "first_looking(\"upholstery\")"
   ]
  },
  {
   "cell_type": "markdown",
   "metadata": {},
   "source": [
    "## previous_owner\n",
    "\n",
    "A first resale will get a better price compared to a second or third resale.  Company owned cars often fetch a lower price as multiple employees and chauffeurs may have handled the car, leading to an undesirable level of maintenance."
   ]
  },
  {
   "cell_type": "code",
   "execution_count": 209,
   "metadata": {},
   "outputs": [
    {
     "name": "stdout",
     "output_type": "stream",
     "text": [
      "column name    :  previous_owner\n",
      "--------------------------------\n",
      "per_of_nulls   :  % 51.05\n",
      "num_of_nulls   :  14615\n",
      "num_of_uniques :  11734\n",
      "--------------------------------\n",
      "NaN                           14615\n",
      "[[50 km, 06/2022], 1]            64\n",
      "[[10 km, 08/2022], 1]            59\n",
      "[[10 km, 07/2022], 1]            45\n",
      "[[10 km, 09/2022], 1]            38\n",
      "                              ...  \n",
      "[[358,000 km, 10/2010], 2]        1\n",
      "[[165,400 km, 09/2010], 1]        1\n",
      "[[65,000 km, 10/2006], 1]         1\n",
      "[[71,000 km, 04/2013], 1]         1\n",
      "[[230,047 km, 07/2002], 5]        1\n",
      "Name: previous_owner, Length: 11734, dtype: int64\n"
     ]
    }
   ],
   "source": [
    "first_looking(\"previous_owner\")"
   ]
  },
  {
   "cell_type": "code",
   "execution_count": 210,
   "metadata": {},
   "outputs": [
    {
     "data": {
      "text/plain": [
       "0        NaN\n",
       "1        NaN\n",
       "2        NaN\n",
       "3        NaN\n",
       "4        NaN\n",
       "        ... \n",
       "29474    NaN\n",
       "29475    NaN\n",
       "29476      1\n",
       "29477    NaN\n",
       "29478      5\n",
       "Name: previous_owner, Length: 28630, dtype: object"
      ]
     },
     "execution_count": 210,
     "metadata": {},
     "output_type": "execute_result"
    }
   ],
   "source": [
    "df[\"previous_owner\"] = df[\"previous_owner\"].str[1]\n",
    "df[\"previous_owner\"]"
   ]
  },
  {
   "cell_type": "code",
   "execution_count": 211,
   "metadata": {},
   "outputs": [
    {
     "data": {
      "text/plain": [
       "NaN    14615\n",
       "1       9746\n",
       "2       3221\n",
       "3        699\n",
       "4        184\n",
       "5         69\n",
       "6         37\n",
       "7         22\n",
       "8         16\n",
       "9         14\n",
       "12         3\n",
       "10         2\n",
       "14         1\n",
       "13         1\n",
       "Name: previous_owner, dtype: int64"
      ]
     },
     "execution_count": 211,
     "metadata": {},
     "output_type": "execute_result"
    }
   ],
   "source": [
    "df[\"previous_owner\"].value_counts(dropna=False)"
   ]
  },
  {
   "cell_type": "markdown",
   "metadata": {},
   "source": [
    "## energy_efficiency_class\n",
    "\n",
    "### 📝 Some Remarks on energy efficiency about vehicles: \n",
    "\n",
    "The Ordinance on Energy Consumption Labelling for Passenger Cars (in German), which entered into force on 1 December 2011 (Federal Law Gazette I p.1756), requires cars to be equipped with a label (in German) informing consumers about a vehicle’s CO2 efficiency. The label not only indicates the vehicle’s energy consumption in absolute terms, but also provides information about its CO2 efficiency compared with other vehicles by ranking it on a colour-coded scale. CO2 efficiency is calculated using CO2 emissions and vehicle mass. The scale ranges from 'A+' (very efficient) to 'G' (rather inefficient).\n",
    "\n",
    "The label also allows for information about electricity consumption to be included so as to take account of developments in the area of electric mobility.\n",
    "\n",
    "<img src=https://i.ibb.co/vkSz5nj/Automotive-Energy-Efficiency.png width=\"400\" height=\"100\">\n",
    "\n",
    "## <p style=\"background-color:#FDFEFE; font-family:newtimeroman; color:#060108; font-size:100%; text-align:center; border-radius:10px 10px;\">Efficiency Labels in German Automotives</p>\n",
    "\n",
    "**🧐 [Energy consumption labelling for passenger cars](https://www.bmwk.de/Redaktion/EN/Artikel/Energy/fuel-efficiency-labelling-for-passenger-cars.html)**"
   ]
  },
  {
   "cell_type": "code",
   "execution_count": 212,
   "metadata": {},
   "outputs": [
    {
     "name": "stdout",
     "output_type": "stream",
     "text": [
      "column name    :  energy_efficiency_class\n",
      "--------------------------------\n",
      "per_of_nulls   :  % 72.74\n",
      "num_of_nulls   :  20826\n",
      "num_of_uniques :  11\n",
      "--------------------------------\n",
      "NaN     20826\n",
      "B        2090\n",
      "A        1687\n",
      "C        1133\n",
      "A+       1089\n",
      "D         636\n",
      "A+++      375\n",
      "G         309\n",
      "E         271\n",
      "F         147\n",
      "A++        67\n",
      "Name: energy_efficiency_class, dtype: int64\n"
     ]
    }
   ],
   "source": [
    "first_looking(\"energy_efficiency_class\")"
   ]
  },
  {
   "cell_type": "code",
   "execution_count": 213,
   "metadata": {},
   "outputs": [],
   "source": [
    "efficient = [\"A\", \"A+\", \"A++\", \"A+++\", \"B\"]\n",
    "unefficient = [\"C\", \"D\", \"E\", \"F\", \"G\"]\n",
    "\n",
    "def energyefficiency(x):\n",
    "    if x in efficient:\n",
    "        return \"efficient\"\n",
    "    elif x in unefficient:\n",
    "        return \"unefficient\"    \n",
    "    else:\n",
    "        return x\n",
    "\n",
    "df[\"energy_efficiency_class\"] = df[\"energy_efficiency_class\"].apply(energyefficiency)"
   ]
  },
  {
   "cell_type": "code",
   "execution_count": 214,
   "metadata": {},
   "outputs": [
    {
     "data": {
      "text/plain": [
       "NaN            20826\n",
       "efficient       5308\n",
       "unefficient     2496\n",
       "Name: energy_efficiency_class, dtype: int64"
      ]
     },
     "execution_count": 214,
     "metadata": {},
     "output_type": "execute_result"
    }
   ],
   "source": [
    "df[\"energy_efficiency_class\"].value_counts(dropna=False)"
   ]
  },
  {
   "cell_type": "markdown",
   "metadata": {},
   "source": [
    "## co_efficiency"
   ]
  },
  {
   "cell_type": "code",
   "execution_count": 215,
   "metadata": {},
   "outputs": [
    {
     "name": "stdout",
     "output_type": "stream",
     "text": [
      "column name    :  co_efficiency\n",
      "--------------------------------\n",
      "per_of_nulls   :  % 72.74\n",
      "num_of_nulls   :  20826\n",
      "num_of_uniques :  2\n",
      "--------------------------------\n",
      "NaN                                                                                           20826\n",
      "Calculated on basis of measured CO₂-emissions taking into account the mass of the vehicle.     7804\n",
      "Name: co_efficiency, dtype: int64\n"
     ]
    }
   ],
   "source": [
    "first_looking(\"co_efficiency\")"
   ]
  },
  {
   "cell_type": "code",
   "execution_count": 216,
   "metadata": {},
   "outputs": [
    {
     "data": {
      "text/plain": [
       "(28630, 34)"
      ]
     },
     "execution_count": 216,
     "metadata": {},
     "output_type": "execute_result"
    }
   ],
   "source": [
    "df.shape"
   ]
  },
  {
   "cell_type": "code",
   "execution_count": 217,
   "metadata": {},
   "outputs": [],
   "source": [
    "df.drop(\"co_efficiency\", axis=1, inplace=True)"
   ]
  },
  {
   "cell_type": "code",
   "execution_count": 218,
   "metadata": {},
   "outputs": [
    {
     "data": {
      "text/plain": [
       "(28630, 33)"
      ]
     },
     "execution_count": 218,
     "metadata": {},
     "output_type": "execute_result"
    }
   ],
   "source": [
    "df.shape"
   ]
  },
  {
   "cell_type": "markdown",
   "metadata": {},
   "source": [
    "## comfort_&_convenience\n",
    "\n",
    "### 📝 Some Remarks on car exterior/interior features:\n",
    "\n",
    "The external modifications made to your car will affect the valuation of your vehicle. Examples of such modifications include new paint, body kit upgrade, tail wings, etc. Similarly, any dent, rust or scratches on the body of the car will lower the car’s market price. Similarly, interior condition and features of your car can lead to an increase or decrease in your car’s value. Things like a dirty dashboard, scratched seats, blown out speakers, etc. will decrease the price your car can fetch. On the other hand, installing unique features like GPS, parking camera, upgraded sound system, etc. will give a boost to your car’s value."
   ]
  },
  {
   "cell_type": "code",
   "execution_count": 219,
   "metadata": {},
   "outputs": [
    {
     "name": "stdout",
     "output_type": "stream",
     "text": [
      "column name    :  comfort_&_convenience\n",
      "--------------------------------\n",
      "per_of_nulls   :  % 11.17\n",
      "num_of_nulls   :  3197\n",
      "num_of_uniques :  14439\n",
      "--------------------------------\n",
      "NaN                                                                                                                                                                                                                                                                                                                                                                                                              3197\n",
      "[Air conditioning, Automatic climate control, Electrical side mirrors, Multi-function steering wheel, Power windows]                                                                                                                                                                                                                                                                                              244\n",
      "[Air conditioning, Automatic climate control, Cruise control]                                                                                                                                                                                                                                                                                                                                                     171\n",
      "[Air conditioning, Automatic climate control, Cruise control, Electrical side mirrors, Multi-function steering wheel, Power windows]                                                                                                                                                                                                                                                                              168\n",
      "[Air conditioning]                                                                                                                                                                                                                                                                                                                                                                                                157\n",
      "                                                                                                                                                                                                                                                                                                                                                                                                                 ... \n",
      "[Armrest, Automatic climate control, 2 zones, Cruise control, Fold flat passenger seat, Hill Holder, Leather steering wheel, Light sensor, Lumbar support, Multi-function steering wheel, Navigation system, Parking assist system sensors rear, Power windows, Rain sensor, Seat heating, Split rear seats, Start-stop system]                                                                                     1\n",
      "[Air conditioning, Armrest, Automatic climate control, Cruise control, Electric tailgate, Electrical side mirrors, Hill Holder, Keyless central door lock, Leather steering wheel, Light sensor, Multi-function steering wheel, Navigation system, Parking assist system sensors front, Parking assist system sensors rear, Power windows, Rain sensor, Seat heating]                                               1\n",
      "[Armrest, Automatic climate control, 2 zones, Cruise control, Electrical side mirrors, Fold flat passenger seat, Hill Holder, Leather steering wheel, Light sensor, Lumbar support, Multi-function steering wheel, Navigation system, Parking assist system sensors front, Parking assist system sensors rear, Power windows, Rain sensor, Seat heating, Split rear seats, Start-stop system, Tinted windows]       1\n",
      "[Armrest, Automatic climate control, 2 zones, Cruise control, Electrical side mirrors, Hill Holder, Keyless central door lock, Leather steering wheel, Light sensor, Multi-function steering wheel, Parking assist system camera, Parking assist system sensors front, Parking assist system sensors rear, Power windows, Rain sensor, Seat heating, Split rear seats, Start-stop system, Tinted windows]           1\n",
      "[Air conditioning, Armrest, Cruise control, Electrical side mirrors, Leather steering wheel, Lumbar support, Multi-function steering wheel, Navigation system, Power windows, Seat heating, Tinted windows]                                                                                                                                                                                                         1\n",
      "Name: comfort_&_convenience, Length: 14439, dtype: int64\n"
     ]
    }
   ],
   "source": [
    "first_looking(\"comfort_&_convenience\")"
   ]
  },
  {
   "cell_type": "code",
   "execution_count": 220,
   "metadata": {},
   "outputs": [],
   "source": [
    "# [item[0] if type(item) == list else item for item in df[\"comfort_&_convenience\"]]\n",
    "\n",
    "df[\"comfort_&_convenience\"] = [\", \".join(item) if type(item) == list else item for item in df[\"comfort_&_convenience\"]]"
   ]
  },
  {
   "cell_type": "code",
   "execution_count": 221,
   "metadata": {},
   "outputs": [
    {
     "data": {
      "text/plain": [
       "NaN                                                                                                                                   3197\n",
       "Air conditioning, Automatic climate control, Electrical side mirrors, Multi-function steering wheel, Power windows                     244\n",
       "Air conditioning, Automatic climate control, Cruise control                                                                            171\n",
       "Air conditioning, Automatic climate control, Cruise control, Electrical side mirrors, Multi-function steering wheel, Power windows     168\n",
       "Air conditioning                                                                                                                       157\n",
       "Name: comfort_&_convenience, dtype: int64"
      ]
     },
     "execution_count": 221,
     "metadata": {},
     "output_type": "execute_result"
    }
   ],
   "source": [
    "df[\"comfort_&_convenience\"].value_counts(dropna=False).head()"
   ]
  },
  {
   "cell_type": "markdown",
   "metadata": {},
   "source": [
    "## entertainment_&_media"
   ]
  },
  {
   "cell_type": "code",
   "execution_count": 222,
   "metadata": {},
   "outputs": [
    {
     "name": "stdout",
     "output_type": "stream",
     "text": [
      "column name    :  entertainment_&_media\n",
      "--------------------------------\n",
      "per_of_nulls   :  % 17.42\n",
      "num_of_nulls   :  4986\n",
      "num_of_uniques :  1945\n",
      "--------------------------------\n",
      "NaN                                                                                                                                                                          4986\n",
      "[Bluetooth, USB]                                                                                                                                                              753\n",
      "[Bluetooth]                                                                                                                                                                   665\n",
      "[On-board computer]                                                                                                                                                           662\n",
      "[CD player, On-board computer, Radio]                                                                                                                                         644\n",
      "                                                                                                                                                                             ... \n",
      "[Android Auto, Apple CarPlay, Bluetooth, Digital cockpit, Digital radio, Induction charging for smartphones, On-board computer, Radio, Sound system, WLAN / WiFi hotspot]       1\n",
      "[Bluetooth, CD player, Digital cockpit, Digital radio, Hands-free equipment, Integrated music streaming, On-board computer, Sound system, USB, WLAN / WiFi hotspot]             1\n",
      "[Digital cockpit, Digital radio, On-board computer, Radio]                                                                                                                      1\n",
      "[Android Auto, Apple CarPlay, Digital radio, On-board computer, Radio, Sound system, USB, WLAN / WiFi hotspot]                                                                  1\n",
      "[Hands-free equipment, Integrated music streaming, On-board computer, Radio, USB]                                                                                               1\n",
      "Name: entertainment_&_media, Length: 1945, dtype: int64\n"
     ]
    }
   ],
   "source": [
    "first_looking(\"entertainment_&_media\")"
   ]
  },
  {
   "cell_type": "code",
   "execution_count": 223,
   "metadata": {},
   "outputs": [],
   "source": [
    "# [item[0] if type(item) == list else item for item in df[\"entertainment_&_media\"]]\n",
    "\n",
    "df[\"entertainment_&_media\"] = [\", \".join(item) if type(item) == list else item for item in df[\"entertainment_&_media\"]]"
   ]
  },
  {
   "cell_type": "code",
   "execution_count": 224,
   "metadata": {},
   "outputs": [
    {
     "data": {
      "text/plain": [
       "NaN                                                                                                                4986\n",
       "Bluetooth, USB                                                                                                      753\n",
       "Bluetooth                                                                                                           665\n",
       "On-board computer                                                                                                   662\n",
       "CD player, On-board computer, Radio                                                                                 644\n",
       "Radio                                                                                                               425\n",
       "Android Auto, Apple CarPlay, Bluetooth, Digital radio, Hands-free equipment, On-board computer, Radio, USB          414\n",
       "Bluetooth, CD player, Hands-free equipment, MP3, On-board computer, Radio, USB                                      408\n",
       "CD player, Radio                                                                                                    367\n",
       "Android Auto, Apple CarPlay, Bluetooth, Digital radio, Hands-free equipment, MP3, On-board computer, Radio, USB     356\n",
       "Name: entertainment_&_media, dtype: int64"
      ]
     },
     "execution_count": 224,
     "metadata": {},
     "output_type": "execute_result"
    }
   ],
   "source": [
    "df[\"entertainment_&_media\"].value_counts(dropna=False).head(10)"
   ]
  },
  {
   "cell_type": "markdown",
   "metadata": {},
   "source": [
    "## extras\n",
    "\n",
    "### 📝 Some Remarks on car extra features:\n",
    "\n",
    "Automotive technology is improving rapidly. Cars with backup cameras, hands-free parking assist, highway autopilot modes, in-cabin entertainment, and computer navigation systems tend to be more expensive than their old-fashioned peers, usually thousands or even tens of thousands of dollars more expensive. But they’re also in high demand and therefore hold value better."
   ]
  },
  {
   "cell_type": "code",
   "execution_count": 225,
   "metadata": {},
   "outputs": [
    {
     "name": "stdout",
     "output_type": "stream",
     "text": [
      "column name    :  extras\n",
      "--------------------------------\n",
      "per_of_nulls   :  % 17.99\n",
      "num_of_nulls   :  5150\n",
      "num_of_uniques :  9361\n",
      "--------------------------------\n",
      "NaN                                                                                                                                                                                                                                                                   5150\n",
      "[Alloy wheels]                                                                                                                                                                                                                                                        3408\n",
      "[Alloy wheels, Roof rack]                                                                                                                                                                                                                                              380\n",
      "[Alloy wheels, Sport seats]                                                                                                                                                                                                                                            372\n",
      "[Alloy wheels, Touch screen]                                                                                                                                                                                                                                           231\n",
      "                                                                                                                                                                                                                                                                      ... \n",
      "[Alloy wheels (18\"), Spoiler, Summer tyres, Trailer hitch]                                                                                                                                                                                                               1\n",
      "[All season tyres, Alloy wheels, Automatically dimming interior mirror, Catalytic Converter, Headlight washer system, Ski bag, Sport seats, Trailer hitch, Winter tyres]                                                                                                 1\n",
      "[Alloy wheels, Automatically dimming interior mirror, Headlight washer system, Sport package, Sport seats, Summer tyres]                                                                                                                                                 1\n",
      "[Alloy wheels (19\"), Ambient lighting, Automatically dimming interior mirror, Catalytic Converter, E10-enabled, Emergency tyre repair kit, Headlight washer system, Spoiler, Sport package, Sport seats, Sport suspension, Summer tyres, Tuned car, Voice Control]       1\n",
      "[Alloy wheels, Automatically dimming interior mirror, Ski bag, Trailer hitch]                                                                                                                                                                                            1\n",
      "Name: extras, Length: 9361, dtype: int64\n"
     ]
    }
   ],
   "source": [
    "first_looking(\"extras\")"
   ]
  },
  {
   "cell_type": "code",
   "execution_count": 226,
   "metadata": {},
   "outputs": [],
   "source": [
    "df[\"extras\"] = [\", \".join(item) if type(item) == list else item for item in df[\"extras\"]]"
   ]
  },
  {
   "cell_type": "code",
   "execution_count": 227,
   "metadata": {},
   "outputs": [
    {
     "data": {
      "text/plain": [
       "NaN                                                               5150\n",
       "Alloy wheels                                                      3408\n",
       "Alloy wheels, Roof rack                                            380\n",
       "Alloy wheels, Sport seats                                          372\n",
       "Alloy wheels, Touch screen                                         231\n",
       "Alloy wheels, Catalytic Converter, Touch screen                    178\n",
       "Roof rack                                                          160\n",
       "Alloy wheels, Sport seats, Sport suspension                        157\n",
       "Alloy wheels, Catalytic Converter, Touch screen, Voice Control     153\n",
       "Alloy wheels, Touch screen, Voice Control                          142\n",
       "Name: extras, dtype: int64"
      ]
     },
     "execution_count": 227,
     "metadata": {},
     "output_type": "execute_result"
    }
   ],
   "source": [
    "df[\"extras\"].value_counts(dropna=False).head(10)"
   ]
  },
  {
   "cell_type": "markdown",
   "metadata": {},
   "source": [
    "## safety_&_security"
   ]
  },
  {
   "cell_type": "code",
   "execution_count": 228,
   "metadata": {},
   "outputs": [
    {
     "name": "stdout",
     "output_type": "stream",
     "text": [
      "column name    :  safety_&_security\n",
      "--------------------------------\n",
      "per_of_nulls   :  % 11.23\n",
      "num_of_nulls   :  3215\n",
      "num_of_uniques :  12550\n",
      "--------------------------------\n",
      "NaN                                                                                                                                                                                                                                                                                                                                                                                                                                                                                                                            3215\n",
      "[Isofix]                                                                                                                                                                                                                                                                                                                                                                                                                                                                                                                        380\n",
      "[ABS, Central door lock, Driver-side airbag, Electronic stability control, Immobilizer, Isofix, Passenger-side airbag, Power steering, Side airbag]                                                                                                                                                                                                                                                                                                                                                                             328\n",
      "[ABS, Central door lock, Driver-side airbag, Immobilizer, Isofix, Passenger-side airbag, Power steering, Side airbag, Traction control]                                                                                                                                                                                                                                                                                                                                                                                         125\n",
      "[ABS, Central door lock, Driver-side airbag, Electronic stability control, Fog lights, Isofix, Power steering, Side airbag]                                                                                                                                                                                                                                                                                                                                                                                                     121\n",
      "                                                                                                                                                                                                                                                                                                                                                                                                                                                                                                                               ... \n",
      "[Daytime running lights, Emergency brake assistant, Fog lights, Isofix, LED Daytime Running Lights, Lane departure warning system, Power steering, Tire pressure monitoring system]                                                                                                                                                                                                                                                                                                                                               1\n",
      "[ABS, Adaptive Cruise Control, Central door lock, Daytime running lights, Driver drowsiness detection, Driver-side airbag, Electronic stability control, Emergency brake assistant, Emergency system, Fog lights, Full-LED headlights, Glare-free high beam headlights, Immobilizer, Isofix, LED Headlights, Lane departure warning system, Passenger-side airbag, Power steering, Side airbag, Tire pressure monitoring system, Traction control]                                                                                1\n",
      "[ABS, Driver-side airbag, Electronic stability control, Emergency brake assistant, Immobilizer, LED Daytime Running Lights, Passenger-side airbag, Side airbag, Tire pressure monitoring system, Traction control]                                                                                                                                                                                                                                                                                                                1\n",
      "[ABS, Blind spot monitor, Central door lock, Daytime running lights, Distance warning system, Driver drowsiness detection, Driver-side airbag, Electronic stability control, Emergency system, Fog lights, Full-LED headlights, Head airbag, High beam assist, Immobilizer, Isofix, LED Daytime Running Lights, LED Headlights, Lane departure warning system, Passenger-side airbag, Power steering, Side airbag, Speed limit control system, Tire pressure monitoring system, Traction control, Traffic sign recognition]       1\n",
      "[ABS, Alarm system, Central door lock, Central door lock with remote control, Driver-side airbag, Electronic stability control, Fog lights, Head airbag, Immobilizer, Power steering, Side airbag, Traction control]                                                                                                                                                                                                                                                                                                              1\n",
      "Name: safety_&_security, Length: 12550, dtype: int64\n"
     ]
    }
   ],
   "source": [
    "first_looking(\"safety_&_security\")"
   ]
  },
  {
   "cell_type": "code",
   "execution_count": 229,
   "metadata": {},
   "outputs": [],
   "source": [
    "df[\"safety_&_security\"] = [\", \".join(item) if type(item) == list else item for item in df[\"safety_&_security\"]]"
   ]
  },
  {
   "cell_type": "code",
   "execution_count": 230,
   "metadata": {},
   "outputs": [
    {
     "data": {
      "text/plain": [
       "NaN                                                                                                                                                  3215\n",
       "Isofix                                                                                                                                                380\n",
       "ABS, Central door lock, Driver-side airbag, Electronic stability control, Immobilizer, Isofix, Passenger-side airbag, Power steering, Side airbag     328\n",
       "ABS, Central door lock, Driver-side airbag, Immobilizer, Isofix, Passenger-side airbag, Power steering, Side airbag, Traction control                 125\n",
       "ABS, Central door lock, Driver-side airbag, Electronic stability control, Fog lights, Isofix, Power steering, Side airbag                             121\n",
       "Name: safety_&_security, dtype: int64"
      ]
     },
     "execution_count": 230,
     "metadata": {},
     "output_type": "execute_result"
    }
   ],
   "source": [
    "df[\"safety_&_security\"].value_counts(dropna=False).head()"
   ]
  },
  {
   "cell_type": "markdown",
   "metadata": {},
   "source": [
    "**Now we can save our cleaned file as in csv format.**"
   ]
  },
  {
   "cell_type": "code",
   "execution_count": 231,
   "metadata": {},
   "outputs": [
    {
     "data": {
      "text/plain": [
       "(28630, 33)"
      ]
     },
     "metadata": {},
     "output_type": "display_data"
    },
    {
     "name": "stdout",
     "output_type": "stream",
     "text": [
      "0 29478\n"
     ]
    },
    {
     "data": {
      "text/plain": [
       "(28630, 33)"
      ]
     },
     "metadata": {},
     "output_type": "display_data"
    },
    {
     "name": "stdout",
     "output_type": "stream",
     "text": [
      "0 28629\n"
     ]
    }
   ],
   "source": [
    "display(df.shape)\n",
    "print(df.index[0], df.index[-1])\n",
    "\n",
    "df = df.reset_index(drop=True)\n",
    "\n",
    "display(df.shape)\n",
    "print(df.index[0], df.index[-1])"
   ]
  },
  {
   "cell_type": "markdown",
   "metadata": {},
   "source": [
    "**We started with 58 columns at the beginning of the analysis, now we have 33 columns.**"
   ]
  },
  {
   "cell_type": "code",
   "execution_count": 232,
   "metadata": {
    "scrolled": false
   },
   "outputs": [
    {
     "data": {
      "text/html": [
       "<div>\n",
       "<style scoped>\n",
       "    .dataframe tbody tr th:only-of-type {\n",
       "        vertical-align: middle;\n",
       "    }\n",
       "\n",
       "    .dataframe tbody tr th {\n",
       "        vertical-align: top;\n",
       "    }\n",
       "\n",
       "    .dataframe thead th {\n",
       "        text-align: right;\n",
       "    }\n",
       "</style>\n",
       "<table border=\"1\" class=\"dataframe\">\n",
       "  <thead>\n",
       "    <tr style=\"text-align: right;\">\n",
       "      <th></th>\n",
       "      <th>0</th>\n",
       "      <th>1</th>\n",
       "      <th>2</th>\n",
       "      <th>3</th>\n",
       "      <th>4</th>\n",
       "    </tr>\n",
       "  </thead>\n",
       "  <tbody>\n",
       "    <tr>\n",
       "      <th>make_model</th>\n",
       "      <td>Mercedes-Benz A 160</td>\n",
       "      <td>Mercedes-Benz EQE 350</td>\n",
       "      <td>Mercedes-Benz A 45 AMG</td>\n",
       "      <td>Mercedes-Benz A 35 AMG</td>\n",
       "      <td>Mercedes-Benz A 45 AMG</td>\n",
       "    </tr>\n",
       "    <tr>\n",
       "      <th>make</th>\n",
       "      <td>Mercedes-Benz</td>\n",
       "      <td>Mercedes-Benz</td>\n",
       "      <td>Mercedes-Benz</td>\n",
       "      <td>Mercedes-Benz</td>\n",
       "      <td>Mercedes-Benz</td>\n",
       "    </tr>\n",
       "    <tr>\n",
       "      <th>location</th>\n",
       "      <td>P.I. EL PALMAR C/FORJA 6,  11500 PUERTO DE SAN...</td>\n",
       "      <td>APARTADO DE CORREOS 1032,  26140 LOGROÑO, ES</td>\n",
       "      <td>PORT. TARRACO, MOLL DE LLEVANT, Nº 5, LOC. 6-8...</td>\n",
       "      <td>Carrer de Provença, 31 Local,  8029 BARCELONA, ES</td>\n",
       "      <td>CARRIL ARAGONES 4,  30007 CASILLAS, ES</td>\n",
       "    </tr>\n",
       "    <tr>\n",
       "      <th>price</th>\n",
       "      <td>16950.00</td>\n",
       "      <td>80900.00</td>\n",
       "      <td>69900.00</td>\n",
       "      <td>46990.00</td>\n",
       "      <td>16800.00</td>\n",
       "    </tr>\n",
       "    <tr>\n",
       "      <th>body_type</th>\n",
       "      <td>Compact</td>\n",
       "      <td>Compact</td>\n",
       "      <td>Compact</td>\n",
       "      <td>Compact</td>\n",
       "      <td>Compact</td>\n",
       "    </tr>\n",
       "    <tr>\n",
       "      <th>type</th>\n",
       "      <td>Used</td>\n",
       "      <td>Pre-registered</td>\n",
       "      <td>Used</td>\n",
       "      <td>Used</td>\n",
       "      <td>Used</td>\n",
       "    </tr>\n",
       "    <tr>\n",
       "      <th>doors</th>\n",
       "      <td>5.00</td>\n",
       "      <td>4.00</td>\n",
       "      <td>5.00</td>\n",
       "      <td>5.00</td>\n",
       "      <td>5.00</td>\n",
       "    </tr>\n",
       "    <tr>\n",
       "      <th>warranty</th>\n",
       "      <td>24.00</td>\n",
       "      <td>24.00</td>\n",
       "      <td>12.00</td>\n",
       "      <td>12.00</td>\n",
       "      <td>12.00</td>\n",
       "    </tr>\n",
       "    <tr>\n",
       "      <th>mileage</th>\n",
       "      <td>120200.00</td>\n",
       "      <td>5000.00</td>\n",
       "      <td>18900.00</td>\n",
       "      <td>18995.00</td>\n",
       "      <td>197000.00</td>\n",
       "    </tr>\n",
       "    <tr>\n",
       "      <th>gearbox</th>\n",
       "      <td>Manual</td>\n",
       "      <td>Automatic</td>\n",
       "      <td>Automatic</td>\n",
       "      <td>Automatic</td>\n",
       "      <td>Automatic</td>\n",
       "    </tr>\n",
       "    <tr>\n",
       "      <th>fuel_type</th>\n",
       "      <td>Diesel</td>\n",
       "      <td>Electric</td>\n",
       "      <td>Benzine</td>\n",
       "      <td>Benzine</td>\n",
       "      <td>Diesel</td>\n",
       "    </tr>\n",
       "    <tr>\n",
       "      <th>seller</th>\n",
       "      <td>Dealer</td>\n",
       "      <td>Dealer</td>\n",
       "      <td>Dealer</td>\n",
       "      <td>Dealer</td>\n",
       "      <td>Dealer</td>\n",
       "    </tr>\n",
       "    <tr>\n",
       "      <th>seats</th>\n",
       "      <td>NaN</td>\n",
       "      <td>5.00</td>\n",
       "      <td>5.00</td>\n",
       "      <td>5.00</td>\n",
       "      <td>5.00</td>\n",
       "    </tr>\n",
       "    <tr>\n",
       "      <th>engine_size</th>\n",
       "      <td>NaN</td>\n",
       "      <td>1.00</td>\n",
       "      <td>1991.00</td>\n",
       "      <td>1991.00</td>\n",
       "      <td>2143.00</td>\n",
       "    </tr>\n",
       "    <tr>\n",
       "      <th>gears</th>\n",
       "      <td>NaN</td>\n",
       "      <td>9.00</td>\n",
       "      <td>8.00</td>\n",
       "      <td>7.00</td>\n",
       "      <td>7.00</td>\n",
       "    </tr>\n",
       "    <tr>\n",
       "      <th>co_emissions</th>\n",
       "      <td>NaN</td>\n",
       "      <td>0.00</td>\n",
       "      <td>NaN</td>\n",
       "      <td>NaN</td>\n",
       "      <td>NaN</td>\n",
       "    </tr>\n",
       "    <tr>\n",
       "      <th>drivetrain</th>\n",
       "      <td>NaN</td>\n",
       "      <td>NaN</td>\n",
       "      <td>4WD</td>\n",
       "      <td>4WD</td>\n",
       "      <td>4WD</td>\n",
       "    </tr>\n",
       "    <tr>\n",
       "      <th>cylinders</th>\n",
       "      <td>NaN</td>\n",
       "      <td>NaN</td>\n",
       "      <td>4.00</td>\n",
       "      <td>4.00</td>\n",
       "      <td>4.00</td>\n",
       "    </tr>\n",
       "    <tr>\n",
       "      <th>comfort_&amp;_convenience</th>\n",
       "      <td>NaN</td>\n",
       "      <td>NaN</td>\n",
       "      <td>NaN</td>\n",
       "      <td>Air conditioning, Automatic climate control, P...</td>\n",
       "      <td>Air conditioning, Electrical side mirrors, Mul...</td>\n",
       "    </tr>\n",
       "    <tr>\n",
       "      <th>entertainment_&amp;_media</th>\n",
       "      <td>NaN</td>\n",
       "      <td>NaN</td>\n",
       "      <td>NaN</td>\n",
       "      <td>USB</td>\n",
       "      <td>Bluetooth, CD player, MP3, USB</td>\n",
       "    </tr>\n",
       "    <tr>\n",
       "      <th>safety_&amp;_security</th>\n",
       "      <td>NaN</td>\n",
       "      <td>NaN</td>\n",
       "      <td>NaN</td>\n",
       "      <td>ABS, Central door lock, Driver-side airbag, El...</td>\n",
       "      <td>ABS, Central door lock, Driver-side airbag, El...</td>\n",
       "    </tr>\n",
       "    <tr>\n",
       "      <th>extras</th>\n",
       "      <td>NaN</td>\n",
       "      <td>NaN</td>\n",
       "      <td>NaN</td>\n",
       "      <td>Sport seats</td>\n",
       "      <td>NaN</td>\n",
       "    </tr>\n",
       "    <tr>\n",
       "      <th>empty_weight</th>\n",
       "      <td>NaN</td>\n",
       "      <td>NaN</td>\n",
       "      <td>NaN</td>\n",
       "      <td>NaN</td>\n",
       "      <td>1545.00</td>\n",
       "    </tr>\n",
       "    <tr>\n",
       "      <th>full_service_history</th>\n",
       "      <td>No</td>\n",
       "      <td>No</td>\n",
       "      <td>No</td>\n",
       "      <td>No</td>\n",
       "      <td>No</td>\n",
       "    </tr>\n",
       "    <tr>\n",
       "      <th>upholstery</th>\n",
       "      <td>NaN</td>\n",
       "      <td>NaN</td>\n",
       "      <td>NaN</td>\n",
       "      <td>NaN</td>\n",
       "      <td>NaN</td>\n",
       "    </tr>\n",
       "    <tr>\n",
       "      <th>previous_owner</th>\n",
       "      <td>NaN</td>\n",
       "      <td>NaN</td>\n",
       "      <td>NaN</td>\n",
       "      <td>NaN</td>\n",
       "      <td>NaN</td>\n",
       "    </tr>\n",
       "    <tr>\n",
       "      <th>energy_efficiency_class</th>\n",
       "      <td>NaN</td>\n",
       "      <td>NaN</td>\n",
       "      <td>NaN</td>\n",
       "      <td>NaN</td>\n",
       "      <td>NaN</td>\n",
       "    </tr>\n",
       "    <tr>\n",
       "      <th>age</th>\n",
       "      <td>6.00</td>\n",
       "      <td>0.00</td>\n",
       "      <td>2.00</td>\n",
       "      <td>2.00</td>\n",
       "      <td>7.00</td>\n",
       "    </tr>\n",
       "    <tr>\n",
       "      <th>power_kW</th>\n",
       "      <td>NaN</td>\n",
       "      <td>215.00</td>\n",
       "      <td>310.00</td>\n",
       "      <td>225.00</td>\n",
       "      <td>100.00</td>\n",
       "    </tr>\n",
       "    <tr>\n",
       "      <th>power_hp</th>\n",
       "      <td>NaN</td>\n",
       "      <td>292.00</td>\n",
       "      <td>421.00</td>\n",
       "      <td>306.00</td>\n",
       "      <td>136.00</td>\n",
       "    </tr>\n",
       "    <tr>\n",
       "      <th>cons_avg</th>\n",
       "      <td>NaN</td>\n",
       "      <td>NaN</td>\n",
       "      <td>8.40</td>\n",
       "      <td>7.30</td>\n",
       "      <td>4.90</td>\n",
       "    </tr>\n",
       "    <tr>\n",
       "      <th>cons_city</th>\n",
       "      <td>NaN</td>\n",
       "      <td>NaN</td>\n",
       "      <td>10.90</td>\n",
       "      <td>9.30</td>\n",
       "      <td>5.70</td>\n",
       "    </tr>\n",
       "    <tr>\n",
       "      <th>cons_country</th>\n",
       "      <td>NaN</td>\n",
       "      <td>NaN</td>\n",
       "      <td>5.80</td>\n",
       "      <td>6.10</td>\n",
       "      <td>4.40</td>\n",
       "    </tr>\n",
       "  </tbody>\n",
       "</table>\n",
       "</div>"
      ],
      "text/plain": [
       "                                                                         0  \\\n",
       "make_model                                             Mercedes-Benz A 160   \n",
       "make                                                         Mercedes-Benz   \n",
       "location                 P.I. EL PALMAR C/FORJA 6,  11500 PUERTO DE SAN...   \n",
       "price                                                             16950.00   \n",
       "body_type                                                          Compact   \n",
       "type                                                                  Used   \n",
       "doors                                                                 5.00   \n",
       "warranty                                                             24.00   \n",
       "mileage                                                          120200.00   \n",
       "gearbox                                                             Manual   \n",
       "fuel_type                                                           Diesel   \n",
       "seller                                                              Dealer   \n",
       "seats                                                                  NaN   \n",
       "engine_size                                                            NaN   \n",
       "gears                                                                  NaN   \n",
       "co_emissions                                                           NaN   \n",
       "drivetrain                                                             NaN   \n",
       "cylinders                                                              NaN   \n",
       "comfort_&_convenience                                                  NaN   \n",
       "entertainment_&_media                                                  NaN   \n",
       "safety_&_security                                                      NaN   \n",
       "extras                                                                 NaN   \n",
       "empty_weight                                                           NaN   \n",
       "full_service_history                                                    No   \n",
       "upholstery                                                             NaN   \n",
       "previous_owner                                                         NaN   \n",
       "energy_efficiency_class                                                NaN   \n",
       "age                                                                   6.00   \n",
       "power_kW                                                               NaN   \n",
       "power_hp                                                               NaN   \n",
       "cons_avg                                                               NaN   \n",
       "cons_city                                                              NaN   \n",
       "cons_country                                                           NaN   \n",
       "\n",
       "                                                                    1  \\\n",
       "make_model                                      Mercedes-Benz EQE 350   \n",
       "make                                                    Mercedes-Benz   \n",
       "location                 APARTADO DE CORREOS 1032,  26140 LOGROÑO, ES   \n",
       "price                                                        80900.00   \n",
       "body_type                                                     Compact   \n",
       "type                                                   Pre-registered   \n",
       "doors                                                            4.00   \n",
       "warranty                                                        24.00   \n",
       "mileage                                                       5000.00   \n",
       "gearbox                                                     Automatic   \n",
       "fuel_type                                                    Electric   \n",
       "seller                                                         Dealer   \n",
       "seats                                                            5.00   \n",
       "engine_size                                                      1.00   \n",
       "gears                                                            9.00   \n",
       "co_emissions                                                     0.00   \n",
       "drivetrain                                                        NaN   \n",
       "cylinders                                                         NaN   \n",
       "comfort_&_convenience                                             NaN   \n",
       "entertainment_&_media                                             NaN   \n",
       "safety_&_security                                                 NaN   \n",
       "extras                                                            NaN   \n",
       "empty_weight                                                      NaN   \n",
       "full_service_history                                               No   \n",
       "upholstery                                                        NaN   \n",
       "previous_owner                                                    NaN   \n",
       "energy_efficiency_class                                           NaN   \n",
       "age                                                              0.00   \n",
       "power_kW                                                       215.00   \n",
       "power_hp                                                       292.00   \n",
       "cons_avg                                                          NaN   \n",
       "cons_city                                                         NaN   \n",
       "cons_country                                                      NaN   \n",
       "\n",
       "                                                                         2  \\\n",
       "make_model                                          Mercedes-Benz A 45 AMG   \n",
       "make                                                         Mercedes-Benz   \n",
       "location                 PORT. TARRACO, MOLL DE LLEVANT, Nº 5, LOC. 6-8...   \n",
       "price                                                             69900.00   \n",
       "body_type                                                          Compact   \n",
       "type                                                                  Used   \n",
       "doors                                                                 5.00   \n",
       "warranty                                                             12.00   \n",
       "mileage                                                           18900.00   \n",
       "gearbox                                                          Automatic   \n",
       "fuel_type                                                          Benzine   \n",
       "seller                                                              Dealer   \n",
       "seats                                                                 5.00   \n",
       "engine_size                                                        1991.00   \n",
       "gears                                                                 8.00   \n",
       "co_emissions                                                           NaN   \n",
       "drivetrain                                                             4WD   \n",
       "cylinders                                                             4.00   \n",
       "comfort_&_convenience                                                  NaN   \n",
       "entertainment_&_media                                                  NaN   \n",
       "safety_&_security                                                      NaN   \n",
       "extras                                                                 NaN   \n",
       "empty_weight                                                           NaN   \n",
       "full_service_history                                                    No   \n",
       "upholstery                                                             NaN   \n",
       "previous_owner                                                         NaN   \n",
       "energy_efficiency_class                                                NaN   \n",
       "age                                                                   2.00   \n",
       "power_kW                                                            310.00   \n",
       "power_hp                                                            421.00   \n",
       "cons_avg                                                              8.40   \n",
       "cons_city                                                            10.90   \n",
       "cons_country                                                          5.80   \n",
       "\n",
       "                                                                         3  \\\n",
       "make_model                                          Mercedes-Benz A 35 AMG   \n",
       "make                                                         Mercedes-Benz   \n",
       "location                 Carrer de Provença, 31 Local,  8029 BARCELONA, ES   \n",
       "price                                                             46990.00   \n",
       "body_type                                                          Compact   \n",
       "type                                                                  Used   \n",
       "doors                                                                 5.00   \n",
       "warranty                                                             12.00   \n",
       "mileage                                                           18995.00   \n",
       "gearbox                                                          Automatic   \n",
       "fuel_type                                                          Benzine   \n",
       "seller                                                              Dealer   \n",
       "seats                                                                 5.00   \n",
       "engine_size                                                        1991.00   \n",
       "gears                                                                 7.00   \n",
       "co_emissions                                                           NaN   \n",
       "drivetrain                                                             4WD   \n",
       "cylinders                                                             4.00   \n",
       "comfort_&_convenience    Air conditioning, Automatic climate control, P...   \n",
       "entertainment_&_media                                                  USB   \n",
       "safety_&_security        ABS, Central door lock, Driver-side airbag, El...   \n",
       "extras                                                         Sport seats   \n",
       "empty_weight                                                           NaN   \n",
       "full_service_history                                                    No   \n",
       "upholstery                                                             NaN   \n",
       "previous_owner                                                         NaN   \n",
       "energy_efficiency_class                                                NaN   \n",
       "age                                                                   2.00   \n",
       "power_kW                                                            225.00   \n",
       "power_hp                                                            306.00   \n",
       "cons_avg                                                              7.30   \n",
       "cons_city                                                             9.30   \n",
       "cons_country                                                          6.10   \n",
       "\n",
       "                                                                         4  \n",
       "make_model                                          Mercedes-Benz A 45 AMG  \n",
       "make                                                         Mercedes-Benz  \n",
       "location                            CARRIL ARAGONES 4,  30007 CASILLAS, ES  \n",
       "price                                                             16800.00  \n",
       "body_type                                                          Compact  \n",
       "type                                                                  Used  \n",
       "doors                                                                 5.00  \n",
       "warranty                                                             12.00  \n",
       "mileage                                                          197000.00  \n",
       "gearbox                                                          Automatic  \n",
       "fuel_type                                                           Diesel  \n",
       "seller                                                              Dealer  \n",
       "seats                                                                 5.00  \n",
       "engine_size                                                        2143.00  \n",
       "gears                                                                 7.00  \n",
       "co_emissions                                                           NaN  \n",
       "drivetrain                                                             4WD  \n",
       "cylinders                                                             4.00  \n",
       "comfort_&_convenience    Air conditioning, Electrical side mirrors, Mul...  \n",
       "entertainment_&_media                       Bluetooth, CD player, MP3, USB  \n",
       "safety_&_security        ABS, Central door lock, Driver-side airbag, El...  \n",
       "extras                                                                 NaN  \n",
       "empty_weight                                                       1545.00  \n",
       "full_service_history                                                    No  \n",
       "upholstery                                                             NaN  \n",
       "previous_owner                                                         NaN  \n",
       "energy_efficiency_class                                                NaN  \n",
       "age                                                                   7.00  \n",
       "power_kW                                                            100.00  \n",
       "power_hp                                                            136.00  \n",
       "cons_avg                                                              4.90  \n",
       "cons_city                                                             5.70  \n",
       "cons_country                                                          4.40  "
      ]
     },
     "execution_count": 232,
     "metadata": {},
     "output_type": "execute_result"
    }
   ],
   "source": [
    "df.head().T"
   ]
  },
  {
   "cell_type": "code",
   "execution_count": 233,
   "metadata": {},
   "outputs": [
    {
     "name": "stdout",
     "output_type": "stream",
     "text": [
      "<class 'pandas.core.frame.DataFrame'>\n",
      "RangeIndex: 28630 entries, 0 to 28629\n",
      "Data columns (total 33 columns):\n",
      " #   Column                   Non-Null Count  Dtype  \n",
      "---  ------                   --------------  -----  \n",
      " 0   make_model               28630 non-null  object \n",
      " 1   make                     28630 non-null  object \n",
      " 2   location                 28630 non-null  object \n",
      " 3   price                    28630 non-null  float64\n",
      " 4   body_type                28630 non-null  object \n",
      " 5   type                     28630 non-null  object \n",
      " 6   doors                    28271 non-null  float64\n",
      " 7   warranty                 13465 non-null  float64\n",
      " 8   mileage                  28629 non-null  float64\n",
      " 9   gearbox                  28382 non-null  object \n",
      " 10  fuel_type                26843 non-null  object \n",
      " 11  seller                   28630 non-null  object \n",
      " 12  seats                    25505 non-null  float64\n",
      " 13  engine_size              27227 non-null  float64\n",
      " 14  gears                    18954 non-null  float64\n",
      " 15  co_emissions             18594 non-null  float64\n",
      " 16  drivetrain               16893 non-null  object \n",
      " 17  cylinders                18852 non-null  float64\n",
      " 18  comfort_&_convenience    25433 non-null  object \n",
      " 19  entertainment_&_media    23644 non-null  object \n",
      " 20  safety_&_security        25415 non-null  object \n",
      " 21  extras                   23480 non-null  object \n",
      " 22  empty_weight             17758 non-null  float64\n",
      " 23  full_service_history     28630 non-null  object \n",
      " 24  upholstery               18610 non-null  object \n",
      " 25  previous_owner           14015 non-null  object \n",
      " 26  energy_efficiency_class  7804 non-null   object \n",
      " 27  age                      28628 non-null  float64\n",
      " 28  power_kW                 28058 non-null  float64\n",
      " 29  power_hp                 28058 non-null  float64\n",
      " 30  cons_avg                 23385 non-null  float64\n",
      " 31  cons_city                20100 non-null  float64\n",
      " 32  cons_country             20100 non-null  float64\n",
      "dtypes: float64(16), object(17)\n",
      "memory usage: 7.2+ MB\n"
     ]
    }
   ],
   "source": [
    "df.info()"
   ]
  },
  {
   "cell_type": "code",
   "execution_count": 234,
   "metadata": {},
   "outputs": [
    {
     "name": "stdout",
     "output_type": "stream",
     "text": [
      "Column \u001b[1m\u001b[91mgearbox\u001b[0m has mixed object types.\n",
      "Column \u001b[1m\u001b[91mfuel_type\u001b[0m has mixed object types.\n",
      "Column \u001b[1m\u001b[91mdrivetrain\u001b[0m has mixed object types.\n",
      "Column \u001b[1m\u001b[91mcomfort_&_convenience\u001b[0m has mixed object types.\n",
      "Column \u001b[1m\u001b[91mentertainment_&_media\u001b[0m has mixed object types.\n",
      "Column \u001b[1m\u001b[91msafety_&_security\u001b[0m has mixed object types.\n",
      "Column \u001b[1m\u001b[91mextras\u001b[0m has mixed object types.\n",
      "Column \u001b[1m\u001b[91mupholstery\u001b[0m has mixed object types.\n",
      "Column \u001b[1m\u001b[91mprevious_owner\u001b[0m has mixed object types.\n",
      "Column \u001b[1m\u001b[91menergy_efficiency_class\u001b[0m has mixed object types.\n"
     ]
    }
   ],
   "source": [
    "class color:\n",
    "    PURPLE = '\\033[95m'\n",
    "    CYAN = '\\033[96m'\n",
    "    DARKCYAN = '\\033[36m'\n",
    "    BLUE = '\\033[94m'\n",
    "    GREEN = '\\033[92m'\n",
    "    YELLOW = '\\033[93m'\n",
    "    RED = '\\033[91m'\n",
    "    BOLD = '\\033[1m'\n",
    "    UNDERLINE = '\\033[4m'\n",
    "    END = '\\033[0m'\n",
    "\n",
    "def check_obj_columns(df):\n",
    "    '''\n",
    "    Returns NO PROBLEM or column/s which has/have mixed object types.\n",
    "    '''    \n",
    "    \n",
    "    tdf = df.select_dtypes(include=['object']).applymap(type)\n",
    "    for col in tdf:\n",
    "        if len(set(tdf[col].values)) > 1:\n",
    "            print(\"Column\" + \" \" + color.BOLD + color.RED + col + color.END + \" \" + \"has mixed object types.\" )\n",
    "    else:\n",
    "        if len(set(tdf[col].values)) == 1:\n",
    "            print(color.BOLD + color.GREEN + \" \" + \"NO PROBLEM\" + \" \" + color.END + \" \" + \"with the data types of Columns in the DataFrame.\")\n",
    "\n",
    "check_obj_columns(df)"
   ]
  },
  {
   "cell_type": "code",
   "execution_count": 235,
   "metadata": {},
   "outputs": [],
   "source": [
    "# def check_obj_columns(df):\n",
    "#     '''\n",
    "#     Returns nothing or column/s which has/have mixed object types.\n",
    "#     '''    \n",
    "    \n",
    "#     tdf = df.select_dtypes(include=['object']).applymap(type)\n",
    "#     for x in (x for x in tdf if len(set(tdf[x].values)) > 1):\n",
    "#         print(\"Column {} has mixed object types.\".format(x))\n",
    "\n",
    "# check_obj_columns(df)"
   ]
  },
  {
   "cell_type": "markdown",
   "metadata": {},
   "source": [
    "**Let us save our dataset with a csv extension for further analysis (Handling Missing Values) in the following notebook:**"
   ]
  },
  {
   "cell_type": "code",
   "execution_count": 236,
   "metadata": {},
   "outputs": [],
   "source": [
    "df.to_csv(\"clean_scout2022_SAM.csv\", index=False)"
   ]
  },
  {
   "cell_type": "markdown",
   "metadata": {},
   "source": [
    "<a id=\"10\"></a>\n",
    "<a href=\"#toc\" class=\"btn btn-primary btn-sm\" role=\"button\" aria-pressed=\"true\" \n",
    "style=\"color:blue; background-color:#dfa8e4\" data-toggle=\"popover\">Content</a>\n",
    "\n",
    "## <p style=\"background-color:#FDFEFE; font-family:newtimeroman; color:#9d4f8c; font-size:150%; text-align:center; border-radius:10px 10px;\">The End of Data Cleaning (Part - 01)</p>\n",
    "\n",
    "\n",
    "<p style=\"text-align: center;\"><img src=\"https://i.ibb.co/99DQ3TY/DS-Courses.png\" class=\"img-fluid\" \n",
    "alt=\"CLRSWY\"></p>\n",
    "\n",
    "<a href=\"https://clarusway.com/\"><img align=\"center\" src=\"https://docs.google.com/uc?id=1lY0Uj5R04yMY3-ZppPWxqCr5pvBLYPnV\" alt=\"CLRSWY\" title=\"Way to Reinvent Yourself\"></a><br/>\n",
    "\n",
    "\n",
    "## <p style=\"background-color:#FDFEFE; font-family:newtimeroman; color:#9d4f8c; font-size:120%; text-align:center; border-radius:10px 10px;\">Way to Reinvent Yourself</p>\n",
    "___"
   ]
  }
 ],
 "metadata": {
  "kernelspec": {
   "display_name": "Python 3 (ipykernel)",
   "language": "python",
   "name": "python3"
  },
  "language_info": {
   "codemirror_mode": {
    "name": "ipython",
    "version": 3
   },
   "file_extension": ".py",
   "mimetype": "text/x-python",
   "name": "python",
   "nbconvert_exporter": "python",
   "pygments_lexer": "ipython3",
   "version": "3.9.12"
  },
  "toc": {
   "base_numbering": 1,
   "nav_menu": {},
   "number_sections": false,
   "sideBar": true,
   "skip_h1_title": false,
   "title_cell": "Table of Contents",
   "title_sidebar": "Contents",
   "toc_cell": false,
   "toc_position": {
    "height": "calc(100% - 180px)",
    "left": "10px",
    "top": "150px",
    "width": "306.463px"
   },
   "toc_section_display": true,
   "toc_window_display": true
  }
 },
 "nbformat": 4,
 "nbformat_minor": 4
}
