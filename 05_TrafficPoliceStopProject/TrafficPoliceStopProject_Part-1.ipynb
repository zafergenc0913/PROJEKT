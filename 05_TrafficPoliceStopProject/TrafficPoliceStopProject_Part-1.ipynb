{
  "cells": [
    {
      "cell_type": "markdown",
      "metadata": {
        "id": "view-in-github",
        "colab_type": "text"
      },
      "source": [
        "<a href=\"https://colab.research.google.com/github/yildiz3/Projects/blob/master/TrafficPoliceStopProject/TrafficPoliceStopProject_Part-1_Preparing_The_Data_For_Analysis_Student.ipynb\" target=\"_parent\"><img src=\"https://colab.research.google.com/assets/colab-badge.svg\" alt=\"Open In Colab\"/></a>"
      ]
    },
    {
      "cell_type": "markdown",
      "metadata": {
        "id": "pFGYhf_xwYh2"
      },
      "source": [
        "___\n",
        "\n",
        "<p style='text-align: center;'><img src='https://docs.google.com/uc?id=1lY0Uj5R04yMY3-ZppPWxqCr5pvBLYPnV' class='img-fluid' alt='CLRSWY'></p>\n",
        "\n",
        "___"
      ]
    },
    {
      "cell_type": "markdown",
      "metadata": {
        "id": "uBurcBAPwYh3"
      },
      "source": [
        "<h1><p style='text-align: center;'>Traffic Police Stops<br>Part - 1</p><h1> - Preparing The Data For Analysis <img src='https://docs.google.com/uc?id=17CPCwi3_VvzcS87TOsh4_U8eExOhL6Ki' class='img-fluid' alt='CLRSWY' width='200' height='100'> "
      ]
    },
    {
      "cell_type": "markdown",
      "metadata": {
        "id": "skDsVnMvwYh4"
      },
      "source": [
        "Before beginning your analysis, it is critical that you first examine and clean the dataset, to make working with it a more efficient process. You will practice fixing data types, handling missing values, and dropping columns and rows while learning about the Stanford Open Policing Project dataset."
      ]
    },
    {
      "cell_type": "markdown",
      "metadata": {
        "id": "tCO_gG8vwYh4"
      },
      "source": [
        "***"
      ]
    },
    {
      "cell_type": "markdown",
      "metadata": {
        "id": "gIhvzSpOwYh5"
      },
      "source": [
        "## Examining the dataset"
      ]
    },
    {
      "cell_type": "markdown",
      "metadata": {
        "id": "D2j16cTLwYh5"
      },
      "source": [
        "You'll be analyzing a dataset of traffic stops in Rhode Island that was collected by the Stanford Open Policing Project."
      ]
    },
    {
      "cell_type": "markdown",
      "metadata": {
        "id": "n9f1EGo7wYh5"
      },
      "source": [
        "Before beginning your analysis, it's important that you familiarize yourself with the dataset. You'll read the dataset into pandas, examine the first few rows, and then count the number of missing values."
      ]
    },
    {
      "cell_type": "markdown",
      "metadata": {
        "id": "4jnENKsjwYh6"
      },
      "source": [
        "**INSTRUCTIONS**\n",
        "\n",
        "*   Import related libraries with their alias.\n",
        "*   Read the file RI_cleaned.csv into a DataFrame named ``ri``\n",
        "*   Examine the first 5 rows of the ``DataFrame`` (known as the ``'head'``).\n",
        "*   Examine the last 5 rows of the ``DataFrame`` (known as the ``'tail'``).\n",
        "*   Examine the ``DataFrame``'s ``'columns'``.\n",
        "*   Count the number of missing values in each column: Use ``.isnull()`` to check which ``DataFrame`` elements are missing, and then take the ``.sum()`` to count the number of ``True`` values in each column."
      ]
    },
    {
      "cell_type": "code",
      "execution_count": null,
      "metadata": {
        "id": "QeH_On81wYh6"
      },
      "outputs": [],
      "source": [
        "import numpy as np\n",
        "import pandas as pd\n",
        "import matplotlib.pyplot as plt\n",
        "import seaborn as sns\n",
        "from scipy import stats"
      ]
    },
    {
      "cell_type": "markdown",
      "metadata": {
        "id": "jtgSY1_ceNcB"
      },
      "source": [
        "**Since the dataset has 509681 rows, you can work with the first 50000 rows if you wish.**"
      ]
    },
    {
      "cell_type": "code",
      "execution_count": null,
      "metadata": {
        "colab": {
          "base_uri": "https://localhost:8080/",
          "height": 822
        },
        "id": "hbGRa1wvw7P6",
        "outputId": "da92d558-1f37-4512-cf8f-e6605efd169c"
      },
      "outputs": [
        {
          "name": "stderr",
          "output_type": "stream",
          "text": [
            "C:\\Users\\yildi\\anaconda3\\lib\\site-packages\\IPython\\core\\interactiveshell.py:3444: DtypeWarning: Columns (8,16) have mixed types.Specify dtype option on import or set low_memory=False.\n",
            "  exec(code_obj, self.user_global_ns, self.user_ns)\n"
          ]
        }
      ],
      "source": [
        "df0 = pd.read_csv('RI_cleaned.csv')\n",
        "ri = df0.copy()"
      ]
    },
    {
      "cell_type": "code",
      "execution_count": null,
      "metadata": {
        "colab": {
          "base_uri": "https://localhost:8080/",
          "height": 135
        },
        "id": "n3JbjnCOxfVx",
        "outputId": "b01d096d-9803-482c-e914-059d412edab8"
      },
      "outputs": [
        {
          "data": {
            "text/html": [
              "<div>\n",
              "<style scoped>\n",
              "    .dataframe tbody tr th:only-of-type {\n",
              "        vertical-align: middle;\n",
              "    }\n",
              "\n",
              "    .dataframe tbody tr th {\n",
              "        vertical-align: top;\n",
              "    }\n",
              "\n",
              "    .dataframe thead th {\n",
              "        text-align: right;\n",
              "    }\n",
              "</style>\n",
              "<table border=\"1\" class=\"dataframe\">\n",
              "  <thead>\n",
              "    <tr style=\"text-align: right;\">\n",
              "      <th></th>\n",
              "      <th>id</th>\n",
              "      <th>state</th>\n",
              "      <th>stop_date</th>\n",
              "      <th>stop_time</th>\n",
              "      <th>location_raw</th>\n",
              "      <th>county_name</th>\n",
              "      <th>county_fips</th>\n",
              "      <th>fine_grained_location</th>\n",
              "      <th>police_department</th>\n",
              "      <th>driver_gender</th>\n",
              "      <th>...</th>\n",
              "      <th>search_conducted</th>\n",
              "      <th>search_type_raw</th>\n",
              "      <th>search_type</th>\n",
              "      <th>contraband_found</th>\n",
              "      <th>stop_outcome</th>\n",
              "      <th>is_arrested</th>\n",
              "      <th>stop_duration</th>\n",
              "      <th>out_of_state</th>\n",
              "      <th>drugs_related_stop</th>\n",
              "      <th>district</th>\n",
              "    </tr>\n",
              "  </thead>\n",
              "  <tbody>\n",
              "    <tr>\n",
              "      <th>0</th>\n",
              "      <td>RI-2005-00001</td>\n",
              "      <td>RI</td>\n",
              "      <td>2005-01-02</td>\n",
              "      <td>01:55</td>\n",
              "      <td>Zone K1</td>\n",
              "      <td>NaN</td>\n",
              "      <td>NaN</td>\n",
              "      <td>NaN</td>\n",
              "      <td>600</td>\n",
              "      <td>M</td>\n",
              "      <td>...</td>\n",
              "      <td>False</td>\n",
              "      <td>NaN</td>\n",
              "      <td>NaN</td>\n",
              "      <td>False</td>\n",
              "      <td>Citation</td>\n",
              "      <td>False</td>\n",
              "      <td>0-15 Min</td>\n",
              "      <td>False</td>\n",
              "      <td>False</td>\n",
              "      <td>Zone K1</td>\n",
              "    </tr>\n",
              "    <tr>\n",
              "      <th>1</th>\n",
              "      <td>RI-2005-00002</td>\n",
              "      <td>RI</td>\n",
              "      <td>2005-01-02</td>\n",
              "      <td>20:30</td>\n",
              "      <td>Zone X4</td>\n",
              "      <td>NaN</td>\n",
              "      <td>NaN</td>\n",
              "      <td>NaN</td>\n",
              "      <td>500</td>\n",
              "      <td>M</td>\n",
              "      <td>...</td>\n",
              "      <td>False</td>\n",
              "      <td>NaN</td>\n",
              "      <td>NaN</td>\n",
              "      <td>False</td>\n",
              "      <td>Citation</td>\n",
              "      <td>False</td>\n",
              "      <td>16-30 Min</td>\n",
              "      <td>False</td>\n",
              "      <td>False</td>\n",
              "      <td>Zone X4</td>\n",
              "    </tr>\n",
              "    <tr>\n",
              "      <th>2</th>\n",
              "      <td>RI-2005-00003</td>\n",
              "      <td>RI</td>\n",
              "      <td>2005-01-04</td>\n",
              "      <td>11:30</td>\n",
              "      <td>Zone X1</td>\n",
              "      <td>NaN</td>\n",
              "      <td>NaN</td>\n",
              "      <td>NaN</td>\n",
              "      <td>0</td>\n",
              "      <td>NaN</td>\n",
              "      <td>...</td>\n",
              "      <td>False</td>\n",
              "      <td>NaN</td>\n",
              "      <td>NaN</td>\n",
              "      <td>False</td>\n",
              "      <td>NaN</td>\n",
              "      <td>NaN</td>\n",
              "      <td>NaN</td>\n",
              "      <td>NaN</td>\n",
              "      <td>False</td>\n",
              "      <td>Zone X1</td>\n",
              "    </tr>\n",
              "    <tr>\n",
              "      <th>3</th>\n",
              "      <td>RI-2005-00004</td>\n",
              "      <td>RI</td>\n",
              "      <td>2005-01-04</td>\n",
              "      <td>12:55</td>\n",
              "      <td>Zone X4</td>\n",
              "      <td>NaN</td>\n",
              "      <td>NaN</td>\n",
              "      <td>NaN</td>\n",
              "      <td>500</td>\n",
              "      <td>M</td>\n",
              "      <td>...</td>\n",
              "      <td>False</td>\n",
              "      <td>NaN</td>\n",
              "      <td>NaN</td>\n",
              "      <td>False</td>\n",
              "      <td>Citation</td>\n",
              "      <td>False</td>\n",
              "      <td>0-15 Min</td>\n",
              "      <td>False</td>\n",
              "      <td>False</td>\n",
              "      <td>Zone X4</td>\n",
              "    </tr>\n",
              "    <tr>\n",
              "      <th>4</th>\n",
              "      <td>RI-2005-00005</td>\n",
              "      <td>RI</td>\n",
              "      <td>2005-01-06</td>\n",
              "      <td>01:30</td>\n",
              "      <td>Zone X4</td>\n",
              "      <td>NaN</td>\n",
              "      <td>NaN</td>\n",
              "      <td>NaN</td>\n",
              "      <td>500</td>\n",
              "      <td>M</td>\n",
              "      <td>...</td>\n",
              "      <td>False</td>\n",
              "      <td>NaN</td>\n",
              "      <td>NaN</td>\n",
              "      <td>False</td>\n",
              "      <td>Citation</td>\n",
              "      <td>False</td>\n",
              "      <td>0-15 Min</td>\n",
              "      <td>False</td>\n",
              "      <td>False</td>\n",
              "      <td>Zone X4</td>\n",
              "    </tr>\n",
              "  </tbody>\n",
              "</table>\n",
              "<p>5 rows × 26 columns</p>\n",
              "</div>"
            ],
            "text/plain": [
              "              id state   stop_date stop_time location_raw  county_name  \\\n",
              "0  RI-2005-00001    RI  2005-01-02     01:55      Zone K1          NaN   \n",
              "1  RI-2005-00002    RI  2005-01-02     20:30      Zone X4          NaN   \n",
              "2  RI-2005-00003    RI  2005-01-04     11:30      Zone X1          NaN   \n",
              "3  RI-2005-00004    RI  2005-01-04     12:55      Zone X4          NaN   \n",
              "4  RI-2005-00005    RI  2005-01-06     01:30      Zone X4          NaN   \n",
              "\n",
              "   county_fips  fine_grained_location police_department driver_gender  ...  \\\n",
              "0          NaN                    NaN               600             M  ...   \n",
              "1          NaN                    NaN               500             M  ...   \n",
              "2          NaN                    NaN                 0           NaN  ...   \n",
              "3          NaN                    NaN               500             M  ...   \n",
              "4          NaN                    NaN               500             M  ...   \n",
              "\n",
              "   search_conducted  search_type_raw search_type contraband_found  \\\n",
              "0             False              NaN         NaN            False   \n",
              "1             False              NaN         NaN            False   \n",
              "2             False              NaN         NaN            False   \n",
              "3             False              NaN         NaN            False   \n",
              "4             False              NaN         NaN            False   \n",
              "\n",
              "  stop_outcome is_arrested stop_duration out_of_state drugs_related_stop  \\\n",
              "0     Citation       False      0-15 Min        False              False   \n",
              "1     Citation       False     16-30 Min        False              False   \n",
              "2          NaN         NaN           NaN          NaN              False   \n",
              "3     Citation       False      0-15 Min        False              False   \n",
              "4     Citation       False      0-15 Min        False              False   \n",
              "\n",
              "   district  \n",
              "0   Zone K1  \n",
              "1   Zone X4  \n",
              "2   Zone X1  \n",
              "3   Zone X4  \n",
              "4   Zone X4  \n",
              "\n",
              "[5 rows x 26 columns]"
            ]
          },
          "execution_count": 3,
          "metadata": {},
          "output_type": "execute_result"
        }
      ],
      "source": [
        "ri.head(5)"
      ]
    },
    {
      "cell_type": "code",
      "execution_count": null,
      "metadata": {
        "id": "gTrFMcNReNcE",
        "outputId": "12ef447a-cfa7-407d-98c5-77434cce05a3"
      },
      "outputs": [
        {
          "data": {
            "text/html": [
              "<div>\n",
              "<style scoped>\n",
              "    .dataframe tbody tr th:only-of-type {\n",
              "        vertical-align: middle;\n",
              "    }\n",
              "\n",
              "    .dataframe tbody tr th {\n",
              "        vertical-align: top;\n",
              "    }\n",
              "\n",
              "    .dataframe thead th {\n",
              "        text-align: right;\n",
              "    }\n",
              "</style>\n",
              "<table border=\"1\" class=\"dataframe\">\n",
              "  <thead>\n",
              "    <tr style=\"text-align: right;\">\n",
              "      <th></th>\n",
              "      <th>id</th>\n",
              "      <th>state</th>\n",
              "      <th>stop_date</th>\n",
              "      <th>stop_time</th>\n",
              "      <th>location_raw</th>\n",
              "      <th>county_name</th>\n",
              "      <th>county_fips</th>\n",
              "      <th>fine_grained_location</th>\n",
              "      <th>police_department</th>\n",
              "      <th>driver_gender</th>\n",
              "      <th>...</th>\n",
              "      <th>search_conducted</th>\n",
              "      <th>search_type_raw</th>\n",
              "      <th>search_type</th>\n",
              "      <th>contraband_found</th>\n",
              "      <th>stop_outcome</th>\n",
              "      <th>is_arrested</th>\n",
              "      <th>stop_duration</th>\n",
              "      <th>out_of_state</th>\n",
              "      <th>drugs_related_stop</th>\n",
              "      <th>district</th>\n",
              "    </tr>\n",
              "  </thead>\n",
              "  <tbody>\n",
              "    <tr>\n",
              "      <th>509676</th>\n",
              "      <td>RI-NA-06</td>\n",
              "      <td>RI</td>\n",
              "      <td>NaN</td>\n",
              "      <td>NaN</td>\n",
              "      <td>Zone NA</td>\n",
              "      <td>NaN</td>\n",
              "      <td>NaN</td>\n",
              "      <td>NaN</td>\n",
              "      <td>NaN</td>\n",
              "      <td>NaN</td>\n",
              "      <td>...</td>\n",
              "      <td>NaN</td>\n",
              "      <td>NaN</td>\n",
              "      <td>NaN</td>\n",
              "      <td>False</td>\n",
              "      <td>NaN</td>\n",
              "      <td>NaN</td>\n",
              "      <td>NaN</td>\n",
              "      <td>NaN</td>\n",
              "      <td>False</td>\n",
              "      <td>Zone NA</td>\n",
              "    </tr>\n",
              "    <tr>\n",
              "      <th>509677</th>\n",
              "      <td>RI-NA-07</td>\n",
              "      <td>RI</td>\n",
              "      <td>NaN</td>\n",
              "      <td>NaN</td>\n",
              "      <td>Zone NA</td>\n",
              "      <td>NaN</td>\n",
              "      <td>NaN</td>\n",
              "      <td>NaN</td>\n",
              "      <td>NaN</td>\n",
              "      <td>NaN</td>\n",
              "      <td>...</td>\n",
              "      <td>NaN</td>\n",
              "      <td>NaN</td>\n",
              "      <td>NaN</td>\n",
              "      <td>False</td>\n",
              "      <td>NaN</td>\n",
              "      <td>NaN</td>\n",
              "      <td>NaN</td>\n",
              "      <td>NaN</td>\n",
              "      <td>False</td>\n",
              "      <td>Zone NA</td>\n",
              "    </tr>\n",
              "    <tr>\n",
              "      <th>509678</th>\n",
              "      <td>RI-NA-08</td>\n",
              "      <td>RI</td>\n",
              "      <td>NaN</td>\n",
              "      <td>NaN</td>\n",
              "      <td>Zone NA</td>\n",
              "      <td>NaN</td>\n",
              "      <td>NaN</td>\n",
              "      <td>NaN</td>\n",
              "      <td>NaN</td>\n",
              "      <td>NaN</td>\n",
              "      <td>...</td>\n",
              "      <td>NaN</td>\n",
              "      <td>NaN</td>\n",
              "      <td>NaN</td>\n",
              "      <td>False</td>\n",
              "      <td>NaN</td>\n",
              "      <td>NaN</td>\n",
              "      <td>NaN</td>\n",
              "      <td>NaN</td>\n",
              "      <td>False</td>\n",
              "      <td>Zone NA</td>\n",
              "    </tr>\n",
              "    <tr>\n",
              "      <th>509679</th>\n",
              "      <td>RI-NA-09</td>\n",
              "      <td>RI</td>\n",
              "      <td>NaN</td>\n",
              "      <td>NaN</td>\n",
              "      <td>Zone NA</td>\n",
              "      <td>NaN</td>\n",
              "      <td>NaN</td>\n",
              "      <td>NaN</td>\n",
              "      <td>NaN</td>\n",
              "      <td>NaN</td>\n",
              "      <td>...</td>\n",
              "      <td>NaN</td>\n",
              "      <td>NaN</td>\n",
              "      <td>NaN</td>\n",
              "      <td>False</td>\n",
              "      <td>NaN</td>\n",
              "      <td>NaN</td>\n",
              "      <td>NaN</td>\n",
              "      <td>NaN</td>\n",
              "      <td>False</td>\n",
              "      <td>Zone NA</td>\n",
              "    </tr>\n",
              "    <tr>\n",
              "      <th>509680</th>\n",
              "      <td>RI-NA-10</td>\n",
              "      <td>RI</td>\n",
              "      <td>NaN</td>\n",
              "      <td>NaN</td>\n",
              "      <td>Zone NA</td>\n",
              "      <td>NaN</td>\n",
              "      <td>NaN</td>\n",
              "      <td>NaN</td>\n",
              "      <td>NaN</td>\n",
              "      <td>NaN</td>\n",
              "      <td>...</td>\n",
              "      <td>NaN</td>\n",
              "      <td>NaN</td>\n",
              "      <td>NaN</td>\n",
              "      <td>False</td>\n",
              "      <td>NaN</td>\n",
              "      <td>NaN</td>\n",
              "      <td>NaN</td>\n",
              "      <td>NaN</td>\n",
              "      <td>False</td>\n",
              "      <td>Zone NA</td>\n",
              "    </tr>\n",
              "  </tbody>\n",
              "</table>\n",
              "<p>5 rows × 26 columns</p>\n",
              "</div>"
            ],
            "text/plain": [
              "              id state stop_date stop_time location_raw  county_name  \\\n",
              "509676  RI-NA-06    RI       NaN       NaN      Zone NA          NaN   \n",
              "509677  RI-NA-07    RI       NaN       NaN      Zone NA          NaN   \n",
              "509678  RI-NA-08    RI       NaN       NaN      Zone NA          NaN   \n",
              "509679  RI-NA-09    RI       NaN       NaN      Zone NA          NaN   \n",
              "509680  RI-NA-10    RI       NaN       NaN      Zone NA          NaN   \n",
              "\n",
              "        county_fips  fine_grained_location police_department driver_gender  \\\n",
              "509676          NaN                    NaN               NaN           NaN   \n",
              "509677          NaN                    NaN               NaN           NaN   \n",
              "509678          NaN                    NaN               NaN           NaN   \n",
              "509679          NaN                    NaN               NaN           NaN   \n",
              "509680          NaN                    NaN               NaN           NaN   \n",
              "\n",
              "        ...  search_conducted  search_type_raw search_type contraband_found  \\\n",
              "509676  ...               NaN              NaN         NaN            False   \n",
              "509677  ...               NaN              NaN         NaN            False   \n",
              "509678  ...               NaN              NaN         NaN            False   \n",
              "509679  ...               NaN              NaN         NaN            False   \n",
              "509680  ...               NaN              NaN         NaN            False   \n",
              "\n",
              "       stop_outcome is_arrested stop_duration out_of_state drugs_related_stop  \\\n",
              "509676          NaN         NaN           NaN          NaN              False   \n",
              "509677          NaN         NaN           NaN          NaN              False   \n",
              "509678          NaN         NaN           NaN          NaN              False   \n",
              "509679          NaN         NaN           NaN          NaN              False   \n",
              "509680          NaN         NaN           NaN          NaN              False   \n",
              "\n",
              "        district  \n",
              "509676   Zone NA  \n",
              "509677   Zone NA  \n",
              "509678   Zone NA  \n",
              "509679   Zone NA  \n",
              "509680   Zone NA  \n",
              "\n",
              "[5 rows x 26 columns]"
            ]
          },
          "execution_count": 4,
          "metadata": {},
          "output_type": "execute_result"
        }
      ],
      "source": [
        "ri.tail()"
      ]
    },
    {
      "cell_type": "code",
      "execution_count": null,
      "metadata": {
        "id": "CFo6oRaMnN8U",
        "outputId": "3cf964d2-8c35-469e-87e8-577df305292a"
      },
      "outputs": [
        {
          "data": {
            "text/plain": [
              "Index(['id', 'state', 'stop_date', 'stop_time', 'location_raw', 'county_name',\n",
              "       'county_fips', 'fine_grained_location', 'police_department',\n",
              "       'driver_gender', 'driver_age_raw', 'driver_age', 'driver_race_raw',\n",
              "       'driver_race', 'violation_raw', 'violation', 'search_conducted',\n",
              "       'search_type_raw', 'search_type', 'contraband_found', 'stop_outcome',\n",
              "       'is_arrested', 'stop_duration', 'out_of_state', 'drugs_related_stop',\n",
              "       'district'],\n",
              "      dtype='object')"
            ]
          },
          "execution_count": 5,
          "metadata": {},
          "output_type": "execute_result"
        }
      ],
      "source": [
        "ri.columns"
      ]
    },
    {
      "cell_type": "code",
      "execution_count": null,
      "metadata": {
        "scrolled": true,
        "id": "YQR2JD94eNcF",
        "outputId": "bbd31292-1355-467c-dd14-c2808306d72e"
      },
      "outputs": [
        {
          "name": "stdout",
          "output_type": "stream",
          "text": [
            "<class 'pandas.core.frame.DataFrame'>\n",
            "RangeIndex: 509681 entries, 0 to 509680\n",
            "Data columns (total 26 columns):\n",
            " #   Column                 Non-Null Count   Dtype  \n",
            "---  ------                 --------------   -----  \n",
            " 0   id                     509681 non-null  object \n",
            " 1   state                  509681 non-null  object \n",
            " 2   stop_date              509671 non-null  object \n",
            " 3   stop_time              509671 non-null  object \n",
            " 4   location_raw           509681 non-null  object \n",
            " 5   county_name            0 non-null       float64\n",
            " 6   county_fips            0 non-null       float64\n",
            " 7   fine_grained_location  0 non-null       float64\n",
            " 8   police_department      509671 non-null  object \n",
            " 9   driver_gender          480584 non-null  object \n",
            " 10  driver_age_raw         480632 non-null  float64\n",
            " 11  driver_age             478986 non-null  float64\n",
            " 12  driver_race_raw        480608 non-null  object \n",
            " 13  driver_race            480608 non-null  object \n",
            " 14  violation_raw          480608 non-null  object \n",
            " 15  violation              480608 non-null  object \n",
            " 16  search_conducted       509671 non-null  object \n",
            " 17  search_type_raw        17762 non-null   object \n",
            " 18  search_type            17762 non-null   object \n",
            " 19  contraband_found       509681 non-null  bool   \n",
            " 20  stop_outcome           480608 non-null  object \n",
            " 21  is_arrested            480608 non-null  object \n",
            " 22  stop_duration          480608 non-null  object \n",
            " 23  out_of_state           479800 non-null  object \n",
            " 24  drugs_related_stop     509681 non-null  bool   \n",
            " 25  district               509681 non-null  object \n",
            "dtypes: bool(2), float64(5), object(19)\n",
            "memory usage: 94.3+ MB\n"
          ]
        }
      ],
      "source": [
        "ri.info()"
      ]
    },
    {
      "cell_type": "code",
      "execution_count": null,
      "metadata": {
        "colab": {
          "base_uri": "https://localhost:8080/",
          "height": 442
        },
        "id": "UcIIhMJWxguX",
        "outputId": "835c9404-5f39-4d59-b769-8dbb80d4381d"
      },
      "outputs": [
        {
          "data": {
            "text/html": [
              "<div>\n",
              "<style scoped>\n",
              "    .dataframe tbody tr th:only-of-type {\n",
              "        vertical-align: middle;\n",
              "    }\n",
              "\n",
              "    .dataframe tbody tr th {\n",
              "        vertical-align: top;\n",
              "    }\n",
              "\n",
              "    .dataframe thead th {\n",
              "        text-align: right;\n",
              "    }\n",
              "</style>\n",
              "<table border=\"1\" class=\"dataframe\">\n",
              "  <thead>\n",
              "    <tr style=\"text-align: right;\">\n",
              "      <th></th>\n",
              "      <th>id</th>\n",
              "      <th>state</th>\n",
              "      <th>stop_date</th>\n",
              "      <th>stop_time</th>\n",
              "      <th>location_raw</th>\n",
              "      <th>county_name</th>\n",
              "      <th>county_fips</th>\n",
              "      <th>fine_grained_location</th>\n",
              "      <th>police_department</th>\n",
              "      <th>driver_gender</th>\n",
              "      <th>...</th>\n",
              "      <th>search_conducted</th>\n",
              "      <th>search_type_raw</th>\n",
              "      <th>search_type</th>\n",
              "      <th>contraband_found</th>\n",
              "      <th>stop_outcome</th>\n",
              "      <th>is_arrested</th>\n",
              "      <th>stop_duration</th>\n",
              "      <th>out_of_state</th>\n",
              "      <th>drugs_related_stop</th>\n",
              "      <th>district</th>\n",
              "    </tr>\n",
              "  </thead>\n",
              "  <tbody>\n",
              "    <tr>\n",
              "      <th>0</th>\n",
              "      <td>False</td>\n",
              "      <td>False</td>\n",
              "      <td>False</td>\n",
              "      <td>False</td>\n",
              "      <td>False</td>\n",
              "      <td>True</td>\n",
              "      <td>True</td>\n",
              "      <td>True</td>\n",
              "      <td>False</td>\n",
              "      <td>False</td>\n",
              "      <td>...</td>\n",
              "      <td>False</td>\n",
              "      <td>True</td>\n",
              "      <td>True</td>\n",
              "      <td>False</td>\n",
              "      <td>False</td>\n",
              "      <td>False</td>\n",
              "      <td>False</td>\n",
              "      <td>False</td>\n",
              "      <td>False</td>\n",
              "      <td>False</td>\n",
              "    </tr>\n",
              "    <tr>\n",
              "      <th>1</th>\n",
              "      <td>False</td>\n",
              "      <td>False</td>\n",
              "      <td>False</td>\n",
              "      <td>False</td>\n",
              "      <td>False</td>\n",
              "      <td>True</td>\n",
              "      <td>True</td>\n",
              "      <td>True</td>\n",
              "      <td>False</td>\n",
              "      <td>False</td>\n",
              "      <td>...</td>\n",
              "      <td>False</td>\n",
              "      <td>True</td>\n",
              "      <td>True</td>\n",
              "      <td>False</td>\n",
              "      <td>False</td>\n",
              "      <td>False</td>\n",
              "      <td>False</td>\n",
              "      <td>False</td>\n",
              "      <td>False</td>\n",
              "      <td>False</td>\n",
              "    </tr>\n",
              "    <tr>\n",
              "      <th>2</th>\n",
              "      <td>False</td>\n",
              "      <td>False</td>\n",
              "      <td>False</td>\n",
              "      <td>False</td>\n",
              "      <td>False</td>\n",
              "      <td>True</td>\n",
              "      <td>True</td>\n",
              "      <td>True</td>\n",
              "      <td>False</td>\n",
              "      <td>True</td>\n",
              "      <td>...</td>\n",
              "      <td>False</td>\n",
              "      <td>True</td>\n",
              "      <td>True</td>\n",
              "      <td>False</td>\n",
              "      <td>True</td>\n",
              "      <td>True</td>\n",
              "      <td>True</td>\n",
              "      <td>True</td>\n",
              "      <td>False</td>\n",
              "      <td>False</td>\n",
              "    </tr>\n",
              "    <tr>\n",
              "      <th>3</th>\n",
              "      <td>False</td>\n",
              "      <td>False</td>\n",
              "      <td>False</td>\n",
              "      <td>False</td>\n",
              "      <td>False</td>\n",
              "      <td>True</td>\n",
              "      <td>True</td>\n",
              "      <td>True</td>\n",
              "      <td>False</td>\n",
              "      <td>False</td>\n",
              "      <td>...</td>\n",
              "      <td>False</td>\n",
              "      <td>True</td>\n",
              "      <td>True</td>\n",
              "      <td>False</td>\n",
              "      <td>False</td>\n",
              "      <td>False</td>\n",
              "      <td>False</td>\n",
              "      <td>False</td>\n",
              "      <td>False</td>\n",
              "      <td>False</td>\n",
              "    </tr>\n",
              "    <tr>\n",
              "      <th>4</th>\n",
              "      <td>False</td>\n",
              "      <td>False</td>\n",
              "      <td>False</td>\n",
              "      <td>False</td>\n",
              "      <td>False</td>\n",
              "      <td>True</td>\n",
              "      <td>True</td>\n",
              "      <td>True</td>\n",
              "      <td>False</td>\n",
              "      <td>False</td>\n",
              "      <td>...</td>\n",
              "      <td>False</td>\n",
              "      <td>True</td>\n",
              "      <td>True</td>\n",
              "      <td>False</td>\n",
              "      <td>False</td>\n",
              "      <td>False</td>\n",
              "      <td>False</td>\n",
              "      <td>False</td>\n",
              "      <td>False</td>\n",
              "      <td>False</td>\n",
              "    </tr>\n",
              "    <tr>\n",
              "      <th>...</th>\n",
              "      <td>...</td>\n",
              "      <td>...</td>\n",
              "      <td>...</td>\n",
              "      <td>...</td>\n",
              "      <td>...</td>\n",
              "      <td>...</td>\n",
              "      <td>...</td>\n",
              "      <td>...</td>\n",
              "      <td>...</td>\n",
              "      <td>...</td>\n",
              "      <td>...</td>\n",
              "      <td>...</td>\n",
              "      <td>...</td>\n",
              "      <td>...</td>\n",
              "      <td>...</td>\n",
              "      <td>...</td>\n",
              "      <td>...</td>\n",
              "      <td>...</td>\n",
              "      <td>...</td>\n",
              "      <td>...</td>\n",
              "      <td>...</td>\n",
              "    </tr>\n",
              "    <tr>\n",
              "      <th>509676</th>\n",
              "      <td>False</td>\n",
              "      <td>False</td>\n",
              "      <td>True</td>\n",
              "      <td>True</td>\n",
              "      <td>False</td>\n",
              "      <td>True</td>\n",
              "      <td>True</td>\n",
              "      <td>True</td>\n",
              "      <td>True</td>\n",
              "      <td>True</td>\n",
              "      <td>...</td>\n",
              "      <td>True</td>\n",
              "      <td>True</td>\n",
              "      <td>True</td>\n",
              "      <td>False</td>\n",
              "      <td>True</td>\n",
              "      <td>True</td>\n",
              "      <td>True</td>\n",
              "      <td>True</td>\n",
              "      <td>False</td>\n",
              "      <td>False</td>\n",
              "    </tr>\n",
              "    <tr>\n",
              "      <th>509677</th>\n",
              "      <td>False</td>\n",
              "      <td>False</td>\n",
              "      <td>True</td>\n",
              "      <td>True</td>\n",
              "      <td>False</td>\n",
              "      <td>True</td>\n",
              "      <td>True</td>\n",
              "      <td>True</td>\n",
              "      <td>True</td>\n",
              "      <td>True</td>\n",
              "      <td>...</td>\n",
              "      <td>True</td>\n",
              "      <td>True</td>\n",
              "      <td>True</td>\n",
              "      <td>False</td>\n",
              "      <td>True</td>\n",
              "      <td>True</td>\n",
              "      <td>True</td>\n",
              "      <td>True</td>\n",
              "      <td>False</td>\n",
              "      <td>False</td>\n",
              "    </tr>\n",
              "    <tr>\n",
              "      <th>509678</th>\n",
              "      <td>False</td>\n",
              "      <td>False</td>\n",
              "      <td>True</td>\n",
              "      <td>True</td>\n",
              "      <td>False</td>\n",
              "      <td>True</td>\n",
              "      <td>True</td>\n",
              "      <td>True</td>\n",
              "      <td>True</td>\n",
              "      <td>True</td>\n",
              "      <td>...</td>\n",
              "      <td>True</td>\n",
              "      <td>True</td>\n",
              "      <td>True</td>\n",
              "      <td>False</td>\n",
              "      <td>True</td>\n",
              "      <td>True</td>\n",
              "      <td>True</td>\n",
              "      <td>True</td>\n",
              "      <td>False</td>\n",
              "      <td>False</td>\n",
              "    </tr>\n",
              "    <tr>\n",
              "      <th>509679</th>\n",
              "      <td>False</td>\n",
              "      <td>False</td>\n",
              "      <td>True</td>\n",
              "      <td>True</td>\n",
              "      <td>False</td>\n",
              "      <td>True</td>\n",
              "      <td>True</td>\n",
              "      <td>True</td>\n",
              "      <td>True</td>\n",
              "      <td>True</td>\n",
              "      <td>...</td>\n",
              "      <td>True</td>\n",
              "      <td>True</td>\n",
              "      <td>True</td>\n",
              "      <td>False</td>\n",
              "      <td>True</td>\n",
              "      <td>True</td>\n",
              "      <td>True</td>\n",
              "      <td>True</td>\n",
              "      <td>False</td>\n",
              "      <td>False</td>\n",
              "    </tr>\n",
              "    <tr>\n",
              "      <th>509680</th>\n",
              "      <td>False</td>\n",
              "      <td>False</td>\n",
              "      <td>True</td>\n",
              "      <td>True</td>\n",
              "      <td>False</td>\n",
              "      <td>True</td>\n",
              "      <td>True</td>\n",
              "      <td>True</td>\n",
              "      <td>True</td>\n",
              "      <td>True</td>\n",
              "      <td>...</td>\n",
              "      <td>True</td>\n",
              "      <td>True</td>\n",
              "      <td>True</td>\n",
              "      <td>False</td>\n",
              "      <td>True</td>\n",
              "      <td>True</td>\n",
              "      <td>True</td>\n",
              "      <td>True</td>\n",
              "      <td>False</td>\n",
              "      <td>False</td>\n",
              "    </tr>\n",
              "  </tbody>\n",
              "</table>\n",
              "<p>509681 rows × 26 columns</p>\n",
              "</div>"
            ],
            "text/plain": [
              "           id  state  stop_date  stop_time  location_raw  county_name  \\\n",
              "0       False  False      False      False         False         True   \n",
              "1       False  False      False      False         False         True   \n",
              "2       False  False      False      False         False         True   \n",
              "3       False  False      False      False         False         True   \n",
              "4       False  False      False      False         False         True   \n",
              "...       ...    ...        ...        ...           ...          ...   \n",
              "509676  False  False       True       True         False         True   \n",
              "509677  False  False       True       True         False         True   \n",
              "509678  False  False       True       True         False         True   \n",
              "509679  False  False       True       True         False         True   \n",
              "509680  False  False       True       True         False         True   \n",
              "\n",
              "        county_fips  fine_grained_location  police_department  driver_gender  \\\n",
              "0              True                   True              False          False   \n",
              "1              True                   True              False          False   \n",
              "2              True                   True              False           True   \n",
              "3              True                   True              False          False   \n",
              "4              True                   True              False          False   \n",
              "...             ...                    ...                ...            ...   \n",
              "509676         True                   True               True           True   \n",
              "509677         True                   True               True           True   \n",
              "509678         True                   True               True           True   \n",
              "509679         True                   True               True           True   \n",
              "509680         True                   True               True           True   \n",
              "\n",
              "        ...  search_conducted  search_type_raw  search_type  contraband_found  \\\n",
              "0       ...             False             True         True             False   \n",
              "1       ...             False             True         True             False   \n",
              "2       ...             False             True         True             False   \n",
              "3       ...             False             True         True             False   \n",
              "4       ...             False             True         True             False   \n",
              "...     ...               ...              ...          ...               ...   \n",
              "509676  ...              True             True         True             False   \n",
              "509677  ...              True             True         True             False   \n",
              "509678  ...              True             True         True             False   \n",
              "509679  ...              True             True         True             False   \n",
              "509680  ...              True             True         True             False   \n",
              "\n",
              "        stop_outcome  is_arrested  stop_duration  out_of_state  \\\n",
              "0              False        False          False         False   \n",
              "1              False        False          False         False   \n",
              "2               True         True           True          True   \n",
              "3              False        False          False         False   \n",
              "4              False        False          False         False   \n",
              "...              ...          ...            ...           ...   \n",
              "509676          True         True           True          True   \n",
              "509677          True         True           True          True   \n",
              "509678          True         True           True          True   \n",
              "509679          True         True           True          True   \n",
              "509680          True         True           True          True   \n",
              "\n",
              "        drugs_related_stop  district  \n",
              "0                    False     False  \n",
              "1                    False     False  \n",
              "2                    False     False  \n",
              "3                    False     False  \n",
              "4                    False     False  \n",
              "...                    ...       ...  \n",
              "509676               False     False  \n",
              "509677               False     False  \n",
              "509678               False     False  \n",
              "509679               False     False  \n",
              "509680               False     False  \n",
              "\n",
              "[509681 rows x 26 columns]"
            ]
          },
          "execution_count": 7,
          "metadata": {},
          "output_type": "execute_result"
        }
      ],
      "source": [
        "ri.isnull()"
      ]
    },
    {
      "cell_type": "code",
      "execution_count": null,
      "metadata": {
        "id": "iRO00UN2eNcG",
        "outputId": "863dc874-ba86-4410-ea5f-6bd37a15de47"
      },
      "outputs": [
        {
          "data": {
            "text/plain": [
              "id                            0\n",
              "state                         0\n",
              "stop_date                    10\n",
              "stop_time                    10\n",
              "location_raw                  0\n",
              "county_name              509681\n",
              "county_fips              509681\n",
              "fine_grained_location    509681\n",
              "police_department            10\n",
              "driver_gender             29097\n",
              "driver_age_raw            29049\n",
              "driver_age                30695\n",
              "driver_race_raw           29073\n",
              "driver_race               29073\n",
              "violation_raw             29073\n",
              "violation                 29073\n",
              "search_conducted             10\n",
              "search_type_raw          491919\n",
              "search_type              491919\n",
              "contraband_found              0\n",
              "stop_outcome              29073\n",
              "is_arrested               29073\n",
              "stop_duration             29073\n",
              "out_of_state              29881\n",
              "drugs_related_stop            0\n",
              "district                      0\n",
              "dtype: int64"
            ]
          },
          "execution_count": 8,
          "metadata": {},
          "output_type": "execute_result"
        }
      ],
      "source": [
        "\n",
        "ri.isnull().sum()"
      ]
    },
    {
      "cell_type": "code",
      "execution_count": null,
      "metadata": {
        "colab": {
          "base_uri": "https://localhost:8080/"
        },
        "id": "ZilCfZLFxg7-",
        "outputId": "b9921cf6-33e3-4ee2-e666-b8b9b64b9e42"
      },
      "outputs": [
        {
          "data": {
            "text/plain": [
              "id                         0.000000\n",
              "state                      0.000000\n",
              "stop_date                  0.001962\n",
              "stop_time                  0.001962\n",
              "location_raw               0.000000\n",
              "county_name              100.000000\n",
              "county_fips              100.000000\n",
              "fine_grained_location    100.000000\n",
              "police_department          0.001962\n",
              "driver_gender              5.708865\n",
              "driver_age_raw             5.699447\n",
              "driver_age                 6.022394\n",
              "driver_race_raw            5.704156\n",
              "driver_race                5.704156\n",
              "violation_raw              5.704156\n",
              "violation                  5.704156\n",
              "search_conducted           0.001962\n",
              "search_type_raw           96.515075\n",
              "search_type               96.515075\n",
              "contraband_found           0.000000\n",
              "stop_outcome               5.704156\n",
              "is_arrested                5.704156\n",
              "stop_duration              5.704156\n",
              "out_of_state               5.862687\n",
              "drugs_related_stop         0.000000\n",
              "district                   0.000000\n",
              "dtype: float64"
            ]
          },
          "execution_count": 9,
          "metadata": {},
          "output_type": "execute_result"
        }
      ],
      "source": [
        "(ri.isnull().sum()/ri.shape[0])*100"
      ]
    },
    {
      "cell_type": "markdown",
      "metadata": {
        "id": "pdZ2vrcnwYh7"
      },
      "source": [
        "## Dropping columns"
      ]
    },
    {
      "cell_type": "markdown",
      "metadata": {
        "id": "0SBCnN6wwYh7"
      },
      "source": [
        "Often, a DataFrame will contain columns that are not useful to your analysis. Such columns should be dropped from the ``DataFrame``, to make it easier for you to focus on the remaining columns.\n",
        "\n",
        "You'll drop the ``county_name`` column because it only contains missing values, and you'll drop the ``state`` column because all of the traffic stops took place in one state (Rhode Island). Thus, these columns can be dropped because they contain no useful information."
      ]
    },
    {
      "cell_type": "markdown",
      "metadata": {
        "id": "xY_8SVFCwYh8"
      },
      "source": [
        "**INSTRUCTIONS**\n",
        "\n",
        "*   Examine the ``DataFrame``'s shape to find out the number of rows and columns.\n",
        "\n",
        "*   Drop the columns that almost consist of missing values. \n",
        "\n",
        "*   Examine the ``.shape`` again to verify that there are now two fewer columns."
      ]
    },
    {
      "cell_type": "code",
      "execution_count": null,
      "metadata": {
        "colab": {
          "base_uri": "https://localhost:8080/"
        },
        "id": "t7pcCDr1wYh8",
        "outputId": "3f0d091f-16d9-4cfc-e9e6-2a0e61b6c74e"
      },
      "outputs": [
        {
          "data": {
            "text/plain": [
              "(509681, 26)"
            ]
          },
          "execution_count": 10,
          "metadata": {},
          "output_type": "execute_result"
        }
      ],
      "source": [
        "ri.shape"
      ]
    },
    {
      "cell_type": "code",
      "execution_count": null,
      "metadata": {
        "id": "qLXK4LDz4QJg"
      },
      "outputs": [],
      "source": [
        "ri.drop(['county_name', 'county_fips', 'fine_grained_location','state'], axis = 1, inplace = True)"
      ]
    },
    {
      "cell_type": "code",
      "execution_count": null,
      "metadata": {
        "id": "06G1KYkheNcM",
        "outputId": "b1c8522f-abf9-49c3-8c5e-eacdbd73fb78"
      },
      "outputs": [
        {
          "data": {
            "text/plain": [
              "id                         0\n",
              "stop_date                 10\n",
              "stop_time                 10\n",
              "location_raw               0\n",
              "police_department         10\n",
              "driver_gender          29097\n",
              "driver_age_raw         29049\n",
              "driver_age             30695\n",
              "driver_race_raw        29073\n",
              "driver_race            29073\n",
              "violation_raw          29073\n",
              "violation              29073\n",
              "search_conducted          10\n",
              "search_type_raw       491919\n",
              "search_type           491919\n",
              "contraband_found           0\n",
              "stop_outcome           29073\n",
              "is_arrested            29073\n",
              "stop_duration          29073\n",
              "out_of_state           29881\n",
              "drugs_related_stop         0\n",
              "district                   0\n",
              "dtype: int64"
            ]
          },
          "execution_count": 12,
          "metadata": {},
          "output_type": "execute_result"
        }
      ],
      "source": [
        "\n",
        "ri.isnull().sum()"
      ]
    },
    {
      "cell_type": "code",
      "execution_count": null,
      "metadata": {
        "colab": {
          "base_uri": "https://localhost:8080/"
        },
        "id": "D1y5IdTr9gFL",
        "outputId": "b9c119d8-87b6-4481-f542-719a4aba4aa0"
      },
      "outputs": [
        {
          "data": {
            "text/plain": [
              "(509681, 22)"
            ]
          },
          "execution_count": 13,
          "metadata": {},
          "output_type": "execute_result"
        }
      ],
      "source": [
        "ri.shape"
      ]
    },
    {
      "cell_type": "markdown",
      "metadata": {
        "id": "AwfajJoowYh8"
      },
      "source": [
        "***"
      ]
    },
    {
      "cell_type": "markdown",
      "metadata": {
        "id": "8TOdufeDwYh9"
      },
      "source": [
        "## Dropping rows"
      ]
    },
    {
      "cell_type": "markdown",
      "metadata": {
        "id": "DHlgLgLDwYh9"
      },
      "source": [
        "When you know that a specific column will be critical to your analysis, and only a small fraction of rows are missing a value in that column, it often makes sense to remove those rows from the dataset.\n",
        "\n",
        "During this course, the ``driver_gender`` column will be critical to many of your analyses. Because only a small fraction of rows are missing ``driver_gender``, we'll drop those rows from the dataset."
      ]
    },
    {
      "cell_type": "markdown",
      "metadata": {
        "id": "VkKtUSclwYh9"
      },
      "source": [
        "**INSTRUCTIONS**\n",
        "\n",
        "*   Count the number of missing values in each column.\n",
        "\n",
        "*   Drop all rows that are missing ``driver_gender`` by passing the column name to the subset parameter of ``.dropna()``.\n",
        "*   Count the number of missing values in each column again, to verify that none of the remaining rows are missing ``driver_gender``.\n",
        "*   Examine the ``DataFrame``'s ``.shape`` to see how many rows and columns remain."
      ]
    },
    {
      "cell_type": "code",
      "execution_count": null,
      "metadata": {
        "colab": {
          "base_uri": "https://localhost:8080/"
        },
        "id": "CGPv0bYy83Qw",
        "outputId": "b7242154-4a44-4d13-bc98-9f27b11042de"
      },
      "outputs": [
        {
          "data": {
            "text/plain": [
              "id                         0\n",
              "stop_date                 10\n",
              "stop_time                 10\n",
              "location_raw               0\n",
              "police_department         10\n",
              "driver_gender          29097\n",
              "driver_age_raw         29049\n",
              "driver_age             30695\n",
              "driver_race_raw        29073\n",
              "driver_race            29073\n",
              "violation_raw          29073\n",
              "violation              29073\n",
              "search_conducted          10\n",
              "search_type_raw       491919\n",
              "search_type           491919\n",
              "contraband_found           0\n",
              "stop_outcome           29073\n",
              "is_arrested            29073\n",
              "stop_duration          29073\n",
              "out_of_state           29881\n",
              "drugs_related_stop         0\n",
              "district                   0\n",
              "dtype: int64"
            ]
          },
          "execution_count": 14,
          "metadata": {},
          "output_type": "execute_result"
        }
      ],
      "source": [
        "ri.isnull().sum()"
      ]
    },
    {
      "cell_type": "code",
      "execution_count": null,
      "metadata": {
        "id": "J0eQbC_A9z_l"
      },
      "outputs": [],
      "source": [
        "ri.dropna(subset=['driver_gender'], inplace = True)"
      ]
    },
    {
      "cell_type": "code",
      "execution_count": null,
      "metadata": {
        "colab": {
          "base_uri": "https://localhost:8080/",
          "height": 442
        },
        "id": "quBcR0DnAJ0q",
        "outputId": "e85a8f9d-8063-46a3-c36a-20c7347cac1c"
      },
      "outputs": [
        {
          "data": {
            "text/plain": [
              "id                         0\n",
              "stop_date                  0\n",
              "stop_time                  0\n",
              "location_raw               0\n",
              "police_department          0\n",
              "driver_gender              0\n",
              "driver_age_raw             1\n",
              "driver_age              1638\n",
              "driver_race_raw            0\n",
              "driver_race                0\n",
              "violation_raw              0\n",
              "violation                  0\n",
              "search_conducted           0\n",
              "search_type_raw       462822\n",
              "search_type           462822\n",
              "contraband_found           0\n",
              "stop_outcome               0\n",
              "is_arrested                0\n",
              "stop_duration              0\n",
              "out_of_state             808\n",
              "drugs_related_stop         0\n",
              "district                   0\n",
              "dtype: int64"
            ]
          },
          "execution_count": 16,
          "metadata": {},
          "output_type": "execute_result"
        }
      ],
      "source": [
        "ri.isnull().sum()"
      ]
    },
    {
      "cell_type": "code",
      "execution_count": null,
      "metadata": {
        "colab": {
          "base_uri": "https://localhost:8080/"
        },
        "id": "dLXgwPLVAiDK",
        "outputId": "67e96cc8-0f27-475d-f5d5-6e6f23a47301"
      },
      "outputs": [
        {
          "data": {
            "text/plain": [
              "(480584, 22)"
            ]
          },
          "execution_count": 17,
          "metadata": {},
          "output_type": "execute_result"
        }
      ],
      "source": [
        "ri.shape"
      ]
    },
    {
      "cell_type": "markdown",
      "metadata": {
        "id": "ucaBeBc_wYh-"
      },
      "source": [
        "***"
      ]
    },
    {
      "cell_type": "markdown",
      "metadata": {
        "id": "MzFlcH9UwYh-"
      },
      "source": [
        "## Fixing a data type"
      ]
    },
    {
      "cell_type": "markdown",
      "metadata": {
        "id": "KIPRoJzuwYh-"
      },
      "source": [
        "We know that the ``is_arrested`` column currently has the ``object`` data type. In this exercise, we'll change the data type to ``bool``, which is the most suitable type for a column containing ``True`` and ``False`` values.\n",
        "\n",
        "Fixing the data type will enable us to use mathematical operations on the ``is_arrested`` column that would not be possible otherwise."
      ]
    },
    {
      "cell_type": "markdown",
      "metadata": {
        "id": "SF5vL2TFwYh-"
      },
      "source": [
        "**INSTRUCTIONS**\n",
        "\n",
        "*   Examine the values of the ``is_arrested`` column to verify that it contains ``True`` and ``False`` values.\n",
        "*   Check the current data type of ``is_arrested``.\n",
        "*   Use the ``.astype()`` method to convert ``is_arrested`` to a ``bool`` column.\n",
        "*   Check the new data type of ``is_arrested``, to confirm that it is now a ``bool`` column."
      ]
    },
    {
      "cell_type": "code",
      "execution_count": null,
      "metadata": {
        "id": "ZFjyjTJmeNcT",
        "outputId": "42df4820-2b13-434f-ec56-09415f914e62"
      },
      "outputs": [
        {
          "data": {
            "text/plain": [
              "array([False, False, False, ..., False, False, False], dtype=object)"
            ]
          },
          "execution_count": 18,
          "metadata": {},
          "output_type": "execute_result"
        }
      ],
      "source": [
        "ri.is_arrested.values"
      ]
    },
    {
      "cell_type": "code",
      "execution_count": null,
      "metadata": {
        "id": "bM584AuZeNcT",
        "outputId": "cc1ed9e8-7908-4175-9a4c-13f9f1c856c7"
      },
      "outputs": [
        {
          "data": {
            "text/plain": [
              "False    463981\n",
              "True      16603\n",
              "Name: is_arrested, dtype: int64"
            ]
          },
          "execution_count": 19,
          "metadata": {},
          "output_type": "execute_result"
        }
      ],
      "source": [
        "ri.is_arrested.value_counts(dropna=False)"
      ]
    },
    {
      "cell_type": "code",
      "execution_count": null,
      "metadata": {
        "id": "ue16Ssx8eNcT",
        "outputId": "afb0bdee-8793-4e82-f068-26ccc633bbde"
      },
      "outputs": [
        {
          "data": {
            "text/plain": [
              "dtype('O')"
            ]
          },
          "execution_count": 20,
          "metadata": {},
          "output_type": "execute_result"
        }
      ],
      "source": [
        "ri.is_arrested.dtype"
      ]
    },
    {
      "cell_type": "code",
      "execution_count": null,
      "metadata": {
        "id": "TOSHpIyBnN8a",
        "outputId": "177b3cab-f0ff-4fe8-9dd7-e53c8abdbbbc"
      },
      "outputs": [
        {
          "name": "stdout",
          "output_type": "stream",
          "text": [
            "<class 'pandas.core.frame.DataFrame'>\n",
            "Int64Index: 480584 entries, 0 to 509670\n",
            "Data columns (total 22 columns):\n",
            " #   Column              Non-Null Count   Dtype  \n",
            "---  ------              --------------   -----  \n",
            " 0   id                  480584 non-null  object \n",
            " 1   stop_date           480584 non-null  object \n",
            " 2   stop_time           480584 non-null  object \n",
            " 3   location_raw        480584 non-null  object \n",
            " 4   police_department   480584 non-null  object \n",
            " 5   driver_gender       480584 non-null  object \n",
            " 6   driver_age_raw      480583 non-null  float64\n",
            " 7   driver_age          478946 non-null  float64\n",
            " 8   driver_race_raw     480584 non-null  object \n",
            " 9   driver_race         480584 non-null  object \n",
            " 10  violation_raw       480584 non-null  object \n",
            " 11  violation           480584 non-null  object \n",
            " 12  search_conducted    480584 non-null  object \n",
            " 13  search_type_raw     17762 non-null   object \n",
            " 14  search_type         17762 non-null   object \n",
            " 15  contraband_found    480584 non-null  bool   \n",
            " 16  stop_outcome        480584 non-null  object \n",
            " 17  is_arrested         480584 non-null  object \n",
            " 18  stop_duration       480584 non-null  object \n",
            " 19  out_of_state        479776 non-null  object \n",
            " 20  drugs_related_stop  480584 non-null  bool   \n",
            " 21  district            480584 non-null  object \n",
            "dtypes: bool(2), float64(2), object(18)\n",
            "memory usage: 77.9+ MB\n"
          ]
        }
      ],
      "source": [
        "ri.info()\n"
      ]
    },
    {
      "cell_type": "code",
      "execution_count": null,
      "metadata": {
        "id": "OBCG5PvNnN8b"
      },
      "outputs": [],
      "source": [
        "ri.is_arrested=ri.is_arrested.astype(bool)"
      ]
    },
    {
      "cell_type": "code",
      "execution_count": null,
      "metadata": {
        "id": "rB8-d_innN8c",
        "outputId": "0071aeae-e570-49c3-bcfe-57b3ae2dbc9f"
      },
      "outputs": [
        {
          "data": {
            "text/plain": [
              "dtype('bool')"
            ]
          },
          "execution_count": 23,
          "metadata": {},
          "output_type": "execute_result"
        }
      ],
      "source": [
        "ri.is_arrested.dtype"
      ]
    },
    {
      "cell_type": "markdown",
      "metadata": {
        "id": "a_hpehkiwYh_"
      },
      "source": [
        "***"
      ]
    },
    {
      "cell_type": "markdown",
      "metadata": {
        "id": "-GEUf8yKwYh_"
      },
      "source": [
        "## Combining object columns"
      ]
    },
    {
      "cell_type": "markdown",
      "metadata": {
        "id": "1Df-ilz2wYh_"
      },
      "source": [
        "Currently, the date and time of each traffic stop are stored in separate object columns: ``stop_date`` and ``stop_time``.\n",
        "\n",
        "You'll combine these two columns into a single column, and then convert it to ``datetime`` format. This will enable convenient date-based attributes that we'll use later in the course."
      ]
    },
    {
      "cell_type": "markdown",
      "metadata": {
        "id": "hZd8wKUMwYiA"
      },
      "source": [
        "**INSTRUCTIONS**\n",
        "\n",
        "*    Get the first row of the data frame and see the dtypes of ``stop_date`` and ``stop_time`` columns.\n",
        "*    Use a string method to concatenate ``stop_date`` and ``stop_time`` (separated by a space), and store the result in ``combined``.\n",
        "*    Convert ``combined`` to ``datetime`` format, and store the result in a new column named ``stop_datetime``.\n",
        "*    Drop ``stop_date`` and ``stop_time`` columns from dataframe and check after dropping by getting first row.\n",
        "*    Examine the ``DataFrame`` ``.dtypes`` to confirm that ``stop_datetime`` is a datetime column."
      ]
    },
    {
      "cell_type": "code",
      "execution_count": null,
      "metadata": {
        "id": "b3xWMNSFnN8d",
        "outputId": "4db37755-272d-457d-bdb2-4341badcfa82"
      },
      "outputs": [
        {
          "data": {
            "text/html": [
              "<div>\n",
              "<style scoped>\n",
              "    .dataframe tbody tr th:only-of-type {\n",
              "        vertical-align: middle;\n",
              "    }\n",
              "\n",
              "    .dataframe tbody tr th {\n",
              "        vertical-align: top;\n",
              "    }\n",
              "\n",
              "    .dataframe thead th {\n",
              "        text-align: right;\n",
              "    }\n",
              "</style>\n",
              "<table border=\"1\" class=\"dataframe\">\n",
              "  <thead>\n",
              "    <tr style=\"text-align: right;\">\n",
              "      <th></th>\n",
              "      <th>id</th>\n",
              "      <th>stop_date</th>\n",
              "      <th>stop_time</th>\n",
              "      <th>location_raw</th>\n",
              "      <th>police_department</th>\n",
              "      <th>driver_gender</th>\n",
              "      <th>driver_age_raw</th>\n",
              "      <th>driver_age</th>\n",
              "      <th>driver_race_raw</th>\n",
              "      <th>driver_race</th>\n",
              "      <th>...</th>\n",
              "      <th>search_conducted</th>\n",
              "      <th>search_type_raw</th>\n",
              "      <th>search_type</th>\n",
              "      <th>contraband_found</th>\n",
              "      <th>stop_outcome</th>\n",
              "      <th>is_arrested</th>\n",
              "      <th>stop_duration</th>\n",
              "      <th>out_of_state</th>\n",
              "      <th>drugs_related_stop</th>\n",
              "      <th>district</th>\n",
              "    </tr>\n",
              "  </thead>\n",
              "  <tbody>\n",
              "    <tr>\n",
              "      <th>0</th>\n",
              "      <td>RI-2005-00001</td>\n",
              "      <td>2005-01-02</td>\n",
              "      <td>01:55</td>\n",
              "      <td>Zone K1</td>\n",
              "      <td>600</td>\n",
              "      <td>M</td>\n",
              "      <td>1985.0</td>\n",
              "      <td>20.0</td>\n",
              "      <td>W</td>\n",
              "      <td>White</td>\n",
              "      <td>...</td>\n",
              "      <td>False</td>\n",
              "      <td>NaN</td>\n",
              "      <td>NaN</td>\n",
              "      <td>False</td>\n",
              "      <td>Citation</td>\n",
              "      <td>False</td>\n",
              "      <td>0-15 Min</td>\n",
              "      <td>False</td>\n",
              "      <td>False</td>\n",
              "      <td>Zone K1</td>\n",
              "    </tr>\n",
              "  </tbody>\n",
              "</table>\n",
              "<p>1 rows × 22 columns</p>\n",
              "</div>"
            ],
            "text/plain": [
              "              id   stop_date stop_time location_raw police_department  \\\n",
              "0  RI-2005-00001  2005-01-02     01:55      Zone K1               600   \n",
              "\n",
              "  driver_gender  driver_age_raw  driver_age driver_race_raw driver_race  ...  \\\n",
              "0             M          1985.0        20.0               W       White  ...   \n",
              "\n",
              "  search_conducted search_type_raw search_type contraband_found stop_outcome  \\\n",
              "0            False             NaN         NaN            False     Citation   \n",
              "\n",
              "   is_arrested stop_duration  out_of_state drugs_related_stop district  \n",
              "0        False      0-15 Min         False              False  Zone K1  \n",
              "\n",
              "[1 rows x 22 columns]"
            ]
          },
          "execution_count": 24,
          "metadata": {},
          "output_type": "execute_result"
        }
      ],
      "source": [
        "ri.head(1)"
      ]
    },
    {
      "cell_type": "code",
      "execution_count": null,
      "metadata": {
        "id": "00aow37IwYiA",
        "outputId": "17c07570-18c5-4d8f-a090-233b160e8479"
      },
      "outputs": [
        {
          "data": {
            "text/plain": [
              "dtype('O')"
            ]
          },
          "execution_count": 25,
          "metadata": {},
          "output_type": "execute_result"
        }
      ],
      "source": [
        "ri.stop_date.dtype"
      ]
    },
    {
      "cell_type": "code",
      "execution_count": null,
      "metadata": {
        "id": "jD25R_SBnN8d",
        "outputId": "e1f0b28c-ffe4-4129-bcc9-f53681455143"
      },
      "outputs": [
        {
          "data": {
            "text/plain": [
              "dtype('O')"
            ]
          },
          "execution_count": 26,
          "metadata": {},
          "output_type": "execute_result"
        }
      ],
      "source": [
        "ri.stop_time.dtype"
      ]
    },
    {
      "cell_type": "code",
      "execution_count": null,
      "metadata": {
        "id": "X6GO8MRWnN8e"
      },
      "outputs": [],
      "source": [
        "ri[\"combined\"] = ri.stop_date.astype(str) + \" \" + ri.stop_time.astype(str)"
      ]
    },
    {
      "cell_type": "code",
      "execution_count": null,
      "metadata": {
        "id": "ZVUdbzTyeNcX",
        "outputId": "4cc2eed8-e430-4910-ff95-3a01f196652e"
      },
      "outputs": [
        {
          "data": {
            "text/html": [
              "<div>\n",
              "<style scoped>\n",
              "    .dataframe tbody tr th:only-of-type {\n",
              "        vertical-align: middle;\n",
              "    }\n",
              "\n",
              "    .dataframe tbody tr th {\n",
              "        vertical-align: top;\n",
              "    }\n",
              "\n",
              "    .dataframe thead th {\n",
              "        text-align: right;\n",
              "    }\n",
              "</style>\n",
              "<table border=\"1\" class=\"dataframe\">\n",
              "  <thead>\n",
              "    <tr style=\"text-align: right;\">\n",
              "      <th></th>\n",
              "      <th>id</th>\n",
              "      <th>stop_date</th>\n",
              "      <th>stop_time</th>\n",
              "      <th>location_raw</th>\n",
              "      <th>police_department</th>\n",
              "      <th>driver_gender</th>\n",
              "      <th>driver_age_raw</th>\n",
              "      <th>driver_age</th>\n",
              "      <th>driver_race_raw</th>\n",
              "      <th>driver_race</th>\n",
              "      <th>...</th>\n",
              "      <th>search_type_raw</th>\n",
              "      <th>search_type</th>\n",
              "      <th>contraband_found</th>\n",
              "      <th>stop_outcome</th>\n",
              "      <th>is_arrested</th>\n",
              "      <th>stop_duration</th>\n",
              "      <th>out_of_state</th>\n",
              "      <th>drugs_related_stop</th>\n",
              "      <th>district</th>\n",
              "      <th>combined</th>\n",
              "    </tr>\n",
              "  </thead>\n",
              "  <tbody>\n",
              "    <tr>\n",
              "      <th>0</th>\n",
              "      <td>RI-2005-00001</td>\n",
              "      <td>2005-01-02</td>\n",
              "      <td>01:55</td>\n",
              "      <td>Zone K1</td>\n",
              "      <td>600</td>\n",
              "      <td>M</td>\n",
              "      <td>1985.0</td>\n",
              "      <td>20.0</td>\n",
              "      <td>W</td>\n",
              "      <td>White</td>\n",
              "      <td>...</td>\n",
              "      <td>NaN</td>\n",
              "      <td>NaN</td>\n",
              "      <td>False</td>\n",
              "      <td>Citation</td>\n",
              "      <td>False</td>\n",
              "      <td>0-15 Min</td>\n",
              "      <td>False</td>\n",
              "      <td>False</td>\n",
              "      <td>Zone K1</td>\n",
              "      <td>2005-01-02 01:55</td>\n",
              "    </tr>\n",
              "  </tbody>\n",
              "</table>\n",
              "<p>1 rows × 23 columns</p>\n",
              "</div>"
            ],
            "text/plain": [
              "              id   stop_date stop_time location_raw police_department  \\\n",
              "0  RI-2005-00001  2005-01-02     01:55      Zone K1               600   \n",
              "\n",
              "  driver_gender  driver_age_raw  driver_age driver_race_raw driver_race  ...  \\\n",
              "0             M          1985.0        20.0               W       White  ...   \n",
              "\n",
              "  search_type_raw search_type contraband_found stop_outcome is_arrested  \\\n",
              "0             NaN         NaN            False     Citation       False   \n",
              "\n",
              "   stop_duration out_of_state  drugs_related_stop district          combined  \n",
              "0       0-15 Min        False               False  Zone K1  2005-01-02 01:55  \n",
              "\n",
              "[1 rows x 23 columns]"
            ]
          },
          "execution_count": 31,
          "metadata": {},
          "output_type": "execute_result"
        }
      ],
      "source": [
        "ri.head(1)"
      ]
    },
    {
      "cell_type": "code",
      "execution_count": null,
      "metadata": {
        "id": "GGi61283nN8e"
      },
      "outputs": [],
      "source": [
        "ri['stop_datetime'] = pd.to_datetime(ri['combined'])"
      ]
    },
    {
      "cell_type": "code",
      "execution_count": null,
      "metadata": {
        "id": "3wiqHm_qeNcX",
        "outputId": "ee078e8c-eccb-4ff1-a4ca-c4831a528d1e"
      },
      "outputs": [
        {
          "data": {
            "text/html": [
              "<div>\n",
              "<style scoped>\n",
              "    .dataframe tbody tr th:only-of-type {\n",
              "        vertical-align: middle;\n",
              "    }\n",
              "\n",
              "    .dataframe tbody tr th {\n",
              "        vertical-align: top;\n",
              "    }\n",
              "\n",
              "    .dataframe thead th {\n",
              "        text-align: right;\n",
              "    }\n",
              "</style>\n",
              "<table border=\"1\" class=\"dataframe\">\n",
              "  <thead>\n",
              "    <tr style=\"text-align: right;\">\n",
              "      <th></th>\n",
              "      <th>id</th>\n",
              "      <th>stop_date</th>\n",
              "      <th>stop_time</th>\n",
              "      <th>location_raw</th>\n",
              "      <th>police_department</th>\n",
              "      <th>driver_gender</th>\n",
              "      <th>driver_age_raw</th>\n",
              "      <th>driver_age</th>\n",
              "      <th>driver_race_raw</th>\n",
              "      <th>driver_race</th>\n",
              "      <th>...</th>\n",
              "      <th>search_type</th>\n",
              "      <th>contraband_found</th>\n",
              "      <th>stop_outcome</th>\n",
              "      <th>is_arrested</th>\n",
              "      <th>stop_duration</th>\n",
              "      <th>out_of_state</th>\n",
              "      <th>drugs_related_stop</th>\n",
              "      <th>district</th>\n",
              "      <th>combined</th>\n",
              "      <th>stop_datetime</th>\n",
              "    </tr>\n",
              "  </thead>\n",
              "  <tbody>\n",
              "    <tr>\n",
              "      <th>0</th>\n",
              "      <td>RI-2005-00001</td>\n",
              "      <td>2005-01-02</td>\n",
              "      <td>01:55</td>\n",
              "      <td>Zone K1</td>\n",
              "      <td>600</td>\n",
              "      <td>M</td>\n",
              "      <td>1985.0</td>\n",
              "      <td>20.0</td>\n",
              "      <td>W</td>\n",
              "      <td>White</td>\n",
              "      <td>...</td>\n",
              "      <td>NaN</td>\n",
              "      <td>False</td>\n",
              "      <td>Citation</td>\n",
              "      <td>False</td>\n",
              "      <td>0-15 Min</td>\n",
              "      <td>False</td>\n",
              "      <td>False</td>\n",
              "      <td>Zone K1</td>\n",
              "      <td>2005-01-02 01:55</td>\n",
              "      <td>2005-01-02 01:55:00</td>\n",
              "    </tr>\n",
              "  </tbody>\n",
              "</table>\n",
              "<p>1 rows × 24 columns</p>\n",
              "</div>"
            ],
            "text/plain": [
              "              id   stop_date stop_time location_raw police_department  \\\n",
              "0  RI-2005-00001  2005-01-02     01:55      Zone K1               600   \n",
              "\n",
              "  driver_gender  driver_age_raw  driver_age driver_race_raw driver_race  ...  \\\n",
              "0             M          1985.0        20.0               W       White  ...   \n",
              "\n",
              "  search_type contraband_found stop_outcome is_arrested stop_duration  \\\n",
              "0         NaN            False     Citation       False      0-15 Min   \n",
              "\n",
              "   out_of_state drugs_related_stop  district          combined  \\\n",
              "0         False              False   Zone K1  2005-01-02 01:55   \n",
              "\n",
              "        stop_datetime  \n",
              "0 2005-01-02 01:55:00  \n",
              "\n",
              "[1 rows x 24 columns]"
            ]
          },
          "execution_count": 37,
          "metadata": {},
          "output_type": "execute_result"
        }
      ],
      "source": [
        "ri.head(1)"
      ]
    },
    {
      "cell_type": "code",
      "execution_count": null,
      "metadata": {
        "id": "Dc8IWbGVnN8e"
      },
      "outputs": [],
      "source": [
        "ri.drop(columns=[\"stop_date\", \"stop_time\"], inplace=True)"
      ]
    },
    {
      "cell_type": "code",
      "execution_count": null,
      "metadata": {
        "id": "L29pbY16nN8e",
        "outputId": "4f0a5016-3a8e-4065-bfa8-a1d6cdedd585"
      },
      "outputs": [
        {
          "data": {
            "text/html": [
              "<div>\n",
              "<style scoped>\n",
              "    .dataframe tbody tr th:only-of-type {\n",
              "        vertical-align: middle;\n",
              "    }\n",
              "\n",
              "    .dataframe tbody tr th {\n",
              "        vertical-align: top;\n",
              "    }\n",
              "\n",
              "    .dataframe thead th {\n",
              "        text-align: right;\n",
              "    }\n",
              "</style>\n",
              "<table border=\"1\" class=\"dataframe\">\n",
              "  <thead>\n",
              "    <tr style=\"text-align: right;\">\n",
              "      <th></th>\n",
              "      <th>id</th>\n",
              "      <th>location_raw</th>\n",
              "      <th>police_department</th>\n",
              "      <th>driver_gender</th>\n",
              "      <th>driver_age_raw</th>\n",
              "      <th>driver_age</th>\n",
              "      <th>driver_race_raw</th>\n",
              "      <th>driver_race</th>\n",
              "      <th>violation_raw</th>\n",
              "      <th>violation</th>\n",
              "      <th>...</th>\n",
              "      <th>search_type</th>\n",
              "      <th>contraband_found</th>\n",
              "      <th>stop_outcome</th>\n",
              "      <th>is_arrested</th>\n",
              "      <th>stop_duration</th>\n",
              "      <th>out_of_state</th>\n",
              "      <th>drugs_related_stop</th>\n",
              "      <th>district</th>\n",
              "      <th>combined</th>\n",
              "      <th>stop_datetime</th>\n",
              "    </tr>\n",
              "  </thead>\n",
              "  <tbody>\n",
              "    <tr>\n",
              "      <th>0</th>\n",
              "      <td>RI-2005-00001</td>\n",
              "      <td>Zone K1</td>\n",
              "      <td>600</td>\n",
              "      <td>M</td>\n",
              "      <td>1985.0</td>\n",
              "      <td>20.0</td>\n",
              "      <td>W</td>\n",
              "      <td>White</td>\n",
              "      <td>Speeding</td>\n",
              "      <td>Speeding</td>\n",
              "      <td>...</td>\n",
              "      <td>NaN</td>\n",
              "      <td>False</td>\n",
              "      <td>Citation</td>\n",
              "      <td>False</td>\n",
              "      <td>0-15 Min</td>\n",
              "      <td>False</td>\n",
              "      <td>False</td>\n",
              "      <td>Zone K1</td>\n",
              "      <td>2005-01-02 01:55</td>\n",
              "      <td>2005-01-02 01:55:00</td>\n",
              "    </tr>\n",
              "  </tbody>\n",
              "</table>\n",
              "<p>1 rows × 22 columns</p>\n",
              "</div>"
            ],
            "text/plain": [
              "              id location_raw police_department driver_gender  driver_age_raw  \\\n",
              "0  RI-2005-00001      Zone K1               600             M          1985.0   \n",
              "\n",
              "   driver_age driver_race_raw driver_race violation_raw violation  ...  \\\n",
              "0        20.0               W       White      Speeding  Speeding  ...   \n",
              "\n",
              "  search_type contraband_found stop_outcome  is_arrested stop_duration  \\\n",
              "0         NaN            False     Citation        False      0-15 Min   \n",
              "\n",
              "   out_of_state drugs_related_stop district          combined  \\\n",
              "0         False              False  Zone K1  2005-01-02 01:55   \n",
              "\n",
              "        stop_datetime  \n",
              "0 2005-01-02 01:55:00  \n",
              "\n",
              "[1 rows x 22 columns]"
            ]
          },
          "execution_count": 39,
          "metadata": {},
          "output_type": "execute_result"
        }
      ],
      "source": [
        "ri.head(1)"
      ]
    },
    {
      "cell_type": "code",
      "execution_count": null,
      "metadata": {
        "id": "G1qkoKlZnN8f",
        "outputId": "6cfd9be3-359f-4295-8d24-bd374ef9c39e"
      },
      "outputs": [
        {
          "data": {
            "text/plain": [
              "id                            object\n",
              "location_raw                  object\n",
              "police_department             object\n",
              "driver_gender                 object\n",
              "driver_age_raw               float64\n",
              "driver_age                   float64\n",
              "driver_race_raw               object\n",
              "driver_race                   object\n",
              "violation_raw                 object\n",
              "violation                     object\n",
              "search_conducted              object\n",
              "search_type_raw               object\n",
              "search_type                   object\n",
              "contraband_found                bool\n",
              "stop_outcome                  object\n",
              "is_arrested                     bool\n",
              "stop_duration                 object\n",
              "out_of_state                  object\n",
              "drugs_related_stop              bool\n",
              "district                      object\n",
              "combined                      object\n",
              "stop_datetime         datetime64[ns]\n",
              "dtype: object"
            ]
          },
          "execution_count": 40,
          "metadata": {},
          "output_type": "execute_result"
        }
      ],
      "source": [
        "ri.dtypes"
      ]
    },
    {
      "cell_type": "markdown",
      "metadata": {
        "id": "UJoHwRVvwYiA"
      },
      "source": [
        "The last step that you'll take in this chapter is to set the ``stop_datetime`` column as the ``DataFrame``'s index. By replacing the default index with a ``DatetimeIndex``, you'll make it easier to analyze the dataset by date and time, which will come in handy later in the course."
      ]
    },
    {
      "cell_type": "markdown",
      "metadata": {
        "id": "01tck5-WwYiB"
      },
      "source": [
        "**INSTRUCTIONS**\n",
        "\n",
        "*   First check out the shape of the dataframe.\n",
        "*   Set ``stop_datetime`` as the ``DataFrame`` index.\n",
        "*   Examine the index to verify that it is a ``DatetimeIndex``.\n",
        "*   Check again the shape of the dataframe to confirm that ``stop_datetime`` is no longer one of the columns. \n",
        "*   Examine the ``DataFrame`` columns to confirm that ``stop_datetime`` is no longer one of the columns."
      ]
    },
    {
      "cell_type": "code",
      "execution_count": null,
      "metadata": {
        "id": "CB5-Rer4eNcZ",
        "outputId": "f892488e-2469-41eb-f871-57d8ada6f9c0"
      },
      "outputs": [
        {
          "data": {
            "text/plain": [
              "(480584, 22)"
            ]
          },
          "execution_count": 41,
          "metadata": {},
          "output_type": "execute_result"
        }
      ],
      "source": [
        "ri.shape"
      ]
    },
    {
      "cell_type": "code",
      "execution_count": null,
      "metadata": {
        "id": "py7vm2edwYiB"
      },
      "outputs": [],
      "source": [
        "ri.set_index('stop_datetime',drop = True, inplace = True)"
      ]
    },
    {
      "cell_type": "code",
      "execution_count": null,
      "metadata": {
        "id": "fpVGqPUbnN8g",
        "outputId": "3c986659-7acb-4b43-d592-873eb60bda5b"
      },
      "outputs": [
        {
          "data": {
            "text/html": [
              "<div>\n",
              "<style scoped>\n",
              "    .dataframe tbody tr th:only-of-type {\n",
              "        vertical-align: middle;\n",
              "    }\n",
              "\n",
              "    .dataframe tbody tr th {\n",
              "        vertical-align: top;\n",
              "    }\n",
              "\n",
              "    .dataframe thead th {\n",
              "        text-align: right;\n",
              "    }\n",
              "</style>\n",
              "<table border=\"1\" class=\"dataframe\">\n",
              "  <thead>\n",
              "    <tr style=\"text-align: right;\">\n",
              "      <th></th>\n",
              "      <th>id</th>\n",
              "      <th>location_raw</th>\n",
              "      <th>police_department</th>\n",
              "      <th>driver_gender</th>\n",
              "      <th>driver_age_raw</th>\n",
              "      <th>driver_age</th>\n",
              "      <th>driver_race_raw</th>\n",
              "      <th>driver_race</th>\n",
              "      <th>violation_raw</th>\n",
              "      <th>violation</th>\n",
              "      <th>...</th>\n",
              "      <th>search_type_raw</th>\n",
              "      <th>search_type</th>\n",
              "      <th>contraband_found</th>\n",
              "      <th>stop_outcome</th>\n",
              "      <th>is_arrested</th>\n",
              "      <th>stop_duration</th>\n",
              "      <th>out_of_state</th>\n",
              "      <th>drugs_related_stop</th>\n",
              "      <th>district</th>\n",
              "      <th>combined</th>\n",
              "    </tr>\n",
              "    <tr>\n",
              "      <th>stop_datetime</th>\n",
              "      <th></th>\n",
              "      <th></th>\n",
              "      <th></th>\n",
              "      <th></th>\n",
              "      <th></th>\n",
              "      <th></th>\n",
              "      <th></th>\n",
              "      <th></th>\n",
              "      <th></th>\n",
              "      <th></th>\n",
              "      <th></th>\n",
              "      <th></th>\n",
              "      <th></th>\n",
              "      <th></th>\n",
              "      <th></th>\n",
              "      <th></th>\n",
              "      <th></th>\n",
              "      <th></th>\n",
              "      <th></th>\n",
              "      <th></th>\n",
              "      <th></th>\n",
              "    </tr>\n",
              "  </thead>\n",
              "  <tbody>\n",
              "    <tr>\n",
              "      <th>2005-01-02 01:55:00</th>\n",
              "      <td>RI-2005-00001</td>\n",
              "      <td>Zone K1</td>\n",
              "      <td>600</td>\n",
              "      <td>M</td>\n",
              "      <td>1985.0</td>\n",
              "      <td>20.0</td>\n",
              "      <td>W</td>\n",
              "      <td>White</td>\n",
              "      <td>Speeding</td>\n",
              "      <td>Speeding</td>\n",
              "      <td>...</td>\n",
              "      <td>NaN</td>\n",
              "      <td>NaN</td>\n",
              "      <td>False</td>\n",
              "      <td>Citation</td>\n",
              "      <td>False</td>\n",
              "      <td>0-15 Min</td>\n",
              "      <td>False</td>\n",
              "      <td>False</td>\n",
              "      <td>Zone K1</td>\n",
              "      <td>2005-01-02 01:55</td>\n",
              "    </tr>\n",
              "  </tbody>\n",
              "</table>\n",
              "<p>1 rows × 21 columns</p>\n",
              "</div>"
            ],
            "text/plain": [
              "                                id location_raw police_department  \\\n",
              "stop_datetime                                                       \n",
              "2005-01-02 01:55:00  RI-2005-00001      Zone K1               600   \n",
              "\n",
              "                    driver_gender  driver_age_raw  driver_age driver_race_raw  \\\n",
              "stop_datetime                                                                   \n",
              "2005-01-02 01:55:00             M          1985.0        20.0               W   \n",
              "\n",
              "                    driver_race violation_raw violation  ... search_type_raw  \\\n",
              "stop_datetime                                            ...                   \n",
              "2005-01-02 01:55:00       White      Speeding  Speeding  ...             NaN   \n",
              "\n",
              "                    search_type contraband_found  stop_outcome is_arrested  \\\n",
              "stop_datetime                                                                \n",
              "2005-01-02 01:55:00         NaN            False      Citation       False   \n",
              "\n",
              "                     stop_duration out_of_state drugs_related_stop  district  \\\n",
              "stop_datetime                                                                  \n",
              "2005-01-02 01:55:00       0-15 Min        False              False   Zone K1   \n",
              "\n",
              "                             combined  \n",
              "stop_datetime                          \n",
              "2005-01-02 01:55:00  2005-01-02 01:55  \n",
              "\n",
              "[1 rows x 21 columns]"
            ]
          },
          "execution_count": 45,
          "metadata": {},
          "output_type": "execute_result"
        }
      ],
      "source": [
        "ri.head(1)"
      ]
    },
    {
      "cell_type": "code",
      "execution_count": null,
      "metadata": {
        "id": "rhfW-c5EnN8g",
        "outputId": "9fe1d860-b543-4fb8-c296-cb9e75b2f2d2"
      },
      "outputs": [
        {
          "data": {
            "text/plain": [
              "(480584, 21)"
            ]
          },
          "execution_count": 46,
          "metadata": {},
          "output_type": "execute_result"
        }
      ],
      "source": [
        "ri.shape"
      ]
    },
    {
      "cell_type": "code",
      "execution_count": null,
      "metadata": {
        "id": "clQ3tN0gnN8g",
        "outputId": "7f901ffc-26c3-43c4-d796-6a31a7d320bd"
      },
      "outputs": [
        {
          "data": {
            "text/plain": [
              "Index(['id', 'location_raw', 'police_department', 'driver_gender',\n",
              "       'driver_age_raw', 'driver_age', 'driver_race_raw', 'driver_race',\n",
              "       'violation_raw', 'violation', 'search_conducted', 'search_type_raw',\n",
              "       'search_type', 'contraband_found', 'stop_outcome', 'is_arrested',\n",
              "       'stop_duration', 'out_of_state', 'drugs_related_stop', 'district',\n",
              "       'combined'],\n",
              "      dtype='object')"
            ]
          },
          "execution_count": 47,
          "metadata": {},
          "output_type": "execute_result"
        }
      ],
      "source": [
        "ri.columns"
      ]
    },
    {
      "cell_type": "markdown",
      "metadata": {
        "id": "6JtLRGGxnN8g"
      },
      "source": [
        "___\n",
        "\n",
        "<p style='text-align: center;'><img src='https://docs.google.com/uc?id=1lY0Uj5R04yMY3-ZppPWxqCr5pvBLYPnV' class='img-fluid' alt='CLRSWY'></p>\n",
        "\n",
        "___"
      ]
    },
    {
      "cell_type": "markdown",
      "metadata": {
        "id": "uyGN1gGAeNcc"
      },
      "source": [
        "**- Please save the edits made so far to a new csv file with the name RI_Part_1 to use it in the next step.**\n",
        "\n",
        "**- Load and read new csv file.**\n",
        "\n",
        "**- Check the first five rows.***\n",
        "\n",
        "**- Check the shape of the dataframe.**"
      ]
    },
    {
      "cell_type": "code",
      "execution_count": null,
      "metadata": {
        "id": "SWs2S7SXeNcd"
      },
      "outputs": [],
      "source": [
        "ri.to_csv('RI_Part_1.csv')"
      ]
    },
    {
      "cell_type": "code",
      "execution_count": null,
      "metadata": {
        "id": "wRnGfSQieNcd"
      },
      "outputs": [],
      "source": [
        "df00== pd.read_csv('RI_Part_1.csv')\n",
        "ri = df00.copy()\n"
      ]
    },
    {
      "cell_type": "code",
      "execution_count": null,
      "metadata": {
        "id": "kig6eIUeeNcd",
        "outputId": "8e6a5eb3-56dd-4170-a3ba-928a2459840b"
      },
      "outputs": [
        {
          "data": {
            "text/html": [
              "<div>\n",
              "<style scoped>\n",
              "    .dataframe tbody tr th:only-of-type {\n",
              "        vertical-align: middle;\n",
              "    }\n",
              "\n",
              "    .dataframe tbody tr th {\n",
              "        vertical-align: top;\n",
              "    }\n",
              "\n",
              "    .dataframe thead th {\n",
              "        text-align: right;\n",
              "    }\n",
              "</style>\n",
              "<table border=\"1\" class=\"dataframe\">\n",
              "  <thead>\n",
              "    <tr style=\"text-align: right;\">\n",
              "      <th></th>\n",
              "      <th>id</th>\n",
              "      <th>location_raw</th>\n",
              "      <th>police_department</th>\n",
              "      <th>driver_gender</th>\n",
              "      <th>driver_age_raw</th>\n",
              "      <th>driver_age</th>\n",
              "      <th>driver_race_raw</th>\n",
              "      <th>driver_race</th>\n",
              "      <th>violation_raw</th>\n",
              "      <th>violation</th>\n",
              "      <th>...</th>\n",
              "      <th>search_type_raw</th>\n",
              "      <th>search_type</th>\n",
              "      <th>contraband_found</th>\n",
              "      <th>stop_outcome</th>\n",
              "      <th>is_arrested</th>\n",
              "      <th>stop_duration</th>\n",
              "      <th>out_of_state</th>\n",
              "      <th>drugs_related_stop</th>\n",
              "      <th>district</th>\n",
              "      <th>combined</th>\n",
              "    </tr>\n",
              "    <tr>\n",
              "      <th>stop_datetime</th>\n",
              "      <th></th>\n",
              "      <th></th>\n",
              "      <th></th>\n",
              "      <th></th>\n",
              "      <th></th>\n",
              "      <th></th>\n",
              "      <th></th>\n",
              "      <th></th>\n",
              "      <th></th>\n",
              "      <th></th>\n",
              "      <th></th>\n",
              "      <th></th>\n",
              "      <th></th>\n",
              "      <th></th>\n",
              "      <th></th>\n",
              "      <th></th>\n",
              "      <th></th>\n",
              "      <th></th>\n",
              "      <th></th>\n",
              "      <th></th>\n",
              "      <th></th>\n",
              "    </tr>\n",
              "  </thead>\n",
              "  <tbody>\n",
              "    <tr>\n",
              "      <th>2005-01-02 01:55:00</th>\n",
              "      <td>RI-2005-00001</td>\n",
              "      <td>Zone K1</td>\n",
              "      <td>600</td>\n",
              "      <td>M</td>\n",
              "      <td>1985.0</td>\n",
              "      <td>20.0</td>\n",
              "      <td>W</td>\n",
              "      <td>White</td>\n",
              "      <td>Speeding</td>\n",
              "      <td>Speeding</td>\n",
              "      <td>...</td>\n",
              "      <td>NaN</td>\n",
              "      <td>NaN</td>\n",
              "      <td>False</td>\n",
              "      <td>Citation</td>\n",
              "      <td>False</td>\n",
              "      <td>0-15 Min</td>\n",
              "      <td>False</td>\n",
              "      <td>False</td>\n",
              "      <td>Zone K1</td>\n",
              "      <td>2005-01-02 01:55</td>\n",
              "    </tr>\n",
              "    <tr>\n",
              "      <th>2005-01-02 20:30:00</th>\n",
              "      <td>RI-2005-00002</td>\n",
              "      <td>Zone X4</td>\n",
              "      <td>500</td>\n",
              "      <td>M</td>\n",
              "      <td>1987.0</td>\n",
              "      <td>18.0</td>\n",
              "      <td>W</td>\n",
              "      <td>White</td>\n",
              "      <td>Speeding</td>\n",
              "      <td>Speeding</td>\n",
              "      <td>...</td>\n",
              "      <td>NaN</td>\n",
              "      <td>NaN</td>\n",
              "      <td>False</td>\n",
              "      <td>Citation</td>\n",
              "      <td>False</td>\n",
              "      <td>16-30 Min</td>\n",
              "      <td>False</td>\n",
              "      <td>False</td>\n",
              "      <td>Zone X4</td>\n",
              "      <td>2005-01-02 20:30</td>\n",
              "    </tr>\n",
              "    <tr>\n",
              "      <th>2005-01-04 12:55:00</th>\n",
              "      <td>RI-2005-00004</td>\n",
              "      <td>Zone X4</td>\n",
              "      <td>500</td>\n",
              "      <td>M</td>\n",
              "      <td>1986.0</td>\n",
              "      <td>19.0</td>\n",
              "      <td>W</td>\n",
              "      <td>White</td>\n",
              "      <td>Equipment/Inspection Violation</td>\n",
              "      <td>Equipment</td>\n",
              "      <td>...</td>\n",
              "      <td>NaN</td>\n",
              "      <td>NaN</td>\n",
              "      <td>False</td>\n",
              "      <td>Citation</td>\n",
              "      <td>False</td>\n",
              "      <td>0-15 Min</td>\n",
              "      <td>False</td>\n",
              "      <td>False</td>\n",
              "      <td>Zone X4</td>\n",
              "      <td>2005-01-04 12:55</td>\n",
              "    </tr>\n",
              "    <tr>\n",
              "      <th>2005-01-06 01:30:00</th>\n",
              "      <td>RI-2005-00005</td>\n",
              "      <td>Zone X4</td>\n",
              "      <td>500</td>\n",
              "      <td>M</td>\n",
              "      <td>1978.0</td>\n",
              "      <td>27.0</td>\n",
              "      <td>B</td>\n",
              "      <td>Black</td>\n",
              "      <td>Equipment/Inspection Violation</td>\n",
              "      <td>Equipment</td>\n",
              "      <td>...</td>\n",
              "      <td>NaN</td>\n",
              "      <td>NaN</td>\n",
              "      <td>False</td>\n",
              "      <td>Citation</td>\n",
              "      <td>False</td>\n",
              "      <td>0-15 Min</td>\n",
              "      <td>False</td>\n",
              "      <td>False</td>\n",
              "      <td>Zone X4</td>\n",
              "      <td>2005-01-06 01:30</td>\n",
              "    </tr>\n",
              "    <tr>\n",
              "      <th>2005-01-12 08:05:00</th>\n",
              "      <td>RI-2005-00006</td>\n",
              "      <td>Zone X1</td>\n",
              "      <td>0</td>\n",
              "      <td>M</td>\n",
              "      <td>1973.0</td>\n",
              "      <td>32.0</td>\n",
              "      <td>B</td>\n",
              "      <td>Black</td>\n",
              "      <td>Call for Service</td>\n",
              "      <td>Other</td>\n",
              "      <td>...</td>\n",
              "      <td>NaN</td>\n",
              "      <td>NaN</td>\n",
              "      <td>False</td>\n",
              "      <td>Citation</td>\n",
              "      <td>False</td>\n",
              "      <td>30+ Min</td>\n",
              "      <td>True</td>\n",
              "      <td>False</td>\n",
              "      <td>Zone X1</td>\n",
              "      <td>2005-01-12 08:05</td>\n",
              "    </tr>\n",
              "  </tbody>\n",
              "</table>\n",
              "<p>5 rows × 21 columns</p>\n",
              "</div>"
            ],
            "text/plain": [
              "                                id location_raw police_department  \\\n",
              "stop_datetime                                                       \n",
              "2005-01-02 01:55:00  RI-2005-00001      Zone K1               600   \n",
              "2005-01-02 20:30:00  RI-2005-00002      Zone X4               500   \n",
              "2005-01-04 12:55:00  RI-2005-00004      Zone X4               500   \n",
              "2005-01-06 01:30:00  RI-2005-00005      Zone X4               500   \n",
              "2005-01-12 08:05:00  RI-2005-00006      Zone X1                 0   \n",
              "\n",
              "                    driver_gender  driver_age_raw  driver_age driver_race_raw  \\\n",
              "stop_datetime                                                                   \n",
              "2005-01-02 01:55:00             M          1985.0        20.0               W   \n",
              "2005-01-02 20:30:00             M          1987.0        18.0               W   \n",
              "2005-01-04 12:55:00             M          1986.0        19.0               W   \n",
              "2005-01-06 01:30:00             M          1978.0        27.0               B   \n",
              "2005-01-12 08:05:00             M          1973.0        32.0               B   \n",
              "\n",
              "                    driver_race                   violation_raw  violation  \\\n",
              "stop_datetime                                                                \n",
              "2005-01-02 01:55:00       White                        Speeding   Speeding   \n",
              "2005-01-02 20:30:00       White                        Speeding   Speeding   \n",
              "2005-01-04 12:55:00       White  Equipment/Inspection Violation  Equipment   \n",
              "2005-01-06 01:30:00       Black  Equipment/Inspection Violation  Equipment   \n",
              "2005-01-12 08:05:00       Black                Call for Service      Other   \n",
              "\n",
              "                     ... search_type_raw search_type contraband_found  \\\n",
              "stop_datetime        ...                                                \n",
              "2005-01-02 01:55:00  ...             NaN         NaN            False   \n",
              "2005-01-02 20:30:00  ...             NaN         NaN            False   \n",
              "2005-01-04 12:55:00  ...             NaN         NaN            False   \n",
              "2005-01-06 01:30:00  ...             NaN         NaN            False   \n",
              "2005-01-12 08:05:00  ...             NaN         NaN            False   \n",
              "\n",
              "                     stop_outcome is_arrested  stop_duration out_of_state  \\\n",
              "stop_datetime                                                               \n",
              "2005-01-02 01:55:00      Citation       False       0-15 Min        False   \n",
              "2005-01-02 20:30:00      Citation       False      16-30 Min        False   \n",
              "2005-01-04 12:55:00      Citation       False       0-15 Min        False   \n",
              "2005-01-06 01:30:00      Citation       False       0-15 Min        False   \n",
              "2005-01-12 08:05:00      Citation       False        30+ Min         True   \n",
              "\n",
              "                    drugs_related_stop  district          combined  \n",
              "stop_datetime                                                       \n",
              "2005-01-02 01:55:00              False   Zone K1  2005-01-02 01:55  \n",
              "2005-01-02 20:30:00              False   Zone X4  2005-01-02 20:30  \n",
              "2005-01-04 12:55:00              False   Zone X4  2005-01-04 12:55  \n",
              "2005-01-06 01:30:00              False   Zone X4  2005-01-06 01:30  \n",
              "2005-01-12 08:05:00              False   Zone X1  2005-01-12 08:05  \n",
              "\n",
              "[5 rows x 21 columns]"
            ]
          },
          "execution_count": 50,
          "metadata": {},
          "output_type": "execute_result"
        }
      ],
      "source": [
        "ri.head()"
      ]
    },
    {
      "cell_type": "code",
      "execution_count": null,
      "metadata": {
        "id": "dYQrsmKEeNce",
        "outputId": "a6c700fa-a934-4278-bcec-7012822e48c5"
      },
      "outputs": [
        {
          "data": {
            "text/plain": [
              "(480584, 21)"
            ]
          },
          "execution_count": 51,
          "metadata": {},
          "output_type": "execute_result"
        }
      ],
      "source": [
        "ri.shape"
      ]
    },
    {
      "cell_type": "markdown",
      "metadata": {
        "id": "jNJWLkHceNce"
      },
      "source": [
        "___\n",
        "\n",
        "<p style='text-align: center;'><img src='https://docs.google.com/uc?id=1lY0Uj5R04yMY3-ZppPWxqCr5pvBLYPnV' class='img-fluid' alt='CLRSWY'></p>\n",
        "\n",
        "___"
      ]
    },
    {
      "cell_type": "code",
      "execution_count": null,
      "metadata": {
        "id": "NIhlevPOeNcf"
      },
      "outputs": [],
      "source": []
    }
  ],
  "metadata": {
    "colab": {
      "name": "01 01_Preparing_The_Data_For_Analysis(Student-C8301-Sam).ipynb",
      "provenance": [],
      "include_colab_link": true
    },
    "kernelspec": {
      "display_name": "Python 3 (ipykernel)",
      "language": "python",
      "name": "python3"
    },
    "language_info": {
      "codemirror_mode": {
        "name": "ipython",
        "version": 3
      },
      "file_extension": ".py",
      "mimetype": "text/x-python",
      "name": "python",
      "nbconvert_exporter": "python",
      "pygments_lexer": "ipython3",
      "version": "3.9.7"
    }
  },
  "nbformat": 4,
  "nbformat_minor": 0
}