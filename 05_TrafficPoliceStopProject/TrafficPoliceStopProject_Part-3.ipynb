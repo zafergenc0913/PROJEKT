{
 "cells": [
  {
   "cell_type": "markdown",
   "metadata": {},
   "source": [
    "___\n",
    "\n",
    "<p style=\"text-align: center;\"><img src=\"https://docs.google.com/uc?id=1lY0Uj5R04yMY3-ZppPWxqCr5pvBLYPnV\" class=\"img-fluid\" alt=\"CLRSWY\"></p>\n",
    "\n",
    "___"
   ]
  },
  {
   "cell_type": "markdown",
   "metadata": {},
   "source": [
    "<h1><p style=\"text-align: center;\">Traffic Police Stops\n",
    " <br>Part - 3</p><h1> - Visual Exploratory Data Analysis<img src=\"https://docs.google.com/uc?id=17CPCwi3_VvzcS87TOsh4_U8eExOhL6Ki\" class=\"img-fluid\" alt=\"CLRSWY\" width=\"200\" height=\"100\"> "
   ]
  },
  {
   "cell_type": "markdown",
   "metadata": {},
   "source": [
    "Are you more likely to get arrested at a certain time of day? Are drug-related stops on the rise? In this chapter, you will answer these and other questions by analyzing the dataset visually, since plots can help you to understand trends in a way that examining the raw data cannot."
   ]
  },
  {
   "cell_type": "markdown",
   "metadata": {},
   "source": [
    "## Calculating the hourly arrest rate"
   ]
  },
  {
   "cell_type": "markdown",
   "metadata": {},
   "source": [
    "When a police officer stops a driver, a small percentage of those stops ends in an arrest. This is known as the **arrest rate**. In this exercise, you'll find out whether the arrest rate varies by time of day.\n",
    "\n",
    "First, you'll calculate the arrest rate across all stops. Then, you'll calculate the **hourly arrest rate** by using the ``hour`` attribute of the ``index``. The hour ranges from ``0`` to ``23``, in which:\n",
    "\n",
    "``0 = midnight``<br>\n",
    "``12 = noon`` <br>\n",
    "``23 = 11 PM``"
   ]
  },
  {
   "cell_type": "markdown",
   "metadata": {},
   "source": [
    "> Before starting your work in this section **repeat the steps which you did in the previos chapter for preparing the data** or **use the csv file you created at the end of chapter-2.*** Continue to this chapter based on where you were in the end of the previous chapter.\n",
    "\n",
    "> Be sure 'stop_datetime' column is dataframe's index."
   ]
  },
  {
   "cell_type": "code",
   "execution_count": 15,
   "metadata": {},
   "outputs": [],
   "source": [
    "import pandas as pd\n",
    "import numpy as np\n",
    "from scipy import stats\n",
    "from scipy import math"
   ]
  },
  {
   "cell_type": "code",
   "execution_count": 27,
   "metadata": {},
   "outputs": [
    {
     "name": "stderr",
     "output_type": "stream",
     "text": [
      "C:\\Users\\Toshiba\\anaconda3\\lib\\site-packages\\IPython\\core\\interactiveshell.py:3444: DtypeWarning: Columns (4) have mixed types.Specify dtype option on import or set low_memory=False.\n",
      "  exec(code_obj, self.user_global_ns, self.user_ns)\n"
     ]
    }
   ],
   "source": [
    "ri = pd.read_csv(\"RI_Part_2.csv\")"
   ]
  },
  {
   "cell_type": "code",
   "execution_count": 28,
   "metadata": {},
   "outputs": [
    {
     "data": {
      "text/html": [
       "<div>\n",
       "<style scoped>\n",
       "    .dataframe tbody tr th:only-of-type {\n",
       "        vertical-align: middle;\n",
       "    }\n",
       "\n",
       "    .dataframe tbody tr th {\n",
       "        vertical-align: top;\n",
       "    }\n",
       "\n",
       "    .dataframe thead th {\n",
       "        text-align: right;\n",
       "    }\n",
       "</style>\n",
       "<table border=\"1\" class=\"dataframe\">\n",
       "  <thead>\n",
       "    <tr style=\"text-align: right;\">\n",
       "      <th></th>\n",
       "      <th>stop_datetime</th>\n",
       "      <th>id</th>\n",
       "      <th>state</th>\n",
       "      <th>location_raw</th>\n",
       "      <th>police_department</th>\n",
       "      <th>driver_gender</th>\n",
       "      <th>driver_age_raw</th>\n",
       "      <th>driver_age</th>\n",
       "      <th>driver_race_raw</th>\n",
       "      <th>driver_race</th>\n",
       "      <th>...</th>\n",
       "      <th>search_type_raw</th>\n",
       "      <th>search_type</th>\n",
       "      <th>contraband_found</th>\n",
       "      <th>stop_outcome</th>\n",
       "      <th>is_arrested</th>\n",
       "      <th>stop_duration</th>\n",
       "      <th>out_of_state</th>\n",
       "      <th>drugs_related_stop</th>\n",
       "      <th>district</th>\n",
       "      <th>frisk</th>\n",
       "    </tr>\n",
       "  </thead>\n",
       "  <tbody>\n",
       "    <tr>\n",
       "      <th>0</th>\n",
       "      <td>2005-01-02 01:55:00</td>\n",
       "      <td>RI-2005-00001</td>\n",
       "      <td>RI</td>\n",
       "      <td>Zone K1</td>\n",
       "      <td>600</td>\n",
       "      <td>M</td>\n",
       "      <td>1985.0</td>\n",
       "      <td>20.0</td>\n",
       "      <td>W</td>\n",
       "      <td>White</td>\n",
       "      <td>...</td>\n",
       "      <td>NaN</td>\n",
       "      <td>NaN</td>\n",
       "      <td>False</td>\n",
       "      <td>Citation</td>\n",
       "      <td>False</td>\n",
       "      <td>0-15 Min</td>\n",
       "      <td>False</td>\n",
       "      <td>False</td>\n",
       "      <td>Zone K1</td>\n",
       "      <td>False</td>\n",
       "    </tr>\n",
       "    <tr>\n",
       "      <th>1</th>\n",
       "      <td>2005-01-02 20:30:00</td>\n",
       "      <td>RI-2005-00002</td>\n",
       "      <td>RI</td>\n",
       "      <td>Zone X4</td>\n",
       "      <td>500</td>\n",
       "      <td>M</td>\n",
       "      <td>1987.0</td>\n",
       "      <td>18.0</td>\n",
       "      <td>W</td>\n",
       "      <td>White</td>\n",
       "      <td>...</td>\n",
       "      <td>NaN</td>\n",
       "      <td>NaN</td>\n",
       "      <td>False</td>\n",
       "      <td>Citation</td>\n",
       "      <td>False</td>\n",
       "      <td>16-30 Min</td>\n",
       "      <td>False</td>\n",
       "      <td>False</td>\n",
       "      <td>Zone X4</td>\n",
       "      <td>False</td>\n",
       "    </tr>\n",
       "    <tr>\n",
       "      <th>2</th>\n",
       "      <td>2005-01-04 12:55:00</td>\n",
       "      <td>RI-2005-00004</td>\n",
       "      <td>RI</td>\n",
       "      <td>Zone X4</td>\n",
       "      <td>500</td>\n",
       "      <td>M</td>\n",
       "      <td>1986.0</td>\n",
       "      <td>19.0</td>\n",
       "      <td>W</td>\n",
       "      <td>White</td>\n",
       "      <td>...</td>\n",
       "      <td>NaN</td>\n",
       "      <td>NaN</td>\n",
       "      <td>False</td>\n",
       "      <td>Citation</td>\n",
       "      <td>False</td>\n",
       "      <td>0-15 Min</td>\n",
       "      <td>False</td>\n",
       "      <td>False</td>\n",
       "      <td>Zone X4</td>\n",
       "      <td>False</td>\n",
       "    </tr>\n",
       "    <tr>\n",
       "      <th>3</th>\n",
       "      <td>2005-01-06 01:30:00</td>\n",
       "      <td>RI-2005-00005</td>\n",
       "      <td>RI</td>\n",
       "      <td>Zone X4</td>\n",
       "      <td>500</td>\n",
       "      <td>M</td>\n",
       "      <td>1978.0</td>\n",
       "      <td>27.0</td>\n",
       "      <td>B</td>\n",
       "      <td>Black</td>\n",
       "      <td>...</td>\n",
       "      <td>NaN</td>\n",
       "      <td>NaN</td>\n",
       "      <td>False</td>\n",
       "      <td>Citation</td>\n",
       "      <td>False</td>\n",
       "      <td>0-15 Min</td>\n",
       "      <td>False</td>\n",
       "      <td>False</td>\n",
       "      <td>Zone X4</td>\n",
       "      <td>False</td>\n",
       "    </tr>\n",
       "    <tr>\n",
       "      <th>4</th>\n",
       "      <td>2005-01-12 08:05:00</td>\n",
       "      <td>RI-2005-00006</td>\n",
       "      <td>RI</td>\n",
       "      <td>Zone X1</td>\n",
       "      <td>0</td>\n",
       "      <td>M</td>\n",
       "      <td>1973.0</td>\n",
       "      <td>32.0</td>\n",
       "      <td>B</td>\n",
       "      <td>Black</td>\n",
       "      <td>...</td>\n",
       "      <td>NaN</td>\n",
       "      <td>NaN</td>\n",
       "      <td>False</td>\n",
       "      <td>Citation</td>\n",
       "      <td>False</td>\n",
       "      <td>30+ Min</td>\n",
       "      <td>True</td>\n",
       "      <td>False</td>\n",
       "      <td>Zone X1</td>\n",
       "      <td>False</td>\n",
       "    </tr>\n",
       "  </tbody>\n",
       "</table>\n",
       "<p>5 rows × 23 columns</p>\n",
       "</div>"
      ],
      "text/plain": [
       "         stop_datetime             id state location_raw police_department  \\\n",
       "0  2005-01-02 01:55:00  RI-2005-00001    RI      Zone K1               600   \n",
       "1  2005-01-02 20:30:00  RI-2005-00002    RI      Zone X4               500   \n",
       "2  2005-01-04 12:55:00  RI-2005-00004    RI      Zone X4               500   \n",
       "3  2005-01-06 01:30:00  RI-2005-00005    RI      Zone X4               500   \n",
       "4  2005-01-12 08:05:00  RI-2005-00006    RI      Zone X1                 0   \n",
       "\n",
       "  driver_gender  driver_age_raw  driver_age driver_race_raw driver_race  ...  \\\n",
       "0             M          1985.0        20.0               W       White  ...   \n",
       "1             M          1987.0        18.0               W       White  ...   \n",
       "2             M          1986.0        19.0               W       White  ...   \n",
       "3             M          1978.0        27.0               B       Black  ...   \n",
       "4             M          1973.0        32.0               B       Black  ...   \n",
       "\n",
       "  search_type_raw search_type  contraband_found stop_outcome is_arrested  \\\n",
       "0             NaN         NaN             False     Citation       False   \n",
       "1             NaN         NaN             False     Citation       False   \n",
       "2             NaN         NaN             False     Citation       False   \n",
       "3             NaN         NaN             False     Citation       False   \n",
       "4             NaN         NaN             False     Citation       False   \n",
       "\n",
       "   stop_duration out_of_state  drugs_related_stop district  frisk  \n",
       "0       0-15 Min        False               False  Zone K1  False  \n",
       "1      16-30 Min        False               False  Zone X4  False  \n",
       "2       0-15 Min        False               False  Zone X4  False  \n",
       "3       0-15 Min        False               False  Zone X4  False  \n",
       "4        30+ Min         True               False  Zone X1  False  \n",
       "\n",
       "[5 rows x 23 columns]"
      ]
     },
     "execution_count": 28,
     "metadata": {},
     "output_type": "execute_result"
    }
   ],
   "source": [
    "ri.head()"
   ]
  },
  {
   "cell_type": "code",
   "execution_count": 18,
   "metadata": {},
   "outputs": [
    {
     "data": {
      "text/plain": [
       "Index(['stop_datetime', 'id', 'state', 'location_raw', 'police_department',\n",
       "       'driver_gender', 'driver_age_raw', 'driver_age', 'driver_race_raw',\n",
       "       'driver_race', 'violation_raw', 'violation', 'search_conducted',\n",
       "       'search_type_raw', 'search_type', 'contraband_found', 'stop_outcome',\n",
       "       'is_arrested', 'stop_duration', 'out_of_state', 'drugs_related_stop',\n",
       "       'district', 'frisk'],\n",
       "      dtype='object')"
      ]
     },
     "execution_count": 18,
     "metadata": {},
     "output_type": "execute_result"
    }
   ],
   "source": [
    "ri.columns"
   ]
  },
  {
   "cell_type": "code",
   "execution_count": 19,
   "metadata": {},
   "outputs": [
    {
     "data": {
      "text/plain": [
       "(480584, 23)"
      ]
     },
     "execution_count": 19,
     "metadata": {},
     "output_type": "execute_result"
    }
   ],
   "source": [
    "ri.shape"
   ]
  },
  {
   "cell_type": "code",
   "execution_count": 31,
   "metadata": {},
   "outputs": [],
   "source": [
    "ri['stop_datetime'] = pd.to_datetime(ri['stop_datetime'])"
   ]
  },
  {
   "cell_type": "code",
   "execution_count": 32,
   "metadata": {},
   "outputs": [],
   "source": [
    "ri.set_index('stop_datetime', inplace = True)"
   ]
  },
  {
   "cell_type": "code",
   "execution_count": 33,
   "metadata": {},
   "outputs": [
    {
     "data": {
      "text/html": [
       "<div>\n",
       "<style scoped>\n",
       "    .dataframe tbody tr th:only-of-type {\n",
       "        vertical-align: middle;\n",
       "    }\n",
       "\n",
       "    .dataframe tbody tr th {\n",
       "        vertical-align: top;\n",
       "    }\n",
       "\n",
       "    .dataframe thead th {\n",
       "        text-align: right;\n",
       "    }\n",
       "</style>\n",
       "<table border=\"1\" class=\"dataframe\">\n",
       "  <thead>\n",
       "    <tr style=\"text-align: right;\">\n",
       "      <th></th>\n",
       "      <th>id</th>\n",
       "      <th>state</th>\n",
       "      <th>location_raw</th>\n",
       "      <th>police_department</th>\n",
       "      <th>driver_gender</th>\n",
       "      <th>driver_age_raw</th>\n",
       "      <th>driver_age</th>\n",
       "      <th>driver_race_raw</th>\n",
       "      <th>driver_race</th>\n",
       "      <th>violation_raw</th>\n",
       "      <th>...</th>\n",
       "      <th>search_type_raw</th>\n",
       "      <th>search_type</th>\n",
       "      <th>contraband_found</th>\n",
       "      <th>stop_outcome</th>\n",
       "      <th>is_arrested</th>\n",
       "      <th>stop_duration</th>\n",
       "      <th>out_of_state</th>\n",
       "      <th>drugs_related_stop</th>\n",
       "      <th>district</th>\n",
       "      <th>frisk</th>\n",
       "    </tr>\n",
       "    <tr>\n",
       "      <th>stop_datetime</th>\n",
       "      <th></th>\n",
       "      <th></th>\n",
       "      <th></th>\n",
       "      <th></th>\n",
       "      <th></th>\n",
       "      <th></th>\n",
       "      <th></th>\n",
       "      <th></th>\n",
       "      <th></th>\n",
       "      <th></th>\n",
       "      <th></th>\n",
       "      <th></th>\n",
       "      <th></th>\n",
       "      <th></th>\n",
       "      <th></th>\n",
       "      <th></th>\n",
       "      <th></th>\n",
       "      <th></th>\n",
       "      <th></th>\n",
       "      <th></th>\n",
       "      <th></th>\n",
       "    </tr>\n",
       "  </thead>\n",
       "  <tbody>\n",
       "    <tr>\n",
       "      <th>2005-01-02 01:55:00</th>\n",
       "      <td>RI-2005-00001</td>\n",
       "      <td>RI</td>\n",
       "      <td>Zone K1</td>\n",
       "      <td>600</td>\n",
       "      <td>M</td>\n",
       "      <td>1985.0</td>\n",
       "      <td>20.0</td>\n",
       "      <td>W</td>\n",
       "      <td>White</td>\n",
       "      <td>Speeding</td>\n",
       "      <td>...</td>\n",
       "      <td>NaN</td>\n",
       "      <td>NaN</td>\n",
       "      <td>False</td>\n",
       "      <td>Citation</td>\n",
       "      <td>False</td>\n",
       "      <td>0-15 Min</td>\n",
       "      <td>False</td>\n",
       "      <td>False</td>\n",
       "      <td>Zone K1</td>\n",
       "      <td>False</td>\n",
       "    </tr>\n",
       "  </tbody>\n",
       "</table>\n",
       "<p>1 rows × 22 columns</p>\n",
       "</div>"
      ],
      "text/plain": [
       "                                id state location_raw police_department  \\\n",
       "stop_datetime                                                             \n",
       "2005-01-02 01:55:00  RI-2005-00001    RI      Zone K1               600   \n",
       "\n",
       "                    driver_gender  driver_age_raw  driver_age driver_race_raw  \\\n",
       "stop_datetime                                                                   \n",
       "2005-01-02 01:55:00             M          1985.0        20.0               W   \n",
       "\n",
       "                    driver_race violation_raw  ... search_type_raw  \\\n",
       "stop_datetime                                  ...                   \n",
       "2005-01-02 01:55:00       White      Speeding  ...             NaN   \n",
       "\n",
       "                     search_type contraband_found stop_outcome  is_arrested  \\\n",
       "stop_datetime                                                                 \n",
       "2005-01-02 01:55:00          NaN            False     Citation        False   \n",
       "\n",
       "                    stop_duration  out_of_state drugs_related_stop district  \\\n",
       "stop_datetime                                                                 \n",
       "2005-01-02 01:55:00      0-15 Min         False              False  Zone K1   \n",
       "\n",
       "                     frisk  \n",
       "stop_datetime               \n",
       "2005-01-02 01:55:00  False  \n",
       "\n",
       "[1 rows x 22 columns]"
      ]
     },
     "execution_count": 33,
     "metadata": {},
     "output_type": "execute_result"
    }
   ],
   "source": [
    "ri.head(1)"
   ]
  },
  {
   "cell_type": "markdown",
   "metadata": {},
   "source": [
    "**INSTRUCTIONS**\n",
    "\n",
    "*   Take the mean of the ``is_arrested`` column to calculate the overall arrest rate.\n",
    "*   Get the type of the dataframe's index and see the hour of the stop_datetime by using hour attribute\n",
    "*   Group by the ``hour`` attribute of the ``DataFrame`` index to calculate the hourly arrest rate.\n",
    "*   Save the **hourly arrest rate** ``Series`` as a new object, ``hourly_arrest_rate``."
   ]
  },
  {
   "cell_type": "code",
   "execution_count": null,
   "metadata": {},
   "outputs": [],
   "source": [
    "# CODE HERE"
   ]
  },
  {
   "cell_type": "code",
   "execution_count": 35,
   "metadata": {},
   "outputs": [
    {
     "data": {
      "text/plain": [
       "0.03454755048024903"
      ]
     },
     "execution_count": 35,
     "metadata": {},
     "output_type": "execute_result"
    }
   ],
   "source": [
    "ri[\"is_arrested\"].mean()"
   ]
  },
  {
   "cell_type": "code",
   "execution_count": null,
   "metadata": {},
   "outputs": [],
   "source": [
    "# CODE HERE"
   ]
  },
  {
   "cell_type": "code",
   "execution_count": 37,
   "metadata": {},
   "outputs": [
    {
     "data": {
      "text/plain": [
       "DatetimeIndex(['2005-01-02 01:55:00', '2005-01-02 20:30:00',\n",
       "               '2005-01-04 12:55:00', '2005-01-06 01:30:00',\n",
       "               '2005-01-12 08:05:00', '2005-01-18 08:15:00',\n",
       "               '2005-01-18 17:13:00', '2005-01-23 23:15:00',\n",
       "               '2005-01-24 20:32:00', '2005-02-09 03:05:00',\n",
       "               ...\n",
       "               '2015-12-31 22:10:00', '2015-12-31 22:14:00',\n",
       "               '2015-12-31 22:26:00', '2015-12-31 22:38:00',\n",
       "               '2015-12-31 22:39:00', '2015-12-31 22:46:00',\n",
       "               '2015-12-31 22:47:00', '2015-12-31 23:08:00',\n",
       "               '2015-12-31 23:44:00', '2015-12-31 23:48:00'],\n",
       "              dtype='datetime64[ns]', name='stop_datetime', length=480584, freq=None)"
      ]
     },
     "execution_count": 37,
     "metadata": {},
     "output_type": "execute_result"
    }
   ],
   "source": [
    "ri.index"
   ]
  },
  {
   "cell_type": "code",
   "execution_count": null,
   "metadata": {},
   "outputs": [],
   "source": [
    "# CODE HERE"
   ]
  },
  {
   "cell_type": "code",
   "execution_count": 36,
   "metadata": {},
   "outputs": [
    {
     "data": {
      "text/plain": [
       "pandas.core.indexes.datetimes.DatetimeIndex"
      ]
     },
     "execution_count": 36,
     "metadata": {},
     "output_type": "execute_result"
    }
   ],
   "source": [
    "type(ri.index)"
   ]
  },
  {
   "cell_type": "code",
   "execution_count": null,
   "metadata": {},
   "outputs": [],
   "source": [
    "# CODE HERE"
   ]
  },
  {
   "cell_type": "code",
   "execution_count": 38,
   "metadata": {},
   "outputs": [
    {
     "data": {
      "text/plain": [
       "Int64Index([ 1, 20, 12,  1,  8,  8, 17, 23, 20,  3,\n",
       "            ...\n",
       "            22, 22, 22, 22, 22, 22, 22, 23, 23, 23],\n",
       "           dtype='int64', name='stop_datetime', length=480584)"
      ]
     },
     "execution_count": 38,
     "metadata": {},
     "output_type": "execute_result"
    }
   ],
   "source": [
    "ri.index.hour"
   ]
  },
  {
   "cell_type": "code",
   "execution_count": 39,
   "metadata": {},
   "outputs": [
    {
     "data": {
      "text/plain": [
       "Int64Index([ 1, 20, 12,  8, 17, 23,  3,  2,  4,  5, 10, 15, 14,  9,  0, 21, 22,\n",
       "            13, 16, 11,  7, 19, 18,  6],\n",
       "           dtype='int64', name='stop_datetime')"
      ]
     },
     "execution_count": 39,
     "metadata": {},
     "output_type": "execute_result"
    }
   ],
   "source": [
    "ri.index.hour.unique()"
   ]
  },
  {
   "cell_type": "code",
   "execution_count": 40,
   "metadata": {},
   "outputs": [
    {
     "data": {
      "text/plain": [
       "24"
      ]
     },
     "execution_count": 40,
     "metadata": {},
     "output_type": "execute_result"
    }
   ],
   "source": [
    "ri.index.hour.nunique()"
   ]
  },
  {
   "cell_type": "code",
   "execution_count": null,
   "metadata": {},
   "outputs": [],
   "source": [
    "# CODE HERE"
   ]
  },
  {
   "cell_type": "code",
   "execution_count": 41,
   "metadata": {},
   "outputs": [
    {
     "data": {
      "text/plain": [
       "stop_datetime\n",
       "0     0.052151\n",
       "1     0.067127\n",
       "2     0.061067\n",
       "3     0.052613\n",
       "4     0.053897\n",
       "5     0.032657\n",
       "6     0.012949\n",
       "7     0.013829\n",
       "8     0.019717\n",
       "9     0.024699\n",
       "10    0.025583\n",
       "11    0.027078\n",
       "12    0.031361\n",
       "13    0.030250\n",
       "14    0.031531\n",
       "15    0.032125\n",
       "16    0.033519\n",
       "17    0.038989\n",
       "18    0.039902\n",
       "19    0.031366\n",
       "20    0.039292\n",
       "21    0.059956\n",
       "22    0.043980\n",
       "23    0.045087\n",
       "Name: is_arrested, dtype: float64"
      ]
     },
     "execution_count": 41,
     "metadata": {},
     "output_type": "execute_result"
    }
   ],
   "source": [
    "ri.groupby(ri.index.hour).is_arrested.mean()"
   ]
  },
  {
   "cell_type": "code",
   "execution_count": null,
   "metadata": {},
   "outputs": [],
   "source": [
    "# CODE HERE"
   ]
  },
  {
   "cell_type": "code",
   "execution_count": 42,
   "metadata": {},
   "outputs": [
    {
     "data": {
      "text/plain": [
       "stop_datetime\n",
       "0     0.052151\n",
       "1     0.067127\n",
       "2     0.061067\n",
       "3     0.052613\n",
       "4     0.053897\n",
       "5     0.032657\n",
       "6     0.012949\n",
       "7     0.013829\n",
       "8     0.019717\n",
       "9     0.024699\n",
       "10    0.025583\n",
       "11    0.027078\n",
       "12    0.031361\n",
       "13    0.030250\n",
       "14    0.031531\n",
       "15    0.032125\n",
       "16    0.033519\n",
       "17    0.038989\n",
       "18    0.039902\n",
       "19    0.031366\n",
       "20    0.039292\n",
       "21    0.059956\n",
       "22    0.043980\n",
       "23    0.045087\n",
       "Name: is_arrested, dtype: float64"
      ]
     },
     "execution_count": 42,
     "metadata": {},
     "output_type": "execute_result"
    }
   ],
   "source": [
    "hourly_arrest_rate = ri.groupby(ri.index.hour).is_arrested.mean()\n",
    "hourly_arrest_rate"
   ]
  },
  {
   "cell_type": "markdown",
   "metadata": {},
   "source": [
    "***"
   ]
  },
  {
   "cell_type": "markdown",
   "metadata": {},
   "source": [
    "## Plotting the hourly arrest rate"
   ]
  },
  {
   "cell_type": "markdown",
   "metadata": {},
   "source": [
    "You'll create a line plot from the ``hourly_arrest_rate`` object. A line plot is appropriate in this case because you're showing how a quantity changes over time.\n",
    "\n",
    "This plot should help you to spot some trends that may not have been obvious when examining the raw numbers!"
   ]
  },
  {
   "cell_type": "markdown",
   "metadata": {},
   "source": [
    "**INSTRUCTIONS**\n",
    "\n",
    "*   Import ``matplotlib.pyplot`` using the alias ``plt``.\n",
    "*   Create a **line plot** of ``hourly_arrest_rate`` using the ``.plot()`` method.\n",
    "*   Label the ``x-axis`` as ``'Hour'``, label the ``y-axis`` as ``'Arrest Rate'``, and title the plot ``'Arrest Rate by Time of Day'``.\n",
    "*   Display the plot using the ``.show()`` function."
   ]
  },
  {
   "cell_type": "code",
   "execution_count": 43,
   "metadata": {},
   "outputs": [],
   "source": [
    "# CODE HERE"
   ]
  },
  {
   "cell_type": "code",
   "execution_count": 44,
   "metadata": {},
   "outputs": [],
   "source": [
    "import matplotlib.pyplot as plt\n",
    "import seaborn as sns"
   ]
  },
  {
   "cell_type": "code",
   "execution_count": null,
   "metadata": {},
   "outputs": [],
   "source": [
    "# CODE HERE"
   ]
  },
  {
   "cell_type": "code",
   "execution_count": 45,
   "metadata": {},
   "outputs": [
    {
     "data": {
      "image/png": "[encoded data removed]",
      "text/plain": [
       "<Figure size 432x288 with 1 Axes>"
      ]
     },
     "metadata": {
      "needs_background": "light"
     },
     "output_type": "display_data"
    }
   ],
   "source": [
    "\n",
    "plt.show()"
   ]
  },
  {
   "cell_type": "code",
   "execution_count": 46,
   "metadata": {},
   "outputs": [],
   "source": [
    "# CODE HERE"
   ]
  },
  {
   "cell_type": "code",
   "execution_count": 47,
   "metadata": {},
   "outputs": [
    {
     "data": {
      "image/png": "[encoded data removed]",
      "text/plain": [
       "<Figure size 432x288 with 1 Axes>"
      ]
     },
     "metadata": {
      "needs_background": "light"
     },
     "output_type": "display_data"
    }
   ],
   "source": [
    "hourly_arrest_rate.plot()\n",
    "\n",
    "plt.title(\"Arrest Rate by Time of Day\")\n",
    "plt.xlabel(\"Hour\")\n",
    "plt.ylabel(\"Arrest Rate\")\n",
    "\n",
    "plt.show()"
   ]
  },
  {
   "cell_type": "markdown",
   "metadata": {},
   "source": [
    "***"
   ]
  },
  {
   "cell_type": "markdown",
   "metadata": {},
   "source": [
    "## Plotting drug-related stops"
   ]
  },
  {
   "cell_type": "markdown",
   "metadata": {},
   "source": [
    "In a small portion of traffic stops, drugs are found in the vehicle during a search. You'll assess whether these **drug-related stops** are becoming more common over time.\n",
    "\n",
    "The Boolean column ``drugs_related_stop`` indicates whether drugs were found during a given stop. You'll calculate the **annual drug rate** by **resampling** this column, and then you'll use a line plot to visualize how the rate has changed over time."
   ]
  },
  {
   "cell_type": "markdown",
   "metadata": {},
   "source": [
    "**INSTRUCTIONS**\n",
    "\n",
    "*   Calculate the **annual rate** of drug-related stops by **resampling** the ``drugs_related_stop`` column (on the ``'A'`` frequency) and taking the mean.\n",
    "*   Save the annual drug rate ``Series`` as a new object, ``annual_drug_rate``.\n",
    "*   Create a line plot of ``annual_drug_rate`` using the ``.plot()`` method.\n",
    "*   Display the plot using the ``.show()`` function."
   ]
  },
  {
   "cell_type": "code",
   "execution_count": null,
   "metadata": {},
   "outputs": [],
   "source": [
    "# CODE HERE"
   ]
  },
  {
   "cell_type": "code",
   "execution_count": 48,
   "metadata": {},
   "outputs": [
    {
     "data": {
      "text/html": [
       "<div>\n",
       "<style scoped>\n",
       "    .dataframe tbody tr th:only-of-type {\n",
       "        vertical-align: middle;\n",
       "    }\n",
       "\n",
       "    .dataframe tbody tr th {\n",
       "        vertical-align: top;\n",
       "    }\n",
       "\n",
       "    .dataframe thead th {\n",
       "        text-align: right;\n",
       "    }\n",
       "</style>\n",
       "<table border=\"1\" class=\"dataframe\">\n",
       "  <thead>\n",
       "    <tr style=\"text-align: right;\">\n",
       "      <th></th>\n",
       "      <th>id</th>\n",
       "      <th>state</th>\n",
       "      <th>location_raw</th>\n",
       "      <th>police_department</th>\n",
       "      <th>driver_gender</th>\n",
       "      <th>driver_age_raw</th>\n",
       "      <th>driver_age</th>\n",
       "      <th>driver_race_raw</th>\n",
       "      <th>driver_race</th>\n",
       "      <th>violation_raw</th>\n",
       "      <th>...</th>\n",
       "      <th>search_type_raw</th>\n",
       "      <th>search_type</th>\n",
       "      <th>contraband_found</th>\n",
       "      <th>stop_outcome</th>\n",
       "      <th>is_arrested</th>\n",
       "      <th>stop_duration</th>\n",
       "      <th>out_of_state</th>\n",
       "      <th>drugs_related_stop</th>\n",
       "      <th>district</th>\n",
       "      <th>frisk</th>\n",
       "    </tr>\n",
       "    <tr>\n",
       "      <th>stop_datetime</th>\n",
       "      <th></th>\n",
       "      <th></th>\n",
       "      <th></th>\n",
       "      <th></th>\n",
       "      <th></th>\n",
       "      <th></th>\n",
       "      <th></th>\n",
       "      <th></th>\n",
       "      <th></th>\n",
       "      <th></th>\n",
       "      <th></th>\n",
       "      <th></th>\n",
       "      <th></th>\n",
       "      <th></th>\n",
       "      <th></th>\n",
       "      <th></th>\n",
       "      <th></th>\n",
       "      <th></th>\n",
       "      <th></th>\n",
       "      <th></th>\n",
       "      <th></th>\n",
       "    </tr>\n",
       "  </thead>\n",
       "  <tbody>\n",
       "    <tr>\n",
       "      <th>2005-01-02 01:55:00</th>\n",
       "      <td>RI-2005-00001</td>\n",
       "      <td>RI</td>\n",
       "      <td>Zone K1</td>\n",
       "      <td>600</td>\n",
       "      <td>M</td>\n",
       "      <td>1985.0</td>\n",
       "      <td>20.0</td>\n",
       "      <td>W</td>\n",
       "      <td>White</td>\n",
       "      <td>Speeding</td>\n",
       "      <td>...</td>\n",
       "      <td>NaN</td>\n",
       "      <td>NaN</td>\n",
       "      <td>False</td>\n",
       "      <td>Citation</td>\n",
       "      <td>False</td>\n",
       "      <td>0-15 Min</td>\n",
       "      <td>False</td>\n",
       "      <td>False</td>\n",
       "      <td>Zone K1</td>\n",
       "      <td>False</td>\n",
       "    </tr>\n",
       "  </tbody>\n",
       "</table>\n",
       "<p>1 rows × 22 columns</p>\n",
       "</div>"
      ],
      "text/plain": [
       "                                id state location_raw police_department  \\\n",
       "stop_datetime                                                             \n",
       "2005-01-02 01:55:00  RI-2005-00001    RI      Zone K1               600   \n",
       "\n",
       "                    driver_gender  driver_age_raw  driver_age driver_race_raw  \\\n",
       "stop_datetime                                                                   \n",
       "2005-01-02 01:55:00             M          1985.0        20.0               W   \n",
       "\n",
       "                    driver_race violation_raw  ... search_type_raw  \\\n",
       "stop_datetime                                  ...                   \n",
       "2005-01-02 01:55:00       White      Speeding  ...             NaN   \n",
       "\n",
       "                     search_type contraband_found stop_outcome  is_arrested  \\\n",
       "stop_datetime                                                                 \n",
       "2005-01-02 01:55:00          NaN            False     Citation        False   \n",
       "\n",
       "                    stop_duration  out_of_state drugs_related_stop district  \\\n",
       "stop_datetime                                                                 \n",
       "2005-01-02 01:55:00      0-15 Min         False              False  Zone K1   \n",
       "\n",
       "                     frisk  \n",
       "stop_datetime               \n",
       "2005-01-02 01:55:00  False  \n",
       "\n",
       "[1 rows x 22 columns]"
      ]
     },
     "execution_count": 48,
     "metadata": {},
     "output_type": "execute_result"
    }
   ],
   "source": [
    "ri.head(1)"
   ]
  },
  {
   "cell_type": "code",
   "execution_count": 49,
   "metadata": {},
   "outputs": [
    {
     "data": {
      "text/plain": [
       "False    475819\n",
       "True       4765\n",
       "Name: drugs_related_stop, dtype: int64"
      ]
     },
     "execution_count": 49,
     "metadata": {},
     "output_type": "execute_result"
    }
   ],
   "source": [
    "ri[\"drugs_related_stop\"].value_counts()"
   ]
  },
  {
   "cell_type": "code",
   "execution_count": null,
   "metadata": {},
   "outputs": [],
   "source": [
    "# CODE HERE"
   ]
  },
  {
   "cell_type": "code",
   "execution_count": 43,
   "metadata": {},
   "outputs": [
    {
     "data": {
      "text/plain": [
       "stop_datetime\n",
       "2005-12-31    0.008038\n",
       "2006-12-31    0.006624\n",
       "2007-12-31    0.008437\n",
       "2008-12-31    0.007549\n",
       "2009-12-31    0.010447\n",
       "2010-12-31    0.010142\n",
       "2011-12-31    0.011400\n",
       "2012-12-31    0.010343\n",
       "2013-12-31    0.011879\n",
       "2014-12-31    0.013176\n",
       "2015-12-31    0.010598\n",
       "Freq: A-DEC, Name: drugs_related_stop, dtype: float64"
      ]
     },
     "execution_count": 43,
     "metadata": {},
     "output_type": "execute_result"
    }
   ],
   "source": [
    "ri.drugs_related_stop.resample(\"A\").mean()"
   ]
  },
  {
   "cell_type": "code",
   "execution_count": 51,
   "metadata": {},
   "outputs": [
    {
     "data": {
      "text/plain": [
       "stop_datetime\n",
       "2005-12-31    0.008038\n",
       "2006-12-31    0.006624\n",
       "2007-12-31    0.008437\n",
       "2008-12-31    0.007549\n",
       "2009-12-31    0.010447\n",
       "2010-12-31    0.010142\n",
       "2011-12-31    0.011400\n",
       "2012-12-31    0.010343\n",
       "2013-12-31    0.011879\n",
       "2014-12-31    0.013176\n",
       "2015-12-31    0.010598\n",
       "Freq: A-DEC, Name: drugs_related_stop, dtype: float64"
      ]
     },
     "execution_count": 51,
     "metadata": {},
     "output_type": "execute_result"
    }
   ],
   "source": [
    "annual_drug_rate = ri.drugs_related_stop.resample(\"A\").mean()\n",
    "annual_drug_rate"
   ]
  },
  {
   "cell_type": "code",
   "execution_count": null,
   "metadata": {},
   "outputs": [],
   "source": [
    "# CODE HERE"
   ]
  },
  {
   "cell_type": "code",
   "execution_count": 52,
   "metadata": {},
   "outputs": [
    {
     "data": {
      "image/png": "[encoded data removed]",
      "text/plain": [
       "<Figure size 432x288 with 1 Axes>"
      ]
     },
     "metadata": {
      "needs_background": "light"
     },
     "output_type": "display_data"
    }
   ],
   "source": [
    "annual_drug_rate.plot()\n",
    "plt.show()"
   ]
  },
  {
   "cell_type": "code",
   "execution_count": 53,
   "metadata": {},
   "outputs": [
    {
     "data": {
      "image/png": "[encoded data removed]",
      "text/plain": [
       "<Figure size 432x288 with 1 Axes>"
      ]
     },
     "metadata": {
      "needs_background": "light"
     },
     "output_type": "display_data"
    }
   ],
   "source": [
    "annual_drug_rate.plot()\n",
    "\n",
    "plt.title(\"Annual Drog Rate\")\n",
    "plt.xlabel(\"Year\")\n",
    "plt.ylabel(\"Drug Rate\")\n",
    "\n",
    "plt.show()"
   ]
  },
  {
   "cell_type": "markdown",
   "metadata": {},
   "source": [
    "***"
   ]
  },
  {
   "cell_type": "markdown",
   "metadata": {},
   "source": [
    "## Comparing drug and search rates (to be deleted)"
   ]
  },
  {
   "cell_type": "markdown",
   "metadata": {},
   "source": [
    "As you saw in the last exercise, the rate of **drug-related stops** increased significantly between ``2005`` and ``2015``. You might hypothesize that the rate of vehicle searches was also increasing, which would have led to an increase in drug-related stops even if more drivers were not carrying drugs.\n",
    "\n",
    "You can test this hypothesis by calculating the annual search rate, and then plotting it against the annual drug rate. If the hypothesis is true, then you'll see both rates increasing over time."
   ]
  },
  {
   "cell_type": "markdown",
   "metadata": {},
   "source": [
    "**INSTRUCTIONS**\n",
    "\n",
    "*   Calculate the annual search rate by **resampling** the ``search_conducted`` column, and save the result as ``annual_search_rate``.\n",
    "*   Concatenate ``annual_drug_rate`` and ``annual_search_rate`` along the ``columns axis``, and save the result as ``annual``.\n",
    "*   Create subplots of the drug and search rates from the ``annual`` ``DataFrame``.\n",
    "*   Display the subplots."
   ]
  },
  {
   "cell_type": "code",
   "execution_count": null,
   "metadata": {},
   "outputs": [],
   "source": [
    "# CODE HERE"
   ]
  },
  {
   "cell_type": "code",
   "execution_count": 54,
   "metadata": {},
   "outputs": [
    {
     "data": {
      "text/plain": [
       "dtype('bool')"
      ]
     },
     "execution_count": 54,
     "metadata": {},
     "output_type": "execute_result"
    }
   ],
   "source": [
    "ri[\"search_conducted\"].dtype"
   ]
  },
  {
   "cell_type": "code",
   "execution_count": 55,
   "metadata": {},
   "outputs": [
    {
     "data": {
      "text/plain": [
       "stop_datetime\n",
       "2005-01-02 01:55:00    False\n",
       "Name: search_conducted, dtype: bool"
      ]
     },
     "execution_count": 55,
     "metadata": {},
     "output_type": "execute_result"
    }
   ],
   "source": [
    "ri[\"search_conducted\"].head(1)"
   ]
  },
  {
   "cell_type": "code",
   "execution_count": null,
   "metadata": {},
   "outputs": [],
   "source": [
    "# CODE HERE"
   ]
  },
  {
   "cell_type": "code",
   "execution_count": 56,
   "metadata": {},
   "outputs": [
    {
     "data": {
      "text/plain": [
       "stop_datetime\n",
       "2005-12-31    0.050692\n",
       "2006-12-31    0.037748\n",
       "2007-12-31    0.041844\n",
       "2008-12-31    0.039544\n",
       "2009-12-31    0.049849\n",
       "2010-12-31    0.042089\n",
       "2011-12-31    0.037767\n",
       "2012-12-31    0.032278\n",
       "2013-12-31    0.029054\n",
       "2014-12-31    0.030157\n",
       "2015-12-31    0.027832\n",
       "Freq: A-DEC, Name: search_conducted, dtype: float64"
      ]
     },
     "execution_count": 56,
     "metadata": {},
     "output_type": "execute_result"
    }
   ],
   "source": [
    "ri[\"search_conducted\"].dropna().astype(\"int\").resample(\"A\").mean()"
   ]
  },
  {
   "cell_type": "code",
   "execution_count": 58,
   "metadata": {},
   "outputs": [
    {
     "data": {
      "text/plain": [
       "stop_datetime\n",
       "2005-12-31    0.050692\n",
       "2006-12-31    0.037748\n",
       "2007-12-31    0.041844\n",
       "2008-12-31    0.039544\n",
       "2009-12-31    0.049849\n",
       "2010-12-31    0.042089\n",
       "2011-12-31    0.037767\n",
       "2012-12-31    0.032278\n",
       "2013-12-31    0.029054\n",
       "2014-12-31    0.030157\n",
       "2015-12-31    0.027832\n",
       "Freq: A-DEC, Name: search_conducted, dtype: float64"
      ]
     },
     "execution_count": 58,
     "metadata": {},
     "output_type": "execute_result"
    }
   ],
   "source": [
    "annual_search_rate = ri[\"search_conducted\"].dropna().astype(\"int\").resample(\"A\").mean()\n",
    "annual_search_rate"
   ]
  },
  {
   "cell_type": "code",
   "execution_count": 54,
   "metadata": {},
   "outputs": [],
   "source": [
    "# CODE HERE"
   ]
  },
  {
   "cell_type": "code",
   "execution_count": 55,
   "metadata": {},
   "outputs": [
    {
     "data": {
      "image/png": "[encoded data removed]",
      "text/plain": [
       "<Figure size 432x288 with 1 Axes>"
      ]
     },
     "metadata": {
      "needs_background": "light"
     },
     "output_type": "display_data"
    }
   ],
   "source": [
    "annual_search_rate.plot()\n",
    "plt.show()"
   ]
  },
  {
   "cell_type": "code",
   "execution_count": 60,
   "metadata": {},
   "outputs": [
    {
     "data": {
      "image/png": "[encoded data removed]",
      "text/plain": [
       "<Figure size 432x288 with 1 Axes>"
      ]
     },
     "metadata": {
      "needs_background": "light"
     },
     "output_type": "display_data"
    }
   ],
   "source": [
    "annual_search_rate.plot()\n",
    "\n",
    "plt.title(\"Annual Search Rate\")\n",
    "plt.xlabel(\"Year\")\n",
    "plt.ylabel(\"Search Rate\")\n",
    "\n",
    "plt.show()"
   ]
  },
  {
   "cell_type": "code",
   "execution_count": null,
   "metadata": {},
   "outputs": [],
   "source": [
    "# CODE HERE"
   ]
  },
  {
   "cell_type": "code",
   "execution_count": 61,
   "metadata": {},
   "outputs": [],
   "source": [
    "annual = pd.concat([annual_drug_rate,annual_search_rate],axis=1)"
   ]
  },
  {
   "cell_type": "code",
   "execution_count": 62,
   "metadata": {},
   "outputs": [
    {
     "data": {
      "text/html": [
       "<div>\n",
       "<style scoped>\n",
       "    .dataframe tbody tr th:only-of-type {\n",
       "        vertical-align: middle;\n",
       "    }\n",
       "\n",
       "    .dataframe tbody tr th {\n",
       "        vertical-align: top;\n",
       "    }\n",
       "\n",
       "    .dataframe thead th {\n",
       "        text-align: right;\n",
       "    }\n",
       "</style>\n",
       "<table border=\"1\" class=\"dataframe\">\n",
       "  <thead>\n",
       "    <tr style=\"text-align: right;\">\n",
       "      <th></th>\n",
       "      <th>drugs_related_stop</th>\n",
       "      <th>search_conducted</th>\n",
       "    </tr>\n",
       "    <tr>\n",
       "      <th>stop_datetime</th>\n",
       "      <th></th>\n",
       "      <th></th>\n",
       "    </tr>\n",
       "  </thead>\n",
       "  <tbody>\n",
       "    <tr>\n",
       "      <th>2005-12-31</th>\n",
       "      <td>0.008038</td>\n",
       "      <td>0.050692</td>\n",
       "    </tr>\n",
       "    <tr>\n",
       "      <th>2006-12-31</th>\n",
       "      <td>0.006624</td>\n",
       "      <td>0.037748</td>\n",
       "    </tr>\n",
       "    <tr>\n",
       "      <th>2007-12-31</th>\n",
       "      <td>0.008437</td>\n",
       "      <td>0.041844</td>\n",
       "    </tr>\n",
       "    <tr>\n",
       "      <th>2008-12-31</th>\n",
       "      <td>0.007549</td>\n",
       "      <td>0.039544</td>\n",
       "    </tr>\n",
       "    <tr>\n",
       "      <th>2009-12-31</th>\n",
       "      <td>0.010447</td>\n",
       "      <td>0.049849</td>\n",
       "    </tr>\n",
       "    <tr>\n",
       "      <th>2010-12-31</th>\n",
       "      <td>0.010142</td>\n",
       "      <td>0.042089</td>\n",
       "    </tr>\n",
       "    <tr>\n",
       "      <th>2011-12-31</th>\n",
       "      <td>0.011400</td>\n",
       "      <td>0.037767</td>\n",
       "    </tr>\n",
       "    <tr>\n",
       "      <th>2012-12-31</th>\n",
       "      <td>0.010343</td>\n",
       "      <td>0.032278</td>\n",
       "    </tr>\n",
       "    <tr>\n",
       "      <th>2013-12-31</th>\n",
       "      <td>0.011879</td>\n",
       "      <td>0.029054</td>\n",
       "    </tr>\n",
       "    <tr>\n",
       "      <th>2014-12-31</th>\n",
       "      <td>0.013176</td>\n",
       "      <td>0.030157</td>\n",
       "    </tr>\n",
       "    <tr>\n",
       "      <th>2015-12-31</th>\n",
       "      <td>0.010598</td>\n",
       "      <td>0.027832</td>\n",
       "    </tr>\n",
       "  </tbody>\n",
       "</table>\n",
       "</div>"
      ],
      "text/plain": [
       "               drugs_related_stop  search_conducted\n",
       "stop_datetime                                      \n",
       "2005-12-31               0.008038          0.050692\n",
       "2006-12-31               0.006624          0.037748\n",
       "2007-12-31               0.008437          0.041844\n",
       "2008-12-31               0.007549          0.039544\n",
       "2009-12-31               0.010447          0.049849\n",
       "2010-12-31               0.010142          0.042089\n",
       "2011-12-31               0.011400          0.037767\n",
       "2012-12-31               0.010343          0.032278\n",
       "2013-12-31               0.011879          0.029054\n",
       "2014-12-31               0.013176          0.030157\n",
       "2015-12-31               0.010598          0.027832"
      ]
     },
     "execution_count": 62,
     "metadata": {},
     "output_type": "execute_result"
    }
   ],
   "source": [
    "annual"
   ]
  },
  {
   "cell_type": "code",
   "execution_count": null,
   "metadata": {},
   "outputs": [],
   "source": [
    "# CODE HERE"
   ]
  },
  {
   "cell_type": "code",
   "execution_count": 63,
   "metadata": {},
   "outputs": [
    {
     "data": {
      "image/png": "[encoded data removed]",
      "text/plain": [
       "<Figure size 432x288 with 2 Axes>"
      ]
     },
     "metadata": {
      "needs_background": "light"
     },
     "output_type": "display_data"
    }
   ],
   "source": [
    "annual.plot(subplots=True);"
   ]
  },
  {
   "cell_type": "code",
   "execution_count": 67,
   "metadata": {},
   "outputs": [
    {
     "data": {
      "image/png": "[encoded data removed]",
      "text/plain": [
       "<Figure size 1080x504 with 1 Axes>"
      ]
     },
     "metadata": {
      "needs_background": "light"
     },
     "output_type": "display_data"
    }
   ],
   "source": [
    "plt.figure(figsize = (15,7))\n",
    "annual_drug_rate.plot()\n",
    "annual_search_rate.plot()\n",
    "plt.legend(labels=['annual_search_rate','annuadrug_rate'], facecolor='white')\n",
    "plt.xlabel('Year')\n",
    "plt.ylabel('Rate')\n",
    "plt.xticks(rotation = 45)\n",
    "\n",
    "plt.show()"
   ]
  },
  {
   "cell_type": "markdown",
   "metadata": {},
   "source": [
    "***"
   ]
  },
  {
   "cell_type": "markdown",
   "metadata": {},
   "source": [
    "## Tallying violations by district"
   ]
  },
  {
   "cell_type": "markdown",
   "metadata": {},
   "source": [
    "The state of **Rhode Island** is broken into six police districts, also known as zones. How do the zones compare in terms of what violations are caught by police?\n",
    "\n",
    "In this exercise, you'll create a frequency table to determine how many violations of each type took place in each of the six zones. Then, you'll filter the table to focus on the ``\"K\"`` zones, which you'll examine further in the next exercise."
   ]
  },
  {
   "cell_type": "markdown",
   "metadata": {},
   "source": [
    "**INSTRUCTIONS**\n",
    "\n",
    "*   Create a ``frequency table`` from the ``district`` and ``violation`` columns using the ``pd.crosstab()`` function.\n",
    "*   Save the ``frequency table`` as a new object, ``all_zones``.\n",
    "*   Select rows ``'Zone K1'`` through ``'Zone K3'`` from ``all_zones`` using the ``.loc[]`` accessor.\n",
    "*   Save the smaller table as a new object, ``k_zones``."
   ]
  },
  {
   "cell_type": "code",
   "execution_count": null,
   "metadata": {},
   "outputs": [],
   "source": [
    "# CODE HERE"
   ]
  },
  {
   "cell_type": "code",
   "execution_count": 69,
   "metadata": {},
   "outputs": [
    {
     "data": {
      "text/html": [
       "<div>\n",
       "<style scoped>\n",
       "    .dataframe tbody tr th:only-of-type {\n",
       "        vertical-align: middle;\n",
       "    }\n",
       "\n",
       "    .dataframe tbody tr th {\n",
       "        vertical-align: top;\n",
       "    }\n",
       "\n",
       "    .dataframe thead th {\n",
       "        text-align: right;\n",
       "    }\n",
       "</style>\n",
       "<table border=\"1\" class=\"dataframe\">\n",
       "  <thead>\n",
       "    <tr style=\"text-align: right;\">\n",
       "      <th>violation</th>\n",
       "      <th>Equipment</th>\n",
       "      <th>Moving violation</th>\n",
       "      <th>Other</th>\n",
       "      <th>Registration/plates</th>\n",
       "      <th>Seat belt</th>\n",
       "      <th>Speeding</th>\n",
       "    </tr>\n",
       "    <tr>\n",
       "      <th>district</th>\n",
       "      <th></th>\n",
       "      <th></th>\n",
       "      <th></th>\n",
       "      <th></th>\n",
       "      <th></th>\n",
       "      <th></th>\n",
       "    </tr>\n",
       "  </thead>\n",
       "  <tbody>\n",
       "    <tr>\n",
       "      <th>Zone K1</th>\n",
       "      <td>3786</td>\n",
       "      <td>7127</td>\n",
       "      <td>1501</td>\n",
       "      <td>628</td>\n",
       "      <td>1</td>\n",
       "      <td>33067</td>\n",
       "    </tr>\n",
       "    <tr>\n",
       "      <th>Zone K2</th>\n",
       "      <td>11285</td>\n",
       "      <td>16440</td>\n",
       "      <td>5103</td>\n",
       "      <td>4056</td>\n",
       "      <td>2897</td>\n",
       "      <td>57500</td>\n",
       "    </tr>\n",
       "    <tr>\n",
       "      <th>Zone K3</th>\n",
       "      <td>12959</td>\n",
       "      <td>16218</td>\n",
       "      <td>3926</td>\n",
       "      <td>3871</td>\n",
       "      <td>3660</td>\n",
       "      <td>68234</td>\n",
       "    </tr>\n",
       "    <tr>\n",
       "      <th>Zone X1</th>\n",
       "      <td>1725</td>\n",
       "      <td>3711</td>\n",
       "      <td>752</td>\n",
       "      <td>192</td>\n",
       "      <td>451</td>\n",
       "      <td>6393</td>\n",
       "    </tr>\n",
       "    <tr>\n",
       "      <th>Zone X3</th>\n",
       "      <td>11520</td>\n",
       "      <td>17178</td>\n",
       "      <td>4069</td>\n",
       "      <td>3532</td>\n",
       "      <td>4445</td>\n",
       "      <td>48687</td>\n",
       "    </tr>\n",
       "    <tr>\n",
       "      <th>Zone X4</th>\n",
       "      <td>19975</td>\n",
       "      <td>29554</td>\n",
       "      <td>8865</td>\n",
       "      <td>7551</td>\n",
       "      <td>4870</td>\n",
       "      <td>54855</td>\n",
       "    </tr>\n",
       "  </tbody>\n",
       "</table>\n",
       "</div>"
      ],
      "text/plain": [
       "violation  Equipment  Moving violation  Other  Registration/plates  Seat belt  \\\n",
       "district                                                                        \n",
       "Zone K1         3786              7127   1501                  628          1   \n",
       "Zone K2        11285             16440   5103                 4056       2897   \n",
       "Zone K3        12959             16218   3926                 3871       3660   \n",
       "Zone X1         1725              3711    752                  192        451   \n",
       "Zone X3        11520             17178   4069                 3532       4445   \n",
       "Zone X4        19975             29554   8865                 7551       4870   \n",
       "\n",
       "violation  Speeding  \n",
       "district             \n",
       "Zone K1       33067  \n",
       "Zone K2       57500  \n",
       "Zone K3       68234  \n",
       "Zone X1        6393  \n",
       "Zone X3       48687  \n",
       "Zone X4       54855  "
      ]
     },
     "execution_count": 69,
     "metadata": {},
     "output_type": "execute_result"
    }
   ],
   "source": [
    "pd.crosstab(ri.district, ri.violation)"
   ]
  },
  {
   "cell_type": "code",
   "execution_count": 70,
   "metadata": {},
   "outputs": [],
   "source": [
    "# CODE HERE"
   ]
  },
  {
   "cell_type": "code",
   "execution_count": 71,
   "metadata": {},
   "outputs": [],
   "source": [
    "all_zones = pd.crosstab(ri.district, ri.violation)"
   ]
  },
  {
   "cell_type": "code",
   "execution_count": 72,
   "metadata": {},
   "outputs": [],
   "source": [
    "# CODE HERE"
   ]
  },
  {
   "cell_type": "code",
   "execution_count": 73,
   "metadata": {},
   "outputs": [
    {
     "data": {
      "text/html": [
       "<div>\n",
       "<style scoped>\n",
       "    .dataframe tbody tr th:only-of-type {\n",
       "        vertical-align: middle;\n",
       "    }\n",
       "\n",
       "    .dataframe tbody tr th {\n",
       "        vertical-align: top;\n",
       "    }\n",
       "\n",
       "    .dataframe thead th {\n",
       "        text-align: right;\n",
       "    }\n",
       "</style>\n",
       "<table border=\"1\" class=\"dataframe\">\n",
       "  <thead>\n",
       "    <tr style=\"text-align: right;\">\n",
       "      <th>violation</th>\n",
       "      <th>Equipment</th>\n",
       "      <th>Moving violation</th>\n",
       "      <th>Other</th>\n",
       "      <th>Registration/plates</th>\n",
       "      <th>Seat belt</th>\n",
       "      <th>Speeding</th>\n",
       "    </tr>\n",
       "    <tr>\n",
       "      <th>district</th>\n",
       "      <th></th>\n",
       "      <th></th>\n",
       "      <th></th>\n",
       "      <th></th>\n",
       "      <th></th>\n",
       "      <th></th>\n",
       "    </tr>\n",
       "  </thead>\n",
       "  <tbody>\n",
       "    <tr>\n",
       "      <th>Zone K1</th>\n",
       "      <td>3786</td>\n",
       "      <td>7127</td>\n",
       "      <td>1501</td>\n",
       "      <td>628</td>\n",
       "      <td>1</td>\n",
       "      <td>33067</td>\n",
       "    </tr>\n",
       "    <tr>\n",
       "      <th>Zone K2</th>\n",
       "      <td>11285</td>\n",
       "      <td>16440</td>\n",
       "      <td>5103</td>\n",
       "      <td>4056</td>\n",
       "      <td>2897</td>\n",
       "      <td>57500</td>\n",
       "    </tr>\n",
       "    <tr>\n",
       "      <th>Zone K3</th>\n",
       "      <td>12959</td>\n",
       "      <td>16218</td>\n",
       "      <td>3926</td>\n",
       "      <td>3871</td>\n",
       "      <td>3660</td>\n",
       "      <td>68234</td>\n",
       "    </tr>\n",
       "  </tbody>\n",
       "</table>\n",
       "</div>"
      ],
      "text/plain": [
       "violation  Equipment  Moving violation  Other  Registration/plates  Seat belt  \\\n",
       "district                                                                        \n",
       "Zone K1         3786              7127   1501                  628          1   \n",
       "Zone K2        11285             16440   5103                 4056       2897   \n",
       "Zone K3        12959             16218   3926                 3871       3660   \n",
       "\n",
       "violation  Speeding  \n",
       "district             \n",
       "Zone K1       33067  \n",
       "Zone K2       57500  \n",
       "Zone K3       68234  "
      ]
     },
     "execution_count": 73,
     "metadata": {},
     "output_type": "execute_result"
    }
   ],
   "source": [
    "all_zones.loc['Zone K1':'Zone K3']"
   ]
  },
  {
   "cell_type": "code",
   "execution_count": null,
   "metadata": {},
   "outputs": [],
   "source": [
    "k_zones"
   ]
  },
  {
   "cell_type": "code",
   "execution_count": 74,
   "metadata": {},
   "outputs": [
    {
     "data": {
      "text/html": [
       "<div>\n",
       "<style scoped>\n",
       "    .dataframe tbody tr th:only-of-type {\n",
       "        vertical-align: middle;\n",
       "    }\n",
       "\n",
       "    .dataframe tbody tr th {\n",
       "        vertical-align: top;\n",
       "    }\n",
       "\n",
       "    .dataframe thead th {\n",
       "        text-align: right;\n",
       "    }\n",
       "</style>\n",
       "<table border=\"1\" class=\"dataframe\">\n",
       "  <thead>\n",
       "    <tr style=\"text-align: right;\">\n",
       "      <th>violation</th>\n",
       "      <th>Equipment</th>\n",
       "      <th>Moving violation</th>\n",
       "      <th>Other</th>\n",
       "      <th>Registration/plates</th>\n",
       "      <th>Seat belt</th>\n",
       "      <th>Speeding</th>\n",
       "    </tr>\n",
       "    <tr>\n",
       "      <th>district</th>\n",
       "      <th></th>\n",
       "      <th></th>\n",
       "      <th></th>\n",
       "      <th></th>\n",
       "      <th></th>\n",
       "      <th></th>\n",
       "    </tr>\n",
       "  </thead>\n",
       "  <tbody>\n",
       "    <tr>\n",
       "      <th>Zone K1</th>\n",
       "      <td>3786</td>\n",
       "      <td>7127</td>\n",
       "      <td>1501</td>\n",
       "      <td>628</td>\n",
       "      <td>1</td>\n",
       "      <td>33067</td>\n",
       "    </tr>\n",
       "    <tr>\n",
       "      <th>Zone K2</th>\n",
       "      <td>11285</td>\n",
       "      <td>16440</td>\n",
       "      <td>5103</td>\n",
       "      <td>4056</td>\n",
       "      <td>2897</td>\n",
       "      <td>57500</td>\n",
       "    </tr>\n",
       "    <tr>\n",
       "      <th>Zone K3</th>\n",
       "      <td>12959</td>\n",
       "      <td>16218</td>\n",
       "      <td>3926</td>\n",
       "      <td>3871</td>\n",
       "      <td>3660</td>\n",
       "      <td>68234</td>\n",
       "    </tr>\n",
       "  </tbody>\n",
       "</table>\n",
       "</div>"
      ],
      "text/plain": [
       "violation  Equipment  Moving violation  Other  Registration/plates  Seat belt  \\\n",
       "district                                                                        \n",
       "Zone K1         3786              7127   1501                  628          1   \n",
       "Zone K2        11285             16440   5103                 4056       2897   \n",
       "Zone K3        12959             16218   3926                 3871       3660   \n",
       "\n",
       "violation  Speeding  \n",
       "district             \n",
       "Zone K1       33067  \n",
       "Zone K2       57500  \n",
       "Zone K3       68234  "
      ]
     },
     "execution_count": 74,
     "metadata": {},
     "output_type": "execute_result"
    }
   ],
   "source": [
    "k_zones = all_zones.loc['Zone K1':'Zone K3']\n",
    "k_zones"
   ]
  },
  {
   "cell_type": "code",
   "execution_count": 67,
   "metadata": {},
   "outputs": [],
   "source": [
    "# all_zones_alternative = ri.groupby('district')['violation'].value_counts().unstack()"
   ]
  },
  {
   "cell_type": "code",
   "execution_count": 68,
   "metadata": {},
   "outputs": [
    {
     "data": {
      "text/html": [
       "<div>\n",
       "<style scoped>\n",
       "    .dataframe tbody tr th:only-of-type {\n",
       "        vertical-align: middle;\n",
       "    }\n",
       "\n",
       "    .dataframe tbody tr th {\n",
       "        vertical-align: top;\n",
       "    }\n",
       "\n",
       "    .dataframe thead th {\n",
       "        text-align: right;\n",
       "    }\n",
       "</style>\n",
       "<table border=\"1\" class=\"dataframe\">\n",
       "  <thead>\n",
       "    <tr style=\"text-align: right;\">\n",
       "      <th>violation</th>\n",
       "      <th>Equipment</th>\n",
       "      <th>Moving violation</th>\n",
       "      <th>Other</th>\n",
       "      <th>Registration/plates</th>\n",
       "      <th>Seat belt</th>\n",
       "      <th>Speeding</th>\n",
       "    </tr>\n",
       "    <tr>\n",
       "      <th>district</th>\n",
       "      <th></th>\n",
       "      <th></th>\n",
       "      <th></th>\n",
       "      <th></th>\n",
       "      <th></th>\n",
       "      <th></th>\n",
       "    </tr>\n",
       "  </thead>\n",
       "  <tbody>\n",
       "    <tr>\n",
       "      <th>Zone K1</th>\n",
       "      <td>3786</td>\n",
       "      <td>7127</td>\n",
       "      <td>1501</td>\n",
       "      <td>628</td>\n",
       "      <td>1</td>\n",
       "      <td>33067</td>\n",
       "    </tr>\n",
       "    <tr>\n",
       "      <th>Zone K2</th>\n",
       "      <td>11285</td>\n",
       "      <td>16440</td>\n",
       "      <td>5103</td>\n",
       "      <td>4056</td>\n",
       "      <td>2897</td>\n",
       "      <td>57500</td>\n",
       "    </tr>\n",
       "    <tr>\n",
       "      <th>Zone K3</th>\n",
       "      <td>12959</td>\n",
       "      <td>16218</td>\n",
       "      <td>3926</td>\n",
       "      <td>3871</td>\n",
       "      <td>3660</td>\n",
       "      <td>68234</td>\n",
       "    </tr>\n",
       "  </tbody>\n",
       "</table>\n",
       "</div>"
      ],
      "text/plain": [
       "violation  Equipment  Moving violation  Other  Registration/plates  Seat belt  \\\n",
       "district                                                                        \n",
       "Zone K1         3786              7127   1501                  628          1   \n",
       "Zone K2        11285             16440   5103                 4056       2897   \n",
       "Zone K3        12959             16218   3926                 3871       3660   \n",
       "\n",
       "violation  Speeding  \n",
       "district             \n",
       "Zone K1       33067  \n",
       "Zone K2       57500  \n",
       "Zone K3       68234  "
      ]
     },
     "execution_count": 68,
     "metadata": {},
     "output_type": "execute_result"
    }
   ],
   "source": [
    "# all_zones_alternative.iloc[0:3]"
   ]
  },
  {
   "cell_type": "markdown",
   "metadata": {},
   "source": [
    "***"
   ]
  },
  {
   "cell_type": "markdown",
   "metadata": {},
   "source": [
    "## Plotting violations by district"
   ]
  },
  {
   "cell_type": "markdown",
   "metadata": {},
   "source": [
    "Now that you've created a frequency table focused on the ``\"K\"`` zones, you'll visualize the data to help you compare what violations are being caught in each zone.\n",
    "\n",
    "First you'll create a **bar plot**, which is an appropriate plot type since you're comparing categorical data. Then you'll create a **stacked bar plot** in order to get a slightly different look at the data. Which plot do you find to be more insightful?"
   ]
  },
  {
   "cell_type": "markdown",
   "metadata": {},
   "source": [
    "**INSTRUCTIONS 1/2**\n",
    "\n",
    "*   Create a bar plot of ``k_zones``.\n",
    "*   Display the plot and examine it. What do you notice about each of the zones?"
   ]
  },
  {
   "cell_type": "code",
   "execution_count": null,
   "metadata": {},
   "outputs": [],
   "source": [
    "# CODE HERE"
   ]
  },
  {
   "cell_type": "code",
   "execution_count": 76,
   "metadata": {},
   "outputs": [
    {
     "data": {
      "text/plain": [
       "<Figure size 2000x1200 with 0 Axes>"
      ]
     },
     "metadata": {},
     "output_type": "display_data"
    },
    {
     "data": {
      "image/png": "[encoded data removed]",
      "text/plain": [
       "<Figure size 432x288 with 1 Axes>"
      ]
     },
     "metadata": {
      "needs_background": "light"
     },
     "output_type": "display_data"
    }
   ],
   "source": [
    "plt.figure(figsize=(10,6),dpi=200)\n",
    "k_zones.plot(kind = 'bar')\n",
    "plt.show()"
   ]
  },
  {
   "cell_type": "markdown",
   "metadata": {},
   "source": [
    "**INSTRUCTIONS 2/2**\n",
    "\n",
    "*   Create a stacked bar plot of ``k_zones``.\n",
    "*   Display the plot and examine it. Do you notice anything different about the data than you did previously?"
   ]
  },
  {
   "cell_type": "code",
   "execution_count": 77,
   "metadata": {},
   "outputs": [],
   "source": [
    "# CODE HERE"
   ]
  },
  {
   "cell_type": "code",
   "execution_count": 78,
   "metadata": {},
   "outputs": [
    {
     "data": {
      "image/png": "[encoded data removed]",
      "text/plain": [
       "<Figure size 432x288 with 1 Axes>"
      ]
     },
     "metadata": {
      "needs_background": "light"
     },
     "output_type": "display_data"
    }
   ],
   "source": [
    "k_zones.plot(kind = 'bar',stacked = True)\n",
    "plt.show()"
   ]
  },
  {
   "cell_type": "code",
   "execution_count": 79,
   "metadata": {},
   "outputs": [
    {
     "data": {
      "image/png": "[encoded data removed]",
      "text/plain": [
       "<Figure size 2100x900 with 2 Axes>"
      ]
     },
     "metadata": {
      "needs_background": "light"
     },
     "output_type": "display_data"
    }
   ],
   "source": [
    "fig, ax = plt.subplots(1,2, figsize = (14,6),dpi = 150)\n",
    "k_zones.plot(kind='bar', ax = ax[0]);\n",
    "k_zones.plot(kind='bar', ax = ax[1], stacked = True);"
   ]
  },
  {
   "cell_type": "markdown",
   "metadata": {},
   "source": [
    "***"
   ]
  },
  {
   "cell_type": "markdown",
   "metadata": {},
   "source": [
    "## Converting stop durations to numbers"
   ]
  },
  {
   "cell_type": "markdown",
   "metadata": {},
   "source": [
    "In the traffic stops dataset, the ``stop_duration`` column tells you approximately how long the driver was detained by the officer. Unfortunately, the durations are stored as ``strings``, such as ``'0-15 Min'``. How can you make this data easier to analyze?\n",
    "\n",
    "In this exercise, you'll convert the **stop durations** to ``integers``. Because the precise durations are not available, you'll have to estimate the numbers using reasonable values:\n",
    "\n",
    "*   Convert ``'0-15 Min'`` to ``8``\n",
    "*   Convert ``'16-30 Min'`` to ``23``\n",
    "*   Convert ``'30+ Min'`` to ``45``"
   ]
  },
  {
   "cell_type": "markdown",
   "metadata": {},
   "source": [
    "**INSTRUCTIONS**\n",
    "\n",
    "*   Print the **unique values** in the ``stop_duration`` column. (This has been done for you.)\n",
    "*   Create a ``dictionary`` called ``mapping`` that maps the ``stop_duration`` strings to the integers specified above.\n",
    "*   Convert the ``stop_duration`` strings to integers using the ``mapping``, and store the results in a new column called ``stop_minutes``.\n",
    "*   Print the unique values in the ``stop_minutes`` column, to verify that the durations were properly converted to integers."
   ]
  },
  {
   "cell_type": "code",
   "execution_count": 86,
   "metadata": {},
   "outputs": [
    {
     "data": {
      "text/plain": [
       "array(['0-15 Min', '16-30 Min', '30+ Min', '2', '1'], dtype=object)"
      ]
     },
     "execution_count": 86,
     "metadata": {},
     "output_type": "execute_result"
    }
   ],
   "source": [
    "ri[\"stop_duration\"].unique()"
   ]
  },
  {
   "cell_type": "code",
   "execution_count": null,
   "metadata": {},
   "outputs": [],
   "source": [
    "# CODE HERE"
   ]
  },
  {
   "cell_type": "code",
   "execution_count": 81,
   "metadata": {},
   "outputs": [],
   "source": [
    "mapping = {\"0-15 Min\" : 8,\n",
    "           \"16-30 Min\": 23,\n",
    "           \"30+ Min\" : 45}"
   ]
  },
  {
   "cell_type": "code",
   "execution_count": 82,
   "metadata": {},
   "outputs": [],
   "source": [
    "# CODE HERE"
   ]
  },
  {
   "cell_type": "code",
   "execution_count": 83,
   "metadata": {},
   "outputs": [],
   "source": [
    "ri[\"stop_minutes\"] = ri[\"stop_duration\"].map(mapping)"
   ]
  },
  {
   "cell_type": "code",
   "execution_count": null,
   "metadata": {},
   "outputs": [],
   "source": [
    "# CODE HERE"
   ]
  },
  {
   "cell_type": "code",
   "execution_count": 85,
   "metadata": {},
   "outputs": [
    {
     "data": {
      "text/plain": [
       "stop_datetime\n",
       "2005-01-02 01:55:00     8.0\n",
       "2005-01-02 20:30:00    23.0\n",
       "2005-01-04 12:55:00     8.0\n",
       "2005-01-06 01:30:00     8.0\n",
       "2005-01-12 08:05:00    45.0\n",
       "Name: stop_minutes, dtype: float64"
      ]
     },
     "execution_count": 85,
     "metadata": {},
     "output_type": "execute_result"
    }
   ],
   "source": [
    "ri[\"stop_minutes\"].head()"
   ]
  },
  {
   "cell_type": "code",
   "execution_count": 84,
   "metadata": {},
   "outputs": [
    {
     "data": {
      "text/plain": [
       "array([ 8., 23., 45., nan])"
      ]
     },
     "execution_count": 84,
     "metadata": {},
     "output_type": "execute_result"
    }
   ],
   "source": [
    "ri[\"stop_minutes\"].unique()"
   ]
  },
  {
   "cell_type": "markdown",
   "metadata": {},
   "source": [
    "***"
   ]
  },
  {
   "cell_type": "markdown",
   "metadata": {},
   "source": [
    "## Plotting stop length"
   ]
  },
  {
   "cell_type": "markdown",
   "metadata": {},
   "source": [
    "If you were stopped for a particular violation, how long might you expect to be detained?\n",
    "\n",
    "In this exercise, you'll visualize the **average length** of time drivers are stopped for each **type** of **violation**. Rather than using the ``violation`` column in this exercise, you'll use ``violation_raw`` since it contains more detailed descriptions of the violations."
   ]
  },
  {
   "cell_type": "markdown",
   "metadata": {},
   "source": [
    "**INSTRUCTIONS**\n",
    "\n",
    "*   For each value in the ``violation_raw`` column, calculate the **mean number** of ``stop_minutes`` that a driver is detained.\n",
    "*   Save the resulting ``Series`` as a new object, ``stop_length``.\n",
    "*   Sort ``stop_length`` by its values, and then visualize it using a **horizontal bar plot**.\n",
    "*   Display the plot."
   ]
  },
  {
   "cell_type": "code",
   "execution_count": null,
   "metadata": {},
   "outputs": [],
   "source": [
    "# CODE HERE"
   ]
  },
  {
   "cell_type": "code",
   "execution_count": 88,
   "metadata": {},
   "outputs": [
    {
     "data": {
      "text/plain": [
       "violation_raw\n",
       "APB                                 18.593814\n",
       "Call for Service                    21.963314\n",
       "Equipment/Inspection Violation      11.454326\n",
       "Motorist Assist/Courtesy            17.629929\n",
       "Other Traffic Violation             13.834359\n",
       "Registration Violation              13.543268\n",
       "Seatbelt Violation                   9.698236\n",
       "Special Detail/Directed Patrol      14.876778\n",
       "Speeding                            10.589215\n",
       "Suspicious Person                   18.374269\n",
       "Violation of City/Town Ordinance    13.230695\n",
       "Warrant                             19.769231\n",
       "Name: stop_minutes, dtype: float64"
      ]
     },
     "execution_count": 88,
     "metadata": {},
     "output_type": "execute_result"
    }
   ],
   "source": [
    "ri.groupby(\"violation_raw\").stop_minutes.mean()"
   ]
  },
  {
   "cell_type": "code",
   "execution_count": 89,
   "metadata": {},
   "outputs": [],
   "source": [
    "# CODE HERE"
   ]
  },
  {
   "cell_type": "code",
   "execution_count": 90,
   "metadata": {},
   "outputs": [],
   "source": [
    "stop_length = ri.groupby(\"violation_raw\").stop_minutes.mean()"
   ]
  },
  {
   "cell_type": "code",
   "execution_count": 91,
   "metadata": {},
   "outputs": [],
   "source": [
    "# CODE HERE"
   ]
  },
  {
   "cell_type": "code",
   "execution_count": 92,
   "metadata": {},
   "outputs": [],
   "source": [
    "sorted_stop_length = stop_length.sort_values()"
   ]
  },
  {
   "cell_type": "code",
   "execution_count": 93,
   "metadata": {},
   "outputs": [],
   "source": [
    "# CODE HERE"
   ]
  },
  {
   "cell_type": "code",
   "execution_count": 94,
   "metadata": {},
   "outputs": [
    {
     "data": {
      "image/png": "[encoded data removed]",
      "text/plain": [
       "<Figure size 432x288 with 1 Axes>"
      ]
     },
     "metadata": {
      "needs_background": "light"
     },
     "output_type": "display_data"
    }
   ],
   "source": [
    "sorted_stop_length.plot(kind=\"barh\")\n",
    "plt.show()"
   ]
  },
  {
   "cell_type": "markdown",
   "metadata": {},
   "source": [
    "___\n",
    "\n",
    "<p style='text-align: center;'><img src='https://docs.google.com/uc?id=1lY0Uj5R04yMY3-ZppPWxqCr5pvBLYPnV' class='img-fluid' alt='CLRSWY'></p>\n",
    "\n",
    "___"
   ]
  },
  {
   "cell_type": "markdown",
   "metadata": {},
   "source": [
    "**- Please save the edits made so far to a new csv file with the name RI_Part_3 to use it in the next step.**\n",
    "\n",
    "**- Load and read new csv file.**\n",
    "\n",
    "**- Check the first five rows.***\n",
    "\n",
    "**- Check the shape of the dataframe.**"
   ]
  },
  {
   "cell_type": "code",
   "execution_count": 95,
   "metadata": {},
   "outputs": [],
   "source": [
    "ri.to_csv('RI_Part_3.csv', index = True)"
   ]
  },
  {
   "cell_type": "code",
   "execution_count": 96,
   "metadata": {},
   "outputs": [
    {
     "name": "stderr",
     "output_type": "stream",
     "text": [
      "C:\\Users\\Toshiba\\anaconda3\\lib\\site-packages\\IPython\\core\\interactiveshell.py:3444: DtypeWarning: Columns (4) have mixed types.Specify dtype option on import or set low_memory=False.\n",
      "  exec(code_obj, self.user_global_ns, self.user_ns)\n"
     ]
    },
    {
     "data": {
      "text/html": [
       "<div>\n",
       "<style scoped>\n",
       "    .dataframe tbody tr th:only-of-type {\n",
       "        vertical-align: middle;\n",
       "    }\n",
       "\n",
       "    .dataframe tbody tr th {\n",
       "        vertical-align: top;\n",
       "    }\n",
       "\n",
       "    .dataframe thead th {\n",
       "        text-align: right;\n",
       "    }\n",
       "</style>\n",
       "<table border=\"1\" class=\"dataframe\">\n",
       "  <thead>\n",
       "    <tr style=\"text-align: right;\">\n",
       "      <th></th>\n",
       "      <th>stop_datetime</th>\n",
       "      <th>id</th>\n",
       "      <th>state</th>\n",
       "      <th>location_raw</th>\n",
       "      <th>police_department</th>\n",
       "      <th>driver_gender</th>\n",
       "      <th>driver_age_raw</th>\n",
       "      <th>driver_age</th>\n",
       "      <th>driver_race_raw</th>\n",
       "      <th>driver_race</th>\n",
       "      <th>...</th>\n",
       "      <th>search_type</th>\n",
       "      <th>contraband_found</th>\n",
       "      <th>stop_outcome</th>\n",
       "      <th>is_arrested</th>\n",
       "      <th>stop_duration</th>\n",
       "      <th>out_of_state</th>\n",
       "      <th>drugs_related_stop</th>\n",
       "      <th>district</th>\n",
       "      <th>frisk</th>\n",
       "      <th>stop_minutes</th>\n",
       "    </tr>\n",
       "  </thead>\n",
       "  <tbody>\n",
       "    <tr>\n",
       "      <th>0</th>\n",
       "      <td>2005-01-02 01:55:00</td>\n",
       "      <td>RI-2005-00001</td>\n",
       "      <td>RI</td>\n",
       "      <td>Zone K1</td>\n",
       "      <td>600</td>\n",
       "      <td>M</td>\n",
       "      <td>1985.0</td>\n",
       "      <td>20.0</td>\n",
       "      <td>W</td>\n",
       "      <td>White</td>\n",
       "      <td>...</td>\n",
       "      <td>NaN</td>\n",
       "      <td>False</td>\n",
       "      <td>Citation</td>\n",
       "      <td>False</td>\n",
       "      <td>0-15 Min</td>\n",
       "      <td>False</td>\n",
       "      <td>False</td>\n",
       "      <td>Zone K1</td>\n",
       "      <td>False</td>\n",
       "      <td>8.0</td>\n",
       "    </tr>\n",
       "    <tr>\n",
       "      <th>1</th>\n",
       "      <td>2005-01-02 20:30:00</td>\n",
       "      <td>RI-2005-00002</td>\n",
       "      <td>RI</td>\n",
       "      <td>Zone X4</td>\n",
       "      <td>500</td>\n",
       "      <td>M</td>\n",
       "      <td>1987.0</td>\n",
       "      <td>18.0</td>\n",
       "      <td>W</td>\n",
       "      <td>White</td>\n",
       "      <td>...</td>\n",
       "      <td>NaN</td>\n",
       "      <td>False</td>\n",
       "      <td>Citation</td>\n",
       "      <td>False</td>\n",
       "      <td>16-30 Min</td>\n",
       "      <td>False</td>\n",
       "      <td>False</td>\n",
       "      <td>Zone X4</td>\n",
       "      <td>False</td>\n",
       "      <td>23.0</td>\n",
       "    </tr>\n",
       "    <tr>\n",
       "      <th>2</th>\n",
       "      <td>2005-01-04 12:55:00</td>\n",
       "      <td>RI-2005-00004</td>\n",
       "      <td>RI</td>\n",
       "      <td>Zone X4</td>\n",
       "      <td>500</td>\n",
       "      <td>M</td>\n",
       "      <td>1986.0</td>\n",
       "      <td>19.0</td>\n",
       "      <td>W</td>\n",
       "      <td>White</td>\n",
       "      <td>...</td>\n",
       "      <td>NaN</td>\n",
       "      <td>False</td>\n",
       "      <td>Citation</td>\n",
       "      <td>False</td>\n",
       "      <td>0-15 Min</td>\n",
       "      <td>False</td>\n",
       "      <td>False</td>\n",
       "      <td>Zone X4</td>\n",
       "      <td>False</td>\n",
       "      <td>8.0</td>\n",
       "    </tr>\n",
       "    <tr>\n",
       "      <th>3</th>\n",
       "      <td>2005-01-06 01:30:00</td>\n",
       "      <td>RI-2005-00005</td>\n",
       "      <td>RI</td>\n",
       "      <td>Zone X4</td>\n",
       "      <td>500</td>\n",
       "      <td>M</td>\n",
       "      <td>1978.0</td>\n",
       "      <td>27.0</td>\n",
       "      <td>B</td>\n",
       "      <td>Black</td>\n",
       "      <td>...</td>\n",
       "      <td>NaN</td>\n",
       "      <td>False</td>\n",
       "      <td>Citation</td>\n",
       "      <td>False</td>\n",
       "      <td>0-15 Min</td>\n",
       "      <td>False</td>\n",
       "      <td>False</td>\n",
       "      <td>Zone X4</td>\n",
       "      <td>False</td>\n",
       "      <td>8.0</td>\n",
       "    </tr>\n",
       "    <tr>\n",
       "      <th>4</th>\n",
       "      <td>2005-01-12 08:05:00</td>\n",
       "      <td>RI-2005-00006</td>\n",
       "      <td>RI</td>\n",
       "      <td>Zone X1</td>\n",
       "      <td>0</td>\n",
       "      <td>M</td>\n",
       "      <td>1973.0</td>\n",
       "      <td>32.0</td>\n",
       "      <td>B</td>\n",
       "      <td>Black</td>\n",
       "      <td>...</td>\n",
       "      <td>NaN</td>\n",
       "      <td>False</td>\n",
       "      <td>Citation</td>\n",
       "      <td>False</td>\n",
       "      <td>30+ Min</td>\n",
       "      <td>True</td>\n",
       "      <td>False</td>\n",
       "      <td>Zone X1</td>\n",
       "      <td>False</td>\n",
       "      <td>45.0</td>\n",
       "    </tr>\n",
       "  </tbody>\n",
       "</table>\n",
       "<p>5 rows × 24 columns</p>\n",
       "</div>"
      ],
      "text/plain": [
       "         stop_datetime             id state location_raw police_department  \\\n",
       "0  2005-01-02 01:55:00  RI-2005-00001    RI      Zone K1               600   \n",
       "1  2005-01-02 20:30:00  RI-2005-00002    RI      Zone X4               500   \n",
       "2  2005-01-04 12:55:00  RI-2005-00004    RI      Zone X4               500   \n",
       "3  2005-01-06 01:30:00  RI-2005-00005    RI      Zone X4               500   \n",
       "4  2005-01-12 08:05:00  RI-2005-00006    RI      Zone X1                 0   \n",
       "\n",
       "  driver_gender  driver_age_raw  driver_age driver_race_raw driver_race  ...  \\\n",
       "0             M          1985.0        20.0               W       White  ...   \n",
       "1             M          1987.0        18.0               W       White  ...   \n",
       "2             M          1986.0        19.0               W       White  ...   \n",
       "3             M          1978.0        27.0               B       Black  ...   \n",
       "4             M          1973.0        32.0               B       Black  ...   \n",
       "\n",
       "  search_type contraband_found  stop_outcome is_arrested stop_duration  \\\n",
       "0         NaN            False      Citation       False      0-15 Min   \n",
       "1         NaN            False      Citation       False     16-30 Min   \n",
       "2         NaN            False      Citation       False      0-15 Min   \n",
       "3         NaN            False      Citation       False      0-15 Min   \n",
       "4         NaN            False      Citation       False       30+ Min   \n",
       "\n",
       "   out_of_state drugs_related_stop  district  frisk stop_minutes  \n",
       "0         False              False   Zone K1  False          8.0  \n",
       "1         False              False   Zone X4  False         23.0  \n",
       "2         False              False   Zone X4  False          8.0  \n",
       "3         False              False   Zone X4  False          8.0  \n",
       "4          True              False   Zone X1  False         45.0  \n",
       "\n",
       "[5 rows x 24 columns]"
      ]
     },
     "execution_count": 96,
     "metadata": {},
     "output_type": "execute_result"
    }
   ],
   "source": [
    "ri = pd.read_csv('RI_Part_3.csv')\n",
    "ri.head()"
   ]
  },
  {
   "cell_type": "code",
   "execution_count": 97,
   "metadata": {},
   "outputs": [
    {
     "data": {
      "text/plain": [
       "(480584, 24)"
      ]
     },
     "execution_count": 97,
     "metadata": {},
     "output_type": "execute_result"
    }
   ],
   "source": [
    "ri.shape"
   ]
  },
  {
   "cell_type": "markdown",
   "metadata": {},
   "source": [
    "___\n",
    "\n",
    "<p style='text-align: center;'><img src='https://docs.google.com/uc?id=1lY0Uj5R04yMY3-ZppPWxqCr5pvBLYPnV' class='img-fluid' alt='CLRSWY'></p>\n",
    "\n",
    "___"
   ]
  }
 ],
 "metadata": {
  "kernelspec": {
   "display_name": "Python 3 (ipykernel)",
   "language": "python",
   "name": "python3"
  },
  "language_info": {
   "codemirror_mode": {
    "name": "ipython",
    "version": 3
   },
   "file_extension": ".py",
   "mimetype": "text/x-python",
   "name": "python",
   "nbconvert_exporter": "python",
   "pygments_lexer": "ipython3",
   "version": "3.9.7"
  }
 },
 "nbformat": 4,
 "nbformat_minor": 4
}
